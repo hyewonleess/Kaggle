{
 "cells": [
  {
   "cell_type": "markdown",
   "id": "2348d0ba",
   "metadata": {
    "papermill": {
     "duration": 0.029511,
     "end_time": "2022-02-11T07:39:03.624449",
     "exception": false,
     "start_time": "2022-02-11T07:39:03.594938",
     "status": "completed"
    },
    "tags": []
   },
   "source": [
    "# G-Research Crypto Forecasting\n",
    "\n",
    "G-ReSearch Crypto Forecasting is a time series data, which contains daily price of cryptocurrencies. Our task is to  forecast short term returns in 14 popular cryptocurrencies.\n",
    "\n",
    "The purpose of this notebook is to share basic approach to time series data analysis. "
   ]
  },
  {
   "cell_type": "markdown",
   "id": "ef956b74",
   "metadata": {
    "papermill": {
     "duration": 0.036554,
     "end_time": "2022-02-11T07:39:03.689748",
     "exception": false,
     "start_time": "2022-02-11T07:39:03.653194",
     "status": "completed"
    },
    "tags": []
   },
   "source": [
    "## Contents\n",
    "1. [Basic EDA](#eda)\n",
    "2. [Time series feature engineering](#fe)\n",
    "3. [Modeling](#model)\n",
    " + [Time series cross validation](#tscv)\n",
    " + [Hyperparameter tuning with Optuna](#optuna)"
   ]
  },
  {
   "cell_type": "markdown",
   "id": "7f3112f0",
   "metadata": {
    "papermill": {
     "duration": 0.038249,
     "end_time": "2022-02-11T07:39:03.776279",
     "exception": false,
     "start_time": "2022-02-11T07:39:03.738030",
     "status": "completed"
    },
    "tags": []
   },
   "source": [
    "## Load packages and data"
   ]
  },
  {
   "cell_type": "code",
   "execution_count": 1,
   "id": "76bf4d45",
   "metadata": {
    "_cell_guid": "b1076dfc-b9ad-4769-8c92-a6c4dae69d19",
    "_uuid": "8f2839f25d086af736a60e9eeb907d3b93b6e0e5",
    "execution": {
     "iopub.execute_input": "2022-02-11T07:39:03.851317Z",
     "iopub.status.busy": "2022-02-11T07:39:03.850560Z",
     "iopub.status.idle": "2022-02-11T07:39:08.192204Z",
     "shell.execute_reply": "2022-02-11T07:39:08.191151Z",
     "shell.execute_reply.started": "2022-02-10T11:43:54.561393Z"
    },
    "papermill": {
     "duration": 4.38603,
     "end_time": "2022-02-11T07:39:08.192351",
     "exception": false,
     "start_time": "2022-02-11T07:39:03.806321",
     "status": "completed"
    },
    "tags": []
   },
   "outputs": [
    {
     "data": {
      "text/html": [
       "<style type='text/css'>\n",
       ".datatable table.frame { margin-bottom: 0; }\n",
       ".datatable table.frame thead { border-bottom: none; }\n",
       ".datatable table.frame tr.coltypes td {  color: #FFFFFF;  line-height: 6px;  padding: 0 0.5em;}\n",
       ".datatable .bool    { background: #DDDD99; }\n",
       ".datatable .object  { background: #565656; }\n",
       ".datatable .int     { background: #5D9E5D; }\n",
       ".datatable .float   { background: #4040CC; }\n",
       ".datatable .str     { background: #CC4040; }\n",
       ".datatable .time    { background: #40CC40; }\n",
       ".datatable .row_index {  background: var(--jp-border-color3);  border-right: 1px solid var(--jp-border-color0);  color: var(--jp-ui-font-color3);  font-size: 9px;}\n",
       ".datatable .frame tbody td { text-align: left; }\n",
       ".datatable .frame tr.coltypes .row_index {  background: var(--jp-border-color0);}\n",
       ".datatable th:nth-child(2) { padding-left: 12px; }\n",
       ".datatable .hellipsis {  color: var(--jp-cell-editor-border-color);}\n",
       ".datatable .vellipsis {  background: var(--jp-layout-color0);  color: var(--jp-cell-editor-border-color);}\n",
       ".datatable .na {  color: var(--jp-cell-editor-border-color);  font-size: 80%;}\n",
       ".datatable .sp {  opacity: 0.25;}\n",
       ".datatable .footer { font-size: 9px; }\n",
       ".datatable .frame_dimensions {  background: var(--jp-border-color3);  border-top: 1px solid var(--jp-border-color0);  color: var(--jp-ui-font-color3);  display: inline-block;  opacity: 0.6;  padding: 1px 10px 1px 5px;}\n",
       "</style>\n"
      ],
      "text/plain": [
       "<IPython.core.display.HTML object>"
      ]
     },
     "metadata": {},
     "output_type": "display_data"
    }
   ],
   "source": [
    "import pandas as pd\n",
    "import numpy as np\n",
    "import seaborn as sns\n",
    "import matplotlib.pyplot as plt\n",
    "%matplotlib inline\n",
    "import plotly.express as px\n",
    "import plotly.graph_objects as go\n",
    "import warnings\n",
    "warnings.filterwarnings('ignore')\n",
    "\n",
    "from lightgbm import LGBMRegressor\n",
    "from xgboost import XGBRegressor\n",
    "from sklearn.model_selection import TimeSeriesSplit\n",
    "\n",
    "from statsmodels.tsa.arima_model import ARIMA\n",
    "from statsmodels.tsa.statespace.sarimax import SARIMAX\n",
    "from pandas.plotting import autocorrelation_plot\n",
    "from statsmodels.tsa.stattools import adfuller, acf, pacf, arma_order_select_ic\n",
    "import statsmodels.formula.api as smf\n",
    "import statsmodels.tsa.api as smt\n",
    "import statsmodels.api as sm\n",
    "import scipy.stats as scs\n",
    "from scipy.stats.stats import pearsonr\n",
    "\n",
    "import time\n",
    "from datetime import datetime\n",
    "from tqdm import tqdm"
   ]
  },
  {
   "cell_type": "code",
   "execution_count": 2,
   "id": "9c00069a",
   "metadata": {
    "execution": {
     "iopub.execute_input": "2022-02-11T07:39:08.256544Z",
     "iopub.status.busy": "2022-02-11T07:39:08.255675Z",
     "iopub.status.idle": "2022-02-11T07:40:12.485618Z",
     "shell.execute_reply": "2022-02-11T07:40:12.486279Z",
     "shell.execute_reply.started": "2022-02-10T11:43:58.434696Z"
    },
    "papermill": {
     "duration": 64.262499,
     "end_time": "2022-02-11T07:40:12.486488",
     "exception": false,
     "start_time": "2022-02-11T07:39:08.223989",
     "status": "completed"
    },
    "tags": []
   },
   "outputs": [
    {
     "name": "stdout",
     "output_type": "stream",
     "text": [
      "(24236806, 10)\n",
      "(2518278, 10)\n"
     ]
    }
   ],
   "source": [
    "train = pd.read_csv('../input/g-research-crypto-forecasting/train.csv')\n",
    "asset_details = pd.read_csv('../input/g-research-crypto-forecasting/asset_details.csv')\n",
    "sup_train = pd.read_csv('../input/g-research-crypto-forecasting/supplemental_train.csv')\n",
    "\n",
    "print(train.shape)\n",
    "print(sup_train.shape)"
   ]
  },
  {
   "cell_type": "markdown",
   "id": "fe49b958",
   "metadata": {
    "papermill": {
     "duration": 0.031782,
     "end_time": "2022-02-11T07:40:12.550318",
     "exception": false,
     "start_time": "2022-02-11T07:40:12.518536",
     "status": "completed"
    },
    "tags": []
   },
   "source": [
    "## 1. Basic EDA <a class=\"anchor\" id=\"eda\"></a>\n",
    "This part contains simple exploration of G-Research data. Before we get into EDA, we need to change format of timestamp feature and create some new features."
   ]
  },
  {
   "cell_type": "code",
   "execution_count": 3,
   "id": "23e2101d",
   "metadata": {
    "execution": {
     "iopub.execute_input": "2022-02-11T07:40:12.617792Z",
     "iopub.status.busy": "2022-02-11T07:40:12.616979Z",
     "iopub.status.idle": "2022-02-11T07:40:14.280001Z",
     "shell.execute_reply": "2022-02-11T07:40:14.279057Z",
     "shell.execute_reply.started": "2022-02-10T11:45:07.596102Z"
    },
    "papermill": {
     "duration": 1.697826,
     "end_time": "2022-02-11T07:40:14.280144",
     "exception": false,
     "start_time": "2022-02-11T07:40:12.582318",
     "status": "completed"
    },
    "tags": []
   },
   "outputs": [],
   "source": [
    "# change format of timestamp variable\n",
    "train['timestamp'] = pd.to_datetime(train['timestamp'], unit = 's')\n",
    "\n",
    "# Diff: difference between close and open price of crypto\n",
    "train['Diff'] = train['Close'] - train['Open']"
   ]
  },
  {
   "cell_type": "code",
   "execution_count": 4,
   "id": "4db670cc",
   "metadata": {
    "execution": {
     "iopub.execute_input": "2022-02-11T07:40:14.345492Z",
     "iopub.status.busy": "2022-02-11T07:40:14.344655Z",
     "iopub.status.idle": "2022-02-11T07:40:14.355875Z",
     "shell.execute_reply": "2022-02-11T07:40:14.356340Z",
     "shell.execute_reply.started": "2022-02-10T11:45:09.526228Z"
    },
    "papermill": {
     "duration": 0.047026,
     "end_time": "2022-02-11T07:40:14.356486",
     "exception": false,
     "start_time": "2022-02-11T07:40:14.309460",
     "status": "completed"
    },
    "tags": []
   },
   "outputs": [
    {
     "data": {
      "text/html": [
       "<div>\n",
       "<style scoped>\n",
       "    .dataframe tbody tr th:only-of-type {\n",
       "        vertical-align: middle;\n",
       "    }\n",
       "\n",
       "    .dataframe tbody tr th {\n",
       "        vertical-align: top;\n",
       "    }\n",
       "\n",
       "    .dataframe thead th {\n",
       "        text-align: right;\n",
       "    }\n",
       "</style>\n",
       "<table border=\"1\" class=\"dataframe\">\n",
       "  <thead>\n",
       "    <tr style=\"text-align: right;\">\n",
       "      <th></th>\n",
       "      <th>Asset_ID</th>\n",
       "      <th>Weight</th>\n",
       "      <th>Asset_Name</th>\n",
       "    </tr>\n",
       "  </thead>\n",
       "  <tbody>\n",
       "    <tr>\n",
       "      <th>0</th>\n",
       "      <td>0</td>\n",
       "      <td>4.304065</td>\n",
       "      <td>Binance Coin</td>\n",
       "    </tr>\n",
       "    <tr>\n",
       "      <th>1</th>\n",
       "      <td>1</td>\n",
       "      <td>6.779922</td>\n",
       "      <td>Bitcoin</td>\n",
       "    </tr>\n",
       "    <tr>\n",
       "      <th>2</th>\n",
       "      <td>2</td>\n",
       "      <td>2.397895</td>\n",
       "      <td>Bitcoin Cash</td>\n",
       "    </tr>\n",
       "    <tr>\n",
       "      <th>3</th>\n",
       "      <td>3</td>\n",
       "      <td>4.406719</td>\n",
       "      <td>Cardano</td>\n",
       "    </tr>\n",
       "    <tr>\n",
       "      <th>4</th>\n",
       "      <td>4</td>\n",
       "      <td>3.555348</td>\n",
       "      <td>Dogecoin</td>\n",
       "    </tr>\n",
       "    <tr>\n",
       "      <th>5</th>\n",
       "      <td>5</td>\n",
       "      <td>1.386294</td>\n",
       "      <td>EOS.IO</td>\n",
       "    </tr>\n",
       "    <tr>\n",
       "      <th>6</th>\n",
       "      <td>6</td>\n",
       "      <td>5.894403</td>\n",
       "      <td>Ethereum</td>\n",
       "    </tr>\n",
       "    <tr>\n",
       "      <th>7</th>\n",
       "      <td>7</td>\n",
       "      <td>2.079442</td>\n",
       "      <td>Ethereum Classic</td>\n",
       "    </tr>\n",
       "    <tr>\n",
       "      <th>8</th>\n",
       "      <td>8</td>\n",
       "      <td>1.098612</td>\n",
       "      <td>IOTA</td>\n",
       "    </tr>\n",
       "    <tr>\n",
       "      <th>9</th>\n",
       "      <td>9</td>\n",
       "      <td>2.397895</td>\n",
       "      <td>Litecoin</td>\n",
       "    </tr>\n",
       "    <tr>\n",
       "      <th>10</th>\n",
       "      <td>10</td>\n",
       "      <td>1.098612</td>\n",
       "      <td>Maker</td>\n",
       "    </tr>\n",
       "    <tr>\n",
       "      <th>11</th>\n",
       "      <td>11</td>\n",
       "      <td>1.609438</td>\n",
       "      <td>Monero</td>\n",
       "    </tr>\n",
       "    <tr>\n",
       "      <th>12</th>\n",
       "      <td>12</td>\n",
       "      <td>2.079442</td>\n",
       "      <td>Stellar</td>\n",
       "    </tr>\n",
       "    <tr>\n",
       "      <th>13</th>\n",
       "      <td>13</td>\n",
       "      <td>1.791759</td>\n",
       "      <td>TRON</td>\n",
       "    </tr>\n",
       "  </tbody>\n",
       "</table>\n",
       "</div>"
      ],
      "text/plain": [
       "    Asset_ID    Weight        Asset_Name\n",
       "0          0  4.304065      Binance Coin\n",
       "1          1  6.779922           Bitcoin\n",
       "2          2  2.397895      Bitcoin Cash\n",
       "3          3  4.406719           Cardano\n",
       "4          4  3.555348          Dogecoin\n",
       "5          5  1.386294            EOS.IO\n",
       "6          6  5.894403          Ethereum\n",
       "7          7  2.079442  Ethereum Classic\n",
       "8          8  1.098612              IOTA\n",
       "9          9  2.397895          Litecoin\n",
       "10        10  1.098612             Maker\n",
       "11        11  1.609438            Monero\n",
       "12        12  2.079442           Stellar\n",
       "13        13  1.791759              TRON"
      ]
     },
     "execution_count": 4,
     "metadata": {},
     "output_type": "execute_result"
    }
   ],
   "source": [
    "# order by asset_id (ascending)\n",
    "asset_details = asset_details.sort_values(by = 'Asset_ID').reset_index(drop = True)\n",
    "asset_details"
   ]
  },
  {
   "cell_type": "markdown",
   "id": "95c86605",
   "metadata": {
    "papermill": {
     "duration": 0.029372,
     "end_time": "2022-02-11T07:40:14.416594",
     "exception": false,
     "start_time": "2022-02-11T07:40:14.387222",
     "status": "completed"
    },
    "tags": []
   },
   "source": [
    "### Comparison of average trading volume of assets\n",
    "This graph shows average trading volume of each asset. **Bitcoin, Dodgecoin and Ethereum** are 3 most frequently traded assets among 14 cryptos."
   ]
  },
  {
   "cell_type": "code",
   "execution_count": 5,
   "id": "816b7f43",
   "metadata": {
    "execution": {
     "iopub.execute_input": "2022-02-11T07:40:14.483657Z",
     "iopub.status.busy": "2022-02-11T07:40:14.482863Z",
     "iopub.status.idle": "2022-02-11T07:40:15.570876Z",
     "shell.execute_reply": "2022-02-11T07:40:15.570335Z",
     "shell.execute_reply.started": "2022-02-10T11:45:09.545406Z"
    },
    "papermill": {
     "duration": 1.125311,
     "end_time": "2022-02-11T07:40:15.570995",
     "exception": false,
     "start_time": "2022-02-11T07:40:14.445684",
     "status": "completed"
    },
    "tags": []
   },
   "outputs": [
    {
     "data": {
      "text/html": [
       "        <script type=\"text/javascript\">\n",
       "        window.PlotlyConfig = {MathJaxConfig: 'local'};\n",
       "        if (window.MathJax) {MathJax.Hub.Config({SVG: {font: \"STIX-Web\"}});}\n",
       "        if (typeof require !== 'undefined') {\n",
       "        require.undef(\"plotly\");\n",
       "        requirejs.config({\n",
       "            paths: {\n",
       "                'plotly': ['https://cdn.plot.ly/plotly-2.6.3.min']\n",
       "            }\n",
       "        });\n",
       "        require(['plotly'], function(Plotly) {\n",
       "            window._Plotly = Plotly;\n",
       "        });\n",
       "        }\n",
       "        </script>\n",
       "        "
      ]
     },
     "metadata": {},
     "output_type": "display_data"
    },
    {
     "data": {
      "text/html": [
       "<div>                            <div id=\"d54984c4-a3ae-4be7-a944-b1a3372d52f8\" class=\"plotly-graph-div\" style=\"height:525px; width:100%;\"></div>            <script type=\"text/javascript\">                require([\"plotly\"], function(Plotly) {                    window.PLOTLYENV=window.PLOTLYENV || {};                                    if (document.getElementById(\"d54984c4-a3ae-4be7-a944-b1a3372d52f8\")) {                    Plotly.newPlot(                        \"d54984c4-a3ae-4be7-a944-b1a3372d52f8\",                        [{\"marker\":{\"color\":[\"lightgrey\",\"#3366ff\",\"lightgrey\",\"lightgrey\",\"#3366ff\",\"lightgrey\",\"#3366ff\",\"lightgrey\",\"lightgrey\",\"lightgrey\",\"lightgrey\",\"lightgrey\",\"lightgrey\",\"lightgrey\"],\"line\":{\"color\":\"black\",\"width\":1}},\"x\":[0,1,2,3,4,5,6,7,8,9,10,11,12,13],\"y\":[186.447201947474,1082.3901211584016,153.5601352828229,239.34985967150465,474.81365862597744,245.57065427539715,689.1085548512422,129.5688635337423,33.48523275657932,225.66843095453547,49.9410899675912,34.803020230288006,119.04285708663785,162.65569787043358],\"type\":\"bar\"}],                        {\"title\":{\"text\":\"Average trading volume of each asset\",\"y\":0.9,\"x\":0.5,\"xanchor\":\"center\",\"yanchor\":\"top\"},\"template\":{\"data\":{\"barpolar\":[{\"marker\":{\"line\":{\"color\":\"white\",\"width\":0.5},\"pattern\":{\"fillmode\":\"overlay\",\"size\":10,\"solidity\":0.2}},\"type\":\"barpolar\"}],\"bar\":[{\"error_x\":{\"color\":\"#2a3f5f\"},\"error_y\":{\"color\":\"#2a3f5f\"},\"marker\":{\"line\":{\"color\":\"white\",\"width\":0.5},\"pattern\":{\"fillmode\":\"overlay\",\"size\":10,\"solidity\":0.2}},\"type\":\"bar\"}],\"carpet\":[{\"aaxis\":{\"endlinecolor\":\"#2a3f5f\",\"gridcolor\":\"#C8D4E3\",\"linecolor\":\"#C8D4E3\",\"minorgridcolor\":\"#C8D4E3\",\"startlinecolor\":\"#2a3f5f\"},\"baxis\":{\"endlinecolor\":\"#2a3f5f\",\"gridcolor\":\"#C8D4E3\",\"linecolor\":\"#C8D4E3\",\"minorgridcolor\":\"#C8D4E3\",\"startlinecolor\":\"#2a3f5f\"},\"type\":\"carpet\"}],\"choropleth\":[{\"colorbar\":{\"outlinewidth\":0,\"ticks\":\"\"},\"type\":\"choropleth\"}],\"contourcarpet\":[{\"colorbar\":{\"outlinewidth\":0,\"ticks\":\"\"},\"type\":\"contourcarpet\"}],\"contour\":[{\"colorbar\":{\"outlinewidth\":0,\"ticks\":\"\"},\"colorscale\":[[0.0,\"#0d0887\"],[0.1111111111111111,\"#46039f\"],[0.2222222222222222,\"#7201a8\"],[0.3333333333333333,\"#9c179e\"],[0.4444444444444444,\"#bd3786\"],[0.5555555555555556,\"#d8576b\"],[0.6666666666666666,\"#ed7953\"],[0.7777777777777778,\"#fb9f3a\"],[0.8888888888888888,\"#fdca26\"],[1.0,\"#f0f921\"]],\"type\":\"contour\"}],\"heatmapgl\":[{\"colorbar\":{\"outlinewidth\":0,\"ticks\":\"\"},\"colorscale\":[[0.0,\"#0d0887\"],[0.1111111111111111,\"#46039f\"],[0.2222222222222222,\"#7201a8\"],[0.3333333333333333,\"#9c179e\"],[0.4444444444444444,\"#bd3786\"],[0.5555555555555556,\"#d8576b\"],[0.6666666666666666,\"#ed7953\"],[0.7777777777777778,\"#fb9f3a\"],[0.8888888888888888,\"#fdca26\"],[1.0,\"#f0f921\"]],\"type\":\"heatmapgl\"}],\"heatmap\":[{\"colorbar\":{\"outlinewidth\":0,\"ticks\":\"\"},\"colorscale\":[[0.0,\"#0d0887\"],[0.1111111111111111,\"#46039f\"],[0.2222222222222222,\"#7201a8\"],[0.3333333333333333,\"#9c179e\"],[0.4444444444444444,\"#bd3786\"],[0.5555555555555556,\"#d8576b\"],[0.6666666666666666,\"#ed7953\"],[0.7777777777777778,\"#fb9f3a\"],[0.8888888888888888,\"#fdca26\"],[1.0,\"#f0f921\"]],\"type\":\"heatmap\"}],\"histogram2dcontour\":[{\"colorbar\":{\"outlinewidth\":0,\"ticks\":\"\"},\"colorscale\":[[0.0,\"#0d0887\"],[0.1111111111111111,\"#46039f\"],[0.2222222222222222,\"#7201a8\"],[0.3333333333333333,\"#9c179e\"],[0.4444444444444444,\"#bd3786\"],[0.5555555555555556,\"#d8576b\"],[0.6666666666666666,\"#ed7953\"],[0.7777777777777778,\"#fb9f3a\"],[0.8888888888888888,\"#fdca26\"],[1.0,\"#f0f921\"]],\"type\":\"histogram2dcontour\"}],\"histogram2d\":[{\"colorbar\":{\"outlinewidth\":0,\"ticks\":\"\"},\"colorscale\":[[0.0,\"#0d0887\"],[0.1111111111111111,\"#46039f\"],[0.2222222222222222,\"#7201a8\"],[0.3333333333333333,\"#9c179e\"],[0.4444444444444444,\"#bd3786\"],[0.5555555555555556,\"#d8576b\"],[0.6666666666666666,\"#ed7953\"],[0.7777777777777778,\"#fb9f3a\"],[0.8888888888888888,\"#fdca26\"],[1.0,\"#f0f921\"]],\"type\":\"histogram2d\"}],\"histogram\":[{\"marker\":{\"pattern\":{\"fillmode\":\"overlay\",\"size\":10,\"solidity\":0.2}},\"type\":\"histogram\"}],\"mesh3d\":[{\"colorbar\":{\"outlinewidth\":0,\"ticks\":\"\"},\"type\":\"mesh3d\"}],\"parcoords\":[{\"line\":{\"colorbar\":{\"outlinewidth\":0,\"ticks\":\"\"}},\"type\":\"parcoords\"}],\"pie\":[{\"automargin\":true,\"type\":\"pie\"}],\"scatter3d\":[{\"line\":{\"colorbar\":{\"outlinewidth\":0,\"ticks\":\"\"}},\"marker\":{\"colorbar\":{\"outlinewidth\":0,\"ticks\":\"\"}},\"type\":\"scatter3d\"}],\"scattercarpet\":[{\"marker\":{\"colorbar\":{\"outlinewidth\":0,\"ticks\":\"\"}},\"type\":\"scattercarpet\"}],\"scattergeo\":[{\"marker\":{\"colorbar\":{\"outlinewidth\":0,\"ticks\":\"\"}},\"type\":\"scattergeo\"}],\"scattergl\":[{\"marker\":{\"colorbar\":{\"outlinewidth\":0,\"ticks\":\"\"}},\"type\":\"scattergl\"}],\"scattermapbox\":[{\"marker\":{\"colorbar\":{\"outlinewidth\":0,\"ticks\":\"\"}},\"type\":\"scattermapbox\"}],\"scatterpolargl\":[{\"marker\":{\"colorbar\":{\"outlinewidth\":0,\"ticks\":\"\"}},\"type\":\"scatterpolargl\"}],\"scatterpolar\":[{\"marker\":{\"colorbar\":{\"outlinewidth\":0,\"ticks\":\"\"}},\"type\":\"scatterpolar\"}],\"scatter\":[{\"marker\":{\"colorbar\":{\"outlinewidth\":0,\"ticks\":\"\"}},\"type\":\"scatter\"}],\"scatterternary\":[{\"marker\":{\"colorbar\":{\"outlinewidth\":0,\"ticks\":\"\"}},\"type\":\"scatterternary\"}],\"surface\":[{\"colorbar\":{\"outlinewidth\":0,\"ticks\":\"\"},\"colorscale\":[[0.0,\"#0d0887\"],[0.1111111111111111,\"#46039f\"],[0.2222222222222222,\"#7201a8\"],[0.3333333333333333,\"#9c179e\"],[0.4444444444444444,\"#bd3786\"],[0.5555555555555556,\"#d8576b\"],[0.6666666666666666,\"#ed7953\"],[0.7777777777777778,\"#fb9f3a\"],[0.8888888888888888,\"#fdca26\"],[1.0,\"#f0f921\"]],\"type\":\"surface\"}],\"table\":[{\"cells\":{\"fill\":{\"color\":\"#EBF0F8\"},\"line\":{\"color\":\"white\"}},\"header\":{\"fill\":{\"color\":\"#C8D4E3\"},\"line\":{\"color\":\"white\"}},\"type\":\"table\"}]},\"layout\":{\"annotationdefaults\":{\"arrowcolor\":\"#2a3f5f\",\"arrowhead\":0,\"arrowwidth\":1},\"autotypenumbers\":\"strict\",\"coloraxis\":{\"colorbar\":{\"outlinewidth\":0,\"ticks\":\"\"}},\"colorscale\":{\"diverging\":[[0,\"#8e0152\"],[0.1,\"#c51b7d\"],[0.2,\"#de77ae\"],[0.3,\"#f1b6da\"],[0.4,\"#fde0ef\"],[0.5,\"#f7f7f7\"],[0.6,\"#e6f5d0\"],[0.7,\"#b8e186\"],[0.8,\"#7fbc41\"],[0.9,\"#4d9221\"],[1,\"#276419\"]],\"sequential\":[[0.0,\"#0d0887\"],[0.1111111111111111,\"#46039f\"],[0.2222222222222222,\"#7201a8\"],[0.3333333333333333,\"#9c179e\"],[0.4444444444444444,\"#bd3786\"],[0.5555555555555556,\"#d8576b\"],[0.6666666666666666,\"#ed7953\"],[0.7777777777777778,\"#fb9f3a\"],[0.8888888888888888,\"#fdca26\"],[1.0,\"#f0f921\"]],\"sequentialminus\":[[0.0,\"#0d0887\"],[0.1111111111111111,\"#46039f\"],[0.2222222222222222,\"#7201a8\"],[0.3333333333333333,\"#9c179e\"],[0.4444444444444444,\"#bd3786\"],[0.5555555555555556,\"#d8576b\"],[0.6666666666666666,\"#ed7953\"],[0.7777777777777778,\"#fb9f3a\"],[0.8888888888888888,\"#fdca26\"],[1.0,\"#f0f921\"]]},\"colorway\":[\"#636efa\",\"#EF553B\",\"#00cc96\",\"#ab63fa\",\"#FFA15A\",\"#19d3f3\",\"#FF6692\",\"#B6E880\",\"#FF97FF\",\"#FECB52\"],\"font\":{\"color\":\"#2a3f5f\"},\"geo\":{\"bgcolor\":\"white\",\"lakecolor\":\"white\",\"landcolor\":\"white\",\"showlakes\":true,\"showland\":true,\"subunitcolor\":\"#C8D4E3\"},\"hoverlabel\":{\"align\":\"left\"},\"hovermode\":\"closest\",\"mapbox\":{\"style\":\"light\"},\"paper_bgcolor\":\"white\",\"plot_bgcolor\":\"white\",\"polar\":{\"angularaxis\":{\"gridcolor\":\"#EBF0F8\",\"linecolor\":\"#EBF0F8\",\"ticks\":\"\"},\"bgcolor\":\"white\",\"radialaxis\":{\"gridcolor\":\"#EBF0F8\",\"linecolor\":\"#EBF0F8\",\"ticks\":\"\"}},\"scene\":{\"xaxis\":{\"backgroundcolor\":\"white\",\"gridcolor\":\"#DFE8F3\",\"gridwidth\":2,\"linecolor\":\"#EBF0F8\",\"showbackground\":true,\"ticks\":\"\",\"zerolinecolor\":\"#EBF0F8\"},\"yaxis\":{\"backgroundcolor\":\"white\",\"gridcolor\":\"#DFE8F3\",\"gridwidth\":2,\"linecolor\":\"#EBF0F8\",\"showbackground\":true,\"ticks\":\"\",\"zerolinecolor\":\"#EBF0F8\"},\"zaxis\":{\"backgroundcolor\":\"white\",\"gridcolor\":\"#DFE8F3\",\"gridwidth\":2,\"linecolor\":\"#EBF0F8\",\"showbackground\":true,\"ticks\":\"\",\"zerolinecolor\":\"#EBF0F8\"}},\"shapedefaults\":{\"line\":{\"color\":\"#2a3f5f\"}},\"ternary\":{\"aaxis\":{\"gridcolor\":\"#DFE8F3\",\"linecolor\":\"#A2B1C6\",\"ticks\":\"\"},\"baxis\":{\"gridcolor\":\"#DFE8F3\",\"linecolor\":\"#A2B1C6\",\"ticks\":\"\"},\"bgcolor\":\"white\",\"caxis\":{\"gridcolor\":\"#DFE8F3\",\"linecolor\":\"#A2B1C6\",\"ticks\":\"\"}},\"title\":{\"x\":0.05},\"xaxis\":{\"automargin\":true,\"gridcolor\":\"#EBF0F8\",\"linecolor\":\"#EBF0F8\",\"ticks\":\"\",\"title\":{\"standoff\":15},\"zerolinecolor\":\"#EBF0F8\",\"zerolinewidth\":2},\"yaxis\":{\"automargin\":true,\"gridcolor\":\"#EBF0F8\",\"linecolor\":\"#EBF0F8\",\"ticks\":\"\",\"title\":{\"standoff\":15},\"zerolinecolor\":\"#EBF0F8\",\"zerolinewidth\":2}}},\"xaxis\":{\"tickvals\":[0,1,2,3,4,5,6,7,8,9,10,11,12,13],\"ticktext\":[\"Binance Coin\",\"Bitcoin\",\"Bitcoin Cash\",\"Cardano\",\"Dogecoin\",\"EOS.IO\",\"Ethereum\",\"Ethereum Classic\",\"IOTA\",\"Litecoin\",\"Maker\",\"Monero\",\"Stellar\",\"TRON\"],\"title\":{\"text\":\"Asset\"}},\"yaxis\":{\"title\":{\"text\":\"Trading volume\"}}},                        {\"responsive\": true}                    ).then(function(){\n",
       "                            \n",
       "var gd = document.getElementById('d54984c4-a3ae-4be7-a944-b1a3372d52f8');\n",
       "var x = new MutationObserver(function (mutations, observer) {{\n",
       "        var display = window.getComputedStyle(gd).display;\n",
       "        if (!display || display === 'none') {{\n",
       "            console.log([gd, 'removed!']);\n",
       "            Plotly.purge(gd);\n",
       "            observer.disconnect();\n",
       "        }}\n",
       "}});\n",
       "\n",
       "// Listen for the removal of the full notebook cells\n",
       "var notebookContainer = gd.closest('#notebook-container');\n",
       "if (notebookContainer) {{\n",
       "    x.observe(notebookContainer, {childList: true});\n",
       "}}\n",
       "\n",
       "// Listen for the clearing of the current output cell\n",
       "var outputEl = gd.closest('.output');\n",
       "if (outputEl) {{\n",
       "    x.observe(outputEl, {childList: true});\n",
       "}}\n",
       "\n",
       "                        })                };                });            </script>        </div>"
      ]
     },
     "metadata": {},
     "output_type": "display_data"
    }
   ],
   "source": [
    "assets = train.groupby('Asset_ID')['Count'].mean().reset_index()\n",
    "\n",
    "colors = ['lightgrey']*14\n",
    "colors[1] = colors[4] = colors[6] = '#3366ff'\n",
    "assets_bar = go.Bar(x = assets['Asset_ID'], y = assets['Count'], marker_color = colors)\n",
    "data = [assets_bar]\n",
    "layout = go.Layout(title = 'Average trading volume of each asset')\n",
    "fig = go.Figure(data = data, layout = layout)\n",
    "\n",
    "fig.update_traces(marker_line_width = 1,marker_line_color = \"black\")\n",
    "fig.update_layout(\n",
    "    title = {\n",
    "        'text': 'Average trading volume of each asset',\n",
    "        'y':0.90,\n",
    "        'x':0.5,\n",
    "        'xanchor': 'center',\n",
    "        'yanchor': 'top'} , \n",
    "    \n",
    "    xaxis = dict(\n",
    "        tickvals = list(range(0, 14)),\n",
    "        ticktext = asset_details.Asset_Name\n",
    "    ),\n",
    "    template = \"plotly_white\")\n",
    "\n",
    "fig.update_xaxes(title_text = 'Asset')\n",
    "fig.update_yaxes(title_text = 'Trading volume')\n",
    "\n",
    "fig"
   ]
  },
  {
   "cell_type": "markdown",
   "id": "2dde8903",
   "metadata": {
    "papermill": {
     "duration": 0.030209,
     "end_time": "2022-02-11T07:40:15.631806",
     "exception": false,
     "start_time": "2022-02-11T07:40:15.601597",
     "status": "completed"
    },
    "tags": []
   },
   "source": [
    "### Candlestick chart of recent 1 year asset price\n",
    "This is candlestick chart of recent 1 year price of specific asset. I plotted chart of 3 most frequently traded assets, Bitcoin, Dogecoin and Ethereum. Overall trend of price of those 3 assets are quite similar.\n",
    "\n",
    "Reference: <https://www.kaggle.com/cstein06/tutorial-to-the-g-research-crypto-competition/notebook#Building-your-prediction-model>"
   ]
  },
  {
   "cell_type": "code",
   "execution_count": 6,
   "id": "dd97c881",
   "metadata": {
    "execution": {
     "iopub.execute_input": "2022-02-11T07:40:15.702658Z",
     "iopub.status.busy": "2022-02-11T07:40:15.701069Z",
     "iopub.status.idle": "2022-02-11T07:40:15.703306Z",
     "shell.execute_reply": "2022-02-11T07:40:15.703707Z",
     "shell.execute_reply.started": "2022-02-10T11:45:10.999521Z"
    },
    "papermill": {
     "duration": 0.041943,
     "end_time": "2022-02-11T07:40:15.703830",
     "exception": false,
     "start_time": "2022-02-11T07:40:15.661887",
     "status": "completed"
    },
    "tags": []
   },
   "outputs": [],
   "source": [
    "def candelstick_chart(data, id_, title):\n",
    "    data = data[data['Asset_ID'] == id_].reset_index(drop = True)\n",
    "    data = data.set_index('timestamp')\n",
    "    data = data.iloc[-365:,:]  # recent 1 year\n",
    "    data['MA5'] = data['Close'].rolling(window = 5, min_periods = 1).mean()\n",
    "    data['MA30'] = data['Close'].rolling(window = 30, min_periods = 1).mean()\n",
    "    data['MA120'] = data['Close'].rolling(window = 120, min_periods = 1).mean()\n",
    "    \n",
    "    candlestick = go.Figure(data = [go.Candlestick(x =data.index, \n",
    "                                               open = data[('Open')], \n",
    "                                               high = data[('High')], \n",
    "                                               low = data[('Low')], \n",
    "                                               close = data[('Close')])])\n",
    "    candlestick.update_xaxes(title_text = 'Time')\n",
    "\n",
    "    candlestick.update_layout(\n",
    "    title = {\n",
    "        'text': '{:} Candelstick Chart'.format(title),\n",
    "        'y':0.90,\n",
    "        'x':0.5,\n",
    "        'xanchor': 'center',\n",
    "        'yanchor': 'top'} , \n",
    "    template=\"plotly_white\")\n",
    "\n",
    "    candlestick.update_yaxes(title_text = 'Price in USD', ticksuffix = '$')\n",
    "    return candlestick"
   ]
  },
  {
   "cell_type": "code",
   "execution_count": 7,
   "id": "bcd6cb30",
   "metadata": {
    "execution": {
     "iopub.execute_input": "2022-02-11T07:40:15.768350Z",
     "iopub.status.busy": "2022-02-11T07:40:15.767524Z",
     "iopub.status.idle": "2022-02-11T07:40:17.498155Z",
     "shell.execute_reply": "2022-02-11T07:40:17.498587Z",
     "shell.execute_reply.started": "2022-02-10T11:45:11.013683Z"
    },
    "papermill": {
     "duration": 1.76483,
     "end_time": "2022-02-11T07:40:17.498728",
     "exception": false,
     "start_time": "2022-02-11T07:40:15.733898",
     "status": "completed"
    },
    "tags": []
   },
   "outputs": [
    {
     "data": {
      "text/html": [
       "<div>                            <div id=\"55ea2fc1-bafc-4a4a-ae66-2dfc22542232\" class=\"plotly-graph-div\" style=\"height:525px; width:100%;\"></div>            <script type=\"text/javascript\">                require([\"plotly\"], function(Plotly) {                    window.PLOTLYENV=window.PLOTLYENV || {};                                    if (document.getElementById(\"55ea2fc1-bafc-4a4a-ae66-2dfc22542232\")) {                    Plotly.newPlot(                        \"55ea2fc1-bafc-4a4a-ae66-2dfc22542232\",                        [{\"close\":[44081.32428571428,44075.9125,44058.48142857144,44055.08571428571,44074.30556436499,44001.75296752144,44066.24142857143,44034.928571428565,44004.0117661043,43995.07142857144,43948.74120796142,43972.00714285715,43955.68125,43924.0725,43912.1,43908.69571428571,43910.81714285714,43907.60999999999,43892.17,43907.147142857146,43897.822857142855,43887.49142857143,43936.31714285714,43887.57857142857,43883.78000000001,43816.68714285714,43764.58499999999,43705.529999999984,43615.78519134,43631.3825,43608.51857142857,43657.15142857143,43616.29875,43592.74999999999,43607.779999999984,43613.294807325714,43617.95142857143,43607.26461277252,43476.775,43468.55,43358.5125,43260.43875,43338.33857142857,43387.5,43430.76125,43425.04571428573,43444.13142857143,43462.86857142857,43438.15142857143,43434.11714285715,43501.97714285714,43532.21630312999,43547.94125,43550.975,43572.80857142858,43583.987142857135,43570.85039915428,43453.79571428571,43412.99571428571,43356.83,43316.38428571429,43378.10428571428,43327.55714285715,43402.377142857134,43469.32857142857,43496.44324048428,43411.79554926144,43389.18714285714,43351.12285714286,43367.725714285705,43246.20285714286,43287.80428571429,43259.50285714286,43182.72714285715,43332.12237411285,43428.04,43279.78625000001,43152.395,43201.0325,43219.78625,43191.09285714285,43144.77571428572,43102.57714285714,43016.79875,43038.5875,43017.88625,42924.27875,42989.867500000015,43104.23,43064.03278645572,43015.39428571429,42943.09142857143,42972.01857142857,43064.57142857143,43160.67285714286,43473.7075,43488.3,43516.6025,43525.70857142857,43572.76714285714,43615.64375,43624.02487568,43597.24857142857,43569.21875,43586.88857142856,43580.31285714286,43712.58875000002,43813.67375,43688.851250000014,43754.548571428575,43682.015000000014,43637.7,43629.56714285714,43606.30142857142,43581.91571428572,43578.70428571429,43699.40625,43841.88500000002,43860.98,43906.19445371875,43894.241250000014,43920.58285714285,43904.57857142857,43861.21571428572,43871.135,43935.1742648,43909.92285714286,43907.97714285715,43921.57571428571,43870.96875,43898.26867075625,43874.34142857143,43870.84571428572,43869.898571428566,43857.86714285715,43790.63714285714,43823.41857142858,43800.722857142864,43804.91571428572,43825.08036451143,43783.38000000001,43785.446250000015,43761.25285714286,43779.69285714287,43750.83602162143,43741.25714285715,43729.68,43719.648571428566,43710.88285714285,43751.097142857136,43741.67714285715,43709.96115756857,43723.27142857143,43647.66142857143,43685.0875,43666.62285714286,43688.77942172,43684.07022895857,43697.28428571428,43725.01142857143,43745.28999999999,43763.855714285724,43775.26857142857,43682.67857142857,43578.98218626571,43447.00375,43440.0,43360.72375,43427.24285714286,43375.04,43391.2775,43328.33142857143,43333.292857142864,43272.20571428572,43302.26142857143,43237.22857142857,43293.438571428575,43335.397142857146,43329.36,43315.57857142857,43358.98,43401.56125,43496.01714285714,43543.944285714286,43735.24749999998,43635.8,43565.93714285714,43445.9742505125,43582.882500000014,43509.89375,43583.13375,43620.45625000002,43683.955,43688.792857142864,43748.37285714286,43733.61857142858,43770.91142857143,43725.21247342,43699.93519433285,43681.41125,43663.37142857142,43674.12714285714,43735.2968762825,43761.40857142857,43804.98142857143,43748.64871729857,43754.64400535857,43761.9313146925,43745.054649555714,43749.41395637714,43704.05428571429,43754.37857142858,43752.16000000002,43752.56428571429,43742.16285714285,43722.25010413143,43698.399835418575,43678.80153424286,43688.29428571429,43673.78428571428,43674.93714285714,43696.93209772,43696.218571428566,43688.90142857142,43680.15714285715,43699.02571428572,43731.86428571429,43747.49428571429,43762.66571428572,43851.00774273375,43796.60571428571,43767.107142857145,43685.150000000016,43691.55,43724.642857142855,43737.69285714287,43651.975714285705,43596.42285714286,43623.89428571428,43635.89571428572,43561.85142857144,43536.07792585572,43480.374285714286,43514.82,43608.34571428572,43568.90142857143,43554.05285714286,43631.01714285714,43631.90714285714,43537.49,43597.75303396001,43648.514285714286,43697.334285714285,43707.43,43726.24681658715,43765.792857142864,43715.65571428572,43715.125714285714,43710.31428571429,43731.00625,43770.145714285725,43814.85571428571,43816.27125000001,43806.570000000014,43806.79142857143,43770.66857142857,43799.1,43833.474285714285,43811.704285714295,43843.44,43832.01571428571,43786.38571428572,43769.188571428575,43774.467142857146,43796.19,43797.20571428572,43798.15714285714,43804.61142857144,43831.59142857143,43871.69625,43897.16857142858,43901.38285714285,43883.25895342144,43862.52,43894.77857142857,43866.73499999999,43845.84857142857,43823.298571428575,43752.76714285714,43703.374285714286,43669.07857142857,43642.77285714285,43615.38,43504.42428571429,43367.88571428572,43316.7225,43295.04428571429,43250.16571428572,43075.9025,43232.90125,43259.1575,43293.7075,43305.09857142857,43327.79,43356.28068103,43344.55857142858,43484.61375,43580.82375,43470.794999999984,43198.788571428566,43213.69,43269.54714285715,43239.26125,43114.23614144125,43067.63,43060.81,42991.2775,42989.62375,43219.33125,43140.19135458125,43198.24000000001,43110.797500000015,43157.72298172143,43099.1575,43051.08285714287,42966.91285714286,43009.43142857143,42880.67875,42822.040000000015,42699.178750000014,42778.885,42779.71,42700.44625,42659.58241635572,42600.39625,42624.279999999984,42577.0,42679.60625,42678.21816655625,42762.514285714286,42825.295,42736.6525,42769.39571428571,42637.115,42703.63625,42781.97057111125,42755.5925,42717.23428571428,42657.20249999999,42678.72142857143,42778.29125,42790.17571428571,42731.73142857143,42898.565,42939.64571428572,42927.167142857135,42979.83375,42960.60142857144,42985.48285714286,42985.21482412572,42899.01285714287,42860.00571428572,42827.02,43017.277142857136,43002.505],\"high\":[44100.1,44100.39,44100.0,44069.0,44130.0,44081.89116755,44100.0,44085.0,44039.0,44022.35,44008.0,44069.0,44008.8,44008.0,43961.25,43935.0,43942.2,43921.0,43914.0,43925.96,43915.0,43912.0,43959.0,43947.0,43904.0,43903.0,43828.0,43795.6,43732.0,43686.0,43652.0,43685.4,43685.4,43647.02,43634.07,43628.6,43669.24,43640.0,43615.0,43495.61,43479.48,43383.18,43366.26811171,43528.44,43456.0,43457.0,43469.0,43476.08,43489.0,43484.0,43512.97,43545.0,43570.36,43620.42,43611.0,43596.2,43605.29,43577.51,43479.75,43440.1,43381.61,43450.26942404,43417.23,43426.81575383,43509.0,43511.21,43510.0,43477.09,43395.04065691,43403.11,43371.25,43333.43,43346.82,43295.2,43352.17,43453.45,43440.2,43307.99,43263.57,43313.63,43279.0,43219.23,43197.13,43164.15,43089.59,43108.55,43032.55,43040.0,43138.78,43123.7,43075.0,43026.75835346,43012.8069541,43089.0,43176.0,43537.0,43575.47,43572.13,43582.8,43583.0,43644.61,43649.0,43645.0,43639.29,43650.0,43600.1,43743.5,43901.5,43853.52,43794.7,43754.0,43715.73,43648.61667971,43645.92,43644.45,43603.9,43726.22,43894.24062308,43886.0,43972.0,43932.0,43950.0,43951.82,43919.0,43891.62,43968.67,43961.0,43936.0,43949.0,43931.0,43949.0,43911.0,43924.19936605,43892.35996387,43890.04262761,43878.0,43844.86,43860.86,43838.0,43872.0,43830.0,43824.0,43809.90889954,43817.0,43804.0,43770.29406501,43764.46139972,43751.0,43748.0,43764.04,43799.04,43770.0,43731.44,43731.48,43735.15,43687.68903327,43718.0,43704.0,43705.91,43743.5,43770.01,43773.71,43789.4,43785.0,43703.8,43588.68,43495.95402838,43455.2184781,43454.99,43467.0,43405.0,43407.7,43350.0,43344.99,43315.99,43317.0,43318.8,43353.43,43363.82,43341.56,43372.8,43436.99,43512.7,43581.88,43750.27,43749.6,43636.4,43587.1,43609.1,43617.0,43611.11,43634.01,43715.6675949,43707.74,43763.7,43766.35,43798.21,43780.0,43726.0,43731.0,43702.91,43684.24,43773.35,43784.1,43818.17,43810.0,43766.0,43790.0,43774.0,43760.01,43763.66,43773.4,43768.62,43776.0,43768.53,43750.0,43746.7,43708.0,43701.5,43701.5,43689.0,43716.49468404,43709.0,43703.62,43723.37,43708.47,43754.58,43757.98,43776.38,43882.75,43913.83,43813.0,43788.8,43704.19,43738.0,43746.19,43747.0,43672.0,43639.5,43651.0,43647.45,43582.0,43550.99,43524.0,43618.15,43652.3,43587.51,43654.6,43682.6,43646.0,43614.93123772,43660.09,43708.05,43744.4,43776.1,43785.75,43779.05,43756.0,43782.7,43777.2,43782.74,43830.0,43835.6,43835.5,43833.6,43867.04,43805.3,43861.08,43848.1,43860.78,43866.41,43840.14,43808.31,43800.0,43812.4,43818.6,43818.4,43821.1,43840.7,43910.99,43912.1,43940.0,43912.0,43908.5,43906.71,43906.73,43874.98,43851.4,43843.87,43782.1,43721.3,43699.8,43679.99,43633.3,43560.02,43417.91,43354.59,43359.44,43259.3,43281.0,43301.61947119,43320.02,43348.22,43366.0,43391.85,43376.0,43546.61,43640.0,43627.0,43455.0,43276.57,43366.0,43288.47,43287.5,43133.15,43099.98,43072.2,43069.67,43289.9,43350.5,43229.1,43247.5,43193.54,43172.9,43122.0,43082.02,43029.49,43015.0,42897.0,42884.85,42836.33,42811.0,42852.0,42719.98,42779.1,42703.01,42650.0,42705.0,42802.54,42862.0,42877.82,42846.0,42833.9,42841.99,42736.9,42819.38,42827.1,42811.3,42752.0,42715.99,42810.26,42828.0,42827.7,42937.31,42966.98,42971.95,43014.98,43005.65,43008.85,43006.54,43001.85084871,42932.0,42887.5,43042.16,43048.51],\"low\":[44060.0,44058.3,44039.14,44034.12,44043.55,43966.23,43987.2,44018.05,43990.0,43978.77,43928.72,43924.41,43898.52,43898.68,43901.09,43877.96,43878.45,43869.23,43880.01,43880.0,43889.48,43872.2,43875.7,43876.62,43866.8,43787.51,43742.58,43654.94,43569.49,43595.24,43580.01,43586.82,43595.29,43581.36,43545.0,43576.95,43584.81,43575.08,43437.24,43384.51,43331.0,43227.33,43213.3,43239.19,43344.12,43383.69,43381.26,43404.59,43400.0,43388.01,43423.39,43480.69,43502.11,43533.55,43539.54,43544.79,43549.06,43425.93,43394.48,43339.01,43299.0,43299.01,43291.03,43258.13,43384.1,43440.37,43384.3,43356.84,43317.95,43340.79,43221.3,43181.23,43230.01,43051.0,43139.07,43301.14,43252.86,43100.3,43128.8,43173.05,43142.1,43117.35,43056.44,43000.0,42900.0,42989.25,42880.0,42881.4,42973.26,43040.76,43000.0,42923.1,42928.51,42934.11,43049.1,43131.06,43414.8,43436.19,43468.93,43445.87,43516.77,43558.8,43561.1,43546.39,43554.71,43544.05,43566.53,43694.6,43643.64,43680.92,43630.3,43613.61,43592.7,43591.61,43554.8,43562.04,43564.57,43681.0,43804.81,43828.0,43823.54,43854.0,43890.0,43836.03,43768.91,43852.0,43878.8,43874.37,43900.68,43835.38,43846.0,43829.16,43854.97,43827.05,43806.7,43777.9,43765.29,43782.5,43769.74,43791.37,43763.89,43761.9,43751.12,43750.4,43733.3,43726.6,43706.38,43689.56,43700.0,43702.99,43729.46,43699.0,43700.0,43625.07,43630.64,43647.27,43657.91,43662.2,43672.6,43691.48,43703.8,43719.15,43749.6,43652.86,43534.74,43427.28,43414.33,43327.29,43348.06,43351.15,43280.0,43284.12,43283.74,43240.01,43261.26,43217.6,43207.55,43268.05,43278.42,43272.19,43287.88,43350.2,43387.95,43487.66,43527.56,43600.0,43538.26,43426.2,43431.57,43436.46,43476.65,43525.5,43585.4,43647.65,43676.9,43702.98,43709.75,43706.19,43683.73,43669.67,43638.92,43631.17,43662.11,43729.9,43730.0,43732.41,43725.22,43739.3,43722.3,43717.71,43686.54,43695.18,43733.8,43729.06,43730.17,43705.92,43691.2,43665.84,43657.79,43663.42,43658.2,43663.48,43669.1,43669.1,43659.05,43669.2,43677.4,43718.9,43742.1,43754.67,43790.01,43750.89,43672.6,43669.13,43683.08,43689.3,43641.65,43584.69,43583.4,43608.15,43522.0,43504.1,43464.86,43462.56,43499.99,43548.51,43538.67,43534.0,43616.54,43521.92,43514.09,43593.43,43644.1,43682.67,43688.1,43712.74,43701.41,43700.0,43665.29,43678.37,43718.44,43758.4,43763.01,43772.0,43772.75,43741.3,43760.3,43788.96,43788.53,43780.41,43816.96,43762.7,43742.7,43750.0,43759.23,43766.7,43757.17,43782.18,43795.58,43823.74,43842.5,43875.72,43866.3,43847.0,43835.66,43850.16,43832.56,43813.11,43746.0,43687.0,43650.01,43627.29,43600.0,43499.99,43350.4,43295.74,43278.42,43221.04,43003.84,43067.0,43172.38,43172.0,43220.67,43261.3,43333.51,43283.1,43335.64,43441.56,43428.8,43172.9,43133.08,43209.9,43218.81,43062.9,43050.9,43019.49,42930.14,42967.33,42969.79,43106.01,43026.47,43092.88,43064.36,43058.56,43007.67,42898.8,42900.0,42801.0,42795.45,42659.29112887,42660.05,42651.4,42672.8,42640.0,42575.0,42579.4,42515.09,42548.09,42626.61,42660.7,42743.68,42688.55,42731.17,42600.0,42607.5,42690.84,42690.75,42694.37,42636.76,42630.17,42662.27,42742.36,42713.48,42713.48,42852.07,42899.1,42907.18,42929.74,42953.1,42958.06,42878.26,42840.16,42797.2,42818.1,42961.64],\"open\":[44087.53428571428,44076.68625,44076.19052630285,44057.53294487143,44056.8275,44069.87016679285,44008.76285714287,44068.50142857144,44027.54428571429,44004.36539671144,43991.38428571429,43956.822857142855,43961.372087442505,43961.166483195,43925.140000000014,43914.95285714285,43909.53571428572,43910.374285714286,43905.92142857143,43893.49,43904.04571428573,43895.03142857144,43889.32314389857,43927.60562658857,43884.07857142857,43881.612857142856,43815.47375000001,43760.70999999999,43701.411428571424,43625.23,43625.35428571428,43609.14571428571,43658.76625,43605.40875,43588.23374751,43608.535714285696,43612.59571428572,43609.09176878875,43601.74,43478.18142857143,43460.4175,43362.32375,43262.03722034428,43328.1575,43380.14,43434.150000000016,43429.26142857143,43443.94142857143,43462.098634842856,43444.57857142857,43438.23142857143,43502.66,43528.075,43551.10262890625,43553.79571428571,43572.93,43582.30857142857,43564.13571428572,43458.06294015428,43411.57857142857,43354.35428571429,43321.222857142864,43386.24000000001,43330.62142857142,43405.20689180856,43470.24542569714,43495.27285714286,43412.779999999984,43383.19437955857,43356.56856312,43365.69571428571,43239.22303058143,43287.13428571429,43261.77571428572,43187.20428571429,43328.03999999999,43418.5825,43280.94449847125,43170.15,43211.2225,43215.31857142857,43185.468571428566,43147.875714285714,43096.15375,43007.32,43046.4225,43009.2040485275,42928.61125,42995.812500000015,43104.05714285715,43046.90714285715,43012.13833620857,42943.17428571428,42969.25999205571,43064.67520109143,43157.85708447373,43486.91571428572,43485.720000000016,43510.50571428571,43519.22714285715,43571.73375,43610.26125,43624.29142857143,43607.775,43563.15958554,43585.41571428572,43589.09625,43735.0575,43795.117500000015,43689.48428571429,43737.12125,43674.53375,43629.48142857143,43629.39571428572,43614.17428571429,43581.43142857143,43581.2925,43706.80125,43842.37571428572,43859.45109554875,43895.29375,43893.38714285714,43931.2,43897.91857142856,43849.1877638325,43878.171368215,43930.25285714285,43924.72,43914.81428571429,43910.0825,43871.6275,43893.468571428566,43885.85857142857,43871.18428571429,43868.80428571429,43863.88571428572,43790.59857142857,43830.322857142855,43793.908571428576,43808.07857142857,43813.08,43782.97875,43782.64841422,43763.96,43776.874285714286,43748.22343785857,43739.77448567429,43728.34285714286,43723.34285714285,43718.93350209143,43757.05759537858,43741.107142857145,43710.66115756857,43724.97321297572,43661.4125,43672.39843332429,43673.22142857144,43686.31285714286,43683.87,43699.45428571429,43725.58,43744.49441664,43764.55857142858,43771.15142857143,43682.167142857135,43558.39375,43449.81857142858,43427.0823097625,43362.572857142855,43419.8325,43368.71625,43393.847142857136,43329.654285714285,43335.71432474571,43275.938571428575,43301.834285714285,43232.93714285714,43297.98428571429,43336.64,43333.63142857143,43314.74000000001,43364.94875,43408.08714285715,43504.69050787143,43563.5475,43734.17517274572,43622.09142833857,43556.59375,43455.175,43574.825,43520.28,43576.7775,43622.23555296,43692.88857142858,43693.87714285714,43746.07428571429,43732.60428571428,43769.21714285714,43713.06428571429,43696.00375,43671.81428571429,43658.32428571429,43678.86,43747.11558816286,43763.66857142857,43801.88285714287,43743.70142857143,43760.135,43757.962857142855,43746.89571428572,43752.36571428572,43706.63459625,43754.938571428575,43751.42502128715,43747.71428571428,43741.16142857143,43718.720000000016,43697.06571428572,43678.72571428572,43687.59428571429,43674.66142857143,43674.23,43699.485714285714,43693.75714285714,43686.042857142864,43680.84285714286,43703.04380334572,43737.424990827145,43748.792857142864,43764.222193155,43867.28649138286,43796.17000235,43764.80711541429,43683.29195864715,43694.014285714286,43724.80857142858,43734.218571428566,43648.50714285714,43595.79378934143,43622.90857142857,43635.26571428571,43561.49245584857,43540.261460078575,43481.81571428572,43514.376468365714,43617.79142857143,43571.87298438429,43552.88571428572,43628.438571428575,43627.27428571428,43537.74857142858,43605.25142857143,43650.830000000016,43700.829614364295,43709.82420531143,43729.398571428566,43758.39428571429,43711.38000000001,43711.45285714285,43709.3575,43745.652857142864,43771.43571428571,43811.9775,43826.62833333333,43809.957142857136,43813.72,43780.97162221715,43805.69142857142,43832.400000000016,43801.23428571429,43846.09142857143,43828.874285714286,43786.38571428572,43771.014285714286,43774.80714285715,43798.41857142857,43794.84032981571,43807.66285714285,43807.34428571429,43836.9875,43872.08714285714,43900.88857142856,43901.008571428574,43890.30857142857,43858.474285714285,43893.88166666668,43866.00571428572,43843.235714285714,43821.555714285714,43752.37,43704.62857142857,43671.72,43644.06142857143,43610.07408044428,43504.71428571428,43365.91375,43313.70812588,43296.055714285714,43239.0175,43092.85375,43251.94250000001,43264.50125,43307.44571428571,43296.88375,43341.862857142856,43353.12,43365.74875000001,43477.0875,43588.102500000015,43447.60285714286,43205.55625,43234.95285714286,43267.83,43229.50125,43106.66925542,43064.47714285714,43054.81000000001,43002.9225,42998.535,43227.1275,43122.16,43192.76624999999,43106.25997366144,43159.91625,43085.22049047715,43049.56714285714,42972.15714285714,42979.09125000001,42873.23000000002,42815.11375,42707.930000000015,42766.4325,42775.73125,42694.57285714285,42675.71750000001,42599.647142857146,42620.29375,42577.715,42683.24375,42673.72571428572,42768.39625000001,42819.91125,42750.58285714287,42760.10875,42632.465,42718.815,42772.92125,42762.29,42703.80250000001,42655.528483642855,42688.935,42790.287142857145,42792.855714285724,42745.15375,42896.17428571428,42937.78428571428,42933.25490686,42974.10869267286,42971.347142857136,42982.91571428572,42983.779999999984,42904.19714285714,42859.38571428572,42839.01280218857,43009.96125],\"x\":[\"2021-09-20T17:56:00\",\"2021-09-20T17:57:00\",\"2021-09-20T17:58:00\",\"2021-09-20T17:59:00\",\"2021-09-20T18:00:00\",\"2021-09-20T18:01:00\",\"2021-09-20T18:02:00\",\"2021-09-20T18:03:00\",\"2021-09-20T18:04:00\",\"2021-09-20T18:05:00\",\"2021-09-20T18:06:00\",\"2021-09-20T18:07:00\",\"2021-09-20T18:08:00\",\"2021-09-20T18:09:00\",\"2021-09-20T18:10:00\",\"2021-09-20T18:11:00\",\"2021-09-20T18:12:00\",\"2021-09-20T18:13:00\",\"2021-09-20T18:14:00\",\"2021-09-20T18:15:00\",\"2021-09-20T18:16:00\",\"2021-09-20T18:17:00\",\"2021-09-20T18:18:00\",\"2021-09-20T18:19:00\",\"2021-09-20T18:20:00\",\"2021-09-20T18:21:00\",\"2021-09-20T18:22:00\",\"2021-09-20T18:23:00\",\"2021-09-20T18:24:00\",\"2021-09-20T18:25:00\",\"2021-09-20T18:26:00\",\"2021-09-20T18:27:00\",\"2021-09-20T18:28:00\",\"2021-09-20T18:29:00\",\"2021-09-20T18:30:00\",\"2021-09-20T18:31:00\",\"2021-09-20T18:32:00\",\"2021-09-20T18:33:00\",\"2021-09-20T18:34:00\",\"2021-09-20T18:35:00\",\"2021-09-20T18:36:00\",\"2021-09-20T18:37:00\",\"2021-09-20T18:38:00\",\"2021-09-20T18:39:00\",\"2021-09-20T18:40:00\",\"2021-09-20T18:41:00\",\"2021-09-20T18:42:00\",\"2021-09-20T18:43:00\",\"2021-09-20T18:44:00\",\"2021-09-20T18:45:00\",\"2021-09-20T18:46:00\",\"2021-09-20T18:47:00\",\"2021-09-20T18:48:00\",\"2021-09-20T18:49:00\",\"2021-09-20T18:50:00\",\"2021-09-20T18:51:00\",\"2021-09-20T18:52:00\",\"2021-09-20T18:53:00\",\"2021-09-20T18:54:00\",\"2021-09-20T18:55:00\",\"2021-09-20T18:56:00\",\"2021-09-20T18:57:00\",\"2021-09-20T18:58:00\",\"2021-09-20T18:59:00\",\"2021-09-20T19:00:00\",\"2021-09-20T19:01:00\",\"2021-09-20T19:02:00\",\"2021-09-20T19:03:00\",\"2021-09-20T19:04:00\",\"2021-09-20T19:05:00\",\"2021-09-20T19:06:00\",\"2021-09-20T19:07:00\",\"2021-09-20T19:08:00\",\"2021-09-20T19:09:00\",\"2021-09-20T19:10:00\",\"2021-09-20T19:11:00\",\"2021-09-20T19:12:00\",\"2021-09-20T19:13:00\",\"2021-09-20T19:14:00\",\"2021-09-20T19:15:00\",\"2021-09-20T19:16:00\",\"2021-09-20T19:17:00\",\"2021-09-20T19:18:00\",\"2021-09-20T19:19:00\",\"2021-09-20T19:20:00\",\"2021-09-20T19:21:00\",\"2021-09-20T19:22:00\",\"2021-09-20T19:23:00\",\"2021-09-20T19:24:00\",\"2021-09-20T19:25:00\",\"2021-09-20T19:26:00\",\"2021-09-20T19:27:00\",\"2021-09-20T19:28:00\",\"2021-09-20T19:29:00\",\"2021-09-20T19:30:00\",\"2021-09-20T19:31:00\",\"2021-09-20T19:32:00\",\"2021-09-20T19:33:00\",\"2021-09-20T19:34:00\",\"2021-09-20T19:35:00\",\"2021-09-20T19:36:00\",\"2021-09-20T19:37:00\",\"2021-09-20T19:38:00\",\"2021-09-20T19:39:00\",\"2021-09-20T19:40:00\",\"2021-09-20T19:41:00\",\"2021-09-20T19:42:00\",\"2021-09-20T19:43:00\",\"2021-09-20T19:44:00\",\"2021-09-20T19:45:00\",\"2021-09-20T19:46:00\",\"2021-09-20T19:47:00\",\"2021-09-20T19:48:00\",\"2021-09-20T19:49:00\",\"2021-09-20T19:50:00\",\"2021-09-20T19:51:00\",\"2021-09-20T19:52:00\",\"2021-09-20T19:53:00\",\"2021-09-20T19:54:00\",\"2021-09-20T19:55:00\",\"2021-09-20T19:56:00\",\"2021-09-20T19:57:00\",\"2021-09-20T19:58:00\",\"2021-09-20T19:59:00\",\"2021-09-20T20:00:00\",\"2021-09-20T20:01:00\",\"2021-09-20T20:02:00\",\"2021-09-20T20:03:00\",\"2021-09-20T20:04:00\",\"2021-09-20T20:05:00\",\"2021-09-20T20:06:00\",\"2021-09-20T20:07:00\",\"2021-09-20T20:08:00\",\"2021-09-20T20:09:00\",\"2021-09-20T20:10:00\",\"2021-09-20T20:11:00\",\"2021-09-20T20:12:00\",\"2021-09-20T20:13:00\",\"2021-09-20T20:14:00\",\"2021-09-20T20:15:00\",\"2021-09-20T20:16:00\",\"2021-09-20T20:17:00\",\"2021-09-20T20:18:00\",\"2021-09-20T20:19:00\",\"2021-09-20T20:20:00\",\"2021-09-20T20:21:00\",\"2021-09-20T20:22:00\",\"2021-09-20T20:23:00\",\"2021-09-20T20:24:00\",\"2021-09-20T20:25:00\",\"2021-09-20T20:26:00\",\"2021-09-20T20:27:00\",\"2021-09-20T20:28:00\",\"2021-09-20T20:29:00\",\"2021-09-20T20:30:00\",\"2021-09-20T20:31:00\",\"2021-09-20T20:32:00\",\"2021-09-20T20:33:00\",\"2021-09-20T20:34:00\",\"2021-09-20T20:35:00\",\"2021-09-20T20:36:00\",\"2021-09-20T20:37:00\",\"2021-09-20T20:38:00\",\"2021-09-20T20:39:00\",\"2021-09-20T20:40:00\",\"2021-09-20T20:41:00\",\"2021-09-20T20:42:00\",\"2021-09-20T20:43:00\",\"2021-09-20T20:44:00\",\"2021-09-20T20:45:00\",\"2021-09-20T20:46:00\",\"2021-09-20T20:47:00\",\"2021-09-20T20:48:00\",\"2021-09-20T20:49:00\",\"2021-09-20T20:50:00\",\"2021-09-20T20:51:00\",\"2021-09-20T20:52:00\",\"2021-09-20T20:53:00\",\"2021-09-20T20:54:00\",\"2021-09-20T20:55:00\",\"2021-09-20T20:56:00\",\"2021-09-20T20:57:00\",\"2021-09-20T20:58:00\",\"2021-09-20T20:59:00\",\"2021-09-20T21:00:00\",\"2021-09-20T21:01:00\",\"2021-09-20T21:02:00\",\"2021-09-20T21:03:00\",\"2021-09-20T21:04:00\",\"2021-09-20T21:05:00\",\"2021-09-20T21:06:00\",\"2021-09-20T21:07:00\",\"2021-09-20T21:08:00\",\"2021-09-20T21:09:00\",\"2021-09-20T21:10:00\",\"2021-09-20T21:11:00\",\"2021-09-20T21:12:00\",\"2021-09-20T21:13:00\",\"2021-09-20T21:14:00\",\"2021-09-20T21:15:00\",\"2021-09-20T21:16:00\",\"2021-09-20T21:17:00\",\"2021-09-20T21:18:00\",\"2021-09-20T21:19:00\",\"2021-09-20T21:20:00\",\"2021-09-20T21:21:00\",\"2021-09-20T21:22:00\",\"2021-09-20T21:23:00\",\"2021-09-20T21:24:00\",\"2021-09-20T21:25:00\",\"2021-09-20T21:26:00\",\"2021-09-20T21:27:00\",\"2021-09-20T21:28:00\",\"2021-09-20T21:29:00\",\"2021-09-20T21:30:00\",\"2021-09-20T21:31:00\",\"2021-09-20T21:32:00\",\"2021-09-20T21:33:00\",\"2021-09-20T21:34:00\",\"2021-09-20T21:35:00\",\"2021-09-20T21:36:00\",\"2021-09-20T21:37:00\",\"2021-09-20T21:38:00\",\"2021-09-20T21:39:00\",\"2021-09-20T21:40:00\",\"2021-09-20T21:41:00\",\"2021-09-20T21:42:00\",\"2021-09-20T21:43:00\",\"2021-09-20T21:44:00\",\"2021-09-20T21:45:00\",\"2021-09-20T21:46:00\",\"2021-09-20T21:47:00\",\"2021-09-20T21:48:00\",\"2021-09-20T21:49:00\",\"2021-09-20T21:50:00\",\"2021-09-20T21:51:00\",\"2021-09-20T21:52:00\",\"2021-09-20T21:53:00\",\"2021-09-20T21:54:00\",\"2021-09-20T21:55:00\",\"2021-09-20T21:56:00\",\"2021-09-20T21:57:00\",\"2021-09-20T21:58:00\",\"2021-09-20T21:59:00\",\"2021-09-20T22:00:00\",\"2021-09-20T22:01:00\",\"2021-09-20T22:02:00\",\"2021-09-20T22:03:00\",\"2021-09-20T22:04:00\",\"2021-09-20T22:05:00\",\"2021-09-20T22:06:00\",\"2021-09-20T22:07:00\",\"2021-09-20T22:08:00\",\"2021-09-20T22:09:00\",\"2021-09-20T22:10:00\",\"2021-09-20T22:11:00\",\"2021-09-20T22:12:00\",\"2021-09-20T22:13:00\",\"2021-09-20T22:14:00\",\"2021-09-20T22:15:00\",\"2021-09-20T22:16:00\",\"2021-09-20T22:17:00\",\"2021-09-20T22:18:00\",\"2021-09-20T22:19:00\",\"2021-09-20T22:20:00\",\"2021-09-20T22:21:00\",\"2021-09-20T22:22:00\",\"2021-09-20T22:23:00\",\"2021-09-20T22:24:00\",\"2021-09-20T22:25:00\",\"2021-09-20T22:26:00\",\"2021-09-20T22:27:00\",\"2021-09-20T22:28:00\",\"2021-09-20T22:29:00\",\"2021-09-20T22:30:00\",\"2021-09-20T22:31:00\",\"2021-09-20T22:32:00\",\"2021-09-20T22:33:00\",\"2021-09-20T22:34:00\",\"2021-09-20T22:35:00\",\"2021-09-20T22:36:00\",\"2021-09-20T22:37:00\",\"2021-09-20T22:38:00\",\"2021-09-20T22:39:00\",\"2021-09-20T22:40:00\",\"2021-09-20T22:41:00\",\"2021-09-20T22:42:00\",\"2021-09-20T22:43:00\",\"2021-09-20T22:44:00\",\"2021-09-20T22:45:00\",\"2021-09-20T22:46:00\",\"2021-09-20T22:47:00\",\"2021-09-20T22:48:00\",\"2021-09-20T22:49:00\",\"2021-09-20T22:50:00\",\"2021-09-20T22:51:00\",\"2021-09-20T22:52:00\",\"2021-09-20T22:53:00\",\"2021-09-20T22:54:00\",\"2021-09-20T22:55:00\",\"2021-09-20T22:56:00\",\"2021-09-20T22:57:00\",\"2021-09-20T22:58:00\",\"2021-09-20T22:59:00\",\"2021-09-20T23:00:00\",\"2021-09-20T23:01:00\",\"2021-09-20T23:02:00\",\"2021-09-20T23:03:00\",\"2021-09-20T23:04:00\",\"2021-09-20T23:05:00\",\"2021-09-20T23:06:00\",\"2021-09-20T23:07:00\",\"2021-09-20T23:08:00\",\"2021-09-20T23:09:00\",\"2021-09-20T23:10:00\",\"2021-09-20T23:11:00\",\"2021-09-20T23:12:00\",\"2021-09-20T23:13:00\",\"2021-09-20T23:14:00\",\"2021-09-20T23:15:00\",\"2021-09-20T23:16:00\",\"2021-09-20T23:17:00\",\"2021-09-20T23:18:00\",\"2021-09-20T23:19:00\",\"2021-09-20T23:20:00\",\"2021-09-20T23:21:00\",\"2021-09-20T23:22:00\",\"2021-09-20T23:23:00\",\"2021-09-20T23:24:00\",\"2021-09-20T23:25:00\",\"2021-09-20T23:26:00\",\"2021-09-20T23:27:00\",\"2021-09-20T23:28:00\",\"2021-09-20T23:29:00\",\"2021-09-20T23:30:00\",\"2021-09-20T23:31:00\",\"2021-09-20T23:32:00\",\"2021-09-20T23:33:00\",\"2021-09-20T23:34:00\",\"2021-09-20T23:35:00\",\"2021-09-20T23:36:00\",\"2021-09-20T23:37:00\",\"2021-09-20T23:38:00\",\"2021-09-20T23:39:00\",\"2021-09-20T23:40:00\",\"2021-09-20T23:41:00\",\"2021-09-20T23:42:00\",\"2021-09-20T23:43:00\",\"2021-09-20T23:44:00\",\"2021-09-20T23:45:00\",\"2021-09-20T23:46:00\",\"2021-09-20T23:47:00\",\"2021-09-20T23:48:00\",\"2021-09-20T23:49:00\",\"2021-09-20T23:50:00\",\"2021-09-20T23:51:00\",\"2021-09-20T23:52:00\",\"2021-09-20T23:53:00\",\"2021-09-20T23:54:00\",\"2021-09-20T23:55:00\",\"2021-09-20T23:56:00\",\"2021-09-20T23:57:00\",\"2021-09-20T23:58:00\",\"2021-09-20T23:59:00\",\"2021-09-21T00:00:00\"],\"type\":\"candlestick\"}],                        {\"template\":{\"data\":{\"barpolar\":[{\"marker\":{\"line\":{\"color\":\"white\",\"width\":0.5},\"pattern\":{\"fillmode\":\"overlay\",\"size\":10,\"solidity\":0.2}},\"type\":\"barpolar\"}],\"bar\":[{\"error_x\":{\"color\":\"#2a3f5f\"},\"error_y\":{\"color\":\"#2a3f5f\"},\"marker\":{\"line\":{\"color\":\"white\",\"width\":0.5},\"pattern\":{\"fillmode\":\"overlay\",\"size\":10,\"solidity\":0.2}},\"type\":\"bar\"}],\"carpet\":[{\"aaxis\":{\"endlinecolor\":\"#2a3f5f\",\"gridcolor\":\"#C8D4E3\",\"linecolor\":\"#C8D4E3\",\"minorgridcolor\":\"#C8D4E3\",\"startlinecolor\":\"#2a3f5f\"},\"baxis\":{\"endlinecolor\":\"#2a3f5f\",\"gridcolor\":\"#C8D4E3\",\"linecolor\":\"#C8D4E3\",\"minorgridcolor\":\"#C8D4E3\",\"startlinecolor\":\"#2a3f5f\"},\"type\":\"carpet\"}],\"choropleth\":[{\"colorbar\":{\"outlinewidth\":0,\"ticks\":\"\"},\"type\":\"choropleth\"}],\"contourcarpet\":[{\"colorbar\":{\"outlinewidth\":0,\"ticks\":\"\"},\"type\":\"contourcarpet\"}],\"contour\":[{\"colorbar\":{\"outlinewidth\":0,\"ticks\":\"\"},\"colorscale\":[[0.0,\"#0d0887\"],[0.1111111111111111,\"#46039f\"],[0.2222222222222222,\"#7201a8\"],[0.3333333333333333,\"#9c179e\"],[0.4444444444444444,\"#bd3786\"],[0.5555555555555556,\"#d8576b\"],[0.6666666666666666,\"#ed7953\"],[0.7777777777777778,\"#fb9f3a\"],[0.8888888888888888,\"#fdca26\"],[1.0,\"#f0f921\"]],\"type\":\"contour\"}],\"heatmapgl\":[{\"colorbar\":{\"outlinewidth\":0,\"ticks\":\"\"},\"colorscale\":[[0.0,\"#0d0887\"],[0.1111111111111111,\"#46039f\"],[0.2222222222222222,\"#7201a8\"],[0.3333333333333333,\"#9c179e\"],[0.4444444444444444,\"#bd3786\"],[0.5555555555555556,\"#d8576b\"],[0.6666666666666666,\"#ed7953\"],[0.7777777777777778,\"#fb9f3a\"],[0.8888888888888888,\"#fdca26\"],[1.0,\"#f0f921\"]],\"type\":\"heatmapgl\"}],\"heatmap\":[{\"colorbar\":{\"outlinewidth\":0,\"ticks\":\"\"},\"colorscale\":[[0.0,\"#0d0887\"],[0.1111111111111111,\"#46039f\"],[0.2222222222222222,\"#7201a8\"],[0.3333333333333333,\"#9c179e\"],[0.4444444444444444,\"#bd3786\"],[0.5555555555555556,\"#d8576b\"],[0.6666666666666666,\"#ed7953\"],[0.7777777777777778,\"#fb9f3a\"],[0.8888888888888888,\"#fdca26\"],[1.0,\"#f0f921\"]],\"type\":\"heatmap\"}],\"histogram2dcontour\":[{\"colorbar\":{\"outlinewidth\":0,\"ticks\":\"\"},\"colorscale\":[[0.0,\"#0d0887\"],[0.1111111111111111,\"#46039f\"],[0.2222222222222222,\"#7201a8\"],[0.3333333333333333,\"#9c179e\"],[0.4444444444444444,\"#bd3786\"],[0.5555555555555556,\"#d8576b\"],[0.6666666666666666,\"#ed7953\"],[0.7777777777777778,\"#fb9f3a\"],[0.8888888888888888,\"#fdca26\"],[1.0,\"#f0f921\"]],\"type\":\"histogram2dcontour\"}],\"histogram2d\":[{\"colorbar\":{\"outlinewidth\":0,\"ticks\":\"\"},\"colorscale\":[[0.0,\"#0d0887\"],[0.1111111111111111,\"#46039f\"],[0.2222222222222222,\"#7201a8\"],[0.3333333333333333,\"#9c179e\"],[0.4444444444444444,\"#bd3786\"],[0.5555555555555556,\"#d8576b\"],[0.6666666666666666,\"#ed7953\"],[0.7777777777777778,\"#fb9f3a\"],[0.8888888888888888,\"#fdca26\"],[1.0,\"#f0f921\"]],\"type\":\"histogram2d\"}],\"histogram\":[{\"marker\":{\"pattern\":{\"fillmode\":\"overlay\",\"size\":10,\"solidity\":0.2}},\"type\":\"histogram\"}],\"mesh3d\":[{\"colorbar\":{\"outlinewidth\":0,\"ticks\":\"\"},\"type\":\"mesh3d\"}],\"parcoords\":[{\"line\":{\"colorbar\":{\"outlinewidth\":0,\"ticks\":\"\"}},\"type\":\"parcoords\"}],\"pie\":[{\"automargin\":true,\"type\":\"pie\"}],\"scatter3d\":[{\"line\":{\"colorbar\":{\"outlinewidth\":0,\"ticks\":\"\"}},\"marker\":{\"colorbar\":{\"outlinewidth\":0,\"ticks\":\"\"}},\"type\":\"scatter3d\"}],\"scattercarpet\":[{\"marker\":{\"colorbar\":{\"outlinewidth\":0,\"ticks\":\"\"}},\"type\":\"scattercarpet\"}],\"scattergeo\":[{\"marker\":{\"colorbar\":{\"outlinewidth\":0,\"ticks\":\"\"}},\"type\":\"scattergeo\"}],\"scattergl\":[{\"marker\":{\"colorbar\":{\"outlinewidth\":0,\"ticks\":\"\"}},\"type\":\"scattergl\"}],\"scattermapbox\":[{\"marker\":{\"colorbar\":{\"outlinewidth\":0,\"ticks\":\"\"}},\"type\":\"scattermapbox\"}],\"scatterpolargl\":[{\"marker\":{\"colorbar\":{\"outlinewidth\":0,\"ticks\":\"\"}},\"type\":\"scatterpolargl\"}],\"scatterpolar\":[{\"marker\":{\"colorbar\":{\"outlinewidth\":0,\"ticks\":\"\"}},\"type\":\"scatterpolar\"}],\"scatter\":[{\"marker\":{\"colorbar\":{\"outlinewidth\":0,\"ticks\":\"\"}},\"type\":\"scatter\"}],\"scatterternary\":[{\"marker\":{\"colorbar\":{\"outlinewidth\":0,\"ticks\":\"\"}},\"type\":\"scatterternary\"}],\"surface\":[{\"colorbar\":{\"outlinewidth\":0,\"ticks\":\"\"},\"colorscale\":[[0.0,\"#0d0887\"],[0.1111111111111111,\"#46039f\"],[0.2222222222222222,\"#7201a8\"],[0.3333333333333333,\"#9c179e\"],[0.4444444444444444,\"#bd3786\"],[0.5555555555555556,\"#d8576b\"],[0.6666666666666666,\"#ed7953\"],[0.7777777777777778,\"#fb9f3a\"],[0.8888888888888888,\"#fdca26\"],[1.0,\"#f0f921\"]],\"type\":\"surface\"}],\"table\":[{\"cells\":{\"fill\":{\"color\":\"#EBF0F8\"},\"line\":{\"color\":\"white\"}},\"header\":{\"fill\":{\"color\":\"#C8D4E3\"},\"line\":{\"color\":\"white\"}},\"type\":\"table\"}]},\"layout\":{\"annotationdefaults\":{\"arrowcolor\":\"#2a3f5f\",\"arrowhead\":0,\"arrowwidth\":1},\"autotypenumbers\":\"strict\",\"coloraxis\":{\"colorbar\":{\"outlinewidth\":0,\"ticks\":\"\"}},\"colorscale\":{\"diverging\":[[0,\"#8e0152\"],[0.1,\"#c51b7d\"],[0.2,\"#de77ae\"],[0.3,\"#f1b6da\"],[0.4,\"#fde0ef\"],[0.5,\"#f7f7f7\"],[0.6,\"#e6f5d0\"],[0.7,\"#b8e186\"],[0.8,\"#7fbc41\"],[0.9,\"#4d9221\"],[1,\"#276419\"]],\"sequential\":[[0.0,\"#0d0887\"],[0.1111111111111111,\"#46039f\"],[0.2222222222222222,\"#7201a8\"],[0.3333333333333333,\"#9c179e\"],[0.4444444444444444,\"#bd3786\"],[0.5555555555555556,\"#d8576b\"],[0.6666666666666666,\"#ed7953\"],[0.7777777777777778,\"#fb9f3a\"],[0.8888888888888888,\"#fdca26\"],[1.0,\"#f0f921\"]],\"sequentialminus\":[[0.0,\"#0d0887\"],[0.1111111111111111,\"#46039f\"],[0.2222222222222222,\"#7201a8\"],[0.3333333333333333,\"#9c179e\"],[0.4444444444444444,\"#bd3786\"],[0.5555555555555556,\"#d8576b\"],[0.6666666666666666,\"#ed7953\"],[0.7777777777777778,\"#fb9f3a\"],[0.8888888888888888,\"#fdca26\"],[1.0,\"#f0f921\"]]},\"colorway\":[\"#636efa\",\"#EF553B\",\"#00cc96\",\"#ab63fa\",\"#FFA15A\",\"#19d3f3\",\"#FF6692\",\"#B6E880\",\"#FF97FF\",\"#FECB52\"],\"font\":{\"color\":\"#2a3f5f\"},\"geo\":{\"bgcolor\":\"white\",\"lakecolor\":\"white\",\"landcolor\":\"white\",\"showlakes\":true,\"showland\":true,\"subunitcolor\":\"#C8D4E3\"},\"hoverlabel\":{\"align\":\"left\"},\"hovermode\":\"closest\",\"mapbox\":{\"style\":\"light\"},\"paper_bgcolor\":\"white\",\"plot_bgcolor\":\"white\",\"polar\":{\"angularaxis\":{\"gridcolor\":\"#EBF0F8\",\"linecolor\":\"#EBF0F8\",\"ticks\":\"\"},\"bgcolor\":\"white\",\"radialaxis\":{\"gridcolor\":\"#EBF0F8\",\"linecolor\":\"#EBF0F8\",\"ticks\":\"\"}},\"scene\":{\"xaxis\":{\"backgroundcolor\":\"white\",\"gridcolor\":\"#DFE8F3\",\"gridwidth\":2,\"linecolor\":\"#EBF0F8\",\"showbackground\":true,\"ticks\":\"\",\"zerolinecolor\":\"#EBF0F8\"},\"yaxis\":{\"backgroundcolor\":\"white\",\"gridcolor\":\"#DFE8F3\",\"gridwidth\":2,\"linecolor\":\"#EBF0F8\",\"showbackground\":true,\"ticks\":\"\",\"zerolinecolor\":\"#EBF0F8\"},\"zaxis\":{\"backgroundcolor\":\"white\",\"gridcolor\":\"#DFE8F3\",\"gridwidth\":2,\"linecolor\":\"#EBF0F8\",\"showbackground\":true,\"ticks\":\"\",\"zerolinecolor\":\"#EBF0F8\"}},\"shapedefaults\":{\"line\":{\"color\":\"#2a3f5f\"}},\"ternary\":{\"aaxis\":{\"gridcolor\":\"#DFE8F3\",\"linecolor\":\"#A2B1C6\",\"ticks\":\"\"},\"baxis\":{\"gridcolor\":\"#DFE8F3\",\"linecolor\":\"#A2B1C6\",\"ticks\":\"\"},\"bgcolor\":\"white\",\"caxis\":{\"gridcolor\":\"#DFE8F3\",\"linecolor\":\"#A2B1C6\",\"ticks\":\"\"}},\"title\":{\"x\":0.05},\"xaxis\":{\"automargin\":true,\"gridcolor\":\"#EBF0F8\",\"linecolor\":\"#EBF0F8\",\"ticks\":\"\",\"title\":{\"standoff\":15},\"zerolinecolor\":\"#EBF0F8\",\"zerolinewidth\":2},\"yaxis\":{\"automargin\":true,\"gridcolor\":\"#EBF0F8\",\"linecolor\":\"#EBF0F8\",\"ticks\":\"\",\"title\":{\"standoff\":15},\"zerolinecolor\":\"#EBF0F8\",\"zerolinewidth\":2}}},\"xaxis\":{\"title\":{\"text\":\"Time\"}},\"title\":{\"text\":\"Bitcoin Candelstick Chart\",\"y\":0.9,\"x\":0.5,\"xanchor\":\"center\",\"yanchor\":\"top\"},\"yaxis\":{\"title\":{\"text\":\"Price in USD\"},\"ticksuffix\":\"$\"}},                        {\"responsive\": true}                    ).then(function(){\n",
       "                            \n",
       "var gd = document.getElementById('55ea2fc1-bafc-4a4a-ae66-2dfc22542232');\n",
       "var x = new MutationObserver(function (mutations, observer) {{\n",
       "        var display = window.getComputedStyle(gd).display;\n",
       "        if (!display || display === 'none') {{\n",
       "            console.log([gd, 'removed!']);\n",
       "            Plotly.purge(gd);\n",
       "            observer.disconnect();\n",
       "        }}\n",
       "}});\n",
       "\n",
       "// Listen for the removal of the full notebook cells\n",
       "var notebookContainer = gd.closest('#notebook-container');\n",
       "if (notebookContainer) {{\n",
       "    x.observe(notebookContainer, {childList: true});\n",
       "}}\n",
       "\n",
       "// Listen for the clearing of the current output cell\n",
       "var outputEl = gd.closest('.output');\n",
       "if (outputEl) {{\n",
       "    x.observe(outputEl, {childList: true});\n",
       "}}\n",
       "\n",
       "                        })                };                });            </script>        </div>"
      ]
     },
     "metadata": {},
     "output_type": "display_data"
    }
   ],
   "source": [
    "candelstick_chart(train, 1, 'Bitcoin')"
   ]
  },
  {
   "cell_type": "code",
   "execution_count": 8,
   "id": "ac899898",
   "metadata": {
    "execution": {
     "iopub.execute_input": "2022-02-11T07:40:17.569229Z",
     "iopub.status.busy": "2022-02-11T07:40:17.568242Z",
     "iopub.status.idle": "2022-02-11T07:40:17.883671Z",
     "shell.execute_reply": "2022-02-11T07:40:17.884159Z",
     "shell.execute_reply.started": "2022-02-10T11:45:13.088933Z"
    },
    "papermill": {
     "duration": 0.352157,
     "end_time": "2022-02-11T07:40:17.884351",
     "exception": false,
     "start_time": "2022-02-11T07:40:17.532194",
     "status": "completed"
    },
    "tags": []
   },
   "outputs": [
    {
     "data": {
      "text/html": [
       "<div>                            <div id=\"42a874dd-f545-460f-90fd-d5b0828c00a9\" class=\"plotly-graph-div\" style=\"height:525px; width:100%;\"></div>            <script type=\"text/javascript\">                require([\"plotly\"], function(Plotly) {                    window.PLOTLYENV=window.PLOTLYENV || {};                                    if (document.getElementById(\"42a874dd-f545-460f-90fd-d5b0828c00a9\")) {                    Plotly.newPlot(                        \"42a874dd-f545-460f-90fd-d5b0828c00a9\",                        [{\"close\":[0.2152792,0.2152876,0.2150168,0.2148742,0.2153956,0.2144976,0.2147802,0.2144428,0.213953,0.2137813999999999,0.2134004,0.2132272,0.2131192,0.2129464,0.212671,0.212714,0.21277375,0.2127205,0.2125042,0.2125905,0.21259525,0.2125286,0.2127175,0.2124766,0.2123246,0.2120884,0.2117736,0.2115639999999999,0.2111608,0.21120375,0.2110665,0.2110832,0.21062,0.210349,0.210467,0.2103634,0.210379,0.2094644,0.2093484,0.20958125,0.208796,0.2083475,0.20875725,0.2086926,0.20896275,0.2087675,0.208934,0.2087542,0.2085342,0.20855075,0.20898,0.2091352,0.20913425,0.2092253999999999,0.2091756,0.2091586,0.2090934,0.2085603999999999,0.2080232,0.2076976,0.2073902,0.207892,0.207455,0.208096,0.20866425,0.2090346,0.208163,0.208153,0.20797,0.2083175,0.207394,0.20764925,0.20764825,0.2070893999999999,0.2085095,0.208984,0.2077202,0.2067416,0.2066032,0.206784,0.2066607999999999,0.2062812,0.2061464,0.2057238,0.20602925,0.20581125,0.2054252,0.2061988,0.207213,0.2066114999999999,0.2060904,0.2054648,0.20600825,0.2069155,0.20781425,0.2089476,0.2087508,0.2086384,0.2088364,0.2087426,0.2088719999999999,0.2087582,0.208472,0.2081587999999999,0.208195,0.2080588,0.208679,0.2095989999999999,0.2091736,0.2096614999999999,0.2093704,0.2089739999999999,0.20884125,0.20882875,0.2090348,0.208729,0.2094112,0.2104584,0.21052725,0.2105786,0.2106734,0.2106579999999999,0.2103138,0.21056975,0.2107157999999999,0.2110264,0.2121382,0.2120333999999999,0.2119672,0.2117238,0.2119492,0.211642,0.2114134,0.2113565,0.2115554,0.2110722,0.2113679999999999,0.211036,0.211111,0.21112075,0.21100225,0.2112707999999999,0.211061,0.2110868,0.2108014,0.210681,0.2105304,0.2105455,0.2103345,0.21070175,0.210679,0.2102946,0.210459,0.210175,0.21056,0.2103205,0.21038625,0.21045975,0.2103858,0.2104238,0.2107969999999999,0.21104925,0.2112635,0.2104406,0.2099636,0.209456,0.209221,0.2090168,0.20924475,0.20895,0.20918525,0.20879575,0.20906125,0.208747,0.208788,0.2084602,0.2086435,0.20895625,0.20896225,0.20880675,0.2091489999999999,0.2092405,0.20985425,0.21005625,0.2114764,0.211081,0.2106908,0.2097066,0.2101732,0.2100929999999999,0.21074225,0.21107425,0.21132925,0.211242,0.2115974,0.2114535,0.211562,0.2113118,0.21122925,0.2109894,0.21095525,0.211112,0.21165875,0.2120526,0.21189025,0.2117792,0.21200625,0.21209975,0.21194975,0.21187575,0.211612,0.21213875,0.21205625,0.21189175,0.21189325,0.211875,0.211887,0.2118699999999999,0.21186825,0.21185425,0.2118376,0.2118515,0.2118416666666666,0.2118415,0.21184325,0.21182575,0.2118255,0.21184525,0.2118914999999999,0.2122212,0.2126136,0.21258675,0.2122268,0.2121686,0.21266625,0.2133195,0.2130449999999999,0.2126016,0.2125405,0.212562,0.212112,0.2118024,0.2116038,0.21198875,0.21280075,0.21274675,0.212484,0.2133449999999999,0.2137014,0.21307725,0.2131296,0.213386,0.21366925,0.2137534999999999,0.21373325,0.21397975,0.21375375,0.2138615,0.2134574,0.2135546,0.21411525,0.2146585,0.214613,0.21438325,0.2144752,0.2139282,0.214146,0.21458875,0.2145432,0.21456525,0.2144635,0.214282,0.21410925,0.214173,0.21425925,0.2140066,0.2139218,0.21404975,0.21412775,0.21426675,0.21447,0.21459375,0.2143916,0.2142294,0.21462725,0.21439075,0.2143734,0.21414525,0.2137273999999999,0.2133,0.213123,0.2127345,0.212661,0.21191325,0.2113275999999999,0.2110929999999999,0.210906,0.2103206,0.2097036,0.2101516,0.2098373999999999,0.2100688,0.2098578,0.210006,0.2101896,0.210184,0.2108494,0.2112912,0.2108668,0.2093244,0.209237,0.2090998,0.2086652,0.2083322,0.2080596,0.2078148,0.2074926,0.207219,0.2084208,0.2075768,0.2082572,0.2078496,0.2080264,0.2077563999999999,0.20729175,0.2069432,0.207204,0.2065469999999999,0.2062955,0.20603625,0.206555,0.20671275,0.206285,0.2061989999999999,0.2058382,0.205773,0.2057369999999999,0.2066753999999999,0.2066483999999999,0.2069425,0.2072385,0.207054,0.207129,0.2064,0.2066682,0.20747725,0.20758075,0.20714875,0.2066288,0.20674575,0.2074405,0.2073739999999999,0.2069355,0.2077176,0.208161,0.2080205,0.2080594999999999,0.2082945,0.2080945,0.20809775,0.2074445999999999,0.2069202,0.2067969999999999,0.20862125,0.20829425],\"high\":[0.2155,0.2155,0.2153699999999999,0.2152,0.21573,0.2155,0.2151,0.215,0.2146,0.2141,0.2138,0.214,0.2134,0.2135,0.2131,0.2129,0.2131,0.2129,0.2128,0.2129,0.2128,0.2129,0.2129,0.2129,0.2125,0.2124,0.2122,0.2121,0.2117,0.2114,0.2112,0.211248,0.21134,0.210725,0.210909,0.2106,0.210636,0.2104,0.2096579999999999,0.209704,0.2096219999999999,0.209079,0.208976,0.208958,0.209021,0.2091530000000001,0.2090489999999999,0.20904,0.2089,0.208718,0.20904,0.2093,0.2093,0.2095699999999999,0.2096599999999999,0.2094,0.20926,0.2092,0.2087,0.2084,0.2078,0.2082,0.2082,0.2082,0.209,0.209219,0.2091,0.2087,0.2081,0.2086,0.2084,0.2079599999999999,0.208246,0.207836,0.20864,0.209089,0.209008,0.2079,0.20733,0.2073,0.2072,0.207,0.2066329999999999,0.206644,0.20623,0.206284,0.205926,0.2064099999999999,0.2074,0.2073429999999999,0.20679,0.2061,0.2063,0.2070159999999999,0.2081,0.2092099999999999,0.2095,0.209152,0.2091,0.209,0.209,0.20915,0.208813,0.2088,0.2086,0.2083,0.208709,0.2101,0.21,0.210011,0.2097,0.2096,0.2091,0.209,0.2093,0.2092,0.20954,0.21095,0.2107,0.211004,0.2109,0.2108,0.2109,0.210916,0.211004,0.2113,0.2129,0.2123,0.2127,0.212,0.2125,0.2121,0.212,0.2116,0.2117,0.211616,0.2114,0.2115,0.2113199999999999,0.2114,0.2112,0.2117,0.2113,0.2114599999999999,0.2113,0.2109,0.2108,0.2106,0.2108,0.210717,0.2111,0.2107,0.2105,0.2106,0.2109,0.2106,0.2107,0.2106,0.2106,0.2106,0.210832,0.2111,0.2115,0.2113,0.2105,0.2101,0.2097,0.2094,0.2095,0.2095,0.209211,0.2094,0.2091,0.2091,0.2091,0.2088,0.208915,0.2091,0.2091,0.209,0.2094,0.2097,0.2099,0.2102,0.2117,0.211801,0.2111,0.2107,0.2104,0.2107,0.2109,0.2111,0.2116,0.2114,0.21173,0.2118,0.2119,0.2116,0.2114,0.2113,0.2111,0.2113,0.2117,0.2122,0.2123,0.212,0.2121,0.2123,0.2122,0.2121,0.212,0.2123,0.2123,0.2122,0.212,0.212,0.212,0.212,0.212,0.212,0.212,0.212,0.212,0.212,0.212,0.212,0.2119,0.212,0.212,0.2124,0.21272,0.2127,0.2126,0.2123,0.2128,0.213348,0.2135,0.2132,0.2127,0.2127,0.2127,0.2122,0.2119,0.2121,0.2129,0.2132,0.2128,0.2134,0.2138,0.21385,0.2133,0.2135,0.2137,0.2138199999999999,0.2139,0.214074,0.214,0.214,0.2142,0.2139,0.2143,0.2148,0.2148,0.2147,0.2147,0.2149,0.2144,0.2147,0.214727,0.2147,0.2148,0.2146,0.2145,0.2144,0.2144,0.2144,0.2142,0.2143,0.2144,0.2146,0.2145,0.2149,0.2147,0.21453,0.2148,0.2148,0.2146,0.2144,0.214324,0.2139,0.2133,0.213215,0.2132,0.212716,0.2123,0.2116,0.2114,0.2112,0.210411,0.2106,0.2105,0.2102,0.2103,0.2102,0.2105,0.2103199999999999,0.2112,0.2115,0.2116,0.2109199999999999,0.2097,0.2097099999999999,0.2092,0.209,0.2084,0.20819,0.2079,0.2077,0.2089,0.2089,0.2084030000000001,0.2086,0.2083,0.2082,0.2079,0.2075,0.207278,0.2071619999999999,0.2067,0.206729,0.2068,0.2068,0.2071,0.2063,0.2067,0.2064,0.206,0.2069,0.2072,0.2075,0.2074599999999999,0.2074,0.2074369999999999,0.2075,0.2068,0.2076,0.2078,0.207806,0.2074,0.2069,0.2075,0.2076,0.2076,0.208,0.2083,0.2083,0.2083,0.2083,0.2084,0.2083,0.2082,0.20754,0.2071,0.2088,0.2088],\"low\":[0.2150699999999999,0.2152,0.2145,0.2148,0.2147929999999999,0.2142,0.2142,0.214326,0.2138,0.21366,0.2132,0.21316,0.21288,0.2127,0.2126,0.2124,0.2125,0.21254,0.2123949999999999,0.2124,0.2124,0.2123,0.2123789999999999,0.2122,0.212167,0.2118,0.2116,0.211443,0.210363,0.2108,0.2108,0.2106,0.2102,0.2102,0.2101,0.2099,0.2101,0.2093,0.209,0.2089,0.2083,0.208,0.208,0.2082,0.2084,0.2084,0.2085,0.2084,0.2083,0.2082,0.2085,0.2088,0.20892,0.209,0.2091,0.209,0.209,0.20834,0.2079,0.2074,0.207273,0.2073,0.2072,0.2073,0.208,0.2085,0.2081,0.208,0.2077,0.2079,0.2072,0.207,0.2075,0.2064,0.2069,0.2083699999999999,0.2076,0.2065,0.2063,0.2063,0.2064,0.206163,0.2059,0.2054,0.205,0.2055,0.205,0.2052,0.2061,0.20656,0.2058,0.2053,0.2054,0.2057,0.2069,0.2076,0.2085,0.2085,0.2083,0.2083,0.2082,0.208396,0.2082,0.2081,0.20809,0.2078829999999999,0.20799,0.20858,0.20868,0.2091,0.2091829999999999,0.208733,0.208636,0.208697,0.2088,0.2085,0.2085699999999999,0.2094,0.2101,0.2104,0.2102,0.2103,0.2102,0.2101,0.2101,0.2107,0.2108,0.2114,0.2118,0.2116,0.2115,0.2114,0.21129,0.2112,0.211,0.211,0.211,0.21095,0.211,0.21098,0.2109,0.2108,0.2109,0.211,0.2107,0.2105,0.21039,0.2102,0.2102,0.2102,0.2106,0.2102,0.21023,0.2101,0.2101449999999999,0.2102,0.2102,0.2103,0.210278,0.210189,0.21039,0.2106,0.211,0.210373,0.2098,0.209274,0.2091829999999999,0.2087,0.2089,0.2087,0.2086,0.2087,0.2087,0.2085,0.2086,0.2083,0.2082,0.2083219999999999,0.20859,0.20855,0.208612,0.20904,0.2092,0.209625,0.21,0.2108,0.2106,0.2096,0.20948,0.2098699999999999,0.2098,0.2103,0.2109,0.211,0.2112,0.2113139999999999,0.2113199999999999,0.2111699999999999,0.21098,0.2109,0.21075,0.2107,0.210981,0.2116,0.2118,0.211587,0.2116,0.211969,0.2118,0.2117969999999999,0.2115,0.2116,0.211984,0.2118,0.2118,0.2118,0.2118,0.21176,0.2118,0.2118,0.2117,0.2117,0.2117,0.2117,0.2117,0.2117,0.2117,0.2117,0.2117,0.2118,0.21223,0.2125,0.212194,0.212083,0.2121,0.2126,0.213,0.2125,0.2124869999999999,0.2125,0.212056,0.2116699999999999,0.2115199999999999,0.211529,0.211939,0.2126,0.212445,0.21247,0.21327,0.213,0.2129,0.2131,0.213385,0.2136,0.2136,0.2136,0.2137,0.2137,0.213353,0.213188,0.2135,0.21416,0.214078,0.2142,0.2142,0.2137,0.2138,0.2141,0.2144,0.214298,0.2144,0.21415,0.214,0.2138699999999999,0.21406,0.2139,0.2135099999999999,0.2139,0.214,0.214,0.2141,0.2144,0.2143,0.21419,0.2141,0.21427,0.2142,0.2141,0.2136,0.2132,0.2129,0.2126,0.2126,0.2118,0.2111,0.211,0.2108,0.2101,0.2094,0.2096179999999999,0.20934,0.2092,0.2091,0.209396,0.20994,0.2098,0.2101199999999999,0.210479,0.2106,0.209194,0.209,0.209,0.2085,0.2081,0.207997,0.2076,0.2072,0.2071,0.20711,0.207474,0.2069,0.2076,0.2074,0.207535,0.207092,0.2064,0.206375,0.2061,0.2061,0.2058,0.205988,0.2058969999999999,0.2061,0.2058969999999999,0.2057,0.2057,0.205565,0.20563,0.2065,0.206576,0.2068,0.20692,0.207,0.2062,0.2061889999999999,0.2066,0.20715,0.207069,0.206544,0.2065,0.2066,0.2072099999999999,0.206892,0.20689,0.20773,0.2079,0.2079,0.208,0.208,0.208,0.207294,0.2068,0.2066,0.206784,0.2082],\"open\":[0.2154042,0.2153138,0.2152456,0.2150346,0.2150326,0.2152338,0.2145884,0.2147233999999999,0.2144425999999999,0.2139384,0.2137212,0.2133235999999999,0.213273,0.2131022,0.21297525,0.212676,0.21276725,0.21275975,0.2126966,0.21249225,0.21258025,0.2126078,0.212509,0.2126726,0.212449,0.2122832,0.212034,0.2117762,0.2115188,0.21111575,0.21117775,0.2110438,0.2111643999999999,0.210663,0.21028125,0.2105024,0.2103335,0.2102536,0.20946,0.2093755,0.2095724,0.20893375,0.208352,0.2087754,0.20881725,0.20894275,0.2087777999999999,0.208932,0.2087596,0.2085784999999999,0.20856425,0.2090547999999999,0.20911075,0.2092078,0.2092464,0.2091296,0.2091934,0.2090584,0.2085208,0.2079776,0.207634,0.2074045,0.207967,0.207433,0.2080925,0.2087662,0.2088754,0.2082096,0.2080282,0.207978,0.2082896,0.20733175,0.207677,0.2074786,0.2071675,0.20853475,0.2088316,0.2076764,0.2068346,0.206517,0.2067412,0.2066472,0.2063314,0.2060724,0.20572,0.20591225,0.2057616,0.2056587999999999,0.2062364,0.2071685,0.2066302,0.2059232,0.2054575,0.206015,0.207033,0.2079576,0.2088558,0.2087357999999999,0.208643,0.2087574,0.2087186,0.2088607999999999,0.2087146,0.2085244,0.208166,0.2081619999999999,0.2080475,0.2087634,0.2093552,0.209209,0.209543,0.2093492,0.2089489999999999,0.20886225,0.2088828,0.208987,0.208819,0.2096358,0.2104125,0.2105212,0.210529,0.21073175,0.2106758,0.21036525,0.2105576,0.2109107999999999,0.2110064,0.2119992,0.2122503999999999,0.2118938,0.2117196,0.2119087999999999,0.211606,0.21139975,0.2113158,0.211481,0.211069,0.21132725,0.21103975,0.21118525,0.21109475,0.2109824,0.2112376,0.211047,0.21109,0.2108087999999999,0.2106702,0.21047425,0.2105695,0.210348,0.21074,0.2105298,0.21038875,0.2104582,0.210206,0.2105295,0.21031675,0.21040225,0.2104724,0.2104072,0.21042525,0.2107735,0.21107425,0.2111966,0.2104344,0.20996825,0.2095054999999999,0.2091866,0.208939,0.20922375,0.2089935,0.20925125,0.208831,0.2090465,0.208731,0.2087364,0.20840025,0.20867125,0.20896625,0.208907,0.20881975,0.209159,0.209275,0.2098085,0.210103,0.2115578,0.2110554,0.2104334,0.209724,0.210292,0.2101225,0.21072,0.21099175,0.21134225,0.2113489999999999,0.2115165,0.2114105,0.2115516,0.21115225,0.2112132,0.2109975,0.2109505,0.21107275,0.2117706,0.21217375,0.2118547999999999,0.2117275,0.212021,0.2120155,0.21194,0.2118636,0.21167625,0.2121335,0.21202925,0.211881,0.21190175,0.21187225,0.21185775,0.21188525,0.21183925,0.2118534,0.21179675,0.211842,0.21183925,0.21184225,0.2118255,0.2118429999999999,0.2118205,0.211848,0.2119356,0.2123933999999999,0.2126155,0.2125314,0.2122534,0.21217225,0.21270025,0.2133475,0.2130369999999999,0.2125605,0.21259025,0.21254525,0.2120548,0.2117774,0.21159225,0.21202975,0.21281,0.21277375,0.2125395,0.2133806,0.213722,0.2130452,0.21314675,0.213454,0.21367425,0.2137845,0.2137485,0.21397125,0.213788,0.2138342,0.2134078,0.213621,0.214211,0.21465375,0.21455025,0.2144602,0.2145724,0.2139674,0.214193,0.2146016,0.21443175,0.21460775,0.2144314,0.214188,0.21409425,0.2141745,0.2142702,0.2139584,0.213997,0.214108,0.21417075,0.21427025,0.21455,0.214547,0.2143948,0.2141765,0.21462475,0.2143962,0.2143304999999999,0.2141262,0.213758,0.2131988,0.2131554999999999,0.2127755,0.21260575,0.2119364,0.21118625,0.2111218,0.2109667999999999,0.2101342,0.209823,0.2101644,0.2098746,0.2100312,0.2098428,0.2100906,0.2102197999999999,0.2102582,0.2108284,0.2111858,0.2107632,0.2092594,0.2091927999999999,0.2090266,0.208663,0.2082686,0.2081012,0.2077518,0.2075154,0.2072934,0.2084062,0.2075654,0.208279,0.2077656,0.2080602,0.20758825,0.2072652,0.206917,0.2071105,0.20648,0.206273,0.2061324999999999,0.206495,0.206703,0.20622675,0.2061397999999999,0.2058065,0.2058114999999999,0.2058016,0.2067944,0.206629,0.2069795,0.207251,0.2070864999999999,0.2070428,0.2064127999999999,0.2066785,0.20744125,0.20762975,0.2071276,0.2066435,0.206728,0.20745875,0.207383,0.2069528,0.2078645,0.20815725,0.20803175,0.20810675,0.2082995,0.2081125,0.2080717999999999,0.2074606,0.20689225,0.206821,0.2086225],\"x\":[\"2021-09-20T17:56:00\",\"2021-09-20T17:57:00\",\"2021-09-20T17:58:00\",\"2021-09-20T17:59:00\",\"2021-09-20T18:00:00\",\"2021-09-20T18:01:00\",\"2021-09-20T18:02:00\",\"2021-09-20T18:03:00\",\"2021-09-20T18:04:00\",\"2021-09-20T18:05:00\",\"2021-09-20T18:06:00\",\"2021-09-20T18:07:00\",\"2021-09-20T18:08:00\",\"2021-09-20T18:09:00\",\"2021-09-20T18:10:00\",\"2021-09-20T18:11:00\",\"2021-09-20T18:12:00\",\"2021-09-20T18:13:00\",\"2021-09-20T18:14:00\",\"2021-09-20T18:15:00\",\"2021-09-20T18:16:00\",\"2021-09-20T18:17:00\",\"2021-09-20T18:18:00\",\"2021-09-20T18:19:00\",\"2021-09-20T18:20:00\",\"2021-09-20T18:21:00\",\"2021-09-20T18:22:00\",\"2021-09-20T18:23:00\",\"2021-09-20T18:24:00\",\"2021-09-20T18:25:00\",\"2021-09-20T18:26:00\",\"2021-09-20T18:27:00\",\"2021-09-20T18:28:00\",\"2021-09-20T18:29:00\",\"2021-09-20T18:30:00\",\"2021-09-20T18:31:00\",\"2021-09-20T18:32:00\",\"2021-09-20T18:33:00\",\"2021-09-20T18:34:00\",\"2021-09-20T18:35:00\",\"2021-09-20T18:36:00\",\"2021-09-20T18:37:00\",\"2021-09-20T18:38:00\",\"2021-09-20T18:39:00\",\"2021-09-20T18:40:00\",\"2021-09-20T18:41:00\",\"2021-09-20T18:42:00\",\"2021-09-20T18:43:00\",\"2021-09-20T18:44:00\",\"2021-09-20T18:45:00\",\"2021-09-20T18:46:00\",\"2021-09-20T18:47:00\",\"2021-09-20T18:48:00\",\"2021-09-20T18:49:00\",\"2021-09-20T18:50:00\",\"2021-09-20T18:51:00\",\"2021-09-20T18:52:00\",\"2021-09-20T18:53:00\",\"2021-09-20T18:54:00\",\"2021-09-20T18:55:00\",\"2021-09-20T18:56:00\",\"2021-09-20T18:57:00\",\"2021-09-20T18:58:00\",\"2021-09-20T18:59:00\",\"2021-09-20T19:00:00\",\"2021-09-20T19:01:00\",\"2021-09-20T19:02:00\",\"2021-09-20T19:03:00\",\"2021-09-20T19:04:00\",\"2021-09-20T19:05:00\",\"2021-09-20T19:06:00\",\"2021-09-20T19:07:00\",\"2021-09-20T19:08:00\",\"2021-09-20T19:09:00\",\"2021-09-20T19:10:00\",\"2021-09-20T19:11:00\",\"2021-09-20T19:12:00\",\"2021-09-20T19:13:00\",\"2021-09-20T19:14:00\",\"2021-09-20T19:15:00\",\"2021-09-20T19:16:00\",\"2021-09-20T19:17:00\",\"2021-09-20T19:18:00\",\"2021-09-20T19:19:00\",\"2021-09-20T19:20:00\",\"2021-09-20T19:21:00\",\"2021-09-20T19:22:00\",\"2021-09-20T19:23:00\",\"2021-09-20T19:24:00\",\"2021-09-20T19:25:00\",\"2021-09-20T19:26:00\",\"2021-09-20T19:27:00\",\"2021-09-20T19:28:00\",\"2021-09-20T19:29:00\",\"2021-09-20T19:30:00\",\"2021-09-20T19:31:00\",\"2021-09-20T19:32:00\",\"2021-09-20T19:33:00\",\"2021-09-20T19:34:00\",\"2021-09-20T19:35:00\",\"2021-09-20T19:36:00\",\"2021-09-20T19:37:00\",\"2021-09-20T19:38:00\",\"2021-09-20T19:39:00\",\"2021-09-20T19:40:00\",\"2021-09-20T19:41:00\",\"2021-09-20T19:42:00\",\"2021-09-20T19:43:00\",\"2021-09-20T19:44:00\",\"2021-09-20T19:45:00\",\"2021-09-20T19:46:00\",\"2021-09-20T19:47:00\",\"2021-09-20T19:48:00\",\"2021-09-20T19:49:00\",\"2021-09-20T19:50:00\",\"2021-09-20T19:51:00\",\"2021-09-20T19:52:00\",\"2021-09-20T19:53:00\",\"2021-09-20T19:54:00\",\"2021-09-20T19:55:00\",\"2021-09-20T19:56:00\",\"2021-09-20T19:57:00\",\"2021-09-20T19:58:00\",\"2021-09-20T19:59:00\",\"2021-09-20T20:00:00\",\"2021-09-20T20:01:00\",\"2021-09-20T20:02:00\",\"2021-09-20T20:03:00\",\"2021-09-20T20:04:00\",\"2021-09-20T20:05:00\",\"2021-09-20T20:06:00\",\"2021-09-20T20:07:00\",\"2021-09-20T20:08:00\",\"2021-09-20T20:09:00\",\"2021-09-20T20:10:00\",\"2021-09-20T20:11:00\",\"2021-09-20T20:12:00\",\"2021-09-20T20:13:00\",\"2021-09-20T20:14:00\",\"2021-09-20T20:15:00\",\"2021-09-20T20:16:00\",\"2021-09-20T20:17:00\",\"2021-09-20T20:18:00\",\"2021-09-20T20:19:00\",\"2021-09-20T20:20:00\",\"2021-09-20T20:21:00\",\"2021-09-20T20:22:00\",\"2021-09-20T20:23:00\",\"2021-09-20T20:24:00\",\"2021-09-20T20:25:00\",\"2021-09-20T20:26:00\",\"2021-09-20T20:27:00\",\"2021-09-20T20:28:00\",\"2021-09-20T20:29:00\",\"2021-09-20T20:30:00\",\"2021-09-20T20:31:00\",\"2021-09-20T20:32:00\",\"2021-09-20T20:33:00\",\"2021-09-20T20:34:00\",\"2021-09-20T20:35:00\",\"2021-09-20T20:36:00\",\"2021-09-20T20:37:00\",\"2021-09-20T20:38:00\",\"2021-09-20T20:39:00\",\"2021-09-20T20:40:00\",\"2021-09-20T20:41:00\",\"2021-09-20T20:42:00\",\"2021-09-20T20:43:00\",\"2021-09-20T20:44:00\",\"2021-09-20T20:45:00\",\"2021-09-20T20:46:00\",\"2021-09-20T20:47:00\",\"2021-09-20T20:48:00\",\"2021-09-20T20:49:00\",\"2021-09-20T20:50:00\",\"2021-09-20T20:51:00\",\"2021-09-20T20:52:00\",\"2021-09-20T20:53:00\",\"2021-09-20T20:54:00\",\"2021-09-20T20:55:00\",\"2021-09-20T20:56:00\",\"2021-09-20T20:57:00\",\"2021-09-20T20:58:00\",\"2021-09-20T20:59:00\",\"2021-09-20T21:00:00\",\"2021-09-20T21:01:00\",\"2021-09-20T21:02:00\",\"2021-09-20T21:03:00\",\"2021-09-20T21:04:00\",\"2021-09-20T21:05:00\",\"2021-09-20T21:06:00\",\"2021-09-20T21:07:00\",\"2021-09-20T21:08:00\",\"2021-09-20T21:09:00\",\"2021-09-20T21:10:00\",\"2021-09-20T21:11:00\",\"2021-09-20T21:12:00\",\"2021-09-20T21:13:00\",\"2021-09-20T21:14:00\",\"2021-09-20T21:15:00\",\"2021-09-20T21:16:00\",\"2021-09-20T21:17:00\",\"2021-09-20T21:18:00\",\"2021-09-20T21:19:00\",\"2021-09-20T21:20:00\",\"2021-09-20T21:21:00\",\"2021-09-20T21:22:00\",\"2021-09-20T21:23:00\",\"2021-09-20T21:24:00\",\"2021-09-20T21:25:00\",\"2021-09-20T21:26:00\",\"2021-09-20T21:27:00\",\"2021-09-20T21:28:00\",\"2021-09-20T21:29:00\",\"2021-09-20T21:30:00\",\"2021-09-20T21:31:00\",\"2021-09-20T21:32:00\",\"2021-09-20T21:33:00\",\"2021-09-20T21:34:00\",\"2021-09-20T21:35:00\",\"2021-09-20T21:36:00\",\"2021-09-20T21:37:00\",\"2021-09-20T21:38:00\",\"2021-09-20T21:39:00\",\"2021-09-20T21:40:00\",\"2021-09-20T21:41:00\",\"2021-09-20T21:42:00\",\"2021-09-20T21:43:00\",\"2021-09-20T21:44:00\",\"2021-09-20T21:45:00\",\"2021-09-20T21:46:00\",\"2021-09-20T21:47:00\",\"2021-09-20T21:48:00\",\"2021-09-20T21:49:00\",\"2021-09-20T21:50:00\",\"2021-09-20T21:51:00\",\"2021-09-20T21:52:00\",\"2021-09-20T21:53:00\",\"2021-09-20T21:54:00\",\"2021-09-20T21:55:00\",\"2021-09-20T21:56:00\",\"2021-09-20T21:57:00\",\"2021-09-20T21:58:00\",\"2021-09-20T21:59:00\",\"2021-09-20T22:00:00\",\"2021-09-20T22:01:00\",\"2021-09-20T22:02:00\",\"2021-09-20T22:03:00\",\"2021-09-20T22:04:00\",\"2021-09-20T22:05:00\",\"2021-09-20T22:06:00\",\"2021-09-20T22:07:00\",\"2021-09-20T22:08:00\",\"2021-09-20T22:09:00\",\"2021-09-20T22:10:00\",\"2021-09-20T22:11:00\",\"2021-09-20T22:12:00\",\"2021-09-20T22:13:00\",\"2021-09-20T22:14:00\",\"2021-09-20T22:15:00\",\"2021-09-20T22:16:00\",\"2021-09-20T22:17:00\",\"2021-09-20T22:18:00\",\"2021-09-20T22:19:00\",\"2021-09-20T22:20:00\",\"2021-09-20T22:21:00\",\"2021-09-20T22:22:00\",\"2021-09-20T22:23:00\",\"2021-09-20T22:24:00\",\"2021-09-20T22:25:00\",\"2021-09-20T22:26:00\",\"2021-09-20T22:27:00\",\"2021-09-20T22:28:00\",\"2021-09-20T22:29:00\",\"2021-09-20T22:30:00\",\"2021-09-20T22:31:00\",\"2021-09-20T22:32:00\",\"2021-09-20T22:33:00\",\"2021-09-20T22:34:00\",\"2021-09-20T22:35:00\",\"2021-09-20T22:36:00\",\"2021-09-20T22:37:00\",\"2021-09-20T22:38:00\",\"2021-09-20T22:39:00\",\"2021-09-20T22:40:00\",\"2021-09-20T22:41:00\",\"2021-09-20T22:42:00\",\"2021-09-20T22:43:00\",\"2021-09-20T22:44:00\",\"2021-09-20T22:45:00\",\"2021-09-20T22:46:00\",\"2021-09-20T22:47:00\",\"2021-09-20T22:48:00\",\"2021-09-20T22:49:00\",\"2021-09-20T22:50:00\",\"2021-09-20T22:51:00\",\"2021-09-20T22:52:00\",\"2021-09-20T22:53:00\",\"2021-09-20T22:54:00\",\"2021-09-20T22:55:00\",\"2021-09-20T22:56:00\",\"2021-09-20T22:57:00\",\"2021-09-20T22:58:00\",\"2021-09-20T22:59:00\",\"2021-09-20T23:00:00\",\"2021-09-20T23:01:00\",\"2021-09-20T23:02:00\",\"2021-09-20T23:03:00\",\"2021-09-20T23:04:00\",\"2021-09-20T23:05:00\",\"2021-09-20T23:06:00\",\"2021-09-20T23:07:00\",\"2021-09-20T23:08:00\",\"2021-09-20T23:09:00\",\"2021-09-20T23:10:00\",\"2021-09-20T23:11:00\",\"2021-09-20T23:12:00\",\"2021-09-20T23:13:00\",\"2021-09-20T23:14:00\",\"2021-09-20T23:15:00\",\"2021-09-20T23:16:00\",\"2021-09-20T23:17:00\",\"2021-09-20T23:18:00\",\"2021-09-20T23:19:00\",\"2021-09-20T23:20:00\",\"2021-09-20T23:21:00\",\"2021-09-20T23:22:00\",\"2021-09-20T23:23:00\",\"2021-09-20T23:24:00\",\"2021-09-20T23:25:00\",\"2021-09-20T23:26:00\",\"2021-09-20T23:27:00\",\"2021-09-20T23:28:00\",\"2021-09-20T23:29:00\",\"2021-09-20T23:30:00\",\"2021-09-20T23:31:00\",\"2021-09-20T23:32:00\",\"2021-09-20T23:33:00\",\"2021-09-20T23:34:00\",\"2021-09-20T23:35:00\",\"2021-09-20T23:36:00\",\"2021-09-20T23:37:00\",\"2021-09-20T23:38:00\",\"2021-09-20T23:39:00\",\"2021-09-20T23:40:00\",\"2021-09-20T23:41:00\",\"2021-09-20T23:42:00\",\"2021-09-20T23:43:00\",\"2021-09-20T23:44:00\",\"2021-09-20T23:45:00\",\"2021-09-20T23:46:00\",\"2021-09-20T23:47:00\",\"2021-09-20T23:48:00\",\"2021-09-20T23:49:00\",\"2021-09-20T23:50:00\",\"2021-09-20T23:51:00\",\"2021-09-20T23:52:00\",\"2021-09-20T23:53:00\",\"2021-09-20T23:54:00\",\"2021-09-20T23:55:00\",\"2021-09-20T23:56:00\",\"2021-09-20T23:57:00\",\"2021-09-20T23:58:00\",\"2021-09-20T23:59:00\",\"2021-09-21T00:00:00\"],\"type\":\"candlestick\"}],                        {\"template\":{\"data\":{\"barpolar\":[{\"marker\":{\"line\":{\"color\":\"white\",\"width\":0.5},\"pattern\":{\"fillmode\":\"overlay\",\"size\":10,\"solidity\":0.2}},\"type\":\"barpolar\"}],\"bar\":[{\"error_x\":{\"color\":\"#2a3f5f\"},\"error_y\":{\"color\":\"#2a3f5f\"},\"marker\":{\"line\":{\"color\":\"white\",\"width\":0.5},\"pattern\":{\"fillmode\":\"overlay\",\"size\":10,\"solidity\":0.2}},\"type\":\"bar\"}],\"carpet\":[{\"aaxis\":{\"endlinecolor\":\"#2a3f5f\",\"gridcolor\":\"#C8D4E3\",\"linecolor\":\"#C8D4E3\",\"minorgridcolor\":\"#C8D4E3\",\"startlinecolor\":\"#2a3f5f\"},\"baxis\":{\"endlinecolor\":\"#2a3f5f\",\"gridcolor\":\"#C8D4E3\",\"linecolor\":\"#C8D4E3\",\"minorgridcolor\":\"#C8D4E3\",\"startlinecolor\":\"#2a3f5f\"},\"type\":\"carpet\"}],\"choropleth\":[{\"colorbar\":{\"outlinewidth\":0,\"ticks\":\"\"},\"type\":\"choropleth\"}],\"contourcarpet\":[{\"colorbar\":{\"outlinewidth\":0,\"ticks\":\"\"},\"type\":\"contourcarpet\"}],\"contour\":[{\"colorbar\":{\"outlinewidth\":0,\"ticks\":\"\"},\"colorscale\":[[0.0,\"#0d0887\"],[0.1111111111111111,\"#46039f\"],[0.2222222222222222,\"#7201a8\"],[0.3333333333333333,\"#9c179e\"],[0.4444444444444444,\"#bd3786\"],[0.5555555555555556,\"#d8576b\"],[0.6666666666666666,\"#ed7953\"],[0.7777777777777778,\"#fb9f3a\"],[0.8888888888888888,\"#fdca26\"],[1.0,\"#f0f921\"]],\"type\":\"contour\"}],\"heatmapgl\":[{\"colorbar\":{\"outlinewidth\":0,\"ticks\":\"\"},\"colorscale\":[[0.0,\"#0d0887\"],[0.1111111111111111,\"#46039f\"],[0.2222222222222222,\"#7201a8\"],[0.3333333333333333,\"#9c179e\"],[0.4444444444444444,\"#bd3786\"],[0.5555555555555556,\"#d8576b\"],[0.6666666666666666,\"#ed7953\"],[0.7777777777777778,\"#fb9f3a\"],[0.8888888888888888,\"#fdca26\"],[1.0,\"#f0f921\"]],\"type\":\"heatmapgl\"}],\"heatmap\":[{\"colorbar\":{\"outlinewidth\":0,\"ticks\":\"\"},\"colorscale\":[[0.0,\"#0d0887\"],[0.1111111111111111,\"#46039f\"],[0.2222222222222222,\"#7201a8\"],[0.3333333333333333,\"#9c179e\"],[0.4444444444444444,\"#bd3786\"],[0.5555555555555556,\"#d8576b\"],[0.6666666666666666,\"#ed7953\"],[0.7777777777777778,\"#fb9f3a\"],[0.8888888888888888,\"#fdca26\"],[1.0,\"#f0f921\"]],\"type\":\"heatmap\"}],\"histogram2dcontour\":[{\"colorbar\":{\"outlinewidth\":0,\"ticks\":\"\"},\"colorscale\":[[0.0,\"#0d0887\"],[0.1111111111111111,\"#46039f\"],[0.2222222222222222,\"#7201a8\"],[0.3333333333333333,\"#9c179e\"],[0.4444444444444444,\"#bd3786\"],[0.5555555555555556,\"#d8576b\"],[0.6666666666666666,\"#ed7953\"],[0.7777777777777778,\"#fb9f3a\"],[0.8888888888888888,\"#fdca26\"],[1.0,\"#f0f921\"]],\"type\":\"histogram2dcontour\"}],\"histogram2d\":[{\"colorbar\":{\"outlinewidth\":0,\"ticks\":\"\"},\"colorscale\":[[0.0,\"#0d0887\"],[0.1111111111111111,\"#46039f\"],[0.2222222222222222,\"#7201a8\"],[0.3333333333333333,\"#9c179e\"],[0.4444444444444444,\"#bd3786\"],[0.5555555555555556,\"#d8576b\"],[0.6666666666666666,\"#ed7953\"],[0.7777777777777778,\"#fb9f3a\"],[0.8888888888888888,\"#fdca26\"],[1.0,\"#f0f921\"]],\"type\":\"histogram2d\"}],\"histogram\":[{\"marker\":{\"pattern\":{\"fillmode\":\"overlay\",\"size\":10,\"solidity\":0.2}},\"type\":\"histogram\"}],\"mesh3d\":[{\"colorbar\":{\"outlinewidth\":0,\"ticks\":\"\"},\"type\":\"mesh3d\"}],\"parcoords\":[{\"line\":{\"colorbar\":{\"outlinewidth\":0,\"ticks\":\"\"}},\"type\":\"parcoords\"}],\"pie\":[{\"automargin\":true,\"type\":\"pie\"}],\"scatter3d\":[{\"line\":{\"colorbar\":{\"outlinewidth\":0,\"ticks\":\"\"}},\"marker\":{\"colorbar\":{\"outlinewidth\":0,\"ticks\":\"\"}},\"type\":\"scatter3d\"}],\"scattercarpet\":[{\"marker\":{\"colorbar\":{\"outlinewidth\":0,\"ticks\":\"\"}},\"type\":\"scattercarpet\"}],\"scattergeo\":[{\"marker\":{\"colorbar\":{\"outlinewidth\":0,\"ticks\":\"\"}},\"type\":\"scattergeo\"}],\"scattergl\":[{\"marker\":{\"colorbar\":{\"outlinewidth\":0,\"ticks\":\"\"}},\"type\":\"scattergl\"}],\"scattermapbox\":[{\"marker\":{\"colorbar\":{\"outlinewidth\":0,\"ticks\":\"\"}},\"type\":\"scattermapbox\"}],\"scatterpolargl\":[{\"marker\":{\"colorbar\":{\"outlinewidth\":0,\"ticks\":\"\"}},\"type\":\"scatterpolargl\"}],\"scatterpolar\":[{\"marker\":{\"colorbar\":{\"outlinewidth\":0,\"ticks\":\"\"}},\"type\":\"scatterpolar\"}],\"scatter\":[{\"marker\":{\"colorbar\":{\"outlinewidth\":0,\"ticks\":\"\"}},\"type\":\"scatter\"}],\"scatterternary\":[{\"marker\":{\"colorbar\":{\"outlinewidth\":0,\"ticks\":\"\"}},\"type\":\"scatterternary\"}],\"surface\":[{\"colorbar\":{\"outlinewidth\":0,\"ticks\":\"\"},\"colorscale\":[[0.0,\"#0d0887\"],[0.1111111111111111,\"#46039f\"],[0.2222222222222222,\"#7201a8\"],[0.3333333333333333,\"#9c179e\"],[0.4444444444444444,\"#bd3786\"],[0.5555555555555556,\"#d8576b\"],[0.6666666666666666,\"#ed7953\"],[0.7777777777777778,\"#fb9f3a\"],[0.8888888888888888,\"#fdca26\"],[1.0,\"#f0f921\"]],\"type\":\"surface\"}],\"table\":[{\"cells\":{\"fill\":{\"color\":\"#EBF0F8\"},\"line\":{\"color\":\"white\"}},\"header\":{\"fill\":{\"color\":\"#C8D4E3\"},\"line\":{\"color\":\"white\"}},\"type\":\"table\"}]},\"layout\":{\"annotationdefaults\":{\"arrowcolor\":\"#2a3f5f\",\"arrowhead\":0,\"arrowwidth\":1},\"autotypenumbers\":\"strict\",\"coloraxis\":{\"colorbar\":{\"outlinewidth\":0,\"ticks\":\"\"}},\"colorscale\":{\"diverging\":[[0,\"#8e0152\"],[0.1,\"#c51b7d\"],[0.2,\"#de77ae\"],[0.3,\"#f1b6da\"],[0.4,\"#fde0ef\"],[0.5,\"#f7f7f7\"],[0.6,\"#e6f5d0\"],[0.7,\"#b8e186\"],[0.8,\"#7fbc41\"],[0.9,\"#4d9221\"],[1,\"#276419\"]],\"sequential\":[[0.0,\"#0d0887\"],[0.1111111111111111,\"#46039f\"],[0.2222222222222222,\"#7201a8\"],[0.3333333333333333,\"#9c179e\"],[0.4444444444444444,\"#bd3786\"],[0.5555555555555556,\"#d8576b\"],[0.6666666666666666,\"#ed7953\"],[0.7777777777777778,\"#fb9f3a\"],[0.8888888888888888,\"#fdca26\"],[1.0,\"#f0f921\"]],\"sequentialminus\":[[0.0,\"#0d0887\"],[0.1111111111111111,\"#46039f\"],[0.2222222222222222,\"#7201a8\"],[0.3333333333333333,\"#9c179e\"],[0.4444444444444444,\"#bd3786\"],[0.5555555555555556,\"#d8576b\"],[0.6666666666666666,\"#ed7953\"],[0.7777777777777778,\"#fb9f3a\"],[0.8888888888888888,\"#fdca26\"],[1.0,\"#f0f921\"]]},\"colorway\":[\"#636efa\",\"#EF553B\",\"#00cc96\",\"#ab63fa\",\"#FFA15A\",\"#19d3f3\",\"#FF6692\",\"#B6E880\",\"#FF97FF\",\"#FECB52\"],\"font\":{\"color\":\"#2a3f5f\"},\"geo\":{\"bgcolor\":\"white\",\"lakecolor\":\"white\",\"landcolor\":\"white\",\"showlakes\":true,\"showland\":true,\"subunitcolor\":\"#C8D4E3\"},\"hoverlabel\":{\"align\":\"left\"},\"hovermode\":\"closest\",\"mapbox\":{\"style\":\"light\"},\"paper_bgcolor\":\"white\",\"plot_bgcolor\":\"white\",\"polar\":{\"angularaxis\":{\"gridcolor\":\"#EBF0F8\",\"linecolor\":\"#EBF0F8\",\"ticks\":\"\"},\"bgcolor\":\"white\",\"radialaxis\":{\"gridcolor\":\"#EBF0F8\",\"linecolor\":\"#EBF0F8\",\"ticks\":\"\"}},\"scene\":{\"xaxis\":{\"backgroundcolor\":\"white\",\"gridcolor\":\"#DFE8F3\",\"gridwidth\":2,\"linecolor\":\"#EBF0F8\",\"showbackground\":true,\"ticks\":\"\",\"zerolinecolor\":\"#EBF0F8\"},\"yaxis\":{\"backgroundcolor\":\"white\",\"gridcolor\":\"#DFE8F3\",\"gridwidth\":2,\"linecolor\":\"#EBF0F8\",\"showbackground\":true,\"ticks\":\"\",\"zerolinecolor\":\"#EBF0F8\"},\"zaxis\":{\"backgroundcolor\":\"white\",\"gridcolor\":\"#DFE8F3\",\"gridwidth\":2,\"linecolor\":\"#EBF0F8\",\"showbackground\":true,\"ticks\":\"\",\"zerolinecolor\":\"#EBF0F8\"}},\"shapedefaults\":{\"line\":{\"color\":\"#2a3f5f\"}},\"ternary\":{\"aaxis\":{\"gridcolor\":\"#DFE8F3\",\"linecolor\":\"#A2B1C6\",\"ticks\":\"\"},\"baxis\":{\"gridcolor\":\"#DFE8F3\",\"linecolor\":\"#A2B1C6\",\"ticks\":\"\"},\"bgcolor\":\"white\",\"caxis\":{\"gridcolor\":\"#DFE8F3\",\"linecolor\":\"#A2B1C6\",\"ticks\":\"\"}},\"title\":{\"x\":0.05},\"xaxis\":{\"automargin\":true,\"gridcolor\":\"#EBF0F8\",\"linecolor\":\"#EBF0F8\",\"ticks\":\"\",\"title\":{\"standoff\":15},\"zerolinecolor\":\"#EBF0F8\",\"zerolinewidth\":2},\"yaxis\":{\"automargin\":true,\"gridcolor\":\"#EBF0F8\",\"linecolor\":\"#EBF0F8\",\"ticks\":\"\",\"title\":{\"standoff\":15},\"zerolinecolor\":\"#EBF0F8\",\"zerolinewidth\":2}}},\"xaxis\":{\"title\":{\"text\":\"Time\"}},\"title\":{\"text\":\"Dodgecoin Candelstick Chart\",\"y\":0.9,\"x\":0.5,\"xanchor\":\"center\",\"yanchor\":\"top\"},\"yaxis\":{\"title\":{\"text\":\"Price in USD\"},\"ticksuffix\":\"$\"}},                        {\"responsive\": true}                    ).then(function(){\n",
       "                            \n",
       "var gd = document.getElementById('42a874dd-f545-460f-90fd-d5b0828c00a9');\n",
       "var x = new MutationObserver(function (mutations, observer) {{\n",
       "        var display = window.getComputedStyle(gd).display;\n",
       "        if (!display || display === 'none') {{\n",
       "            console.log([gd, 'removed!']);\n",
       "            Plotly.purge(gd);\n",
       "            observer.disconnect();\n",
       "        }}\n",
       "}});\n",
       "\n",
       "// Listen for the removal of the full notebook cells\n",
       "var notebookContainer = gd.closest('#notebook-container');\n",
       "if (notebookContainer) {{\n",
       "    x.observe(notebookContainer, {childList: true});\n",
       "}}\n",
       "\n",
       "// Listen for the clearing of the current output cell\n",
       "var outputEl = gd.closest('.output');\n",
       "if (outputEl) {{\n",
       "    x.observe(outputEl, {childList: true});\n",
       "}}\n",
       "\n",
       "                        })                };                });            </script>        </div>"
      ]
     },
     "metadata": {},
     "output_type": "display_data"
    }
   ],
   "source": [
    "candelstick_chart(train, 4, 'Dodgecoin')"
   ]
  },
  {
   "cell_type": "code",
   "execution_count": 9,
   "id": "5f1297e5",
   "metadata": {
    "execution": {
     "iopub.execute_input": "2022-02-11T07:40:17.967094Z",
     "iopub.status.busy": "2022-02-11T07:40:17.966096Z",
     "iopub.status.idle": "2022-02-11T07:40:18.413762Z",
     "shell.execute_reply": "2022-02-11T07:40:18.414203Z",
     "shell.execute_reply.started": "2022-02-10T11:45:13.442754Z"
    },
    "papermill": {
     "duration": 0.491393,
     "end_time": "2022-02-11T07:40:18.414352",
     "exception": false,
     "start_time": "2022-02-11T07:40:17.922959",
     "status": "completed"
    },
    "tags": []
   },
   "outputs": [
    {
     "data": {
      "text/html": [
       "<div>                            <div id=\"d4ab93b0-4a37-483b-9047-508e6340c635\" class=\"plotly-graph-div\" style=\"height:525px; width:100%;\"></div>            <script type=\"text/javascript\">                require([\"plotly\"], function(Plotly) {                    window.PLOTLYENV=window.PLOTLYENV || {};                                    if (document.getElementById(\"d4ab93b0-4a37-483b-9047-508e6340c635\")) {                    Plotly.newPlot(                        \"d4ab93b0-4a37-483b-9047-508e6340c635\",                        [{\"close\":[3104.0399999999995,3104.061666666667,3100.6542857142854,3099.2371428571428,3101.2271428571435,3092.937410522857,3098.9042857142854,3096.3100000000004,3092.812857142857,3091.629644934286,3085.8028571428576,3087.387142857143,3084.9,3081.2671428571434,3081.2056983357143,3079.882857142857,3080.358571428572,3079.882857142857,3078.87,3080.402857142857,3080.187142857143,3079.405714285714,3084.09,3080.937142857143,3078.852857142857,3073.342857142857,3068.937142857142,3068.785714285714,3060.3924923142854,3061.28673995,3058.761428571428,3061.957142857142,3056.588571428572,3053.63,3054.3642857142854,3054.914748574286,3054.618571428571,3054.304285714286,3048.602857142857,3045.6957142857145,3036.407142857144,3025.8514285714286,3031.3271428571425,3028.528571428572,3029.542857142857,3027.674285714286,3031.8,3032.5714285714284,3028.36487474,3028.319770375714,3037.225254072857,3037.707142857143,3042.0014285714287,3040.781428571429,3039.7514285714287,3040.2342857142853,3038.732975908333,3026.82,3021.172857142857,3015.229835954286,3013.134285714286,3016.0971428571424,3012.720288702857,3020.072857142857,3027.458571428572,3029.1857142857143,3017.5442857142853,3016.06,3016.148571428572,3015.6157142857146,3005.885266351429,3008.2742857142853,3013.2742857142853,3010.952857142857,3023.37,3028.668571428572,3013.247142857143,2997.875714285714,2995.618571428572,2998.14,2996.997142857143,2988.4728571428573,2985.35606317,2979.2828571428577,2986.782857142857,2988.8099999999986,2979.575714285714,2990.924285714286,2999.647142857142,2992.956546991428,2985.100456282857,2977.285714285714,2984.315714285714,2990.312857142857,3000.893692261429,3023.762857142857,3026.617142857143,3031.445714285714,3036.55,3036.477142857143,3036.747427588572,3036.21,3032.207142857142,3029.98,3031.428571428572,3030.284285714286,3037.952857142857,3052.680511321428,3055.88,3065.424285714286,3058.8114285714287,3051.332857142857,3050.2771428571427,3048.791428571428,3049.521318005715,3048.0171428571434,3055.902857142857,3069.994285714285,3068.894285714285,3073.7114285714283,3071.707142857142,3074.728571428572,3070.582857142857,3073.3214285714284,3077.671428571429,3078.434285714285,3074.4,3071.797142857143,3072.562857142857,3067.35,3068.4842857142853,3059.8228571428576,3063.218571428571,3061.8314285714287,3066.401428571429,3060.547142857143,3061.911428571428,3057.875714285715,3059.394285714285,3058.94,3057.902857142857,3057.957142857142,3057.132857142857,3060.884285714286,3053.7200000000007,3052.665714285715,3046.505714285715,3046.824285714285,3042.457142857143,3046.354285714285,3046.21,3042.738571428571,3043.827142857143,3039.3457142857146,3041.2971428571423,3039.9450883642853,3039.5614285714287,3039.347142857143,3039.354285714286,3040.2528571428584,3040.808571428571,3041.792857142857,3041.61,3030.795714285713,3021.2828571428577,3010.6014285714286,3008.8637631742854,3004.612857142857,3010.888571428572,3003.307142857143,3006.071428571429,3000.741428571429,3005.244149767143,3000.0651961,2999.124285714286,2990.445714285714,2996.911428571429,2999.3857142857146,2999.397142857143,2998.755714285714,3004.738571428571,3009.2914285714287,3015.1600000000008,3018.515851722857,3037.188571428572,3030.354285714286,3023.3442857142863,3009.337142857143,3017.68,3012.8371428571418,3022.822857142857,3021.182857142857,3029.1,3028.881428571429,3035.354725822857,3032.938571428572,3038.241428571428,3030.587142857143,3029.025714285715,3027.3228571428576,3023.5371428571425,3023.890000000001,3034.668333333333,3038.7,3039.9886590657147,3033.9200000000005,3037.05,3037.911428571429,3038.068121018572,3038.581918151428,3034.662857142857,3039.891666666667,3040.213333333333,3040.718571428571,3040.697142857143,3034.8228571428576,3033.857142857143,3033.378571428572,3033.02,3030.40441334,3029.832857142857,3030.3857142857146,3032.0116666666668,3031.528571428571,3031.4233604257142,3031.644285714286,3034.441666666667,3037.104285714285,3039.8214285714284,3045.7571428571423,3043.490633111428,3044.089614203334,3036.217142857143,3035.2666666666664,3037.361428571429,3041.008571428571,3031.502857142857,3028.4000000000005,3030.0914285714284,3029.712857142857,3024.05,3022.312857142857,3017.306666666667,3017.298571428572,3028.084285714285,3027.9271428571424,3023.768571428572,3030.517629241428,3033.3071428571425,3022.3785714285714,3027.7342857142853,3031.4757142857147,3035.437142857143,3038.377142857142,3040.19,3042.672857142857,3038.4442857142853,3037.7714285714287,3039.06,3040.924285714286,3045.612857142857,3052.96,3055.615,3055.051428571429,3055.898571428572,3049.025714285715,3051.651428571429,3053.748571428572,3052.3,3053.867142857143,3054.7900000000004,3048.87715224,3045.9371428571435,3045.261428571429,3047.63,3047.28,3045.1714285714284,3046.8514285714286,3048.338571428572,3052.535714285714,3055.5042857142853,3055.9771428571435,3053.638571428572,3049.048571428571,3054.095714285714,3051.001666666667,3048.02,3044.043333333333,3036.238571428571,3031.844285714286,3027.99,3018.332857142857,3017.5614285714287,3008.387142857143,2996.458626465714,2992.7671428571434,2988.478571428572,2981.3514285714286,2967.982857142857,2982.665714285715,2983.8257142857133,2986.055714285714,2986.741428571429,2992.184285714286,2993.820451447143,2992.871428571428,3003.080000000001,3012.9842857142853,3004.64,2982.837142857143,2979.2771428571423,2980.617142857143,2978.592746214286,2968.914285714286,2966.3028571428576,2964.587142857143,2961.6314285714284,2959.2942857142853,2978.451428571429,2971.3214285714284,2978.464285714286,2971.51,2974.278571428571,2969.058587331429,2967.3814285714284,2959.3614285714284,2961.7542857142853,2954.5242857142857,2951.834285714285,2953.892007824285,2959.278571428572,2964.534600452857,2959.5528571428576,2955.925714285714,2952.297142857143,2950.262857142857,2948.182857142857,2956.465714285714,2956.7478496571425,2960.381428571429,2969.7771428571427,2966.0,2965.5242857142853,2955.498571428572,2959.727142857143,2965.9271428571424,2966.315714285714,2961.05,2955.7542857142853,2953.845739191428,2962.108571428572,2963.394285714285,2959.516104105715,2971.905714285714,2978.068663851428,2975.14,2977.1957142857145,2977.387142857143,2978.137142857143,2974.0271428571427,2964.7114285714283,2960.845714285714,2957.398571428572,2977.19,2972.603333333334],\"high\":[3105.1,3105.31,3104.72716841,3101.0,3108.34,3102.03,3101.26,3101.69,3097.59,3094.02,3091.4,3095.08,3088.5,3089.7,3084.8,3084.2,3083.58,3082.16,3080.99,3082.99,3081.35,3083.2,3085.42,3084.72,3081.3,3079.82,3075.33,3073.76,3072.29,3065.37,3061.7,3063.95,3064.49,3060.1,3057.98,3056.93,3059.08,3057.99,3055.58,3050.73,3046.88,3039.05,3033.8,3035.1,3031.74,3032.89,3035.2,3034.83,3034.0,3032.8,3038.86,3040.47,3043.48,3046.17,3045.0,3041.81,3043.16,3039.33,3029.5,3024.41,3019.32,3023.78,3021.76,3022.61,3032.15,3031.79,3030.1,3025.41,3018.39,3019.67,3016.35,3012.4,3017.6,3016.9,3024.92,3031.27,3029.9,3018.1,3004.95,3007.89554293,3005.4,2998.92,2992.67,2994.55,2988.38,2994.23,2990.86,2995.0,3003.41,3001.03,2994.0,2985.3,2989.38,2993.45,3003.21,3029.64,3031.89,3036.34,3040.91,3040.51,3039.95,3039.15,3038.2,3036.85,3035.3,3033.1,3039.61,3058.39,3064.9,3069.7,3064.52,3063.01,3054.14,3052.37,3052.08,3052.88,3059.48,3074.98,3072.62,3076.77,3074.97,3075.97,3077.2,3076.73,3078.77,3083.24,3080.39,3075.67,3075.38,3073.5,3073.6,3069.1,3066.0,3064.1,3066.87,3066.9,3063.19,3064.06,3061.78,3062.97,3060.0,3061.21,3058.64,3063.8,3062.1,3054.63,3054.06,3048.58,3049.31,3048.5,3052.25,3048.36,3045.02,3044.86,3046.57,3042.2,3044.25,3040.69,3040.7,3041.79,3043.18,3043.32,3044.9,3041.98,3031.7,3023.17,3014.03,3010.94,3013.55,3014.33,3007.5,3007.6,3006.84,3006.22,3002.4,3000.6,3000.1,3001.22,3001.58,3001.85,3006.7,3012.18,3016.59,3022.53,3040.0,3039.8,3030.0,3024.46,3019.32,3022.46678372,3024.66,3023.81,3031.69,3031.69,3036.86,3037.19,3042.0,3039.0,3032.66,3032.28,3028.3,3026.26,3035.71,3039.89,3043.46,3040.8,3039.16,3041.0,3039.89,3040.41,3039.93,3041.46,3041.22,3042.29,3042.58,3041.0913911,3035.01969993,3035.0,3033.86,3033.5,3030.9,3031.13,3033.13,3032.77,3032.53,3032.58,3035.06,3038.16,3040.99,3047.96,3049.79,3046.4,3044.5898716999995,3036.3,3038.4,3042.67,3042.46,3033.3,3031.99,3030.66,3030.65,3025.42,3023.21,3018.4,3028.99,3033.3,3028.69,3034.37,3042.19570126,3033.55,3029.96,3033.31,3038.45,3040.0,3042.66,3044.27,3043.01,3042.61,3045.84,3043.8,3046.91,3055.6,3057.05,3056.85,3059.55,3061.5,3054.19,3057.5,3056.17,3055.83,3057.72,3055.64,3050.6,3049.12,3048.94,3049.52,3048.85,3048.6,3050.49,3056.06,3056.8,3060.0,3056.6,3054.72,3055.51,3055.87,3052.48,3049.12,3046.4,3039.84,3032.94,3030.46,3024.37,3017.8,3012.64,3002.45,2995.17,2993.59,2982.21,2986.86,2986.71,2989.27,2993.16,2993.93,2996.12,2996.14,3006.59,3015.81,3016.47,3005.8,2989.08,2988.63,2983.13,2982.2,2970.4,2967.8,2967.90990952,2967.77,2981.97,2986.84,2979.7,2983.1,2978.3,2977.36,2971.08,2970.57105798,2963.94,2962.6,2956.61,2957.97,2964.2,2965.99,2969.9,2961.12,2966.4,2959.09,2952.22,2957.84,2964.99,2967.62,2973.96,2972.23,2973.51,2971.08,2962.39,2968.7,2969.29,2971.11,2964.77,2960.23,2965.91,2966.19,2966.07,2974.1,2982.58,2979.21,2981.68,2980.08,2982.9,2979.0,2976.1,2967.95,2962.6,2978.71,2978.82],\"low\":[3102.14,3102.77,3099.6,3097.5,3098.07,3089.36,3090.5,3094.17,3090.92,3089.95,3084.28,3085.0,3080.44,3077.71,3078.81,3076.95,3077.59,3077.89,3077.43,3076.81,3078.0,3076.62,3077.75,3079.02,3076.83,3069.71,3065.0,3066.31,3057.12,3054.99,3052.84,3057.47,3055.01,3050.12,3051.0,3050.0,3050.52,3049.0,3042.23,3039.13,3032.0,3020.01,3018.73,3023.87,3021.5,3023.18,3023.95,3027.11,3023.18,3023.06,3026.38,3034.79,3035.82,3039.65,3038.88,3036.82,3037.62,3025.29,3017.78,3011.87,3010.57,3010.82,3002.77,3010.43,3019.0,3025.09,3014.99,3012.84,3011.28,3012.63,3003.34,3002.86,3005.68,2990.13,3008.03,3022.0,3010.84,2994.86,2992.86,2992.77,2994.2,2986.34,2981.57,2975.09,2974.39,2984.35,2976.34,2976.22,2989.16,2991.12,2983.84,2975.55,2976.59,2978.46,2989.34,2999.16,3017.94,3020.75,3027.74,3028.58,3030.24,3031.39,3028.38,3028.0,3028.15,3027.6,3029.29,3036.21,3050.0,3054.83,3055.08,3047.84,3043.39,3047.02,3045.77,3045.36,3044.44,3054.49,3065.0,3067.77,3065.75,3068.7,3068.95,3067.42,3067.54,3075.42,3071.34,3065.82,3070.08,3066.56,3066.05,3058.06,3059.78,3059.47,3058.98,3059.2,3056.47,3056.17,3057.21,3057.29,3056.0,3054.15,3055.85,3056.5,3051.47,3051.35,3044.0,3041.22,3041.41,3041.47,3044.84,3041.42,3041.83,3037.13,3038.88,3037.75,3036.89,3037.0,3037.84,3037.56,3038.2,3038.48,3039.77,3028.28,3017.33,3005.35,3004.67,3002.34,3004.51,3000.0,2992.1,2996.7,2999.96,2997.02,2996.65,2989.34,2986.36,2994.97,2994.24,2996.7,2997.64,3001.92,3008.37,3012.06,3017.75,3025.69,3021.37,3006.83,3008.42,3009.93,3010.38,3013.25,3018.95,3027.16,3027.93,3031.1,3031.96,3029.42,3025.85,3024.89,3022.53,3018.99,3022.92,3032.49,3037.38,3031.9,3031.08,3035.99,3034.31,3036.65,3032.94,3033.64,3037.55,3038.03,3039.95,3033.07,3032.73,3032.0,3031.85,3028.64,3028.93,3029.34,3029.98,3030.0,3030.0,3030.01,3030.01,3033.69,3034.8,3039.77,3042.13,3042.02,3034.75,3033.37,3034.59,3036.16,3030.02,3027.1,3027.36,3027.98,3021.48,3020.71,3016.48,3016.29,3016.29,3024.99,3022.6,3021.8,3030.52,3020.3,3019.18,3025.35,3030.0,3034.89,3038.02,3039.13,3037.01,3036.92,3033.72,3034.99,3040.57,3043.92,3048.74,3050.18,3051.19,3045.87,3048.2,3049.81,3050.01,3049.25,3053.04,3047.8,3043.16,3043.89,3043.31,3045.95,3038.82,3044.45,3046.59,3046.81,3049.84,3054.04,3052.04,3048.21,3046.25,3049.47,3046.67,3042.99,3035.11,3030.93,3025.18,3017.05,3014.55,3007.24,2993.46,2991.15,2983.93,2977.46,2963.21,2967.77,2971.95,2973.82,2979.98,2981.04,2990.25,2987.48,2992.0,2998.95,3003.35,2981.07,2975.54,2975.27,2976.47,2967.0,2964.98,2960.0,2953.83,2957.65,2958.35,2969.49,2962.67,2969.53,2967.93,2967.05,2963.33,2952.0,2952.6,2947.62,2950.0,2947.24,2952.3,2953.82,2956.52,2953.49,2950.0,2948.86,2945.03,2945.0,2953.11,2954.09,2959.38,2963.03,2963.94,2952.65,2952.39,2958.39,2960.6,2959.22,2953.66,2952.0,2952.71,2962.21,2957.91,2958.09,2967.82,2971.34,2971.34,2973.57,2975.88,2967.13,2962.09,2958.05,2954.14,2956.75,2969.35],\"open\":[3104.1800000000007,3104.116666666667,3104.188166915714,3100.525714285715,3099.8028571428576,3100.248571428572,3093.628571428572,3098.137142857143,3095.918571428572,3092.3879688128573,3090.654285714286,3086.398571428572,3086.86,3085.562857142857,3081.6700000000005,3082.0614285714287,3079.541428571428,3080.567142857143,3079.912857142857,3078.545714285715,3080.7314285714283,3080.1014285714286,3079.353585302857,3083.895714285715,3080.214285714286,3078.518571428572,3073.539889255714,3070.11,3069.2542857142857,3059.871428571428,3060.7942857142853,3058.914285714286,3062.5771428571425,3057.065714285714,3053.1142857142854,3054.315714285713,3054.902857142857,3054.278571428572,3054.374285714286,3048.624285714285,3045.695714285714,3036.157142857143,3026.095430387142,3030.982857142857,3028.414285714285,3029.6362988614287,3028.304285714285,3032.0071428571428,3032.664285714286,3029.164285714286,3029.064285714285,3037.3743799657145,3037.908571428572,3041.654285714286,3041.008571428572,3039.24,3040.473333333333,3038.9871428571428,3026.9300000000007,3021.264285714285,3015.886101888572,3013.345714285714,3017.212857142857,3012.76,3020.327142857143,3027.17,3029.022857142857,3017.947142857143,3015.6357142857146,3016.198571428572,3015.574285714286,3005.7200000000007,3008.2514285714287,3013.05,3012.554285714285,3024.405714285714,3028.3100000000004,3013.948571428572,2998.7685714285712,2995.847142857143,2997.86,2996.681428571428,2988.954285714285,2984.4014285714284,2978.23,2986.914285714286,2988.2671428571425,2979.980451844286,2990.9070822028584,2999.478571428572,2993.025714285715,2984.080000000001,2978.051428571428,2983.7114285714288,2991.727142857143,3001.454285714285,3023.678231961428,3025.078571428571,3031.644285714285,3036.282857142857,3036.609381124286,3035.857142857143,3036.575714285714,3032.492857142857,3030.158571428572,3031.188571428572,3030.7499999999995,3038.645714285715,3052.675714285714,3056.05,3062.6714285714284,3059.471428571428,3051.397142857142,3050.3442857142863,3049.305714285714,3049.525714285715,3047.478571428572,3056.6161744271435,3069.9757142857147,3069.828571428571,3072.758571428572,3071.551428571428,3074.4357142857148,3070.474285714285,3072.509624532857,3077.978571428572,3078.661428571428,3074.197142857143,3072.86,3072.032857142857,3067.204285714285,3068.28,3060.7671428571434,3062.388571428572,3061.7257142857147,3066.354285714285,3060.870000000001,3061.777588625714,3058.068571428572,3059.314285714285,3058.8414285714284,3057.714285714286,3057.92,3057.4728571428573,3060.467142857143,3053.442857142857,3052.7000000000007,3045.7871428571425,3046.847142857143,3042.447142857143,3047.422857142857,3045.8457142857146,3042.758571428571,3043.928571428572,3040.801428571428,3040.48,3040.122857142857,3039.328571428572,3039.3057142857133,3039.5071428571428,3040.553443715715,3040.7885714285712,3042.493668354286,3041.248571428572,3030.9471428571424,3022.0414285714287,3010.547142857143,3008.681002678571,3005.285714285714,3010.867142857143,3003.9300000000007,3006.192857142857,3000.871428571428,3005.317142857143,3000.405714285714,2998.4557142857147,2990.092857142857,2997.462857142857,2998.9614285714288,3000.678674422857,2999.125714285715,3004.978571428572,3009.584285714285,3015.561810472857,3019.434285714285,3037.312857142857,3028.384285714286,3022.817142857143,3010.412857142857,3017.648571428572,3013.7114285714288,3022.27,3021.388571428572,3029.33722242,3029.2771428571427,3035.5328571428577,3033.52,3037.628571428572,3029.928160967143,3029.13,3026.9757142857143,3023.17386884,3024.496666666668,3035.184285714286,3039.2314285714283,3039.465714285714,3033.5842857142857,3037.958571428572,3037.807142857143,3038.0333467228565,3038.706203865714,3035.345,3039.905,3040.0571428571416,3040.7000000000007,3040.524484442857,3033.991428571428,3033.9,3033.2457142857147,3033.022857142857,3030.142499438572,3029.917142857142,3030.595,3032.0509337771427,3031.380933777143,3031.5071428571428,3031.856666666666,3034.595714285714,3037.462857142857,3040.59,3046.5528571428576,3043.588333333333,3043.599981671429,3035.625,3035.689124085715,3037.795714285715,3041.354285714285,3031.5214285714287,3028.708527184285,3029.8,3029.735948247144,3024.2200000000007,3022.3416666666667,3017.1,3017.228571428572,3028.64,3027.371428571428,3023.684285714286,3032.534285714286,3032.0242857142853,3021.3642857142863,3029.167142857142,3032.305714285714,3036.171428571429,3039.545714285715,3039.404285714286,3041.872857142857,3038.661428571429,3036.6957142857136,3037.9128571428582,3042.574285714286,3046.2314285714288,3052.8716666666664,3055.39,3056.0371428571425,3057.447142857143,3050.1714285714284,3052.338571428572,3054.1014285714286,3051.762857142857,3054.844285714286,3053.622857142857,3048.8314379542853,3045.482857142857,3045.374285714286,3048.3310505685718,3047.352069631428,3046.611428571429,3047.491428571428,3048.2269611257148,3052.258571428572,3056.0571428571425,3054.811428571428,3052.9700000000007,3048.611428571429,3054.096666666667,3050.4757142857147,3047.9600000000005,3043.568571428572,3036.498571428572,3031.7157142857145,3027.299345192857,3018.4056356199994,3016.2671428571434,3008.641428571429,2997.348571428572,2993.18,2988.95,2980.6,2969.798571428572,2981.528571428572,2984.062857142857,2987.558571428572,2987.804285714286,2992.485714285714,2993.82811931,2993.2657142857147,3001.942857142857,3012.557142857143,3003.7771428571427,2983.167142857142,2979.474809408571,2980.2342857142853,2978.037142857143,2969.0071428571428,2966.178571428572,2963.625714285715,2962.242857142857,2960.618571428571,2977.661428571429,2970.2457142857147,2978.575714285714,2970.605714285715,2975.197142857143,2968.1800000000007,2967.0799999999995,2959.567142857143,2959.967142857143,2954.17,2951.82,2955.1771428571424,2959.782857142857,2964.384285714286,2959.088571428572,2957.0271428571427,2952.171912078572,2950.6542857142854,2948.182857142857,2956.870000000001,2956.57,2961.414285714286,2969.557142857143,2966.7157142857145,2965.647142857142,2955.097142857143,2960.612857142857,2965.741428571428,2967.775714285714,2961.5028571428584,2955.4257142857136,2954.9871428571428,2963.701428571429,2963.3071428571425,2959.8514285714286,2972.4614285714283,2977.4728571428573,2974.152857142857,2977.297142857143,2978.0328571428577,2977.782857142857,2973.728685914285,2965.461446438572,2960.3214285714284,2958.7714285714283,2976.8583333333336],\"x\":[\"2021-09-20T17:56:00\",\"2021-09-20T17:57:00\",\"2021-09-20T17:58:00\",\"2021-09-20T17:59:00\",\"2021-09-20T18:00:00\",\"2021-09-20T18:01:00\",\"2021-09-20T18:02:00\",\"2021-09-20T18:03:00\",\"2021-09-20T18:04:00\",\"2021-09-20T18:05:00\",\"2021-09-20T18:06:00\",\"2021-09-20T18:07:00\",\"2021-09-20T18:08:00\",\"2021-09-20T18:09:00\",\"2021-09-20T18:10:00\",\"2021-09-20T18:11:00\",\"2021-09-20T18:12:00\",\"2021-09-20T18:13:00\",\"2021-09-20T18:14:00\",\"2021-09-20T18:15:00\",\"2021-09-20T18:16:00\",\"2021-09-20T18:17:00\",\"2021-09-20T18:18:00\",\"2021-09-20T18:19:00\",\"2021-09-20T18:20:00\",\"2021-09-20T18:21:00\",\"2021-09-20T18:22:00\",\"2021-09-20T18:23:00\",\"2021-09-20T18:24:00\",\"2021-09-20T18:25:00\",\"2021-09-20T18:26:00\",\"2021-09-20T18:27:00\",\"2021-09-20T18:28:00\",\"2021-09-20T18:29:00\",\"2021-09-20T18:30:00\",\"2021-09-20T18:31:00\",\"2021-09-20T18:32:00\",\"2021-09-20T18:33:00\",\"2021-09-20T18:34:00\",\"2021-09-20T18:35:00\",\"2021-09-20T18:36:00\",\"2021-09-20T18:37:00\",\"2021-09-20T18:38:00\",\"2021-09-20T18:39:00\",\"2021-09-20T18:40:00\",\"2021-09-20T18:41:00\",\"2021-09-20T18:42:00\",\"2021-09-20T18:43:00\",\"2021-09-20T18:44:00\",\"2021-09-20T18:45:00\",\"2021-09-20T18:46:00\",\"2021-09-20T18:47:00\",\"2021-09-20T18:48:00\",\"2021-09-20T18:49:00\",\"2021-09-20T18:50:00\",\"2021-09-20T18:51:00\",\"2021-09-20T18:52:00\",\"2021-09-20T18:53:00\",\"2021-09-20T18:54:00\",\"2021-09-20T18:55:00\",\"2021-09-20T18:56:00\",\"2021-09-20T18:57:00\",\"2021-09-20T18:58:00\",\"2021-09-20T18:59:00\",\"2021-09-20T19:00:00\",\"2021-09-20T19:01:00\",\"2021-09-20T19:02:00\",\"2021-09-20T19:03:00\",\"2021-09-20T19:04:00\",\"2021-09-20T19:05:00\",\"2021-09-20T19:06:00\",\"2021-09-20T19:07:00\",\"2021-09-20T19:08:00\",\"2021-09-20T19:09:00\",\"2021-09-20T19:10:00\",\"2021-09-20T19:11:00\",\"2021-09-20T19:12:00\",\"2021-09-20T19:13:00\",\"2021-09-20T19:14:00\",\"2021-09-20T19:15:00\",\"2021-09-20T19:16:00\",\"2021-09-20T19:17:00\",\"2021-09-20T19:18:00\",\"2021-09-20T19:19:00\",\"2021-09-20T19:20:00\",\"2021-09-20T19:21:00\",\"2021-09-20T19:22:00\",\"2021-09-20T19:23:00\",\"2021-09-20T19:24:00\",\"2021-09-20T19:25:00\",\"2021-09-20T19:26:00\",\"2021-09-20T19:27:00\",\"2021-09-20T19:28:00\",\"2021-09-20T19:29:00\",\"2021-09-20T19:30:00\",\"2021-09-20T19:31:00\",\"2021-09-20T19:32:00\",\"2021-09-20T19:33:00\",\"2021-09-20T19:34:00\",\"2021-09-20T19:35:00\",\"2021-09-20T19:36:00\",\"2021-09-20T19:37:00\",\"2021-09-20T19:38:00\",\"2021-09-20T19:39:00\",\"2021-09-20T19:40:00\",\"2021-09-20T19:41:00\",\"2021-09-20T19:42:00\",\"2021-09-20T19:43:00\",\"2021-09-20T19:44:00\",\"2021-09-20T19:45:00\",\"2021-09-20T19:46:00\",\"2021-09-20T19:47:00\",\"2021-09-20T19:48:00\",\"2021-09-20T19:49:00\",\"2021-09-20T19:50:00\",\"2021-09-20T19:51:00\",\"2021-09-20T19:52:00\",\"2021-09-20T19:53:00\",\"2021-09-20T19:54:00\",\"2021-09-20T19:55:00\",\"2021-09-20T19:56:00\",\"2021-09-20T19:57:00\",\"2021-09-20T19:58:00\",\"2021-09-20T19:59:00\",\"2021-09-20T20:00:00\",\"2021-09-20T20:01:00\",\"2021-09-20T20:02:00\",\"2021-09-20T20:03:00\",\"2021-09-20T20:04:00\",\"2021-09-20T20:05:00\",\"2021-09-20T20:06:00\",\"2021-09-20T20:07:00\",\"2021-09-20T20:08:00\",\"2021-09-20T20:09:00\",\"2021-09-20T20:10:00\",\"2021-09-20T20:11:00\",\"2021-09-20T20:12:00\",\"2021-09-20T20:13:00\",\"2021-09-20T20:14:00\",\"2021-09-20T20:15:00\",\"2021-09-20T20:16:00\",\"2021-09-20T20:17:00\",\"2021-09-20T20:18:00\",\"2021-09-20T20:19:00\",\"2021-09-20T20:20:00\",\"2021-09-20T20:21:00\",\"2021-09-20T20:22:00\",\"2021-09-20T20:23:00\",\"2021-09-20T20:24:00\",\"2021-09-20T20:25:00\",\"2021-09-20T20:26:00\",\"2021-09-20T20:27:00\",\"2021-09-20T20:28:00\",\"2021-09-20T20:29:00\",\"2021-09-20T20:30:00\",\"2021-09-20T20:31:00\",\"2021-09-20T20:32:00\",\"2021-09-20T20:33:00\",\"2021-09-20T20:34:00\",\"2021-09-20T20:35:00\",\"2021-09-20T20:36:00\",\"2021-09-20T20:37:00\",\"2021-09-20T20:38:00\",\"2021-09-20T20:39:00\",\"2021-09-20T20:40:00\",\"2021-09-20T20:41:00\",\"2021-09-20T20:42:00\",\"2021-09-20T20:43:00\",\"2021-09-20T20:44:00\",\"2021-09-20T20:45:00\",\"2021-09-20T20:46:00\",\"2021-09-20T20:47:00\",\"2021-09-20T20:48:00\",\"2021-09-20T20:49:00\",\"2021-09-20T20:50:00\",\"2021-09-20T20:51:00\",\"2021-09-20T20:52:00\",\"2021-09-20T20:53:00\",\"2021-09-20T20:54:00\",\"2021-09-20T20:55:00\",\"2021-09-20T20:56:00\",\"2021-09-20T20:57:00\",\"2021-09-20T20:58:00\",\"2021-09-20T20:59:00\",\"2021-09-20T21:00:00\",\"2021-09-20T21:01:00\",\"2021-09-20T21:02:00\",\"2021-09-20T21:03:00\",\"2021-09-20T21:04:00\",\"2021-09-20T21:05:00\",\"2021-09-20T21:06:00\",\"2021-09-20T21:07:00\",\"2021-09-20T21:08:00\",\"2021-09-20T21:09:00\",\"2021-09-20T21:10:00\",\"2021-09-20T21:11:00\",\"2021-09-20T21:12:00\",\"2021-09-20T21:13:00\",\"2021-09-20T21:14:00\",\"2021-09-20T21:15:00\",\"2021-09-20T21:16:00\",\"2021-09-20T21:17:00\",\"2021-09-20T21:18:00\",\"2021-09-20T21:19:00\",\"2021-09-20T21:20:00\",\"2021-09-20T21:21:00\",\"2021-09-20T21:22:00\",\"2021-09-20T21:23:00\",\"2021-09-20T21:24:00\",\"2021-09-20T21:25:00\",\"2021-09-20T21:26:00\",\"2021-09-20T21:27:00\",\"2021-09-20T21:28:00\",\"2021-09-20T21:29:00\",\"2021-09-20T21:30:00\",\"2021-09-20T21:31:00\",\"2021-09-20T21:32:00\",\"2021-09-20T21:33:00\",\"2021-09-20T21:34:00\",\"2021-09-20T21:35:00\",\"2021-09-20T21:36:00\",\"2021-09-20T21:37:00\",\"2021-09-20T21:38:00\",\"2021-09-20T21:39:00\",\"2021-09-20T21:40:00\",\"2021-09-20T21:41:00\",\"2021-09-20T21:42:00\",\"2021-09-20T21:43:00\",\"2021-09-20T21:44:00\",\"2021-09-20T21:45:00\",\"2021-09-20T21:46:00\",\"2021-09-20T21:47:00\",\"2021-09-20T21:48:00\",\"2021-09-20T21:49:00\",\"2021-09-20T21:50:00\",\"2021-09-20T21:51:00\",\"2021-09-20T21:52:00\",\"2021-09-20T21:53:00\",\"2021-09-20T21:54:00\",\"2021-09-20T21:55:00\",\"2021-09-20T21:56:00\",\"2021-09-20T21:57:00\",\"2021-09-20T21:58:00\",\"2021-09-20T21:59:00\",\"2021-09-20T22:00:00\",\"2021-09-20T22:01:00\",\"2021-09-20T22:02:00\",\"2021-09-20T22:03:00\",\"2021-09-20T22:04:00\",\"2021-09-20T22:05:00\",\"2021-09-20T22:06:00\",\"2021-09-20T22:07:00\",\"2021-09-20T22:08:00\",\"2021-09-20T22:09:00\",\"2021-09-20T22:10:00\",\"2021-09-20T22:11:00\",\"2021-09-20T22:12:00\",\"2021-09-20T22:13:00\",\"2021-09-20T22:14:00\",\"2021-09-20T22:15:00\",\"2021-09-20T22:16:00\",\"2021-09-20T22:17:00\",\"2021-09-20T22:18:00\",\"2021-09-20T22:19:00\",\"2021-09-20T22:20:00\",\"2021-09-20T22:21:00\",\"2021-09-20T22:22:00\",\"2021-09-20T22:23:00\",\"2021-09-20T22:24:00\",\"2021-09-20T22:25:00\",\"2021-09-20T22:26:00\",\"2021-09-20T22:27:00\",\"2021-09-20T22:28:00\",\"2021-09-20T22:29:00\",\"2021-09-20T22:30:00\",\"2021-09-20T22:31:00\",\"2021-09-20T22:32:00\",\"2021-09-20T22:33:00\",\"2021-09-20T22:34:00\",\"2021-09-20T22:35:00\",\"2021-09-20T22:36:00\",\"2021-09-20T22:37:00\",\"2021-09-20T22:38:00\",\"2021-09-20T22:39:00\",\"2021-09-20T22:40:00\",\"2021-09-20T22:41:00\",\"2021-09-20T22:42:00\",\"2021-09-20T22:43:00\",\"2021-09-20T22:44:00\",\"2021-09-20T22:45:00\",\"2021-09-20T22:46:00\",\"2021-09-20T22:47:00\",\"2021-09-20T22:48:00\",\"2021-09-20T22:49:00\",\"2021-09-20T22:50:00\",\"2021-09-20T22:51:00\",\"2021-09-20T22:52:00\",\"2021-09-20T22:53:00\",\"2021-09-20T22:54:00\",\"2021-09-20T22:55:00\",\"2021-09-20T22:56:00\",\"2021-09-20T22:57:00\",\"2021-09-20T22:58:00\",\"2021-09-20T22:59:00\",\"2021-09-20T23:00:00\",\"2021-09-20T23:01:00\",\"2021-09-20T23:02:00\",\"2021-09-20T23:03:00\",\"2021-09-20T23:04:00\",\"2021-09-20T23:05:00\",\"2021-09-20T23:06:00\",\"2021-09-20T23:07:00\",\"2021-09-20T23:08:00\",\"2021-09-20T23:09:00\",\"2021-09-20T23:10:00\",\"2021-09-20T23:11:00\",\"2021-09-20T23:12:00\",\"2021-09-20T23:13:00\",\"2021-09-20T23:14:00\",\"2021-09-20T23:15:00\",\"2021-09-20T23:16:00\",\"2021-09-20T23:17:00\",\"2021-09-20T23:18:00\",\"2021-09-20T23:19:00\",\"2021-09-20T23:20:00\",\"2021-09-20T23:21:00\",\"2021-09-20T23:22:00\",\"2021-09-20T23:23:00\",\"2021-09-20T23:24:00\",\"2021-09-20T23:25:00\",\"2021-09-20T23:26:00\",\"2021-09-20T23:27:00\",\"2021-09-20T23:28:00\",\"2021-09-20T23:29:00\",\"2021-09-20T23:30:00\",\"2021-09-20T23:31:00\",\"2021-09-20T23:32:00\",\"2021-09-20T23:33:00\",\"2021-09-20T23:34:00\",\"2021-09-20T23:35:00\",\"2021-09-20T23:36:00\",\"2021-09-20T23:37:00\",\"2021-09-20T23:38:00\",\"2021-09-20T23:39:00\",\"2021-09-20T23:40:00\",\"2021-09-20T23:41:00\",\"2021-09-20T23:42:00\",\"2021-09-20T23:43:00\",\"2021-09-20T23:44:00\",\"2021-09-20T23:45:00\",\"2021-09-20T23:46:00\",\"2021-09-20T23:47:00\",\"2021-09-20T23:48:00\",\"2021-09-20T23:49:00\",\"2021-09-20T23:50:00\",\"2021-09-20T23:51:00\",\"2021-09-20T23:52:00\",\"2021-09-20T23:53:00\",\"2021-09-20T23:54:00\",\"2021-09-20T23:55:00\",\"2021-09-20T23:56:00\",\"2021-09-20T23:57:00\",\"2021-09-20T23:58:00\",\"2021-09-20T23:59:00\",\"2021-09-21T00:00:00\"],\"type\":\"candlestick\"}],                        {\"template\":{\"data\":{\"barpolar\":[{\"marker\":{\"line\":{\"color\":\"white\",\"width\":0.5},\"pattern\":{\"fillmode\":\"overlay\",\"size\":10,\"solidity\":0.2}},\"type\":\"barpolar\"}],\"bar\":[{\"error_x\":{\"color\":\"#2a3f5f\"},\"error_y\":{\"color\":\"#2a3f5f\"},\"marker\":{\"line\":{\"color\":\"white\",\"width\":0.5},\"pattern\":{\"fillmode\":\"overlay\",\"size\":10,\"solidity\":0.2}},\"type\":\"bar\"}],\"carpet\":[{\"aaxis\":{\"endlinecolor\":\"#2a3f5f\",\"gridcolor\":\"#C8D4E3\",\"linecolor\":\"#C8D4E3\",\"minorgridcolor\":\"#C8D4E3\",\"startlinecolor\":\"#2a3f5f\"},\"baxis\":{\"endlinecolor\":\"#2a3f5f\",\"gridcolor\":\"#C8D4E3\",\"linecolor\":\"#C8D4E3\",\"minorgridcolor\":\"#C8D4E3\",\"startlinecolor\":\"#2a3f5f\"},\"type\":\"carpet\"}],\"choropleth\":[{\"colorbar\":{\"outlinewidth\":0,\"ticks\":\"\"},\"type\":\"choropleth\"}],\"contourcarpet\":[{\"colorbar\":{\"outlinewidth\":0,\"ticks\":\"\"},\"type\":\"contourcarpet\"}],\"contour\":[{\"colorbar\":{\"outlinewidth\":0,\"ticks\":\"\"},\"colorscale\":[[0.0,\"#0d0887\"],[0.1111111111111111,\"#46039f\"],[0.2222222222222222,\"#7201a8\"],[0.3333333333333333,\"#9c179e\"],[0.4444444444444444,\"#bd3786\"],[0.5555555555555556,\"#d8576b\"],[0.6666666666666666,\"#ed7953\"],[0.7777777777777778,\"#fb9f3a\"],[0.8888888888888888,\"#fdca26\"],[1.0,\"#f0f921\"]],\"type\":\"contour\"}],\"heatmapgl\":[{\"colorbar\":{\"outlinewidth\":0,\"ticks\":\"\"},\"colorscale\":[[0.0,\"#0d0887\"],[0.1111111111111111,\"#46039f\"],[0.2222222222222222,\"#7201a8\"],[0.3333333333333333,\"#9c179e\"],[0.4444444444444444,\"#bd3786\"],[0.5555555555555556,\"#d8576b\"],[0.6666666666666666,\"#ed7953\"],[0.7777777777777778,\"#fb9f3a\"],[0.8888888888888888,\"#fdca26\"],[1.0,\"#f0f921\"]],\"type\":\"heatmapgl\"}],\"heatmap\":[{\"colorbar\":{\"outlinewidth\":0,\"ticks\":\"\"},\"colorscale\":[[0.0,\"#0d0887\"],[0.1111111111111111,\"#46039f\"],[0.2222222222222222,\"#7201a8\"],[0.3333333333333333,\"#9c179e\"],[0.4444444444444444,\"#bd3786\"],[0.5555555555555556,\"#d8576b\"],[0.6666666666666666,\"#ed7953\"],[0.7777777777777778,\"#fb9f3a\"],[0.8888888888888888,\"#fdca26\"],[1.0,\"#f0f921\"]],\"type\":\"heatmap\"}],\"histogram2dcontour\":[{\"colorbar\":{\"outlinewidth\":0,\"ticks\":\"\"},\"colorscale\":[[0.0,\"#0d0887\"],[0.1111111111111111,\"#46039f\"],[0.2222222222222222,\"#7201a8\"],[0.3333333333333333,\"#9c179e\"],[0.4444444444444444,\"#bd3786\"],[0.5555555555555556,\"#d8576b\"],[0.6666666666666666,\"#ed7953\"],[0.7777777777777778,\"#fb9f3a\"],[0.8888888888888888,\"#fdca26\"],[1.0,\"#f0f921\"]],\"type\":\"histogram2dcontour\"}],\"histogram2d\":[{\"colorbar\":{\"outlinewidth\":0,\"ticks\":\"\"},\"colorscale\":[[0.0,\"#0d0887\"],[0.1111111111111111,\"#46039f\"],[0.2222222222222222,\"#7201a8\"],[0.3333333333333333,\"#9c179e\"],[0.4444444444444444,\"#bd3786\"],[0.5555555555555556,\"#d8576b\"],[0.6666666666666666,\"#ed7953\"],[0.7777777777777778,\"#fb9f3a\"],[0.8888888888888888,\"#fdca26\"],[1.0,\"#f0f921\"]],\"type\":\"histogram2d\"}],\"histogram\":[{\"marker\":{\"pattern\":{\"fillmode\":\"overlay\",\"size\":10,\"solidity\":0.2}},\"type\":\"histogram\"}],\"mesh3d\":[{\"colorbar\":{\"outlinewidth\":0,\"ticks\":\"\"},\"type\":\"mesh3d\"}],\"parcoords\":[{\"line\":{\"colorbar\":{\"outlinewidth\":0,\"ticks\":\"\"}},\"type\":\"parcoords\"}],\"pie\":[{\"automargin\":true,\"type\":\"pie\"}],\"scatter3d\":[{\"line\":{\"colorbar\":{\"outlinewidth\":0,\"ticks\":\"\"}},\"marker\":{\"colorbar\":{\"outlinewidth\":0,\"ticks\":\"\"}},\"type\":\"scatter3d\"}],\"scattercarpet\":[{\"marker\":{\"colorbar\":{\"outlinewidth\":0,\"ticks\":\"\"}},\"type\":\"scattercarpet\"}],\"scattergeo\":[{\"marker\":{\"colorbar\":{\"outlinewidth\":0,\"ticks\":\"\"}},\"type\":\"scattergeo\"}],\"scattergl\":[{\"marker\":{\"colorbar\":{\"outlinewidth\":0,\"ticks\":\"\"}},\"type\":\"scattergl\"}],\"scattermapbox\":[{\"marker\":{\"colorbar\":{\"outlinewidth\":0,\"ticks\":\"\"}},\"type\":\"scattermapbox\"}],\"scatterpolargl\":[{\"marker\":{\"colorbar\":{\"outlinewidth\":0,\"ticks\":\"\"}},\"type\":\"scatterpolargl\"}],\"scatterpolar\":[{\"marker\":{\"colorbar\":{\"outlinewidth\":0,\"ticks\":\"\"}},\"type\":\"scatterpolar\"}],\"scatter\":[{\"marker\":{\"colorbar\":{\"outlinewidth\":0,\"ticks\":\"\"}},\"type\":\"scatter\"}],\"scatterternary\":[{\"marker\":{\"colorbar\":{\"outlinewidth\":0,\"ticks\":\"\"}},\"type\":\"scatterternary\"}],\"surface\":[{\"colorbar\":{\"outlinewidth\":0,\"ticks\":\"\"},\"colorscale\":[[0.0,\"#0d0887\"],[0.1111111111111111,\"#46039f\"],[0.2222222222222222,\"#7201a8\"],[0.3333333333333333,\"#9c179e\"],[0.4444444444444444,\"#bd3786\"],[0.5555555555555556,\"#d8576b\"],[0.6666666666666666,\"#ed7953\"],[0.7777777777777778,\"#fb9f3a\"],[0.8888888888888888,\"#fdca26\"],[1.0,\"#f0f921\"]],\"type\":\"surface\"}],\"table\":[{\"cells\":{\"fill\":{\"color\":\"#EBF0F8\"},\"line\":{\"color\":\"white\"}},\"header\":{\"fill\":{\"color\":\"#C8D4E3\"},\"line\":{\"color\":\"white\"}},\"type\":\"table\"}]},\"layout\":{\"annotationdefaults\":{\"arrowcolor\":\"#2a3f5f\",\"arrowhead\":0,\"arrowwidth\":1},\"autotypenumbers\":\"strict\",\"coloraxis\":{\"colorbar\":{\"outlinewidth\":0,\"ticks\":\"\"}},\"colorscale\":{\"diverging\":[[0,\"#8e0152\"],[0.1,\"#c51b7d\"],[0.2,\"#de77ae\"],[0.3,\"#f1b6da\"],[0.4,\"#fde0ef\"],[0.5,\"#f7f7f7\"],[0.6,\"#e6f5d0\"],[0.7,\"#b8e186\"],[0.8,\"#7fbc41\"],[0.9,\"#4d9221\"],[1,\"#276419\"]],\"sequential\":[[0.0,\"#0d0887\"],[0.1111111111111111,\"#46039f\"],[0.2222222222222222,\"#7201a8\"],[0.3333333333333333,\"#9c179e\"],[0.4444444444444444,\"#bd3786\"],[0.5555555555555556,\"#d8576b\"],[0.6666666666666666,\"#ed7953\"],[0.7777777777777778,\"#fb9f3a\"],[0.8888888888888888,\"#fdca26\"],[1.0,\"#f0f921\"]],\"sequentialminus\":[[0.0,\"#0d0887\"],[0.1111111111111111,\"#46039f\"],[0.2222222222222222,\"#7201a8\"],[0.3333333333333333,\"#9c179e\"],[0.4444444444444444,\"#bd3786\"],[0.5555555555555556,\"#d8576b\"],[0.6666666666666666,\"#ed7953\"],[0.7777777777777778,\"#fb9f3a\"],[0.8888888888888888,\"#fdca26\"],[1.0,\"#f0f921\"]]},\"colorway\":[\"#636efa\",\"#EF553B\",\"#00cc96\",\"#ab63fa\",\"#FFA15A\",\"#19d3f3\",\"#FF6692\",\"#B6E880\",\"#FF97FF\",\"#FECB52\"],\"font\":{\"color\":\"#2a3f5f\"},\"geo\":{\"bgcolor\":\"white\",\"lakecolor\":\"white\",\"landcolor\":\"white\",\"showlakes\":true,\"showland\":true,\"subunitcolor\":\"#C8D4E3\"},\"hoverlabel\":{\"align\":\"left\"},\"hovermode\":\"closest\",\"mapbox\":{\"style\":\"light\"},\"paper_bgcolor\":\"white\",\"plot_bgcolor\":\"white\",\"polar\":{\"angularaxis\":{\"gridcolor\":\"#EBF0F8\",\"linecolor\":\"#EBF0F8\",\"ticks\":\"\"},\"bgcolor\":\"white\",\"radialaxis\":{\"gridcolor\":\"#EBF0F8\",\"linecolor\":\"#EBF0F8\",\"ticks\":\"\"}},\"scene\":{\"xaxis\":{\"backgroundcolor\":\"white\",\"gridcolor\":\"#DFE8F3\",\"gridwidth\":2,\"linecolor\":\"#EBF0F8\",\"showbackground\":true,\"ticks\":\"\",\"zerolinecolor\":\"#EBF0F8\"},\"yaxis\":{\"backgroundcolor\":\"white\",\"gridcolor\":\"#DFE8F3\",\"gridwidth\":2,\"linecolor\":\"#EBF0F8\",\"showbackground\":true,\"ticks\":\"\",\"zerolinecolor\":\"#EBF0F8\"},\"zaxis\":{\"backgroundcolor\":\"white\",\"gridcolor\":\"#DFE8F3\",\"gridwidth\":2,\"linecolor\":\"#EBF0F8\",\"showbackground\":true,\"ticks\":\"\",\"zerolinecolor\":\"#EBF0F8\"}},\"shapedefaults\":{\"line\":{\"color\":\"#2a3f5f\"}},\"ternary\":{\"aaxis\":{\"gridcolor\":\"#DFE8F3\",\"linecolor\":\"#A2B1C6\",\"ticks\":\"\"},\"baxis\":{\"gridcolor\":\"#DFE8F3\",\"linecolor\":\"#A2B1C6\",\"ticks\":\"\"},\"bgcolor\":\"white\",\"caxis\":{\"gridcolor\":\"#DFE8F3\",\"linecolor\":\"#A2B1C6\",\"ticks\":\"\"}},\"title\":{\"x\":0.05},\"xaxis\":{\"automargin\":true,\"gridcolor\":\"#EBF0F8\",\"linecolor\":\"#EBF0F8\",\"ticks\":\"\",\"title\":{\"standoff\":15},\"zerolinecolor\":\"#EBF0F8\",\"zerolinewidth\":2},\"yaxis\":{\"automargin\":true,\"gridcolor\":\"#EBF0F8\",\"linecolor\":\"#EBF0F8\",\"ticks\":\"\",\"title\":{\"standoff\":15},\"zerolinecolor\":\"#EBF0F8\",\"zerolinewidth\":2}}},\"xaxis\":{\"title\":{\"text\":\"Time\"}},\"title\":{\"text\":\"Ethereum Candelstick Chart\",\"y\":0.9,\"x\":0.5,\"xanchor\":\"center\",\"yanchor\":\"top\"},\"yaxis\":{\"title\":{\"text\":\"Price in USD\"},\"ticksuffix\":\"$\"}},                        {\"responsive\": true}                    ).then(function(){\n",
       "                            \n",
       "var gd = document.getElementById('d4ab93b0-4a37-483b-9047-508e6340c635');\n",
       "var x = new MutationObserver(function (mutations, observer) {{\n",
       "        var display = window.getComputedStyle(gd).display;\n",
       "        if (!display || display === 'none') {{\n",
       "            console.log([gd, 'removed!']);\n",
       "            Plotly.purge(gd);\n",
       "            observer.disconnect();\n",
       "        }}\n",
       "}});\n",
       "\n",
       "// Listen for the removal of the full notebook cells\n",
       "var notebookContainer = gd.closest('#notebook-container');\n",
       "if (notebookContainer) {{\n",
       "    x.observe(notebookContainer, {childList: true});\n",
       "}}\n",
       "\n",
       "// Listen for the clearing of the current output cell\n",
       "var outputEl = gd.closest('.output');\n",
       "if (outputEl) {{\n",
       "    x.observe(outputEl, {childList: true});\n",
       "}}\n",
       "\n",
       "                        })                };                });            </script>        </div>"
      ]
     },
     "metadata": {},
     "output_type": "display_data"
    }
   ],
   "source": [
    "candelstick_chart(train, 6, 'Ethereum')"
   ]
  },
  {
   "cell_type": "markdown",
   "id": "6156097f",
   "metadata": {
    "papermill": {
     "duration": 0.038581,
     "end_time": "2022-02-11T07:40:18.488059",
     "exception": false,
     "start_time": "2022-02-11T07:40:18.449478",
     "status": "completed"
    },
    "tags": []
   },
   "source": [
    "### Check overall trend: Moving Average\n",
    "To check overall trend of asset price, we use **moving average(MA)** in general. In finance, a moving average (MA) is a stock indicator that is commonly used in technical analysis. The reason for calculating the moving average of a stock is to help smooth out the price data by creating a constantly updated average price.\n",
    "\n",
    " + Simple moving average(SMA): calculation that takes the arithmetic mean of a given set of prices over the specific number of days in the past\n",
    " + Exponential moving average(EMA): weighted average that gives greater importance to the price of a stock in more recent days, making it an indicator that is more responsive to new information.\n",
    " \n",
    " \n",
    "In this part, I'll calculate SMA of close price of asset for 5(weekly), 30(monthly) and 120 days. MA5 and MA30 shows short-term trend and MA120 shows long-term trend of asset price."
   ]
  },
  {
   "cell_type": "code",
   "execution_count": 10,
   "id": "7acf88db",
   "metadata": {
    "execution": {
     "iopub.execute_input": "2022-02-11T07:40:18.569140Z",
     "iopub.status.busy": "2022-02-11T07:40:18.568292Z",
     "iopub.status.idle": "2022-02-11T07:40:18.570828Z",
     "shell.execute_reply": "2022-02-11T07:40:18.570330Z",
     "shell.execute_reply.started": "2022-02-10T11:45:13.940691Z"
    },
    "papermill": {
     "duration": 0.047275,
     "end_time": "2022-02-11T07:40:18.570938",
     "exception": false,
     "start_time": "2022-02-11T07:40:18.523663",
     "status": "completed"
    },
    "tags": []
   },
   "outputs": [],
   "source": [
    "def ma_chart(data, id_, title):\n",
    "    data = data[data['Asset_ID'] == id_].reset_index(drop = True)\n",
    "    data = data.set_index('timestamp')\n",
    "    data = data.iloc[-365:,:]  # recent 1 year\n",
    "    data['MA5'] = data['Close'].rolling(window = 5, min_periods = 1).mean()\n",
    "    data['MA30'] = data['Close'].rolling(window = 30, min_periods = 1).mean()\n",
    "    data['MA120'] = data['Close'].rolling(window = 120, min_periods = 1).mean()\n",
    "    \n",
    "    ma = go.Figure(data = [go.Scatter(x = data.index, y = data['Close'], mode='lines', \n",
    "                                     name = 'Close', line = dict(color = 'black', width = 2))])\n",
    "    ma.update_xaxes(title_text = 'Time')\n",
    "\n",
    "    ma.update_layout(\n",
    "    title = {\n",
    "        'text': '{:} Moving Average'.format(title),\n",
    "        'y':0.90,\n",
    "        'x':0.5,\n",
    "        'xanchor': 'center',\n",
    "        'yanchor': 'top'} , \n",
    "    template=\"plotly_white\")\n",
    "    \n",
    "    ma.add_trace(go.Scatter(x = data.index, y = data['MA5'], mode='lines', \n",
    "                                     name='MA5', line = dict(color = 'red', width = 2)))\n",
    "    ma.add_trace(go.Scatter(x = data.index, y = data['MA30'], mode='lines', \n",
    "                                     name='MA30', line = dict(color = 'blue', width = 2)))\n",
    "    ma.add_trace(go.Scatter(x = data.index, y = data['MA120'], mode='lines', \n",
    "                                     name='MA120', line = dict(color = 'orange', width = 2)))\n",
    "\n",
    "    ma.update_yaxes(title_text = 'Price in USD', ticksuffix = '$')\n",
    "    return ma"
   ]
  },
  {
   "cell_type": "code",
   "execution_count": 11,
   "id": "2223dbc4",
   "metadata": {
    "execution": {
     "iopub.execute_input": "2022-02-11T07:40:18.643236Z",
     "iopub.status.busy": "2022-02-11T07:40:18.642292Z",
     "iopub.status.idle": "2022-02-11T07:40:19.148754Z",
     "shell.execute_reply": "2022-02-11T07:40:19.149218Z",
     "shell.execute_reply.started": "2022-02-10T11:45:13.956485Z"
    },
    "papermill": {
     "duration": 0.5451,
     "end_time": "2022-02-11T07:40:19.149373",
     "exception": false,
     "start_time": "2022-02-11T07:40:18.604273",
     "status": "completed"
    },
    "tags": []
   },
   "outputs": [
    {
     "data": {
      "text/html": [
       "<div>                            <div id=\"5a0e1163-a42d-4708-8b45-3505fb21a021\" class=\"plotly-graph-div\" style=\"height:525px; width:100%;\"></div>            <script type=\"text/javascript\">                require([\"plotly\"], function(Plotly) {                    window.PLOTLYENV=window.PLOTLYENV || {};                                    if (document.getElementById(\"5a0e1163-a42d-4708-8b45-3505fb21a021\")) {                    Plotly.newPlot(                        \"5a0e1163-a42d-4708-8b45-3505fb21a021\",                        [{\"line\":{\"color\":\"black\",\"width\":2},\"mode\":\"lines\",\"name\":\"Close\",\"x\":[\"2021-09-20T17:56:00\",\"2021-09-20T17:57:00\",\"2021-09-20T17:58:00\",\"2021-09-20T17:59:00\",\"2021-09-20T18:00:00\",\"2021-09-20T18:01:00\",\"2021-09-20T18:02:00\",\"2021-09-20T18:03:00\",\"2021-09-20T18:04:00\",\"2021-09-20T18:05:00\",\"2021-09-20T18:06:00\",\"2021-09-20T18:07:00\",\"2021-09-20T18:08:00\",\"2021-09-20T18:09:00\",\"2021-09-20T18:10:00\",\"2021-09-20T18:11:00\",\"2021-09-20T18:12:00\",\"2021-09-20T18:13:00\",\"2021-09-20T18:14:00\",\"2021-09-20T18:15:00\",\"2021-09-20T18:16:00\",\"2021-09-20T18:17:00\",\"2021-09-20T18:18:00\",\"2021-09-20T18:19:00\",\"2021-09-20T18:20:00\",\"2021-09-20T18:21:00\",\"2021-09-20T18:22:00\",\"2021-09-20T18:23:00\",\"2021-09-20T18:24:00\",\"2021-09-20T18:25:00\",\"2021-09-20T18:26:00\",\"2021-09-20T18:27:00\",\"2021-09-20T18:28:00\",\"2021-09-20T18:29:00\",\"2021-09-20T18:30:00\",\"2021-09-20T18:31:00\",\"2021-09-20T18:32:00\",\"2021-09-20T18:33:00\",\"2021-09-20T18:34:00\",\"2021-09-20T18:35:00\",\"2021-09-20T18:36:00\",\"2021-09-20T18:37:00\",\"2021-09-20T18:38:00\",\"2021-09-20T18:39:00\",\"2021-09-20T18:40:00\",\"2021-09-20T18:41:00\",\"2021-09-20T18:42:00\",\"2021-09-20T18:43:00\",\"2021-09-20T18:44:00\",\"2021-09-20T18:45:00\",\"2021-09-20T18:46:00\",\"2021-09-20T18:47:00\",\"2021-09-20T18:48:00\",\"2021-09-20T18:49:00\",\"2021-09-20T18:50:00\",\"2021-09-20T18:51:00\",\"2021-09-20T18:52:00\",\"2021-09-20T18:53:00\",\"2021-09-20T18:54:00\",\"2021-09-20T18:55:00\",\"2021-09-20T18:56:00\",\"2021-09-20T18:57:00\",\"2021-09-20T18:58:00\",\"2021-09-20T18:59:00\",\"2021-09-20T19:00:00\",\"2021-09-20T19:01:00\",\"2021-09-20T19:02:00\",\"2021-09-20T19:03:00\",\"2021-09-20T19:04:00\",\"2021-09-20T19:05:00\",\"2021-09-20T19:06:00\",\"2021-09-20T19:07:00\",\"2021-09-20T19:08:00\",\"2021-09-20T19:09:00\",\"2021-09-20T19:10:00\",\"2021-09-20T19:11:00\",\"2021-09-20T19:12:00\",\"2021-09-20T19:13:00\",\"2021-09-20T19:14:00\",\"2021-09-20T19:15:00\",\"2021-09-20T19:16:00\",\"2021-09-20T19:17:00\",\"2021-09-20T19:18:00\",\"2021-09-20T19:19:00\",\"2021-09-20T19:20:00\",\"2021-09-20T19:21:00\",\"2021-09-20T19:22:00\",\"2021-09-20T19:23:00\",\"2021-09-20T19:24:00\",\"2021-09-20T19:25:00\",\"2021-09-20T19:26:00\",\"2021-09-20T19:27:00\",\"2021-09-20T19:28:00\",\"2021-09-20T19:29:00\",\"2021-09-20T19:30:00\",\"2021-09-20T19:31:00\",\"2021-09-20T19:32:00\",\"2021-09-20T19:33:00\",\"2021-09-20T19:34:00\",\"2021-09-20T19:35:00\",\"2021-09-20T19:36:00\",\"2021-09-20T19:37:00\",\"2021-09-20T19:38:00\",\"2021-09-20T19:39:00\",\"2021-09-20T19:40:00\",\"2021-09-20T19:41:00\",\"2021-09-20T19:42:00\",\"2021-09-20T19:43:00\",\"2021-09-20T19:44:00\",\"2021-09-20T19:45:00\",\"2021-09-20T19:46:00\",\"2021-09-20T19:47:00\",\"2021-09-20T19:48:00\",\"2021-09-20T19:49:00\",\"2021-09-20T19:50:00\",\"2021-09-20T19:51:00\",\"2021-09-20T19:52:00\",\"2021-09-20T19:53:00\",\"2021-09-20T19:54:00\",\"2021-09-20T19:55:00\",\"2021-09-20T19:56:00\",\"2021-09-20T19:57:00\",\"2021-09-20T19:58:00\",\"2021-09-20T19:59:00\",\"2021-09-20T20:00:00\",\"2021-09-20T20:01:00\",\"2021-09-20T20:02:00\",\"2021-09-20T20:03:00\",\"2021-09-20T20:04:00\",\"2021-09-20T20:05:00\",\"2021-09-20T20:06:00\",\"2021-09-20T20:07:00\",\"2021-09-20T20:08:00\",\"2021-09-20T20:09:00\",\"2021-09-20T20:10:00\",\"2021-09-20T20:11:00\",\"2021-09-20T20:12:00\",\"2021-09-20T20:13:00\",\"2021-09-20T20:14:00\",\"2021-09-20T20:15:00\",\"2021-09-20T20:16:00\",\"2021-09-20T20:17:00\",\"2021-09-20T20:18:00\",\"2021-09-20T20:19:00\",\"2021-09-20T20:20:00\",\"2021-09-20T20:21:00\",\"2021-09-20T20:22:00\",\"2021-09-20T20:23:00\",\"2021-09-20T20:24:00\",\"2021-09-20T20:25:00\",\"2021-09-20T20:26:00\",\"2021-09-20T20:27:00\",\"2021-09-20T20:28:00\",\"2021-09-20T20:29:00\",\"2021-09-20T20:30:00\",\"2021-09-20T20:31:00\",\"2021-09-20T20:32:00\",\"2021-09-20T20:33:00\",\"2021-09-20T20:34:00\",\"2021-09-20T20:35:00\",\"2021-09-20T20:36:00\",\"2021-09-20T20:37:00\",\"2021-09-20T20:38:00\",\"2021-09-20T20:39:00\",\"2021-09-20T20:40:00\",\"2021-09-20T20:41:00\",\"2021-09-20T20:42:00\",\"2021-09-20T20:43:00\",\"2021-09-20T20:44:00\",\"2021-09-20T20:45:00\",\"2021-09-20T20:46:00\",\"2021-09-20T20:47:00\",\"2021-09-20T20:48:00\",\"2021-09-20T20:49:00\",\"2021-09-20T20:50:00\",\"2021-09-20T20:51:00\",\"2021-09-20T20:52:00\",\"2021-09-20T20:53:00\",\"2021-09-20T20:54:00\",\"2021-09-20T20:55:00\",\"2021-09-20T20:56:00\",\"2021-09-20T20:57:00\",\"2021-09-20T20:58:00\",\"2021-09-20T20:59:00\",\"2021-09-20T21:00:00\",\"2021-09-20T21:01:00\",\"2021-09-20T21:02:00\",\"2021-09-20T21:03:00\",\"2021-09-20T21:04:00\",\"2021-09-20T21:05:00\",\"2021-09-20T21:06:00\",\"2021-09-20T21:07:00\",\"2021-09-20T21:08:00\",\"2021-09-20T21:09:00\",\"2021-09-20T21:10:00\",\"2021-09-20T21:11:00\",\"2021-09-20T21:12:00\",\"2021-09-20T21:13:00\",\"2021-09-20T21:14:00\",\"2021-09-20T21:15:00\",\"2021-09-20T21:16:00\",\"2021-09-20T21:17:00\",\"2021-09-20T21:18:00\",\"2021-09-20T21:19:00\",\"2021-09-20T21:20:00\",\"2021-09-20T21:21:00\",\"2021-09-20T21:22:00\",\"2021-09-20T21:23:00\",\"2021-09-20T21:24:00\",\"2021-09-20T21:25:00\",\"2021-09-20T21:26:00\",\"2021-09-20T21:27:00\",\"2021-09-20T21:28:00\",\"2021-09-20T21:29:00\",\"2021-09-20T21:30:00\",\"2021-09-20T21:31:00\",\"2021-09-20T21:32:00\",\"2021-09-20T21:33:00\",\"2021-09-20T21:34:00\",\"2021-09-20T21:35:00\",\"2021-09-20T21:36:00\",\"2021-09-20T21:37:00\",\"2021-09-20T21:38:00\",\"2021-09-20T21:39:00\",\"2021-09-20T21:40:00\",\"2021-09-20T21:41:00\",\"2021-09-20T21:42:00\",\"2021-09-20T21:43:00\",\"2021-09-20T21:44:00\",\"2021-09-20T21:45:00\",\"2021-09-20T21:46:00\",\"2021-09-20T21:47:00\",\"2021-09-20T21:48:00\",\"2021-09-20T21:49:00\",\"2021-09-20T21:50:00\",\"2021-09-20T21:51:00\",\"2021-09-20T21:52:00\",\"2021-09-20T21:53:00\",\"2021-09-20T21:54:00\",\"2021-09-20T21:55:00\",\"2021-09-20T21:56:00\",\"2021-09-20T21:57:00\",\"2021-09-20T21:58:00\",\"2021-09-20T21:59:00\",\"2021-09-20T22:00:00\",\"2021-09-20T22:01:00\",\"2021-09-20T22:02:00\",\"2021-09-20T22:03:00\",\"2021-09-20T22:04:00\",\"2021-09-20T22:05:00\",\"2021-09-20T22:06:00\",\"2021-09-20T22:07:00\",\"2021-09-20T22:08:00\",\"2021-09-20T22:09:00\",\"2021-09-20T22:10:00\",\"2021-09-20T22:11:00\",\"2021-09-20T22:12:00\",\"2021-09-20T22:13:00\",\"2021-09-20T22:14:00\",\"2021-09-20T22:15:00\",\"2021-09-20T22:16:00\",\"2021-09-20T22:17:00\",\"2021-09-20T22:18:00\",\"2021-09-20T22:19:00\",\"2021-09-20T22:20:00\",\"2021-09-20T22:21:00\",\"2021-09-20T22:22:00\",\"2021-09-20T22:23:00\",\"2021-09-20T22:24:00\",\"2021-09-20T22:25:00\",\"2021-09-20T22:26:00\",\"2021-09-20T22:27:00\",\"2021-09-20T22:28:00\",\"2021-09-20T22:29:00\",\"2021-09-20T22:30:00\",\"2021-09-20T22:31:00\",\"2021-09-20T22:32:00\",\"2021-09-20T22:33:00\",\"2021-09-20T22:34:00\",\"2021-09-20T22:35:00\",\"2021-09-20T22:36:00\",\"2021-09-20T22:37:00\",\"2021-09-20T22:38:00\",\"2021-09-20T22:39:00\",\"2021-09-20T22:40:00\",\"2021-09-20T22:41:00\",\"2021-09-20T22:42:00\",\"2021-09-20T22:43:00\",\"2021-09-20T22:44:00\",\"2021-09-20T22:45:00\",\"2021-09-20T22:46:00\",\"2021-09-20T22:47:00\",\"2021-09-20T22:48:00\",\"2021-09-20T22:49:00\",\"2021-09-20T22:50:00\",\"2021-09-20T22:51:00\",\"2021-09-20T22:52:00\",\"2021-09-20T22:53:00\",\"2021-09-20T22:54:00\",\"2021-09-20T22:55:00\",\"2021-09-20T22:56:00\",\"2021-09-20T22:57:00\",\"2021-09-20T22:58:00\",\"2021-09-20T22:59:00\",\"2021-09-20T23:00:00\",\"2021-09-20T23:01:00\",\"2021-09-20T23:02:00\",\"2021-09-20T23:03:00\",\"2021-09-20T23:04:00\",\"2021-09-20T23:05:00\",\"2021-09-20T23:06:00\",\"2021-09-20T23:07:00\",\"2021-09-20T23:08:00\",\"2021-09-20T23:09:00\",\"2021-09-20T23:10:00\",\"2021-09-20T23:11:00\",\"2021-09-20T23:12:00\",\"2021-09-20T23:13:00\",\"2021-09-20T23:14:00\",\"2021-09-20T23:15:00\",\"2021-09-20T23:16:00\",\"2021-09-20T23:17:00\",\"2021-09-20T23:18:00\",\"2021-09-20T23:19:00\",\"2021-09-20T23:20:00\",\"2021-09-20T23:21:00\",\"2021-09-20T23:22:00\",\"2021-09-20T23:23:00\",\"2021-09-20T23:24:00\",\"2021-09-20T23:25:00\",\"2021-09-20T23:26:00\",\"2021-09-20T23:27:00\",\"2021-09-20T23:28:00\",\"2021-09-20T23:29:00\",\"2021-09-20T23:30:00\",\"2021-09-20T23:31:00\",\"2021-09-20T23:32:00\",\"2021-09-20T23:33:00\",\"2021-09-20T23:34:00\",\"2021-09-20T23:35:00\",\"2021-09-20T23:36:00\",\"2021-09-20T23:37:00\",\"2021-09-20T23:38:00\",\"2021-09-20T23:39:00\",\"2021-09-20T23:40:00\",\"2021-09-20T23:41:00\",\"2021-09-20T23:42:00\",\"2021-09-20T23:43:00\",\"2021-09-20T23:44:00\",\"2021-09-20T23:45:00\",\"2021-09-20T23:46:00\",\"2021-09-20T23:47:00\",\"2021-09-20T23:48:00\",\"2021-09-20T23:49:00\",\"2021-09-20T23:50:00\",\"2021-09-20T23:51:00\",\"2021-09-20T23:52:00\",\"2021-09-20T23:53:00\",\"2021-09-20T23:54:00\",\"2021-09-20T23:55:00\",\"2021-09-20T23:56:00\",\"2021-09-20T23:57:00\",\"2021-09-20T23:58:00\",\"2021-09-20T23:59:00\",\"2021-09-21T00:00:00\"],\"y\":[44081.32428571428,44075.9125,44058.48142857144,44055.08571428571,44074.30556436499,44001.75296752144,44066.24142857143,44034.928571428565,44004.0117661043,43995.07142857144,43948.74120796142,43972.00714285715,43955.68125,43924.0725,43912.1,43908.69571428571,43910.81714285714,43907.60999999999,43892.17,43907.147142857146,43897.822857142855,43887.49142857143,43936.31714285714,43887.57857142857,43883.78000000001,43816.68714285714,43764.58499999999,43705.529999999984,43615.78519134,43631.3825,43608.51857142857,43657.15142857143,43616.29875,43592.74999999999,43607.779999999984,43613.294807325714,43617.95142857143,43607.26461277252,43476.775,43468.55,43358.5125,43260.43875,43338.33857142857,43387.5,43430.76125,43425.04571428573,43444.13142857143,43462.86857142857,43438.15142857143,43434.11714285715,43501.97714285714,43532.21630312999,43547.94125,43550.975,43572.80857142858,43583.987142857135,43570.85039915428,43453.79571428571,43412.99571428571,43356.83,43316.38428571429,43378.10428571428,43327.55714285715,43402.377142857134,43469.32857142857,43496.44324048428,43411.79554926144,43389.18714285714,43351.12285714286,43367.725714285705,43246.20285714286,43287.80428571429,43259.50285714286,43182.72714285715,43332.12237411285,43428.04,43279.78625000001,43152.395,43201.0325,43219.78625,43191.09285714285,43144.77571428572,43102.57714285714,43016.79875,43038.5875,43017.88625,42924.27875,42989.867500000015,43104.23,43064.03278645572,43015.39428571429,42943.09142857143,42972.01857142857,43064.57142857143,43160.67285714286,43473.7075,43488.3,43516.6025,43525.70857142857,43572.76714285714,43615.64375,43624.02487568,43597.24857142857,43569.21875,43586.88857142856,43580.31285714286,43712.58875000002,43813.67375,43688.851250000014,43754.548571428575,43682.015000000014,43637.7,43629.56714285714,43606.30142857142,43581.91571428572,43578.70428571429,43699.40625,43841.88500000002,43860.98,43906.19445371875,43894.241250000014,43920.58285714285,43904.57857142857,43861.21571428572,43871.135,43935.1742648,43909.92285714286,43907.97714285715,43921.57571428571,43870.96875,43898.26867075625,43874.34142857143,43870.84571428572,43869.898571428566,43857.86714285715,43790.63714285714,43823.41857142858,43800.722857142864,43804.91571428572,43825.08036451143,43783.38000000001,43785.446250000015,43761.25285714286,43779.69285714287,43750.83602162143,43741.25714285715,43729.68,43719.648571428566,43710.88285714285,43751.097142857136,43741.67714285715,43709.96115756857,43723.27142857143,43647.66142857143,43685.0875,43666.62285714286,43688.77942172,43684.07022895857,43697.28428571428,43725.01142857143,43745.28999999999,43763.855714285724,43775.26857142857,43682.67857142857,43578.98218626571,43447.00375,43440.0,43360.72375,43427.24285714286,43375.04,43391.2775,43328.33142857143,43333.292857142864,43272.20571428572,43302.26142857143,43237.22857142857,43293.438571428575,43335.397142857146,43329.36,43315.57857142857,43358.98,43401.56125,43496.01714285714,43543.944285714286,43735.24749999998,43635.8,43565.93714285714,43445.9742505125,43582.882500000014,43509.89375,43583.13375,43620.45625000002,43683.955,43688.792857142864,43748.37285714286,43733.61857142858,43770.91142857143,43725.21247342,43699.93519433285,43681.41125,43663.37142857142,43674.12714285714,43735.2968762825,43761.40857142857,43804.98142857143,43748.64871729857,43754.64400535857,43761.9313146925,43745.054649555714,43749.41395637714,43704.05428571429,43754.37857142858,43752.16000000002,43752.56428571429,43742.16285714285,43722.25010413143,43698.399835418575,43678.80153424286,43688.29428571429,43673.78428571428,43674.93714285714,43696.93209772,43696.218571428566,43688.90142857142,43680.15714285715,43699.02571428572,43731.86428571429,43747.49428571429,43762.66571428572,43851.00774273375,43796.60571428571,43767.107142857145,43685.150000000016,43691.55,43724.642857142855,43737.69285714287,43651.975714285705,43596.42285714286,43623.89428571428,43635.89571428572,43561.85142857144,43536.07792585572,43480.374285714286,43514.82,43608.34571428572,43568.90142857143,43554.05285714286,43631.01714285714,43631.90714285714,43537.49,43597.75303396001,43648.514285714286,43697.334285714285,43707.43,43726.24681658715,43765.792857142864,43715.65571428572,43715.125714285714,43710.31428571429,43731.00625,43770.145714285725,43814.85571428571,43816.27125000001,43806.570000000014,43806.79142857143,43770.66857142857,43799.1,43833.474285714285,43811.704285714295,43843.44,43832.01571428571,43786.38571428572,43769.188571428575,43774.467142857146,43796.19,43797.20571428572,43798.15714285714,43804.61142857144,43831.59142857143,43871.69625,43897.16857142858,43901.38285714285,43883.25895342144,43862.52,43894.77857142857,43866.73499999999,43845.84857142857,43823.298571428575,43752.76714285714,43703.374285714286,43669.07857142857,43642.77285714285,43615.38,43504.42428571429,43367.88571428572,43316.7225,43295.04428571429,43250.16571428572,43075.9025,43232.90125,43259.1575,43293.7075,43305.09857142857,43327.79,43356.28068103,43344.55857142858,43484.61375,43580.82375,43470.794999999984,43198.788571428566,43213.69,43269.54714285715,43239.26125,43114.23614144125,43067.63,43060.81,42991.2775,42989.62375,43219.33125,43140.19135458125,43198.24000000001,43110.797500000015,43157.72298172143,43099.1575,43051.08285714287,42966.91285714286,43009.43142857143,42880.67875,42822.040000000015,42699.178750000014,42778.885,42779.71,42700.44625,42659.58241635572,42600.39625,42624.279999999984,42577.0,42679.60625,42678.21816655625,42762.514285714286,42825.295,42736.6525,42769.39571428571,42637.115,42703.63625,42781.97057111125,42755.5925,42717.23428571428,42657.20249999999,42678.72142857143,42778.29125,42790.17571428571,42731.73142857143,42898.565,42939.64571428572,42927.167142857135,42979.83375,42960.60142857144,42985.48285714286,42985.21482412572,42899.01285714287,42860.00571428572,42827.02,43017.277142857136,43002.505],\"type\":\"scatter\"},{\"line\":{\"color\":\"red\",\"width\":2},\"mode\":\"lines\",\"name\":\"MA5\",\"x\":[\"2021-09-20T17:56:00\",\"2021-09-20T17:57:00\",\"2021-09-20T17:58:00\",\"2021-09-20T17:59:00\",\"2021-09-20T18:00:00\",\"2021-09-20T18:01:00\",\"2021-09-20T18:02:00\",\"2021-09-20T18:03:00\",\"2021-09-20T18:04:00\",\"2021-09-20T18:05:00\",\"2021-09-20T18:06:00\",\"2021-09-20T18:07:00\",\"2021-09-20T18:08:00\",\"2021-09-20T18:09:00\",\"2021-09-20T18:10:00\",\"2021-09-20T18:11:00\",\"2021-09-20T18:12:00\",\"2021-09-20T18:13:00\",\"2021-09-20T18:14:00\",\"2021-09-20T18:15:00\",\"2021-09-20T18:16:00\",\"2021-09-20T18:17:00\",\"2021-09-20T18:18:00\",\"2021-09-20T18:19:00\",\"2021-09-20T18:20:00\",\"2021-09-20T18:21:00\",\"2021-09-20T18:22:00\",\"2021-09-20T18:23:00\",\"2021-09-20T18:24:00\",\"2021-09-20T18:25:00\",\"2021-09-20T18:26:00\",\"2021-09-20T18:27:00\",\"2021-09-20T18:28:00\",\"2021-09-20T18:29:00\",\"2021-09-20T18:30:00\",\"2021-09-20T18:31:00\",\"2021-09-20T18:32:00\",\"2021-09-20T18:33:00\",\"2021-09-20T18:34:00\",\"2021-09-20T18:35:00\",\"2021-09-20T18:36:00\",\"2021-09-20T18:37:00\",\"2021-09-20T18:38:00\",\"2021-09-20T18:39:00\",\"2021-09-20T18:40:00\",\"2021-09-20T18:41:00\",\"2021-09-20T18:42:00\",\"2021-09-20T18:43:00\",\"2021-09-20T18:44:00\",\"2021-09-20T18:45:00\",\"2021-09-20T18:46:00\",\"2021-09-20T18:47:00\",\"2021-09-20T18:48:00\",\"2021-09-20T18:49:00\",\"2021-09-20T18:50:00\",\"2021-09-20T18:51:00\",\"2021-09-20T18:52:00\",\"2021-09-20T18:53:00\",\"2021-09-20T18:54:00\",\"2021-09-20T18:55:00\",\"2021-09-20T18:56:00\",\"2021-09-20T18:57:00\",\"2021-09-20T18:58:00\",\"2021-09-20T18:59:00\",\"2021-09-20T19:00:00\",\"2021-09-20T19:01:00\",\"2021-09-20T19:02:00\",\"2021-09-20T19:03:00\",\"2021-09-20T19:04:00\",\"2021-09-20T19:05:00\",\"2021-09-20T19:06:00\",\"2021-09-20T19:07:00\",\"2021-09-20T19:08:00\",\"2021-09-20T19:09:00\",\"2021-09-20T19:10:00\",\"2021-09-20T19:11:00\",\"2021-09-20T19:12:00\",\"2021-09-20T19:13:00\",\"2021-09-20T19:14:00\",\"2021-09-20T19:15:00\",\"2021-09-20T19:16:00\",\"2021-09-20T19:17:00\",\"2021-09-20T19:18:00\",\"2021-09-20T19:19:00\",\"2021-09-20T19:20:00\",\"2021-09-20T19:21:00\",\"2021-09-20T19:22:00\",\"2021-09-20T19:23:00\",\"2021-09-20T19:24:00\",\"2021-09-20T19:25:00\",\"2021-09-20T19:26:00\",\"2021-09-20T19:27:00\",\"2021-09-20T19:28:00\",\"2021-09-20T19:29:00\",\"2021-09-20T19:30:00\",\"2021-09-20T19:31:00\",\"2021-09-20T19:32:00\",\"2021-09-20T19:33:00\",\"2021-09-20T19:34:00\",\"2021-09-20T19:35:00\",\"2021-09-20T19:36:00\",\"2021-09-20T19:37:00\",\"2021-09-20T19:38:00\",\"2021-09-20T19:39:00\",\"2021-09-20T19:40:00\",\"2021-09-20T19:41:00\",\"2021-09-20T19:42:00\",\"2021-09-20T19:43:00\",\"2021-09-20T19:44:00\",\"2021-09-20T19:45:00\",\"2021-09-20T19:46:00\",\"2021-09-20T19:47:00\",\"2021-09-20T19:48:00\",\"2021-09-20T19:49:00\",\"2021-09-20T19:50:00\",\"2021-09-20T19:51:00\",\"2021-09-20T19:52:00\",\"2021-09-20T19:53:00\",\"2021-09-20T19:54:00\",\"2021-09-20T19:55:00\",\"2021-09-20T19:56:00\",\"2021-09-20T19:57:00\",\"2021-09-20T19:58:00\",\"2021-09-20T19:59:00\",\"2021-09-20T20:00:00\",\"2021-09-20T20:01:00\",\"2021-09-20T20:02:00\",\"2021-09-20T20:03:00\",\"2021-09-20T20:04:00\",\"2021-09-20T20:05:00\",\"2021-09-20T20:06:00\",\"2021-09-20T20:07:00\",\"2021-09-20T20:08:00\",\"2021-09-20T20:09:00\",\"2021-09-20T20:10:00\",\"2021-09-20T20:11:00\",\"2021-09-20T20:12:00\",\"2021-09-20T20:13:00\",\"2021-09-20T20:14:00\",\"2021-09-20T20:15:00\",\"2021-09-20T20:16:00\",\"2021-09-20T20:17:00\",\"2021-09-20T20:18:00\",\"2021-09-20T20:19:00\",\"2021-09-20T20:20:00\",\"2021-09-20T20:21:00\",\"2021-09-20T20:22:00\",\"2021-09-20T20:23:00\",\"2021-09-20T20:24:00\",\"2021-09-20T20:25:00\",\"2021-09-20T20:26:00\",\"2021-09-20T20:27:00\",\"2021-09-20T20:28:00\",\"2021-09-20T20:29:00\",\"2021-09-20T20:30:00\",\"2021-09-20T20:31:00\",\"2021-09-20T20:32:00\",\"2021-09-20T20:33:00\",\"2021-09-20T20:34:00\",\"2021-09-20T20:35:00\",\"2021-09-20T20:36:00\",\"2021-09-20T20:37:00\",\"2021-09-20T20:38:00\",\"2021-09-20T20:39:00\",\"2021-09-20T20:40:00\",\"2021-09-20T20:41:00\",\"2021-09-20T20:42:00\",\"2021-09-20T20:43:00\",\"2021-09-20T20:44:00\",\"2021-09-20T20:45:00\",\"2021-09-20T20:46:00\",\"2021-09-20T20:47:00\",\"2021-09-20T20:48:00\",\"2021-09-20T20:49:00\",\"2021-09-20T20:50:00\",\"2021-09-20T20:51:00\",\"2021-09-20T20:52:00\",\"2021-09-20T20:53:00\",\"2021-09-20T20:54:00\",\"2021-09-20T20:55:00\",\"2021-09-20T20:56:00\",\"2021-09-20T20:57:00\",\"2021-09-20T20:58:00\",\"2021-09-20T20:59:00\",\"2021-09-20T21:00:00\",\"2021-09-20T21:01:00\",\"2021-09-20T21:02:00\",\"2021-09-20T21:03:00\",\"2021-09-20T21:04:00\",\"2021-09-20T21:05:00\",\"2021-09-20T21:06:00\",\"2021-09-20T21:07:00\",\"2021-09-20T21:08:00\",\"2021-09-20T21:09:00\",\"2021-09-20T21:10:00\",\"2021-09-20T21:11:00\",\"2021-09-20T21:12:00\",\"2021-09-20T21:13:00\",\"2021-09-20T21:14:00\",\"2021-09-20T21:15:00\",\"2021-09-20T21:16:00\",\"2021-09-20T21:17:00\",\"2021-09-20T21:18:00\",\"2021-09-20T21:19:00\",\"2021-09-20T21:20:00\",\"2021-09-20T21:21:00\",\"2021-09-20T21:22:00\",\"2021-09-20T21:23:00\",\"2021-09-20T21:24:00\",\"2021-09-20T21:25:00\",\"2021-09-20T21:26:00\",\"2021-09-20T21:27:00\",\"2021-09-20T21:28:00\",\"2021-09-20T21:29:00\",\"2021-09-20T21:30:00\",\"2021-09-20T21:31:00\",\"2021-09-20T21:32:00\",\"2021-09-20T21:33:00\",\"2021-09-20T21:34:00\",\"2021-09-20T21:35:00\",\"2021-09-20T21:36:00\",\"2021-09-20T21:37:00\",\"2021-09-20T21:38:00\",\"2021-09-20T21:39:00\",\"2021-09-20T21:40:00\",\"2021-09-20T21:41:00\",\"2021-09-20T21:42:00\",\"2021-09-20T21:43:00\",\"2021-09-20T21:44:00\",\"2021-09-20T21:45:00\",\"2021-09-20T21:46:00\",\"2021-09-20T21:47:00\",\"2021-09-20T21:48:00\",\"2021-09-20T21:49:00\",\"2021-09-20T21:50:00\",\"2021-09-20T21:51:00\",\"2021-09-20T21:52:00\",\"2021-09-20T21:53:00\",\"2021-09-20T21:54:00\",\"2021-09-20T21:55:00\",\"2021-09-20T21:56:00\",\"2021-09-20T21:57:00\",\"2021-09-20T21:58:00\",\"2021-09-20T21:59:00\",\"2021-09-20T22:00:00\",\"2021-09-20T22:01:00\",\"2021-09-20T22:02:00\",\"2021-09-20T22:03:00\",\"2021-09-20T22:04:00\",\"2021-09-20T22:05:00\",\"2021-09-20T22:06:00\",\"2021-09-20T22:07:00\",\"2021-09-20T22:08:00\",\"2021-09-20T22:09:00\",\"2021-09-20T22:10:00\",\"2021-09-20T22:11:00\",\"2021-09-20T22:12:00\",\"2021-09-20T22:13:00\",\"2021-09-20T22:14:00\",\"2021-09-20T22:15:00\",\"2021-09-20T22:16:00\",\"2021-09-20T22:17:00\",\"2021-09-20T22:18:00\",\"2021-09-20T22:19:00\",\"2021-09-20T22:20:00\",\"2021-09-20T22:21:00\",\"2021-09-20T22:22:00\",\"2021-09-20T22:23:00\",\"2021-09-20T22:24:00\",\"2021-09-20T22:25:00\",\"2021-09-20T22:26:00\",\"2021-09-20T22:27:00\",\"2021-09-20T22:28:00\",\"2021-09-20T22:29:00\",\"2021-09-20T22:30:00\",\"2021-09-20T22:31:00\",\"2021-09-20T22:32:00\",\"2021-09-20T22:33:00\",\"2021-09-20T22:34:00\",\"2021-09-20T22:35:00\",\"2021-09-20T22:36:00\",\"2021-09-20T22:37:00\",\"2021-09-20T22:38:00\",\"2021-09-20T22:39:00\",\"2021-09-20T22:40:00\",\"2021-09-20T22:41:00\",\"2021-09-20T22:42:00\",\"2021-09-20T22:43:00\",\"2021-09-20T22:44:00\",\"2021-09-20T22:45:00\",\"2021-09-20T22:46:00\",\"2021-09-20T22:47:00\",\"2021-09-20T22:48:00\",\"2021-09-20T22:49:00\",\"2021-09-20T22:50:00\",\"2021-09-20T22:51:00\",\"2021-09-20T22:52:00\",\"2021-09-20T22:53:00\",\"2021-09-20T22:54:00\",\"2021-09-20T22:55:00\",\"2021-09-20T22:56:00\",\"2021-09-20T22:57:00\",\"2021-09-20T22:58:00\",\"2021-09-20T22:59:00\",\"2021-09-20T23:00:00\",\"2021-09-20T23:01:00\",\"2021-09-20T23:02:00\",\"2021-09-20T23:03:00\",\"2021-09-20T23:04:00\",\"2021-09-20T23:05:00\",\"2021-09-20T23:06:00\",\"2021-09-20T23:07:00\",\"2021-09-20T23:08:00\",\"2021-09-20T23:09:00\",\"2021-09-20T23:10:00\",\"2021-09-20T23:11:00\",\"2021-09-20T23:12:00\",\"2021-09-20T23:13:00\",\"2021-09-20T23:14:00\",\"2021-09-20T23:15:00\",\"2021-09-20T23:16:00\",\"2021-09-20T23:17:00\",\"2021-09-20T23:18:00\",\"2021-09-20T23:19:00\",\"2021-09-20T23:20:00\",\"2021-09-20T23:21:00\",\"2021-09-20T23:22:00\",\"2021-09-20T23:23:00\",\"2021-09-20T23:24:00\",\"2021-09-20T23:25:00\",\"2021-09-20T23:26:00\",\"2021-09-20T23:27:00\",\"2021-09-20T23:28:00\",\"2021-09-20T23:29:00\",\"2021-09-20T23:30:00\",\"2021-09-20T23:31:00\",\"2021-09-20T23:32:00\",\"2021-09-20T23:33:00\",\"2021-09-20T23:34:00\",\"2021-09-20T23:35:00\",\"2021-09-20T23:36:00\",\"2021-09-20T23:37:00\",\"2021-09-20T23:38:00\",\"2021-09-20T23:39:00\",\"2021-09-20T23:40:00\",\"2021-09-20T23:41:00\",\"2021-09-20T23:42:00\",\"2021-09-20T23:43:00\",\"2021-09-20T23:44:00\",\"2021-09-20T23:45:00\",\"2021-09-20T23:46:00\",\"2021-09-20T23:47:00\",\"2021-09-20T23:48:00\",\"2021-09-20T23:49:00\",\"2021-09-20T23:50:00\",\"2021-09-20T23:51:00\",\"2021-09-20T23:52:00\",\"2021-09-20T23:53:00\",\"2021-09-20T23:54:00\",\"2021-09-20T23:55:00\",\"2021-09-20T23:56:00\",\"2021-09-20T23:57:00\",\"2021-09-20T23:58:00\",\"2021-09-20T23:59:00\",\"2021-09-21T00:00:00\"],\"y\":[44081.32428571428,44078.61839285714,44071.90607142858,44067.70098214286,44069.021898587285,44053.10763494872,44051.173420663006,44046.46284923443,44036.24805959815,44020.40123243943,44009.79888052743,43990.952023384576,43975.102559098865,43959.114705878004,43942.52042016371,43934.511321428574,43922.27332142857,43912.65907142857,43906.27857142857,43905.28799999999,43903.11342857142,43898.44828571429,43904.189714285705,43903.271428571425,43898.598000000005,43882.37085714286,43857.78957142857,43811.63214285714,43757.273466839426,43706.793966839425,43665.16025255371,43643.673538268,43625.827288268,43621.22025,43616.499749999995,43617.454997179426,43609.61499717942,43607.80816973393,43584.61316973393,43556.76716973393,43505.81070826879,43434.308172554505,43380.52296428571,43362.66796428571,43355.11021428571,43368.41685714286,43405.155392857145,43430.06139285715,43440.191678571435,43440.862857142856,43456.249142857145,43473.86611776885,43490.88065348314,43513.44536776886,43541.183653483145,43557.58565348314,43565.312472688,43546.483365545144,43518.88750840229,43475.69179411657,43422.171222688004,43383.621999999996,43358.374285714286,43356.250571428565,43378.75028571428,43414.76207666828,43421.50032937771,43433.82632937771,43423.57547223486,43403.254900806285,43353.206824138004,43328.408571428576,43302.47171428571,43268.792571428574,43261.671903394,43298.039331965425,43296.43572482257,43275.014153394,43278.675224822575,43256.208,43208.81857142857,43181.816464285715,43171.85289285714,43135.00614285715,43098.76639285714,43064.12507142858,43020.02567857143,42997.48375,43014.97,43020.059057291146,43019.560664434,43023.32320014829,43019.753414433995,43011.82170014829,43031.14971428572,43122.81235714286,43231.85407142857,43340.77085714286,43432.99828571429,43515.41714285714,43543.80439285714,43570.94936799315,43587.07858227886,43595.780617993136,43598.604903707426,43591.53872513599,43609.2515,43652.53653571429,43676.46303571429,43709.995035714295,43730.33546428573,43715.35771428572,43678.53639285715,43662.02642857142,43627.49985714286,43606.83771428571,43619.17896428572,43661.64253571429,43712.578250000006,43777.43399788661,43840.54139074376,43884.77671217233,43897.31542645804,43897.36256931518,43890.35067857143,43898.537281531426,43896.40528153143,43897.084995817146,43909.156995817146,43909.123745817145,43901.742627008396,43894.62634129411,43887.20005557982,43876.8646270084,43874.24430557982,43852.718,43842.533428571434,43828.508857142864,43815.512285714285,43808.95493004515,43807.50350147372,43799.909037188,43792.015037188,43786.97046575944,43772.12159718144,43763.69702575287,43752.54377575286,43744.22291861,43730.46091861,43730.51314285714,43730.597142857136,43726.65337437086,43727.377945799424,43714.73366008515,43701.53173151372,43686.520874370864,43682.28452720115,43674.44428727857,43684.36885870714,43692.353644421426,43708.08707299286,43723.102331506,43741.342,43738.42085714286,43709.21500868171,43649.557758681716,43584.786615824574,43501.87765153886,43450.79050868171,43410.00207142857,43398.85682142857,43376.52310714286,43371.036928571426,43340.029500000004,43325.47378571429,43294.664000000004,43287.685428571436,43288.10628571429,43299.537142857145,43302.20057142856,43326.55085714285,43348.17539285714,43380.299392857145,43423.21625,43507.15003571429,43562.51403571428,43595.389214285715,43585.38063581678,43593.16827867393,43548.09752867393,43537.56427867393,43548.46810010251,43596.06425000001,43617.24632142858,43664.942142857144,43695.03910714287,43725.130142857146,43733.38163754115,43735.61010497915,43722.21778355057,43708.168354979134,43688.81149783628,43690.82837840878,43703.12305382793,43727.83708954221,43744.89254728764,43760.99591978793,43766.32280746993,43763.052023095355,43751.9385286565,43743.01964233964,43742.96655555364,43741.01229261515,43742.51421984687,43741.064,43744.70316368343,43733.50741648143,43718.83572333,43705.98172333,43692.30600904429,43682.84341678943,43682.54986924971,43686.03327668686,43686.154705258275,43687.42927668685,43692.24699097257,43699.23342857143,43709.48857142857,43724.24142857144,43758.41154854676,43777.92754854675,43784.97611997533,43772.50726283247,43758.284119975324,43733.01114285714,43721.22857142858,43698.20228571429,43680.45685714287,43666.92571428572,43649.17628571429,43614.008,43590.82844231401,43567.6187280283,43545.80387088543,43540.293870885434,43541.70387088544,43545.29885714286,43575.42742857143,43598.84485714286,43584.67371428571,43590.44403536343,43609.33632107772,43622.59974964915,43637.70432107772,43675.45568439514,43709.06364903172,43722.491934746,43726.05022046029,43726.627077603145,43727.57896428571,43728.44953571429,43748.289535714284,43768.51864285715,43787.76978571429,43802.926821428584,43803.031392857156,43799.88025,43803.32085714286,43804.347714285715,43811.67742857143,43823.94685714286,43821.404,43808.546857142865,43801.09942857143,43791.649428571436,43784.68742857144,43787.04171428572,43794.12628571429,43805.55114285715,43820.65239285715,43840.64496428572,43861.29010714286,43877.01961211286,43883.20532639857,43887.821790684284,43881.735076398574,43870.62821925571,43858.63614285714,43836.68557142857,43798.40471428571,43758.87342857143,43718.258285714284,43676.67457142857,43627.006,43559.908285714286,43489.43707142857,43419.891357142864,43346.84850000001,43261.14414285715,43234.14725,43222.63425,43222.36689285714,43233.35346428571,43283.730964285714,43308.406850491716,43325.48706477743,43363.668314777424,43418.81335049171,43447.414350491716,43415.91592857143,43389.74221428571,43346.728892857136,43278.416392857136,43207.104621145394,43180.87290685968,43150.29690685968,43094.64297828825,43044.71547828825,43065.734500000006,43080.24677091625,43107.73277091626,43131.63677091626,43165.256617260544,43141.22186726054,43123.40016777287,43077.134739201436,43056.861524915716,43001.45267857143,42946.029178571436,42875.64835714286,42838.04278571429,42792.09850000001,42756.05200000001,42723.560483271154,42703.803983271144,42672.882983271134,42632.34098327114,42628.17298327114,42631.90013331124,42664.3237404541,42704.52674045411,42736.45724045411,42754.41513331125,42746.1945,42734.41889285714,42725.75400707939,42729.54200707939,42719.10972136511,42723.1272213651,42718.14425707939,42717.40839285714,42724.325035714275,42727.22446428571,42775.49696428572,42827.681821428574,42857.457,42895.38860714286,42941.16260714286,42958.54617857143,42967.66000053943,42962.029143396576,42938.06353625372,42911.34725053943,42917.706107682294,42921.164142857146],\"type\":\"scatter\"},{\"line\":{\"color\":\"blue\",\"width\":2},\"mode\":\"lines\",\"name\":\"MA30\",\"x\":[\"2021-09-20T17:56:00\",\"2021-09-20T17:57:00\",\"2021-09-20T17:58:00\",\"2021-09-20T17:59:00\",\"2021-09-20T18:00:00\",\"2021-09-20T18:01:00\",\"2021-09-20T18:02:00\",\"2021-09-20T18:03:00\",\"2021-09-20T18:04:00\",\"2021-09-20T18:05:00\",\"2021-09-20T18:06:00\",\"2021-09-20T18:07:00\",\"2021-09-20T18:08:00\",\"2021-09-20T18:09:00\",\"2021-09-20T18:10:00\",\"2021-09-20T18:11:00\",\"2021-09-20T18:12:00\",\"2021-09-20T18:13:00\",\"2021-09-20T18:14:00\",\"2021-09-20T18:15:00\",\"2021-09-20T18:16:00\",\"2021-09-20T18:17:00\",\"2021-09-20T18:18:00\",\"2021-09-20T18:19:00\",\"2021-09-20T18:20:00\",\"2021-09-20T18:21:00\",\"2021-09-20T18:22:00\",\"2021-09-20T18:23:00\",\"2021-09-20T18:24:00\",\"2021-09-20T18:25:00\",\"2021-09-20T18:26:00\",\"2021-09-20T18:27:00\",\"2021-09-20T18:28:00\",\"2021-09-20T18:29:00\",\"2021-09-20T18:30:00\",\"2021-09-20T18:31:00\",\"2021-09-20T18:32:00\",\"2021-09-20T18:33:00\",\"2021-09-20T18:34:00\",\"2021-09-20T18:35:00\",\"2021-09-20T18:36:00\",\"2021-09-20T18:37:00\",\"2021-09-20T18:38:00\",\"2021-09-20T18:39:00\",\"2021-09-20T18:40:00\",\"2021-09-20T18:41:00\",\"2021-09-20T18:42:00\",\"2021-09-20T18:43:00\",\"2021-09-20T18:44:00\",\"2021-09-20T18:45:00\",\"2021-09-20T18:46:00\",\"2021-09-20T18:47:00\",\"2021-09-20T18:48:00\",\"2021-09-20T18:49:00\",\"2021-09-20T18:50:00\",\"2021-09-20T18:51:00\",\"2021-09-20T18:52:00\",\"2021-09-20T18:53:00\",\"2021-09-20T18:54:00\",\"2021-09-20T18:55:00\",\"2021-09-20T18:56:00\",\"2021-09-20T18:57:00\",\"2021-09-20T18:58:00\",\"2021-09-20T18:59:00\",\"2021-09-20T19:00:00\",\"2021-09-20T19:01:00\",\"2021-09-20T19:02:00\",\"2021-09-20T19:03:00\",\"2021-09-20T19:04:00\",\"2021-09-20T19:05:00\",\"2021-09-20T19:06:00\",\"2021-09-20T19:07:00\",\"2021-09-20T19:08:00\",\"2021-09-20T19:09:00\",\"2021-09-20T19:10:00\",\"2021-09-20T19:11:00\",\"2021-09-20T19:12:00\",\"2021-09-20T19:13:00\",\"2021-09-20T19:14:00\",\"2021-09-20T19:15:00\",\"2021-09-20T19:16:00\",\"2021-09-20T19:17:00\",\"2021-09-20T19:18:00\",\"2021-09-20T19:19:00\",\"2021-09-20T19:20:00\",\"2021-09-20T19:21:00\",\"2021-09-20T19:22:00\",\"2021-09-20T19:23:00\",\"2021-09-20T19:24:00\",\"2021-09-20T19:25:00\",\"2021-09-20T19:26:00\",\"2021-09-20T19:27:00\",\"2021-09-20T19:28:00\",\"2021-09-20T19:29:00\",\"2021-09-20T19:30:00\",\"2021-09-20T19:31:00\",\"2021-09-20T19:32:00\",\"2021-09-20T19:33:00\",\"2021-09-20T19:34:00\",\"2021-09-20T19:35:00\",\"2021-09-20T19:36:00\",\"2021-09-20T19:37:00\",\"2021-09-20T19:38:00\",\"2021-09-20T19:39:00\",\"2021-09-20T19:40:00\",\"2021-09-20T19:41:00\",\"2021-09-20T19:42:00\",\"2021-09-20T19:43:00\",\"2021-09-20T19:44:00\",\"2021-09-20T19:45:00\",\"2021-09-20T19:46:00\",\"2021-09-20T19:47:00\",\"2021-09-20T19:48:00\",\"2021-09-20T19:49:00\",\"2021-09-20T19:50:00\",\"2021-09-20T19:51:00\",\"2021-09-20T19:52:00\",\"2021-09-20T19:53:00\",\"2021-09-20T19:54:00\",\"2021-09-20T19:55:00\",\"2021-09-20T19:56:00\",\"2021-09-20T19:57:00\",\"2021-09-20T19:58:00\",\"2021-09-20T19:59:00\",\"2021-09-20T20:00:00\",\"2021-09-20T20:01:00\",\"2021-09-20T20:02:00\",\"2021-09-20T20:03:00\",\"2021-09-20T20:04:00\",\"2021-09-20T20:05:00\",\"2021-09-20T20:06:00\",\"2021-09-20T20:07:00\",\"2021-09-20T20:08:00\",\"2021-09-20T20:09:00\",\"2021-09-20T20:10:00\",\"2021-09-20T20:11:00\",\"2021-09-20T20:12:00\",\"2021-09-20T20:13:00\",\"2021-09-20T20:14:00\",\"2021-09-20T20:15:00\",\"2021-09-20T20:16:00\",\"2021-09-20T20:17:00\",\"2021-09-20T20:18:00\",\"2021-09-20T20:19:00\",\"2021-09-20T20:20:00\",\"2021-09-20T20:21:00\",\"2021-09-20T20:22:00\",\"2021-09-20T20:23:00\",\"2021-09-20T20:24:00\",\"2021-09-20T20:25:00\",\"2021-09-20T20:26:00\",\"2021-09-20T20:27:00\",\"2021-09-20T20:28:00\",\"2021-09-20T20:29:00\",\"2021-09-20T20:30:00\",\"2021-09-20T20:31:00\",\"2021-09-20T20:32:00\",\"2021-09-20T20:33:00\",\"2021-09-20T20:34:00\",\"2021-09-20T20:35:00\",\"2021-09-20T20:36:00\",\"2021-09-20T20:37:00\",\"2021-09-20T20:38:00\",\"2021-09-20T20:39:00\",\"2021-09-20T20:40:00\",\"2021-09-20T20:41:00\",\"2021-09-20T20:42:00\",\"2021-09-20T20:43:00\",\"2021-09-20T20:44:00\",\"2021-09-20T20:45:00\",\"2021-09-20T20:46:00\",\"2021-09-20T20:47:00\",\"2021-09-20T20:48:00\",\"2021-09-20T20:49:00\",\"2021-09-20T20:50:00\",\"2021-09-20T20:51:00\",\"2021-09-20T20:52:00\",\"2021-09-20T20:53:00\",\"2021-09-20T20:54:00\",\"2021-09-20T20:55:00\",\"2021-09-20T20:56:00\",\"2021-09-20T20:57:00\",\"2021-09-20T20:58:00\",\"2021-09-20T20:59:00\",\"2021-09-20T21:00:00\",\"2021-09-20T21:01:00\",\"2021-09-20T21:02:00\",\"2021-09-20T21:03:00\",\"2021-09-20T21:04:00\",\"2021-09-20T21:05:00\",\"2021-09-20T21:06:00\",\"2021-09-20T21:07:00\",\"2021-09-20T21:08:00\",\"2021-09-20T21:09:00\",\"2021-09-20T21:10:00\",\"2021-09-20T21:11:00\",\"2021-09-20T21:12:00\",\"2021-09-20T21:13:00\",\"2021-09-20T21:14:00\",\"2021-09-20T21:15:00\",\"2021-09-20T21:16:00\",\"2021-09-20T21:17:00\",\"2021-09-20T21:18:00\",\"2021-09-20T21:19:00\",\"2021-09-20T21:20:00\",\"2021-09-20T21:21:00\",\"2021-09-20T21:22:00\",\"2021-09-20T21:23:00\",\"2021-09-20T21:24:00\",\"2021-09-20T21:25:00\",\"2021-09-20T21:26:00\",\"2021-09-20T21:27:00\",\"2021-09-20T21:28:00\",\"2021-09-20T21:29:00\",\"2021-09-20T21:30:00\",\"2021-09-20T21:31:00\",\"2021-09-20T21:32:00\",\"2021-09-20T21:33:00\",\"2021-09-20T21:34:00\",\"2021-09-20T21:35:00\",\"2021-09-20T21:36:00\",\"2021-09-20T21:37:00\",\"2021-09-20T21:38:00\",\"2021-09-20T21:39:00\",\"2021-09-20T21:40:00\",\"2021-09-20T21:41:00\",\"2021-09-20T21:42:00\",\"2021-09-20T21:43:00\",\"2021-09-20T21:44:00\",\"2021-09-20T21:45:00\",\"2021-09-20T21:46:00\",\"2021-09-20T21:47:00\",\"2021-09-20T21:48:00\",\"2021-09-20T21:49:00\",\"2021-09-20T21:50:00\",\"2021-09-20T21:51:00\",\"2021-09-20T21:52:00\",\"2021-09-20T21:53:00\",\"2021-09-20T21:54:00\",\"2021-09-20T21:55:00\",\"2021-09-20T21:56:00\",\"2021-09-20T21:57:00\",\"2021-09-20T21:58:00\",\"2021-09-20T21:59:00\",\"2021-09-20T22:00:00\",\"2021-09-20T22:01:00\",\"2021-09-20T22:02:00\",\"2021-09-20T22:03:00\",\"2021-09-20T22:04:00\",\"2021-09-20T22:05:00\",\"2021-09-20T22:06:00\",\"2021-09-20T22:07:00\",\"2021-09-20T22:08:00\",\"2021-09-20T22:09:00\",\"2021-09-20T22:10:00\",\"2021-09-20T22:11:00\",\"2021-09-20T22:12:00\",\"2021-09-20T22:13:00\",\"2021-09-20T22:14:00\",\"2021-09-20T22:15:00\",\"2021-09-20T22:16:00\",\"2021-09-20T22:17:00\",\"2021-09-20T22:18:00\",\"2021-09-20T22:19:00\",\"2021-09-20T22:20:00\",\"2021-09-20T22:21:00\",\"2021-09-20T22:22:00\",\"2021-09-20T22:23:00\",\"2021-09-20T22:24:00\",\"2021-09-20T22:25:00\",\"2021-09-20T22:26:00\",\"2021-09-20T22:27:00\",\"2021-09-20T22:28:00\",\"2021-09-20T22:29:00\",\"2021-09-20T22:30:00\",\"2021-09-20T22:31:00\",\"2021-09-20T22:32:00\",\"2021-09-20T22:33:00\",\"2021-09-20T22:34:00\",\"2021-09-20T22:35:00\",\"2021-09-20T22:36:00\",\"2021-09-20T22:37:00\",\"2021-09-20T22:38:00\",\"2021-09-20T22:39:00\",\"2021-09-20T22:40:00\",\"2021-09-20T22:41:00\",\"2021-09-20T22:42:00\",\"2021-09-20T22:43:00\",\"2021-09-20T22:44:00\",\"2021-09-20T22:45:00\",\"2021-09-20T22:46:00\",\"2021-09-20T22:47:00\",\"2021-09-20T22:48:00\",\"2021-09-20T22:49:00\",\"2021-09-20T22:50:00\",\"2021-09-20T22:51:00\",\"2021-09-20T22:52:00\",\"2021-09-20T22:53:00\",\"2021-09-20T22:54:00\",\"2021-09-20T22:55:00\",\"2021-09-20T22:56:00\",\"2021-09-20T22:57:00\",\"2021-09-20T22:58:00\",\"2021-09-20T22:59:00\",\"2021-09-20T23:00:00\",\"2021-09-20T23:01:00\",\"2021-09-20T23:02:00\",\"2021-09-20T23:03:00\",\"2021-09-20T23:04:00\",\"2021-09-20T23:05:00\",\"2021-09-20T23:06:00\",\"2021-09-20T23:07:00\",\"2021-09-20T23:08:00\",\"2021-09-20T23:09:00\",\"2021-09-20T23:10:00\",\"2021-09-20T23:11:00\",\"2021-09-20T23:12:00\",\"2021-09-20T23:13:00\",\"2021-09-20T23:14:00\",\"2021-09-20T23:15:00\",\"2021-09-20T23:16:00\",\"2021-09-20T23:17:00\",\"2021-09-20T23:18:00\",\"2021-09-20T23:19:00\",\"2021-09-20T23:20:00\",\"2021-09-20T23:21:00\",\"2021-09-20T23:22:00\",\"2021-09-20T23:23:00\",\"2021-09-20T23:24:00\",\"2021-09-20T23:25:00\",\"2021-09-20T23:26:00\",\"2021-09-20T23:27:00\",\"2021-09-20T23:28:00\",\"2021-09-20T23:29:00\",\"2021-09-20T23:30:00\",\"2021-09-20T23:31:00\",\"2021-09-20T23:32:00\",\"2021-09-20T23:33:00\",\"2021-09-20T23:34:00\",\"2021-09-20T23:35:00\",\"2021-09-20T23:36:00\",\"2021-09-20T23:37:00\",\"2021-09-20T23:38:00\",\"2021-09-20T23:39:00\",\"2021-09-20T23:40:00\",\"2021-09-20T23:41:00\",\"2021-09-20T23:42:00\",\"2021-09-20T23:43:00\",\"2021-09-20T23:44:00\",\"2021-09-20T23:45:00\",\"2021-09-20T23:46:00\",\"2021-09-20T23:47:00\",\"2021-09-20T23:48:00\",\"2021-09-20T23:49:00\",\"2021-09-20T23:50:00\",\"2021-09-20T23:51:00\",\"2021-09-20T23:52:00\",\"2021-09-20T23:53:00\",\"2021-09-20T23:54:00\",\"2021-09-20T23:55:00\",\"2021-09-20T23:56:00\",\"2021-09-20T23:57:00\",\"2021-09-20T23:58:00\",\"2021-09-20T23:59:00\",\"2021-09-21T00:00:00\"],\"y\":[44081.32428571428,44078.61839285714,44071.90607142858,44067.70098214286,44069.021898587285,44057.81041007631,44059.0148412899,44056.004057557235,44050.22713628468,44044.71156551336,44035.98698755409,44030.655333829345,44024.88809661171,44017.68698256801,44010.64785039681,44004.27584188987,43998.778271358526,43993.713367394164,43988.36897963658,43984.30788779761,43980.18955300452,43975.976001893934,43974.25170367494,43970.64032316467,43967.16591023808,43961.37826533882,43954.08962588183,43945.21249638604,43933.852934143084,43923.770586338316,43908.010395862126,43894.05169348117,43879.312270862116,43863.90108038592,43848.35022824043,43835.40162290057,43820.45862290057,43806.203157612035,43788.62859874189,43771.07788445618,43751.4035941908,43727.684647762224,43707.1065584765,43689.22080847651,43673.176183476506,43657.05451680985,43641.49832633366,43626.67361204794,43611.53965966698,43595.77199300032,43582.577135857464,43570.73463167608,43557.78876858085,43546.56864953323,43536.202935247515,43528.44626858085,43521.98844855265,43513.59730569552,43506.83765646037,43497.68590646037,43487.94809693656,43478.64652550799,43469.0218052699,43462.676043365136,43458.060995746084,43454.16594351803,43447.29408087437,43440.02483187719,43435.83642711528,43432.47561759148,43428.73196282957,43429.64414735338,43427.01629021053,43420.190528305764,43416.90256577619,43417.0023753,43411.52420268095,43401.17508363332,43393.27111934762,43386.12675625238,43375.76394672857,43362.849260433766,43348.00379019567,43330.19791519567,43312.39054614805,43293.52051638615,43271.968128081,43256.503854271476,43246.211663795286,43236.45175667715,43226.41875667714,43211.91832810571,43200.06704239143,43188.80685191524,43178.51832810571,43177.760470089575,43180.31061844752,43184.55779701895,43190.377320828484,43197.212035114186,43209.52673154276,43220.734084541626,43231.99227501781,43244.87532858924,43253.36753516643,43258.443297071186,43272.870047071185,43294.9126720712,43311.17329707118,43328.99870778548,43345.36277921405,43361.793588737855,43379.35992207119,43399.010011356906,43417.120951833094,43435.81488635691,43461.65246969024,43490.05305302357,43515.278053023576,43543.350108599014,43572.64500740854,43605.22805502758,43636.31338836091,43662.86819788472,43686.550269313295,43701.93249480663,43715.98659004472,43729.032411473294,43742.22798290186,43752.1680364733,43761.58886716517,43769.93275226155,43779.05265702345,43789.07531773774,43798.10793678535,43805.11874630918,43808.81307369012,43808.381377261554,43812.250192737745,43814.60125250717,43817.9800858405,43822.904960840504,43827.294484650025,43833.07419893575,43838.70487584693,43844.12330441836,43845.132429418365,43841.05788179931,43836.054643704076,43830.88473334201,43825.79926310393,43818.778539784784,43812.734968356206,43805.61649216573,43799.414908832405,43790.46319524383,43783.09174739641,43775.62818359979,43768.1518026474,43763.286558599786,43758.18726957458,43754.50441243172,43751.318507669814,43745.07784100315,43735.78167578344,43724.32722935486,43711.54661030725,43696.87997340247,43684.290878164386,43669.28953268066,43656.219449347336,43640.982288633044,43626.716955299715,43609.800717204474,43594.84823076948,43578.04727838853,43563.50589743614,43550.697516483764,43537.98008791233,43523.462802198046,43510.70623076948,43500.42623385052,43492.85109099338,43489.393852898145,43491.065852898144,43490.03842432672,43485.94368169795,43478.00714908308,43474.19375622595,43467.02316694023,43461.61795860689,43456.837976464034,43453.79419074975,43453.99800027356,43459.64435596947,43469.19818335042,43480.2285643028,43492.378188416806,43501.4679329898,43511.6803079898,43520.750105608844,43532.276629418375,43545.676763389696,43561.983525294454,43578.74085862779,43595.78819682345,43611.161711287794,43625.37951701563,43639.23600533416,43653.69718483244,43665.19966102291,43676.96023840387,43685.49833364196,43692.452333641966,43692.682845546726,43695.56451568443,43699.97993876982,43707.740848227506,43711.25457441797,43716.71759227512,43719.77770537036,43722.32690029436,43722.73568600864,43722.73930505626,43720.465447913404,43719.31235267531,43718.01078124673,43718.753508323214,43720.84452565498,43726.49774207944,43730.938884936586,43734.03821826991,43732.366655727164,43730.038036679536,43727.3600842986,43726.994888960064,43723.57261259097,43718.05566400599,43714.01698521127,43710.23304380823,43705.49294857013,43698.21626038437,43689.15673657484,43681.23192705103,43676.77135562246,43671.6597331038,43666.84816716127,43665.25535411508,43663.37578268651,43658.832639829365,43656.25983619946,43654.6459091326,43654.683099608796,43655.300718656414,43656.83704111408,43659.06261254265,43658.522326828366,43657.443374447415,43655.69832682836,43651.69827707057,43650.81627707057,43652.407896118195,43656.77860445152,43660.612604451526,43663.35089016581,43664.450080642004,43669.35422349915,43677.25593778487,43683.5162711182,43690.43441397534,43699.43989016581,43707.78348311348,43717.410625970624,43726.06553073253,43732.327006923006,43739.93714978014,43748.073959303954,43753.86043549443,43760.51657835158,43771.65678668491,43781.63730460053,43790.066256981474,43796.263745905046,43801.433412571714,43807.051137733106,43810.41587582834,43814.7556377331,43818.36139963786,43819.77649487595,43818.85542939976,43815.48652463787,43809.75042939977,43803.05405439976,43792.98253059024,43778.35234011405,43763.22080439977,43746.418947256905,43726.97532820928,43702.448602018805,43682.09731035215,43663.002036542624,43646.57942939977,43631.1097627331,43616.22052463786,43601.55688067219,43586.468642576954,43576.01719614838,43568.55760686266,43556.53105924362,43534.100803291236,43511.31818424362,43490.256993767434,43468.79040365339,43443.847608368094,43416.27598932047,43389.411822653805,43360.92612027285,43333.136959558564,43315.35576313,43296.582998758895,43280.88837971127,43263.15586780651,43247.900633863894,43234.39174100675,43223.83164576865,43212.17132434008,43202.65089576865,43190.33466362579,43181.87258029247,43164.08183029247,43148.07274695914,43130.93949695913,43110.78441957818,43088.5108334567,43063.31468575571,43039.30540004142,43009.05160837476,42979.01102504142,42952.591797259964,42938.049321069484,42925.102821069486,42907.33966630758,42891.67748178377,42875.773443735736,42863.64031873573,42854.34567110611,42846.489504439436,42837.409855629914,42818.67223062991,42803.28989976292,42789.29160809625,42778.6042152391,42764.40449680077,42757.71808013411,42754.00350870554,42752.67865156268,42751.69206227697,42754.35615156267,42759.80424680077,42769.338782604966,42773.343044509726,42776.01956831924,42780.23869331925,42792.1618508693,42805.5654758693],\"type\":\"scatter\"},{\"line\":{\"color\":\"orange\",\"width\":2},\"mode\":\"lines\",\"name\":\"MA120\",\"x\":[\"2021-09-20T17:56:00\",\"2021-09-20T17:57:00\",\"2021-09-20T17:58:00\",\"2021-09-20T17:59:00\",\"2021-09-20T18:00:00\",\"2021-09-20T18:01:00\",\"2021-09-20T18:02:00\",\"2021-09-20T18:03:00\",\"2021-09-20T18:04:00\",\"2021-09-20T18:05:00\",\"2021-09-20T18:06:00\",\"2021-09-20T18:07:00\",\"2021-09-20T18:08:00\",\"2021-09-20T18:09:00\",\"2021-09-20T18:10:00\",\"2021-09-20T18:11:00\",\"2021-09-20T18:12:00\",\"2021-09-20T18:13:00\",\"2021-09-20T18:14:00\",\"2021-09-20T18:15:00\",\"2021-09-20T18:16:00\",\"2021-09-20T18:17:00\",\"2021-09-20T18:18:00\",\"2021-09-20T18:19:00\",\"2021-09-20T18:20:00\",\"2021-09-20T18:21:00\",\"2021-09-20T18:22:00\",\"2021-09-20T18:23:00\",\"2021-09-20T18:24:00\",\"2021-09-20T18:25:00\",\"2021-09-20T18:26:00\",\"2021-09-20T18:27:00\",\"2021-09-20T18:28:00\",\"2021-09-20T18:29:00\",\"2021-09-20T18:30:00\",\"2021-09-20T18:31:00\",\"2021-09-20T18:32:00\",\"2021-09-20T18:33:00\",\"2021-09-20T18:34:00\",\"2021-09-20T18:35:00\",\"2021-09-20T18:36:00\",\"2021-09-20T18:37:00\",\"2021-09-20T18:38:00\",\"2021-09-20T18:39:00\",\"2021-09-20T18:40:00\",\"2021-09-20T18:41:00\",\"2021-09-20T18:42:00\",\"2021-09-20T18:43:00\",\"2021-09-20T18:44:00\",\"2021-09-20T18:45:00\",\"2021-09-20T18:46:00\",\"2021-09-20T18:47:00\",\"2021-09-20T18:48:00\",\"2021-09-20T18:49:00\",\"2021-09-20T18:50:00\",\"2021-09-20T18:51:00\",\"2021-09-20T18:52:00\",\"2021-09-20T18:53:00\",\"2021-09-20T18:54:00\",\"2021-09-20T18:55:00\",\"2021-09-20T18:56:00\",\"2021-09-20T18:57:00\",\"2021-09-20T18:58:00\",\"2021-09-20T18:59:00\",\"2021-09-20T19:00:00\",\"2021-09-20T19:01:00\",\"2021-09-20T19:02:00\",\"2021-09-20T19:03:00\",\"2021-09-20T19:04:00\",\"2021-09-20T19:05:00\",\"2021-09-20T19:06:00\",\"2021-09-20T19:07:00\",\"2021-09-20T19:08:00\",\"2021-09-20T19:09:00\",\"2021-09-20T19:10:00\",\"2021-09-20T19:11:00\",\"2021-09-20T19:12:00\",\"2021-09-20T19:13:00\",\"2021-09-20T19:14:00\",\"2021-09-20T19:15:00\",\"2021-09-20T19:16:00\",\"2021-09-20T19:17:00\",\"2021-09-20T19:18:00\",\"2021-09-20T19:19:00\",\"2021-09-20T19:20:00\",\"2021-09-20T19:21:00\",\"2021-09-20T19:22:00\",\"2021-09-20T19:23:00\",\"2021-09-20T19:24:00\",\"2021-09-20T19:25:00\",\"2021-09-20T19:26:00\",\"2021-09-20T19:27:00\",\"2021-09-20T19:28:00\",\"2021-09-20T19:29:00\",\"2021-09-20T19:30:00\",\"2021-09-20T19:31:00\",\"2021-09-20T19:32:00\",\"2021-09-20T19:33:00\",\"2021-09-20T19:34:00\",\"2021-09-20T19:35:00\",\"2021-09-20T19:36:00\",\"2021-09-20T19:37:00\",\"2021-09-20T19:38:00\",\"2021-09-20T19:39:00\",\"2021-09-20T19:40:00\",\"2021-09-20T19:41:00\",\"2021-09-20T19:42:00\",\"2021-09-20T19:43:00\",\"2021-09-20T19:44:00\",\"2021-09-20T19:45:00\",\"2021-09-20T19:46:00\",\"2021-09-20T19:47:00\",\"2021-09-20T19:48:00\",\"2021-09-20T19:49:00\",\"2021-09-20T19:50:00\",\"2021-09-20T19:51:00\",\"2021-09-20T19:52:00\",\"2021-09-20T19:53:00\",\"2021-09-20T19:54:00\",\"2021-09-20T19:55:00\",\"2021-09-20T19:56:00\",\"2021-09-20T19:57:00\",\"2021-09-20T19:58:00\",\"2021-09-20T19:59:00\",\"2021-09-20T20:00:00\",\"2021-09-20T20:01:00\",\"2021-09-20T20:02:00\",\"2021-09-20T20:03:00\",\"2021-09-20T20:04:00\",\"2021-09-20T20:05:00\",\"2021-09-20T20:06:00\",\"2021-09-20T20:07:00\",\"2021-09-20T20:08:00\",\"2021-09-20T20:09:00\",\"2021-09-20T20:10:00\",\"2021-09-20T20:11:00\",\"2021-09-20T20:12:00\",\"2021-09-20T20:13:00\",\"2021-09-20T20:14:00\",\"2021-09-20T20:15:00\",\"2021-09-20T20:16:00\",\"2021-09-20T20:17:00\",\"2021-09-20T20:18:00\",\"2021-09-20T20:19:00\",\"2021-09-20T20:20:00\",\"2021-09-20T20:21:00\",\"2021-09-20T20:22:00\",\"2021-09-20T20:23:00\",\"2021-09-20T20:24:00\",\"2021-09-20T20:25:00\",\"2021-09-20T20:26:00\",\"2021-09-20T20:27:00\",\"2021-09-20T20:28:00\",\"2021-09-20T20:29:00\",\"2021-09-20T20:30:00\",\"2021-09-20T20:31:00\",\"2021-09-20T20:32:00\",\"2021-09-20T20:33:00\",\"2021-09-20T20:34:00\",\"2021-09-20T20:35:00\",\"2021-09-20T20:36:00\",\"2021-09-20T20:37:00\",\"2021-09-20T20:38:00\",\"2021-09-20T20:39:00\",\"2021-09-20T20:40:00\",\"2021-09-20T20:41:00\",\"2021-09-20T20:42:00\",\"2021-09-20T20:43:00\",\"2021-09-20T20:44:00\",\"2021-09-20T20:45:00\",\"2021-09-20T20:46:00\",\"2021-09-20T20:47:00\",\"2021-09-20T20:48:00\",\"2021-09-20T20:49:00\",\"2021-09-20T20:50:00\",\"2021-09-20T20:51:00\",\"2021-09-20T20:52:00\",\"2021-09-20T20:53:00\",\"2021-09-20T20:54:00\",\"2021-09-20T20:55:00\",\"2021-09-20T20:56:00\",\"2021-09-20T20:57:00\",\"2021-09-20T20:58:00\",\"2021-09-20T20:59:00\",\"2021-09-20T21:00:00\",\"2021-09-20T21:01:00\",\"2021-09-20T21:02:00\",\"2021-09-20T21:03:00\",\"2021-09-20T21:04:00\",\"2021-09-20T21:05:00\",\"2021-09-20T21:06:00\",\"2021-09-20T21:07:00\",\"2021-09-20T21:08:00\",\"2021-09-20T21:09:00\",\"2021-09-20T21:10:00\",\"2021-09-20T21:11:00\",\"2021-09-20T21:12:00\",\"2021-09-20T21:13:00\",\"2021-09-20T21:14:00\",\"2021-09-20T21:15:00\",\"2021-09-20T21:16:00\",\"2021-09-20T21:17:00\",\"2021-09-20T21:18:00\",\"2021-09-20T21:19:00\",\"2021-09-20T21:20:00\",\"2021-09-20T21:21:00\",\"2021-09-20T21:22:00\",\"2021-09-20T21:23:00\",\"2021-09-20T21:24:00\",\"2021-09-20T21:25:00\",\"2021-09-20T21:26:00\",\"2021-09-20T21:27:00\",\"2021-09-20T21:28:00\",\"2021-09-20T21:29:00\",\"2021-09-20T21:30:00\",\"2021-09-20T21:31:00\",\"2021-09-20T21:32:00\",\"2021-09-20T21:33:00\",\"2021-09-20T21:34:00\",\"2021-09-20T21:35:00\",\"2021-09-20T21:36:00\",\"2021-09-20T21:37:00\",\"2021-09-20T21:38:00\",\"2021-09-20T21:39:00\",\"2021-09-20T21:40:00\",\"2021-09-20T21:41:00\",\"2021-09-20T21:42:00\",\"2021-09-20T21:43:00\",\"2021-09-20T21:44:00\",\"2021-09-20T21:45:00\",\"2021-09-20T21:46:00\",\"2021-09-20T21:47:00\",\"2021-09-20T21:48:00\",\"2021-09-20T21:49:00\",\"2021-09-20T21:50:00\",\"2021-09-20T21:51:00\",\"2021-09-20T21:52:00\",\"2021-09-20T21:53:00\",\"2021-09-20T21:54:00\",\"2021-09-20T21:55:00\",\"2021-09-20T21:56:00\",\"2021-09-20T21:57:00\",\"2021-09-20T21:58:00\",\"2021-09-20T21:59:00\",\"2021-09-20T22:00:00\",\"2021-09-20T22:01:00\",\"2021-09-20T22:02:00\",\"2021-09-20T22:03:00\",\"2021-09-20T22:04:00\",\"2021-09-20T22:05:00\",\"2021-09-20T22:06:00\",\"2021-09-20T22:07:00\",\"2021-09-20T22:08:00\",\"2021-09-20T22:09:00\",\"2021-09-20T22:10:00\",\"2021-09-20T22:11:00\",\"2021-09-20T22:12:00\",\"2021-09-20T22:13:00\",\"2021-09-20T22:14:00\",\"2021-09-20T22:15:00\",\"2021-09-20T22:16:00\",\"2021-09-20T22:17:00\",\"2021-09-20T22:18:00\",\"2021-09-20T22:19:00\",\"2021-09-20T22:20:00\",\"2021-09-20T22:21:00\",\"2021-09-20T22:22:00\",\"2021-09-20T22:23:00\",\"2021-09-20T22:24:00\",\"2021-09-20T22:25:00\",\"2021-09-20T22:26:00\",\"2021-09-20T22:27:00\",\"2021-09-20T22:28:00\",\"2021-09-20T22:29:00\",\"2021-09-20T22:30:00\",\"2021-09-20T22:31:00\",\"2021-09-20T22:32:00\",\"2021-09-20T22:33:00\",\"2021-09-20T22:34:00\",\"2021-09-20T22:35:00\",\"2021-09-20T22:36:00\",\"2021-09-20T22:37:00\",\"2021-09-20T22:38:00\",\"2021-09-20T22:39:00\",\"2021-09-20T22:40:00\",\"2021-09-20T22:41:00\",\"2021-09-20T22:42:00\",\"2021-09-20T22:43:00\",\"2021-09-20T22:44:00\",\"2021-09-20T22:45:00\",\"2021-09-20T22:46:00\",\"2021-09-20T22:47:00\",\"2021-09-20T22:48:00\",\"2021-09-20T22:49:00\",\"2021-09-20T22:50:00\",\"2021-09-20T22:51:00\",\"2021-09-20T22:52:00\",\"2021-09-20T22:53:00\",\"2021-09-20T22:54:00\",\"2021-09-20T22:55:00\",\"2021-09-20T22:56:00\",\"2021-09-20T22:57:00\",\"2021-09-20T22:58:00\",\"2021-09-20T22:59:00\",\"2021-09-20T23:00:00\",\"2021-09-20T23:01:00\",\"2021-09-20T23:02:00\",\"2021-09-20T23:03:00\",\"2021-09-20T23:04:00\",\"2021-09-20T23:05:00\",\"2021-09-20T23:06:00\",\"2021-09-20T23:07:00\",\"2021-09-20T23:08:00\",\"2021-09-20T23:09:00\",\"2021-09-20T23:10:00\",\"2021-09-20T23:11:00\",\"2021-09-20T23:12:00\",\"2021-09-20T23:13:00\",\"2021-09-20T23:14:00\",\"2021-09-20T23:15:00\",\"2021-09-20T23:16:00\",\"2021-09-20T23:17:00\",\"2021-09-20T23:18:00\",\"2021-09-20T23:19:00\",\"2021-09-20T23:20:00\",\"2021-09-20T23:21:00\",\"2021-09-20T23:22:00\",\"2021-09-20T23:23:00\",\"2021-09-20T23:24:00\",\"2021-09-20T23:25:00\",\"2021-09-20T23:26:00\",\"2021-09-20T23:27:00\",\"2021-09-20T23:28:00\",\"2021-09-20T23:29:00\",\"2021-09-20T23:30:00\",\"2021-09-20T23:31:00\",\"2021-09-20T23:32:00\",\"2021-09-20T23:33:00\",\"2021-09-20T23:34:00\",\"2021-09-20T23:35:00\",\"2021-09-20T23:36:00\",\"2021-09-20T23:37:00\",\"2021-09-20T23:38:00\",\"2021-09-20T23:39:00\",\"2021-09-20T23:40:00\",\"2021-09-20T23:41:00\",\"2021-09-20T23:42:00\",\"2021-09-20T23:43:00\",\"2021-09-20T23:44:00\",\"2021-09-20T23:45:00\",\"2021-09-20T23:46:00\",\"2021-09-20T23:47:00\",\"2021-09-20T23:48:00\",\"2021-09-20T23:49:00\",\"2021-09-20T23:50:00\",\"2021-09-20T23:51:00\",\"2021-09-20T23:52:00\",\"2021-09-20T23:53:00\",\"2021-09-20T23:54:00\",\"2021-09-20T23:55:00\",\"2021-09-20T23:56:00\",\"2021-09-20T23:57:00\",\"2021-09-20T23:58:00\",\"2021-09-20T23:59:00\",\"2021-09-21T00:00:00\"],\"y\":[44081.32428571428,44078.61839285714,44071.90607142858,44067.70098214286,44069.021898587285,44057.81041007631,44059.0148412899,44056.004057557235,44050.22713628468,44044.71156551336,44035.98698755409,44030.655333829345,44024.88809661171,44017.68698256801,44010.64785039681,44004.27584188987,43998.778271358526,43993.713367394164,43988.36897963658,43984.30788779761,43980.18955300452,43975.976001893934,43974.25170367494,43970.64032316467,43967.16591023808,43961.37826533882,43954.08962588183,43945.21249638604,43933.852934143084,43923.770586338316,43913.601166502514,43905.58711219217,43896.820798186345,43887.87753941615,43879.87475257569,43872.46975409653,43865.59088043369,43858.7928207584,43848.997492021,43839.48630472047,43827.75523631266,43814.24770092426,43803.18004674994,43793.73277296017,43785.66673911661,43777.82715162029,43770.72724261925,43764.31352030277,43757.65715108377,43751.18635091923,43746.29989585919,43742.182903691326,43738.517966829226,43735.04494892498,43732.09519660686,43729.45040993276,43726.66795360331,43721.963259821976,43716.72652176204,43710.72824639934,43704.26359130614,43699.00295734498,43693.10699203565,43688.564338142234,43685.1914801928,43682.33165837904,43678.29380600414,43674.042237428446,43669.36224640982,43665.05315309376,43659.15385315078,43653.99622026973,43648.59220159676,43642.296727830006,43638.16106978044,43635.39631886227,43630.77800627965,43624.64489081453,43619.28270865232,43614.28900291917,43609.06435914415,43603.40230249953,43597.368264431556,43590.45672259309,43583.964143503756,43577.3818424165,43569.87491031976,43563.283917020664,43558.12600784066,43552.636083158606,43546.73232714274,43540.17101302783,43534.06184698913,43529.06726806979,43525.189432165294,43524.65316203857,43524.2783871722,43524.200061792886,43524.21529926395,43524.700817699886,43525.601242772165,43526.56618034969,43527.25241715628,43527.65593958747,43528.22005989073,43528.71150137424,43530.429980333356,43533.05260783027,43534.48195317128,43536.482558791795,43537.79366186574,43538.68568274194,43539.48994345093,43540.07600910988,43540.43983263314,43540.76969860798,43542.1255665686,43544.66590075022,43547.32400242459,43550.314589518704,43548.75556422109,43547.46115053061,43546.17862672109,43544.56304338775,43542.86995535138,43542.3151328287,43541.0124780668,43539.95454949537,43539.267582396875,43538.23339340879,43537.812788932075,43536.998907979694,43536.29194518207,43535.84049577731,43535.38855530113,43534.40473387255,43533.67641244398,43532.7856862535,43532.05856720589,43531.37467738634,43530.42098691015,43529.57061042205,43528.111741374436,43527.212693755384,43526.10482726889,43525.47624393556,43525.18536893557,43525.30302369747,43526.09550424582,43527.09312626964,43528.202781031534,43528.64286210652,43529.534301094616,43529.99189633271,43530.636125499375,43531.08052591452,43531.67075919076,43532.31080599231,43534.14838337326,43536.285561944685,43539.50870777802,43543.70384914707,43547.344932480395,43549.80475390897,43551.03992837785,43551.2229120088,43551.18848343738,43550.33727659214,43550.24637183023,43549.75406230642,43548.83156528262,43547.13252466129,43545.34378805415,43543.02071067319,43540.76615114939,43537.876496387486,43535.56473115644,43534.57807639453,43533.881112108815,43533.53735020405,43533.89231448977,43534.08778919215,43535.491622525486,43536.671348715965,43538.88733978739,43540.04864611668,43541.33315939665,43541.80638529377,43543.737715650925,43544.922449281876,43547.73020672235,43550.50230642473,43554.03940761521,43558.256621900924,43561.72537592617,43564.271864021415,43568.36457384284,43573.138052788,43577.29557524078,43581.14245024078,43585.078105002685,43589.489366907444,43594.76203135266,43600.9671131979,43607.35372926932,43613.44341649682,43620.36312695813,43626.79699208057,43632.13719749353,43637.84870724288,43643.58754057621,43650.34826676668,43656.84944533812,43662.58271914764,43667.42846914764,43669.49965751541,43671.25048947722,43672.60214809592,43673.9570290483,43674.798838572104,43675.292950179246,43675.90051036292,43676.725260362924,43677.72261601768,43678.49985411291,43679.48912792244,43679.64975738673,43679.09826185101,43679.71338238672,43680.517208814264,43681.472131433315,43682.550524290455,43683.01371476665,43683.72411952855,43684.9135123857,43686.23841714761,43685.84316268331,43683.79764482617,43681.82193054046,43679.56944104518,43676.79952586662,43673.59531810589,43670.060282391605,43667.17365143922,43664.983740724936,43661.93146708969,43658.96588375636,43656.65788375636,43654.243978994455,43651.46498941113,43648.960692437824,43647.07879958068,43645.63287100925,43644.27896624735,43643.18213019509,43642.97509448081,43642.07707067129,43641.36376114748,43640.575415909385,43639.79146495512,43639.68117924083,43639.92625810988,43640.38474471703,43640.6087209075,43641.07501596541,43641.32011120351,43641.89861120351,43642.847158822566,43643.68733739399,43644.456861203515,43645.20968263209,43645.84655393806,43646.2291967952,43647.285911080915,43648.211765247586,43649.29995572377,43650.21143673325,43651.21594673002,43652.3351729205,43653.55754643241,43654.82320119431,43655.96926071812,43656.86918056806,43658.36785913949,43660.99949568251,43664.497256099174,43667.87932752775,43671.73411770632,43674.44682008728,43677.182939134895,43679.49794806346,43682.11829330156,43684.46901949204,43686.40417425394,43686.95104330156,43687.613492706325,43687.6268736587,43686.91661175394,43684.80446592061,43684.11548824204,43683.283634075364,43682.384852825366,43680.793864730134,43678.99257901584,43675.83452219109,43673.407510286335,43672.729815345854,43673.853561174925,43672.91949867492,43670.32695552016,43667.248257603496,43664.324015043974,43660.61823379397,43655.830261163115,43650.15740402026,43644.550665925024,43638.05371652027,43631.92381049177,43627.91877762232,43623.408611827166,43619.53251658907,43614.83810289859,43610.02498711059,43604.506228182014,43598.22374008678,43591.709274585475,43585.49916977892,43578.15539840648,43570.46360966019,43561.711649607045,43554.001905559424,43545.879667464185,43537.11538621419,43528.00720396953,43518.49248224334,43509.342731375575,43499.99773274709,43491.6711053784,43483.253804385415,43475.65988771875,43468.579536528276,43460.57720654727,43452.85368273775,43444.088795832984,43435.95112172585,43428.30899553272,43420.17339731844,43411.58789731844,43402.375703866055,43392.60665124804,43384.120697378996,43375.97960214089,43368.03444737899,43361.42623904566,43354.884596188516,43348.130215236124,43342.52903220042,43337.23052029566,43331.91042505756,43326.48808430623,43320.964429544314,43315.33049444791,43309.88587540029,43305.7396849241,43300.691012305055],\"type\":\"scatter\"}],                        {\"template\":{\"data\":{\"barpolar\":[{\"marker\":{\"line\":{\"color\":\"white\",\"width\":0.5},\"pattern\":{\"fillmode\":\"overlay\",\"size\":10,\"solidity\":0.2}},\"type\":\"barpolar\"}],\"bar\":[{\"error_x\":{\"color\":\"#2a3f5f\"},\"error_y\":{\"color\":\"#2a3f5f\"},\"marker\":{\"line\":{\"color\":\"white\",\"width\":0.5},\"pattern\":{\"fillmode\":\"overlay\",\"size\":10,\"solidity\":0.2}},\"type\":\"bar\"}],\"carpet\":[{\"aaxis\":{\"endlinecolor\":\"#2a3f5f\",\"gridcolor\":\"#C8D4E3\",\"linecolor\":\"#C8D4E3\",\"minorgridcolor\":\"#C8D4E3\",\"startlinecolor\":\"#2a3f5f\"},\"baxis\":{\"endlinecolor\":\"#2a3f5f\",\"gridcolor\":\"#C8D4E3\",\"linecolor\":\"#C8D4E3\",\"minorgridcolor\":\"#C8D4E3\",\"startlinecolor\":\"#2a3f5f\"},\"type\":\"carpet\"}],\"choropleth\":[{\"colorbar\":{\"outlinewidth\":0,\"ticks\":\"\"},\"type\":\"choropleth\"}],\"contourcarpet\":[{\"colorbar\":{\"outlinewidth\":0,\"ticks\":\"\"},\"type\":\"contourcarpet\"}],\"contour\":[{\"colorbar\":{\"outlinewidth\":0,\"ticks\":\"\"},\"colorscale\":[[0.0,\"#0d0887\"],[0.1111111111111111,\"#46039f\"],[0.2222222222222222,\"#7201a8\"],[0.3333333333333333,\"#9c179e\"],[0.4444444444444444,\"#bd3786\"],[0.5555555555555556,\"#d8576b\"],[0.6666666666666666,\"#ed7953\"],[0.7777777777777778,\"#fb9f3a\"],[0.8888888888888888,\"#fdca26\"],[1.0,\"#f0f921\"]],\"type\":\"contour\"}],\"heatmapgl\":[{\"colorbar\":{\"outlinewidth\":0,\"ticks\":\"\"},\"colorscale\":[[0.0,\"#0d0887\"],[0.1111111111111111,\"#46039f\"],[0.2222222222222222,\"#7201a8\"],[0.3333333333333333,\"#9c179e\"],[0.4444444444444444,\"#bd3786\"],[0.5555555555555556,\"#d8576b\"],[0.6666666666666666,\"#ed7953\"],[0.7777777777777778,\"#fb9f3a\"],[0.8888888888888888,\"#fdca26\"],[1.0,\"#f0f921\"]],\"type\":\"heatmapgl\"}],\"heatmap\":[{\"colorbar\":{\"outlinewidth\":0,\"ticks\":\"\"},\"colorscale\":[[0.0,\"#0d0887\"],[0.1111111111111111,\"#46039f\"],[0.2222222222222222,\"#7201a8\"],[0.3333333333333333,\"#9c179e\"],[0.4444444444444444,\"#bd3786\"],[0.5555555555555556,\"#d8576b\"],[0.6666666666666666,\"#ed7953\"],[0.7777777777777778,\"#fb9f3a\"],[0.8888888888888888,\"#fdca26\"],[1.0,\"#f0f921\"]],\"type\":\"heatmap\"}],\"histogram2dcontour\":[{\"colorbar\":{\"outlinewidth\":0,\"ticks\":\"\"},\"colorscale\":[[0.0,\"#0d0887\"],[0.1111111111111111,\"#46039f\"],[0.2222222222222222,\"#7201a8\"],[0.3333333333333333,\"#9c179e\"],[0.4444444444444444,\"#bd3786\"],[0.5555555555555556,\"#d8576b\"],[0.6666666666666666,\"#ed7953\"],[0.7777777777777778,\"#fb9f3a\"],[0.8888888888888888,\"#fdca26\"],[1.0,\"#f0f921\"]],\"type\":\"histogram2dcontour\"}],\"histogram2d\":[{\"colorbar\":{\"outlinewidth\":0,\"ticks\":\"\"},\"colorscale\":[[0.0,\"#0d0887\"],[0.1111111111111111,\"#46039f\"],[0.2222222222222222,\"#7201a8\"],[0.3333333333333333,\"#9c179e\"],[0.4444444444444444,\"#bd3786\"],[0.5555555555555556,\"#d8576b\"],[0.6666666666666666,\"#ed7953\"],[0.7777777777777778,\"#fb9f3a\"],[0.8888888888888888,\"#fdca26\"],[1.0,\"#f0f921\"]],\"type\":\"histogram2d\"}],\"histogram\":[{\"marker\":{\"pattern\":{\"fillmode\":\"overlay\",\"size\":10,\"solidity\":0.2}},\"type\":\"histogram\"}],\"mesh3d\":[{\"colorbar\":{\"outlinewidth\":0,\"ticks\":\"\"},\"type\":\"mesh3d\"}],\"parcoords\":[{\"line\":{\"colorbar\":{\"outlinewidth\":0,\"ticks\":\"\"}},\"type\":\"parcoords\"}],\"pie\":[{\"automargin\":true,\"type\":\"pie\"}],\"scatter3d\":[{\"line\":{\"colorbar\":{\"outlinewidth\":0,\"ticks\":\"\"}},\"marker\":{\"colorbar\":{\"outlinewidth\":0,\"ticks\":\"\"}},\"type\":\"scatter3d\"}],\"scattercarpet\":[{\"marker\":{\"colorbar\":{\"outlinewidth\":0,\"ticks\":\"\"}},\"type\":\"scattercarpet\"}],\"scattergeo\":[{\"marker\":{\"colorbar\":{\"outlinewidth\":0,\"ticks\":\"\"}},\"type\":\"scattergeo\"}],\"scattergl\":[{\"marker\":{\"colorbar\":{\"outlinewidth\":0,\"ticks\":\"\"}},\"type\":\"scattergl\"}],\"scattermapbox\":[{\"marker\":{\"colorbar\":{\"outlinewidth\":0,\"ticks\":\"\"}},\"type\":\"scattermapbox\"}],\"scatterpolargl\":[{\"marker\":{\"colorbar\":{\"outlinewidth\":0,\"ticks\":\"\"}},\"type\":\"scatterpolargl\"}],\"scatterpolar\":[{\"marker\":{\"colorbar\":{\"outlinewidth\":0,\"ticks\":\"\"}},\"type\":\"scatterpolar\"}],\"scatter\":[{\"marker\":{\"colorbar\":{\"outlinewidth\":0,\"ticks\":\"\"}},\"type\":\"scatter\"}],\"scatterternary\":[{\"marker\":{\"colorbar\":{\"outlinewidth\":0,\"ticks\":\"\"}},\"type\":\"scatterternary\"}],\"surface\":[{\"colorbar\":{\"outlinewidth\":0,\"ticks\":\"\"},\"colorscale\":[[0.0,\"#0d0887\"],[0.1111111111111111,\"#46039f\"],[0.2222222222222222,\"#7201a8\"],[0.3333333333333333,\"#9c179e\"],[0.4444444444444444,\"#bd3786\"],[0.5555555555555556,\"#d8576b\"],[0.6666666666666666,\"#ed7953\"],[0.7777777777777778,\"#fb9f3a\"],[0.8888888888888888,\"#fdca26\"],[1.0,\"#f0f921\"]],\"type\":\"surface\"}],\"table\":[{\"cells\":{\"fill\":{\"color\":\"#EBF0F8\"},\"line\":{\"color\":\"white\"}},\"header\":{\"fill\":{\"color\":\"#C8D4E3\"},\"line\":{\"color\":\"white\"}},\"type\":\"table\"}]},\"layout\":{\"annotationdefaults\":{\"arrowcolor\":\"#2a3f5f\",\"arrowhead\":0,\"arrowwidth\":1},\"autotypenumbers\":\"strict\",\"coloraxis\":{\"colorbar\":{\"outlinewidth\":0,\"ticks\":\"\"}},\"colorscale\":{\"diverging\":[[0,\"#8e0152\"],[0.1,\"#c51b7d\"],[0.2,\"#de77ae\"],[0.3,\"#f1b6da\"],[0.4,\"#fde0ef\"],[0.5,\"#f7f7f7\"],[0.6,\"#e6f5d0\"],[0.7,\"#b8e186\"],[0.8,\"#7fbc41\"],[0.9,\"#4d9221\"],[1,\"#276419\"]],\"sequential\":[[0.0,\"#0d0887\"],[0.1111111111111111,\"#46039f\"],[0.2222222222222222,\"#7201a8\"],[0.3333333333333333,\"#9c179e\"],[0.4444444444444444,\"#bd3786\"],[0.5555555555555556,\"#d8576b\"],[0.6666666666666666,\"#ed7953\"],[0.7777777777777778,\"#fb9f3a\"],[0.8888888888888888,\"#fdca26\"],[1.0,\"#f0f921\"]],\"sequentialminus\":[[0.0,\"#0d0887\"],[0.1111111111111111,\"#46039f\"],[0.2222222222222222,\"#7201a8\"],[0.3333333333333333,\"#9c179e\"],[0.4444444444444444,\"#bd3786\"],[0.5555555555555556,\"#d8576b\"],[0.6666666666666666,\"#ed7953\"],[0.7777777777777778,\"#fb9f3a\"],[0.8888888888888888,\"#fdca26\"],[1.0,\"#f0f921\"]]},\"colorway\":[\"#636efa\",\"#EF553B\",\"#00cc96\",\"#ab63fa\",\"#FFA15A\",\"#19d3f3\",\"#FF6692\",\"#B6E880\",\"#FF97FF\",\"#FECB52\"],\"font\":{\"color\":\"#2a3f5f\"},\"geo\":{\"bgcolor\":\"white\",\"lakecolor\":\"white\",\"landcolor\":\"white\",\"showlakes\":true,\"showland\":true,\"subunitcolor\":\"#C8D4E3\"},\"hoverlabel\":{\"align\":\"left\"},\"hovermode\":\"closest\",\"mapbox\":{\"style\":\"light\"},\"paper_bgcolor\":\"white\",\"plot_bgcolor\":\"white\",\"polar\":{\"angularaxis\":{\"gridcolor\":\"#EBF0F8\",\"linecolor\":\"#EBF0F8\",\"ticks\":\"\"},\"bgcolor\":\"white\",\"radialaxis\":{\"gridcolor\":\"#EBF0F8\",\"linecolor\":\"#EBF0F8\",\"ticks\":\"\"}},\"scene\":{\"xaxis\":{\"backgroundcolor\":\"white\",\"gridcolor\":\"#DFE8F3\",\"gridwidth\":2,\"linecolor\":\"#EBF0F8\",\"showbackground\":true,\"ticks\":\"\",\"zerolinecolor\":\"#EBF0F8\"},\"yaxis\":{\"backgroundcolor\":\"white\",\"gridcolor\":\"#DFE8F3\",\"gridwidth\":2,\"linecolor\":\"#EBF0F8\",\"showbackground\":true,\"ticks\":\"\",\"zerolinecolor\":\"#EBF0F8\"},\"zaxis\":{\"backgroundcolor\":\"white\",\"gridcolor\":\"#DFE8F3\",\"gridwidth\":2,\"linecolor\":\"#EBF0F8\",\"showbackground\":true,\"ticks\":\"\",\"zerolinecolor\":\"#EBF0F8\"}},\"shapedefaults\":{\"line\":{\"color\":\"#2a3f5f\"}},\"ternary\":{\"aaxis\":{\"gridcolor\":\"#DFE8F3\",\"linecolor\":\"#A2B1C6\",\"ticks\":\"\"},\"baxis\":{\"gridcolor\":\"#DFE8F3\",\"linecolor\":\"#A2B1C6\",\"ticks\":\"\"},\"bgcolor\":\"white\",\"caxis\":{\"gridcolor\":\"#DFE8F3\",\"linecolor\":\"#A2B1C6\",\"ticks\":\"\"}},\"title\":{\"x\":0.05},\"xaxis\":{\"automargin\":true,\"gridcolor\":\"#EBF0F8\",\"linecolor\":\"#EBF0F8\",\"ticks\":\"\",\"title\":{\"standoff\":15},\"zerolinecolor\":\"#EBF0F8\",\"zerolinewidth\":2},\"yaxis\":{\"automargin\":true,\"gridcolor\":\"#EBF0F8\",\"linecolor\":\"#EBF0F8\",\"ticks\":\"\",\"title\":{\"standoff\":15},\"zerolinecolor\":\"#EBF0F8\",\"zerolinewidth\":2}}},\"xaxis\":{\"title\":{\"text\":\"Time\"}},\"title\":{\"text\":\"Bitcoin Moving Average\",\"y\":0.9,\"x\":0.5,\"xanchor\":\"center\",\"yanchor\":\"top\"},\"yaxis\":{\"title\":{\"text\":\"Price in USD\"},\"ticksuffix\":\"$\"}},                        {\"responsive\": true}                    ).then(function(){\n",
       "                            \n",
       "var gd = document.getElementById('5a0e1163-a42d-4708-8b45-3505fb21a021');\n",
       "var x = new MutationObserver(function (mutations, observer) {{\n",
       "        var display = window.getComputedStyle(gd).display;\n",
       "        if (!display || display === 'none') {{\n",
       "            console.log([gd, 'removed!']);\n",
       "            Plotly.purge(gd);\n",
       "            observer.disconnect();\n",
       "        }}\n",
       "}});\n",
       "\n",
       "// Listen for the removal of the full notebook cells\n",
       "var notebookContainer = gd.closest('#notebook-container');\n",
       "if (notebookContainer) {{\n",
       "    x.observe(notebookContainer, {childList: true});\n",
       "}}\n",
       "\n",
       "// Listen for the clearing of the current output cell\n",
       "var outputEl = gd.closest('.output');\n",
       "if (outputEl) {{\n",
       "    x.observe(outputEl, {childList: true});\n",
       "}}\n",
       "\n",
       "                        })                };                });            </script>        </div>"
      ]
     },
     "metadata": {},
     "output_type": "display_data"
    }
   ],
   "source": [
    "# Moving average chart of Bitcoin\n",
    "ma_chart(train, 1, 'Bitcoin')"
   ]
  },
  {
   "cell_type": "markdown",
   "id": "2933760f",
   "metadata": {
    "papermill": {
     "duration": 0.036209,
     "end_time": "2022-02-11T07:40:19.223306",
     "exception": false,
     "start_time": "2022-02-11T07:40:19.187097",
     "status": "completed"
    },
    "tags": []
   },
   "source": [
    "### Missing values\n",
    "There are some missing values in **Target** variable and **VWAP**. All missing values in VWAP variable belong to Asset 10, Maker. Since there are only 9 missings in this variable, we'll just remove those data. Missing in Target will not be included in modeling."
   ]
  },
  {
   "cell_type": "code",
   "execution_count": 12,
   "id": "454b4f06",
   "metadata": {
    "execution": {
     "iopub.execute_input": "2022-02-11T07:40:19.299114Z",
     "iopub.status.busy": "2022-02-11T07:40:19.298081Z",
     "iopub.status.idle": "2022-02-11T07:40:19.775651Z",
     "shell.execute_reply": "2022-02-11T07:40:19.776169Z",
     "shell.execute_reply.started": "2022-02-10T11:45:14.514302Z"
    },
    "papermill": {
     "duration": 0.517739,
     "end_time": "2022-02-11T07:40:19.776331",
     "exception": false,
     "start_time": "2022-02-11T07:40:19.258592",
     "status": "completed"
    },
    "tags": []
   },
   "outputs": [
    {
     "data": {
      "text/plain": [
       "Target       750338\n",
       "VWAP              9\n",
       "timestamp         0\n",
       "Asset_ID          0\n",
       "Count             0\n",
       "Open              0\n",
       "High              0\n",
       "Low               0\n",
       "Close             0\n",
       "Volume            0\n",
       "Diff              0\n",
       "dtype: int64"
      ]
     },
     "execution_count": 12,
     "metadata": {},
     "output_type": "execute_result"
    }
   ],
   "source": [
    "# Target - missing 3% \n",
    "train.isna().sum().sort_values(ascending = False)"
   ]
  },
  {
   "cell_type": "code",
   "execution_count": 13,
   "id": "01e1dad4",
   "metadata": {
    "execution": {
     "iopub.execute_input": "2022-02-11T07:40:19.854207Z",
     "iopub.status.busy": "2022-02-11T07:40:19.853275Z",
     "iopub.status.idle": "2022-02-11T07:40:19.896635Z",
     "shell.execute_reply": "2022-02-11T07:40:19.897113Z",
     "shell.execute_reply.started": "2022-02-10T11:45:15.085307Z"
    },
    "papermill": {
     "duration": 0.085568,
     "end_time": "2022-02-11T07:40:19.897313",
     "exception": false,
     "start_time": "2022-02-11T07:40:19.811745",
     "status": "completed"
    },
    "tags": []
   },
   "outputs": [
    {
     "data": {
      "text/html": [
       "<div>\n",
       "<style scoped>\n",
       "    .dataframe tbody tr th:only-of-type {\n",
       "        vertical-align: middle;\n",
       "    }\n",
       "\n",
       "    .dataframe tbody tr th {\n",
       "        vertical-align: top;\n",
       "    }\n",
       "\n",
       "    .dataframe thead th {\n",
       "        text-align: right;\n",
       "    }\n",
       "</style>\n",
       "<table border=\"1\" class=\"dataframe\">\n",
       "  <thead>\n",
       "    <tr style=\"text-align: right;\">\n",
       "      <th></th>\n",
       "      <th>timestamp</th>\n",
       "      <th>Asset_ID</th>\n",
       "      <th>Count</th>\n",
       "      <th>Open</th>\n",
       "      <th>High</th>\n",
       "      <th>Low</th>\n",
       "      <th>Close</th>\n",
       "      <th>Volume</th>\n",
       "      <th>VWAP</th>\n",
       "      <th>Target</th>\n",
       "      <th>Diff</th>\n",
       "    </tr>\n",
       "  </thead>\n",
       "  <tbody>\n",
       "    <tr>\n",
       "      <th>15004269</th>\n",
       "      <td>2020-06-14 22:26:00</td>\n",
       "      <td>10</td>\n",
       "      <td>2.0</td>\n",
       "      <td>501.00</td>\n",
       "      <td>501.00</td>\n",
       "      <td>501.00</td>\n",
       "      <td>501.00</td>\n",
       "      <td>0.0</td>\n",
       "      <td>NaN</td>\n",
       "      <td>NaN</td>\n",
       "      <td>0.0</td>\n",
       "    </tr>\n",
       "    <tr>\n",
       "      <th>15004283</th>\n",
       "      <td>2020-06-14 22:27:00</td>\n",
       "      <td>10</td>\n",
       "      <td>4.0</td>\n",
       "      <td>501.00</td>\n",
       "      <td>501.00</td>\n",
       "      <td>501.00</td>\n",
       "      <td>501.00</td>\n",
       "      <td>0.0</td>\n",
       "      <td>NaN</td>\n",
       "      <td>NaN</td>\n",
       "      <td>0.0</td>\n",
       "    </tr>\n",
       "    <tr>\n",
       "      <th>15059232</th>\n",
       "      <td>2020-06-17 20:36:00</td>\n",
       "      <td>10</td>\n",
       "      <td>2.0</td>\n",
       "      <td>529.77</td>\n",
       "      <td>529.77</td>\n",
       "      <td>529.77</td>\n",
       "      <td>529.77</td>\n",
       "      <td>0.0</td>\n",
       "      <td>NaN</td>\n",
       "      <td>0.007356</td>\n",
       "      <td>0.0</td>\n",
       "    </tr>\n",
       "    <tr>\n",
       "      <th>15143187</th>\n",
       "      <td>2020-06-22 11:02:00</td>\n",
       "      <td>10</td>\n",
       "      <td>2.0</td>\n",
       "      <td>503.60</td>\n",
       "      <td>503.60</td>\n",
       "      <td>503.60</td>\n",
       "      <td>503.60</td>\n",
       "      <td>0.0</td>\n",
       "      <td>NaN</td>\n",
       "      <td>-0.005672</td>\n",
       "      <td>0.0</td>\n",
       "    </tr>\n",
       "    <tr>\n",
       "      <th>15183088</th>\n",
       "      <td>2020-06-24 14:29:00</td>\n",
       "      <td>10</td>\n",
       "      <td>2.0</td>\n",
       "      <td>484.16</td>\n",
       "      <td>484.16</td>\n",
       "      <td>484.16</td>\n",
       "      <td>484.16</td>\n",
       "      <td>0.0</td>\n",
       "      <td>NaN</td>\n",
       "      <td>-0.004281</td>\n",
       "      <td>0.0</td>\n",
       "    </tr>\n",
       "    <tr>\n",
       "      <th>15184216</th>\n",
       "      <td>2020-06-24 15:52:00</td>\n",
       "      <td>10</td>\n",
       "      <td>2.0</td>\n",
       "      <td>480.00</td>\n",
       "      <td>480.00</td>\n",
       "      <td>480.00</td>\n",
       "      <td>480.00</td>\n",
       "      <td>0.0</td>\n",
       "      <td>NaN</td>\n",
       "      <td>NaN</td>\n",
       "      <td>0.0</td>\n",
       "    </tr>\n",
       "    <tr>\n",
       "      <th>15184243</th>\n",
       "      <td>2020-06-24 15:54:00</td>\n",
       "      <td>10</td>\n",
       "      <td>2.0</td>\n",
       "      <td>480.00</td>\n",
       "      <td>480.00</td>\n",
       "      <td>480.00</td>\n",
       "      <td>480.00</td>\n",
       "      <td>0.0</td>\n",
       "      <td>NaN</td>\n",
       "      <td>NaN</td>\n",
       "      <td>0.0</td>\n",
       "    </tr>\n",
       "    <tr>\n",
       "      <th>15184309</th>\n",
       "      <td>2020-06-24 15:59:00</td>\n",
       "      <td>10</td>\n",
       "      <td>6.0</td>\n",
       "      <td>479.07</td>\n",
       "      <td>479.07</td>\n",
       "      <td>479.07</td>\n",
       "      <td>479.07</td>\n",
       "      <td>0.0</td>\n",
       "      <td>NaN</td>\n",
       "      <td>NaN</td>\n",
       "      <td>0.0</td>\n",
       "    </tr>\n",
       "    <tr>\n",
       "      <th>15184778</th>\n",
       "      <td>2020-06-24 16:34:00</td>\n",
       "      <td>10</td>\n",
       "      <td>4.0</td>\n",
       "      <td>478.00</td>\n",
       "      <td>478.00</td>\n",
       "      <td>475.00</td>\n",
       "      <td>478.00</td>\n",
       "      <td>0.0</td>\n",
       "      <td>NaN</td>\n",
       "      <td>NaN</td>\n",
       "      <td>0.0</td>\n",
       "    </tr>\n",
       "  </tbody>\n",
       "</table>\n",
       "</div>"
      ],
      "text/plain": [
       "                   timestamp  Asset_ID  Count    Open    High     Low   Close  \\\n",
       "15004269 2020-06-14 22:26:00        10    2.0  501.00  501.00  501.00  501.00   \n",
       "15004283 2020-06-14 22:27:00        10    4.0  501.00  501.00  501.00  501.00   \n",
       "15059232 2020-06-17 20:36:00        10    2.0  529.77  529.77  529.77  529.77   \n",
       "15143187 2020-06-22 11:02:00        10    2.0  503.60  503.60  503.60  503.60   \n",
       "15183088 2020-06-24 14:29:00        10    2.0  484.16  484.16  484.16  484.16   \n",
       "15184216 2020-06-24 15:52:00        10    2.0  480.00  480.00  480.00  480.00   \n",
       "15184243 2020-06-24 15:54:00        10    2.0  480.00  480.00  480.00  480.00   \n",
       "15184309 2020-06-24 15:59:00        10    6.0  479.07  479.07  479.07  479.07   \n",
       "15184778 2020-06-24 16:34:00        10    4.0  478.00  478.00  475.00  478.00   \n",
       "\n",
       "          Volume  VWAP    Target  Diff  \n",
       "15004269     0.0   NaN       NaN   0.0  \n",
       "15004283     0.0   NaN       NaN   0.0  \n",
       "15059232     0.0   NaN  0.007356   0.0  \n",
       "15143187     0.0   NaN -0.005672   0.0  \n",
       "15183088     0.0   NaN -0.004281   0.0  \n",
       "15184216     0.0   NaN       NaN   0.0  \n",
       "15184243     0.0   NaN       NaN   0.0  \n",
       "15184309     0.0   NaN       NaN   0.0  \n",
       "15184778     0.0   NaN       NaN   0.0  "
      ]
     },
     "execution_count": 13,
     "metadata": {},
     "output_type": "execute_result"
    }
   ],
   "source": [
    "# check missing in VWAP\n",
    "train[train['VWAP'].isna()]"
   ]
  },
  {
   "cell_type": "code",
   "execution_count": 14,
   "id": "3ddbb604",
   "metadata": {
    "execution": {
     "iopub.execute_input": "2022-02-11T07:40:19.975671Z",
     "iopub.status.busy": "2022-02-11T07:40:19.974781Z",
     "iopub.status.idle": "2022-02-11T07:40:21.187845Z",
     "shell.execute_reply": "2022-02-11T07:40:21.187259Z",
     "shell.execute_reply.started": "2022-02-10T11:45:15.142633Z"
    },
    "papermill": {
     "duration": 1.252929,
     "end_time": "2022-02-11T07:40:21.188034",
     "exception": false,
     "start_time": "2022-02-11T07:40:19.935105",
     "status": "completed"
    },
    "tags": []
   },
   "outputs": [],
   "source": [
    "# remove NA values in VWAP\n",
    "train = train[train['VWAP'].isna() == False]"
   ]
  },
  {
   "cell_type": "markdown",
   "id": "daa23c54",
   "metadata": {
    "papermill": {
     "duration": 0.038808,
     "end_time": "2022-02-11T07:40:21.263102",
     "exception": false,
     "start_time": "2022-02-11T07:40:21.224294",
     "status": "completed"
    },
    "tags": []
   },
   "source": [
    "## 2. Time series Feature Engineering <a class=\"anchor\" id=\"fe\"></a>\n",
    "We will use asset Bitcoin data only for feature engineering and modeling in this notebook. For other 13 assets, you can repeat same process."
   ]
  },
  {
   "cell_type": "code",
   "execution_count": 15,
   "id": "26a08ed0",
   "metadata": {
    "execution": {
     "iopub.execute_input": "2022-02-11T07:40:21.339860Z",
     "iopub.status.busy": "2022-02-11T07:40:21.338953Z",
     "iopub.status.idle": "2022-02-11T07:40:21.632827Z",
     "shell.execute_reply": "2022-02-11T07:40:21.632278Z",
     "shell.execute_reply.started": "2022-02-10T11:45:16.48346Z"
    },
    "papermill": {
     "duration": 0.334207,
     "end_time": "2022-02-11T07:40:21.632952",
     "exception": false,
     "start_time": "2022-02-11T07:40:21.298745",
     "status": "completed"
    },
    "tags": []
   },
   "outputs": [],
   "source": [
    "# Bitcoin only\n",
    "data = train[train['Asset_ID'] == 1]"
   ]
  },
  {
   "cell_type": "code",
   "execution_count": 16,
   "id": "a97cfd0a",
   "metadata": {
    "execution": {
     "iopub.execute_input": "2022-02-11T07:40:21.724200Z",
     "iopub.status.busy": "2022-02-11T07:40:21.723238Z",
     "iopub.status.idle": "2022-02-11T07:40:21.843507Z",
     "shell.execute_reply": "2022-02-11T07:40:21.842854Z",
     "shell.execute_reply.started": "2022-02-10T11:45:16.816269Z"
    },
    "papermill": {
     "duration": 0.170314,
     "end_time": "2022-02-11T07:40:21.843662",
     "exception": false,
     "start_time": "2022-02-11T07:40:21.673348",
     "status": "completed"
    },
    "tags": []
   },
   "outputs": [
    {
     "data": {
      "text/html": [
       "<div>\n",
       "<style scoped>\n",
       "    .dataframe tbody tr th:only-of-type {\n",
       "        vertical-align: middle;\n",
       "    }\n",
       "\n",
       "    .dataframe tbody tr th {\n",
       "        vertical-align: top;\n",
       "    }\n",
       "\n",
       "    .dataframe thead th {\n",
       "        text-align: right;\n",
       "    }\n",
       "</style>\n",
       "<table border=\"1\" class=\"dataframe\">\n",
       "  <thead>\n",
       "    <tr style=\"text-align: right;\">\n",
       "      <th></th>\n",
       "      <th>timestamp</th>\n",
       "      <th>Asset_ID</th>\n",
       "      <th>Count</th>\n",
       "      <th>Open</th>\n",
       "      <th>High</th>\n",
       "      <th>Low</th>\n",
       "      <th>Close</th>\n",
       "      <th>Volume</th>\n",
       "      <th>VWAP</th>\n",
       "      <th>Target</th>\n",
       "      <th>Diff</th>\n",
       "    </tr>\n",
       "  </thead>\n",
       "  <tbody>\n",
       "    <tr>\n",
       "      <th>2</th>\n",
       "      <td>2018-01-01 00:01:00</td>\n",
       "      <td>1</td>\n",
       "      <td>229.0</td>\n",
       "      <td>13835.19400</td>\n",
       "      <td>14013.80</td>\n",
       "      <td>13666.11</td>\n",
       "      <td>13850.176000</td>\n",
       "      <td>31.550062</td>\n",
       "      <td>13827.062093</td>\n",
       "      <td>-0.014643</td>\n",
       "      <td>14.982000</td>\n",
       "    </tr>\n",
       "    <tr>\n",
       "      <th>10</th>\n",
       "      <td>2018-01-01 00:02:00</td>\n",
       "      <td>1</td>\n",
       "      <td>235.0</td>\n",
       "      <td>13835.03600</td>\n",
       "      <td>14052.30</td>\n",
       "      <td>13680.00</td>\n",
       "      <td>13828.102000</td>\n",
       "      <td>31.046432</td>\n",
       "      <td>13840.362591</td>\n",
       "      <td>-0.015037</td>\n",
       "      <td>-6.934000</td>\n",
       "    </tr>\n",
       "    <tr>\n",
       "      <th>18</th>\n",
       "      <td>2018-01-01 00:03:00</td>\n",
       "      <td>1</td>\n",
       "      <td>528.0</td>\n",
       "      <td>13823.90000</td>\n",
       "      <td>14000.40</td>\n",
       "      <td>13601.00</td>\n",
       "      <td>13801.314000</td>\n",
       "      <td>55.061820</td>\n",
       "      <td>13806.068014</td>\n",
       "      <td>-0.010309</td>\n",
       "      <td>-22.586000</td>\n",
       "    </tr>\n",
       "    <tr>\n",
       "      <th>26</th>\n",
       "      <td>2018-01-01 00:04:00</td>\n",
       "      <td>1</td>\n",
       "      <td>435.0</td>\n",
       "      <td>13802.51200</td>\n",
       "      <td>13999.00</td>\n",
       "      <td>13576.28</td>\n",
       "      <td>13768.040000</td>\n",
       "      <td>38.780529</td>\n",
       "      <td>13783.598101</td>\n",
       "      <td>-0.008999</td>\n",
       "      <td>-34.472000</td>\n",
       "    </tr>\n",
       "    <tr>\n",
       "      <th>34</th>\n",
       "      <td>2018-01-01 00:05:00</td>\n",
       "      <td>1</td>\n",
       "      <td>742.0</td>\n",
       "      <td>13766.00000</td>\n",
       "      <td>13955.90</td>\n",
       "      <td>13554.44</td>\n",
       "      <td>13724.914000</td>\n",
       "      <td>108.501637</td>\n",
       "      <td>13735.586842</td>\n",
       "      <td>-0.008079</td>\n",
       "      <td>-41.086000</td>\n",
       "    </tr>\n",
       "    <tr>\n",
       "      <th>...</th>\n",
       "      <td>...</td>\n",
       "      <td>...</td>\n",
       "      <td>...</td>\n",
       "      <td>...</td>\n",
       "      <td>...</td>\n",
       "      <td>...</td>\n",
       "      <td>...</td>\n",
       "      <td>...</td>\n",
       "      <td>...</td>\n",
       "      <td>...</td>\n",
       "      <td>...</td>\n",
       "    </tr>\n",
       "    <tr>\n",
       "      <th>24236515</th>\n",
       "      <td>2021-09-20 23:40:00</td>\n",
       "      <td>1</td>\n",
       "      <td>2643.0</td>\n",
       "      <td>42632.46500</td>\n",
       "      <td>42736.90</td>\n",
       "      <td>42607.50</td>\n",
       "      <td>42703.636250</td>\n",
       "      <td>100.797218</td>\n",
       "      <td>42653.031385</td>\n",
       "      <td>0.002084</td>\n",
       "      <td>71.171250</td>\n",
       "    </tr>\n",
       "    <tr>\n",
       "      <th>24236529</th>\n",
       "      <td>2021-09-20 23:41:00</td>\n",
       "      <td>1</td>\n",
       "      <td>2281.0</td>\n",
       "      <td>42718.81500</td>\n",
       "      <td>42819.38</td>\n",
       "      <td>42690.84</td>\n",
       "      <td>42781.970571</td>\n",
       "      <td>76.339988</td>\n",
       "      <td>42755.785162</td>\n",
       "      <td>0.003246</td>\n",
       "      <td>63.155571</td>\n",
       "    </tr>\n",
       "    <tr>\n",
       "      <th>24236543</th>\n",
       "      <td>2021-09-20 23:42:00</td>\n",
       "      <td>1</td>\n",
       "      <td>2642.0</td>\n",
       "      <td>42772.92125</td>\n",
       "      <td>42827.10</td>\n",
       "      <td>42690.75</td>\n",
       "      <td>42755.592500</td>\n",
       "      <td>117.429123</td>\n",
       "      <td>42749.075916</td>\n",
       "      <td>0.003108</td>\n",
       "      <td>-17.328750</td>\n",
       "    </tr>\n",
       "    <tr>\n",
       "      <th>24236557</th>\n",
       "      <td>2021-09-20 23:43:00</td>\n",
       "      <td>1</td>\n",
       "      <td>2134.0</td>\n",
       "      <td>42762.29000</td>\n",
       "      <td>42811.30</td>\n",
       "      <td>42694.37</td>\n",
       "      <td>42717.234286</td>\n",
       "      <td>78.049458</td>\n",
       "      <td>42749.024591</td>\n",
       "      <td>0.002770</td>\n",
       "      <td>-45.055714</td>\n",
       "    </tr>\n",
       "    <tr>\n",
       "      <th>24236571</th>\n",
       "      <td>2021-09-20 23:44:00</td>\n",
       "      <td>1</td>\n",
       "      <td>2165.0</td>\n",
       "      <td>42703.80250</td>\n",
       "      <td>42752.00</td>\n",
       "      <td>42636.76</td>\n",
       "      <td>42657.202500</td>\n",
       "      <td>86.518794</td>\n",
       "      <td>42680.263993</td>\n",
       "      <td>0.002726</td>\n",
       "      <td>-46.600000</td>\n",
       "    </tr>\n",
       "  </tbody>\n",
       "</table>\n",
       "<p>1955978 rows × 11 columns</p>\n",
       "</div>"
      ],
      "text/plain": [
       "                   timestamp  Asset_ID   Count         Open      High  \\\n",
       "2        2018-01-01 00:01:00         1   229.0  13835.19400  14013.80   \n",
       "10       2018-01-01 00:02:00         1   235.0  13835.03600  14052.30   \n",
       "18       2018-01-01 00:03:00         1   528.0  13823.90000  14000.40   \n",
       "26       2018-01-01 00:04:00         1   435.0  13802.51200  13999.00   \n",
       "34       2018-01-01 00:05:00         1   742.0  13766.00000  13955.90   \n",
       "...                      ...       ...     ...          ...       ...   \n",
       "24236515 2021-09-20 23:40:00         1  2643.0  42632.46500  42736.90   \n",
       "24236529 2021-09-20 23:41:00         1  2281.0  42718.81500  42819.38   \n",
       "24236543 2021-09-20 23:42:00         1  2642.0  42772.92125  42827.10   \n",
       "24236557 2021-09-20 23:43:00         1  2134.0  42762.29000  42811.30   \n",
       "24236571 2021-09-20 23:44:00         1  2165.0  42703.80250  42752.00   \n",
       "\n",
       "               Low         Close      Volume          VWAP    Target  \\\n",
       "2         13666.11  13850.176000   31.550062  13827.062093 -0.014643   \n",
       "10        13680.00  13828.102000   31.046432  13840.362591 -0.015037   \n",
       "18        13601.00  13801.314000   55.061820  13806.068014 -0.010309   \n",
       "26        13576.28  13768.040000   38.780529  13783.598101 -0.008999   \n",
       "34        13554.44  13724.914000  108.501637  13735.586842 -0.008079   \n",
       "...            ...           ...         ...           ...       ...   \n",
       "24236515  42607.50  42703.636250  100.797218  42653.031385  0.002084   \n",
       "24236529  42690.84  42781.970571   76.339988  42755.785162  0.003246   \n",
       "24236543  42690.75  42755.592500  117.429123  42749.075916  0.003108   \n",
       "24236557  42694.37  42717.234286   78.049458  42749.024591  0.002770   \n",
       "24236571  42636.76  42657.202500   86.518794  42680.263993  0.002726   \n",
       "\n",
       "               Diff  \n",
       "2         14.982000  \n",
       "10        -6.934000  \n",
       "18       -22.586000  \n",
       "26       -34.472000  \n",
       "34       -41.086000  \n",
       "...             ...  \n",
       "24236515  71.171250  \n",
       "24236529  63.155571  \n",
       "24236543 -17.328750  \n",
       "24236557 -45.055714  \n",
       "24236571 -46.600000  \n",
       "\n",
       "[1955978 rows x 11 columns]"
      ]
     },
     "execution_count": 16,
     "metadata": {},
     "output_type": "execute_result"
    }
   ],
   "source": [
    "# remove rows without target \n",
    "data = data[data['Target'].isna() == False]\n",
    "data"
   ]
  },
  {
   "cell_type": "markdown",
   "id": "f2c40af7",
   "metadata": {
    "papermill": {
     "duration": 0.03984,
     "end_time": "2022-02-11T07:40:21.925428",
     "exception": false,
     "start_time": "2022-02-11T07:40:21.885588",
     "status": "completed"
    },
    "tags": []
   },
   "source": [
    "### Additional features\n",
    "I created several additional features for modeling, including **time related features**. In time series analysis, creating time related features can significantly increase model performance. I used 2 mostly used technique for time series analysis: **moving average** and **lagged features**.\n",
    "\n",
    "1. Moving average \n",
    " + Above explanation with graph\n",
    "<br>\n",
    "2. Lagged feature\n",
    " + In time series analysis, future value is greatly affected by past values. Those past values are **lags** and we use thos lag features to enhance model performance."
   ]
  },
  {
   "cell_type": "code",
   "execution_count": 17,
   "id": "a98c4693",
   "metadata": {
    "execution": {
     "iopub.execute_input": "2022-02-11T07:40:22.007031Z",
     "iopub.status.busy": "2022-02-11T07:40:22.006222Z",
     "iopub.status.idle": "2022-02-11T07:40:22.008163Z",
     "shell.execute_reply": "2022-02-11T07:40:22.008554Z",
     "shell.execute_reply.started": "2022-02-10T11:45:16.944186Z"
    },
    "papermill": {
     "duration": 0.046627,
     "end_time": "2022-02-11T07:40:22.008684",
     "exception": false,
     "start_time": "2022-02-11T07:40:21.962057",
     "status": "completed"
    },
    "tags": []
   },
   "outputs": [],
   "source": [
    "# df should be particular asset\n",
    "def get_feats(df):\n",
    "    df['upper_shadow'] = df['High'] - np.maximum(df['Close'], df['Open'])\n",
    "    df['lower_shadow'] = np.minimum(df['Close'], df['Open']) - df['Low']\n",
    "    \n",
    "    # average trading volume\n",
    "    df['avg_volume'] = df['Volume'] / df['Count']\n",
    "    \n",
    "    # average price\n",
    "    df['avg_price'] = (df['Open'] + df['High'] + df['Low'] + df['Close']) / 4\n",
    "    \n",
    "    # difference between open and close price\n",
    "    df.rename(columns = {'Diff': 'diff_open_close'})\n",
    "    \n",
    "    # moving average features - short term and long term\n",
    "    df['ma_20'] = df['Close'].rolling(window = 20, min_periods = 1).mean()\n",
    "    df['ma_120'] = df['Close'].rolling(window = 120, min_periods = 1).mean()\n",
    "    \n",
    "    # lagged features\n",
    "    lags_ = [5, 20, 60, 120]\n",
    "    for lag in lags_:\n",
    "        df['lag_' + str(lag)] = df['Target'].shift(lag)\n",
    "        \n",
    "    df = df.fillna(0)\n",
    "    \n",
    "    return df"
   ]
  },
  {
   "cell_type": "code",
   "execution_count": 18,
   "id": "847f148f",
   "metadata": {
    "execution": {
     "iopub.execute_input": "2022-02-11T07:40:22.088278Z",
     "iopub.status.busy": "2022-02-11T07:40:22.086789Z",
     "iopub.status.idle": "2022-02-11T07:40:36.628365Z",
     "shell.execute_reply": "2022-02-11T07:40:36.627431Z",
     "shell.execute_reply.started": "2022-02-10T11:45:16.956278Z"
    },
    "papermill": {
     "duration": 14.582771,
     "end_time": "2022-02-11T07:40:36.628507",
     "exception": false,
     "start_time": "2022-02-11T07:40:22.045736",
     "status": "completed"
    },
    "tags": []
   },
   "outputs": [],
   "source": [
    "# lagged features\n",
    "data = get_feats(data)"
   ]
  },
  {
   "cell_type": "markdown",
   "id": "29d6fe65",
   "metadata": {
    "papermill": {
     "duration": 0.036844,
     "end_time": "2022-02-11T07:40:36.704045",
     "exception": false,
     "start_time": "2022-02-11T07:40:36.667201",
     "status": "completed"
    },
    "tags": []
   },
   "source": [
    "#### FE function\n",
    "Below function creates time-series features of each assets. You can just enter asset_id in **asset_feats** function to get features for that particular asset."
   ]
  },
  {
   "cell_type": "code",
   "execution_count": 19,
   "id": "ca2bee8c",
   "metadata": {
    "execution": {
     "iopub.execute_input": "2022-02-11T07:40:36.782215Z",
     "iopub.status.busy": "2022-02-11T07:40:36.781333Z",
     "iopub.status.idle": "2022-02-11T07:40:36.783987Z",
     "shell.execute_reply": "2022-02-11T07:40:36.783594Z",
     "shell.execute_reply.started": "2022-02-10T11:45:32.454717Z"
    },
    "papermill": {
     "duration": 0.043699,
     "end_time": "2022-02-11T07:40:36.784094",
     "exception": false,
     "start_time": "2022-02-11T07:40:36.740395",
     "status": "completed"
    },
    "tags": []
   },
   "outputs": [],
   "source": [
    "# feature engineering for other assets \n",
    "def asset_feats(df, asset_id):\n",
    "    data = df[df['Asset_ID'] == asset_id]\n",
    "    data = data[data['Target'].isna() == False]\n",
    "    data = get_feats(data)\n",
    "    return data"
   ]
  },
  {
   "cell_type": "markdown",
   "id": "bd693853",
   "metadata": {
    "papermill": {
     "duration": 0.036591,
     "end_time": "2022-02-11T07:40:36.857007",
     "exception": false,
     "start_time": "2022-02-11T07:40:36.820416",
     "status": "completed"
    },
    "tags": []
   },
   "source": [
    "## 3. Modeling <a class=\"anchor\" id=\"model\"></a>"
   ]
  },
  {
   "cell_type": "markdown",
   "id": "4710ed7e",
   "metadata": {
    "papermill": {
     "duration": 0.037048,
     "end_time": "2022-02-11T07:40:36.931362",
     "exception": false,
     "start_time": "2022-02-11T07:40:36.894314",
     "status": "completed"
    },
    "tags": []
   },
   "source": [
    "### (1) Time Series Cross Validation <a class=\"anchor\" id=\"tscv\"></a>\n",
    "For time series modeling, I will use boosting regressors, LGBMRegressor and XGBRegressor, which show great performance in general. First step is to compare performance of two models with time series cross validation. In time series analysis, it's not recommended to apply KFold or Stratified KFold since observations in past influences current values. Instead, we use **Time series split** in this case. Below image shows how data is splitted if you apply time series split. Observations from the training set occur before their corresponding validation set. We will use 10-fold time series cross validation in this notebook. (Evaluation metric is Pearson Correlation Coefficient)\n",
    "<br>\n",
    "![tcsv](https://miro.medium.com/max/1204/1*qvdnPF8ETV9mFdMT0Y_BBA.png)"
   ]
  },
  {
   "cell_type": "code",
   "execution_count": 20,
   "id": "d0763050",
   "metadata": {
    "execution": {
     "iopub.execute_input": "2022-02-11T07:40:37.109114Z",
     "iopub.status.busy": "2022-02-11T07:40:37.107541Z",
     "iopub.status.idle": "2022-02-11T07:40:37.109717Z",
     "shell.execute_reply": "2022-02-11T07:40:37.110103Z",
     "shell.execute_reply.started": "2022-02-10T11:45:32.462964Z"
    },
    "papermill": {
     "duration": 0.141608,
     "end_time": "2022-02-11T07:40:37.110270",
     "exception": false,
     "start_time": "2022-02-11T07:40:36.968662",
     "status": "completed"
    },
    "tags": []
   },
   "outputs": [],
   "source": [
    "# create X and y(target)\n",
    "X = data.drop(['timestamp', 'Asset_ID'], axis = 1)\n",
    "y = data['Target']"
   ]
  },
  {
   "cell_type": "code",
   "execution_count": 21,
   "id": "b5f1587d",
   "metadata": {
    "execution": {
     "iopub.execute_input": "2022-02-11T07:40:37.194618Z",
     "iopub.status.busy": "2022-02-11T07:40:37.193838Z",
     "iopub.status.idle": "2022-02-11T07:40:37.197831Z",
     "shell.execute_reply": "2022-02-11T07:40:37.197337Z",
     "shell.execute_reply.started": "2022-02-10T11:45:32.583798Z"
    },
    "papermill": {
     "duration": 0.05022,
     "end_time": "2022-02-11T07:40:37.197946",
     "exception": false,
     "start_time": "2022-02-11T07:40:37.147726",
     "status": "completed"
    },
    "tags": []
   },
   "outputs": [],
   "source": [
    "# 10-fold time series cross validation\n",
    "def timecv_model(model, X, y):\n",
    "    tfold = TimeSeriesSplit(n_splits = 10)\n",
    "    pcc_list = []\n",
    "    for _, (train_index, test_index) in tqdm(enumerate(tfold.split(X), start=1)):\n",
    "        X_train, X_test = X.iloc[train_index], X.iloc[test_index]\n",
    "        y_train, y_test = y.iloc[train_index], y.iloc[test_index]\n",
    "        clf = model.fit(X_train, y_train)\n",
    "        pred = clf.predict(X_test)\n",
    "        pcc = pearsonr(pred, y_test) \n",
    "        pcc_list.append(pcc[0])\n",
    "    \n",
    "    return pcc_list\n",
    "\n",
    "def cv_result(model, X, y):\n",
    "    model_name = model.__class__.__name__\n",
    "    pcc_ = timecv_model(model, X, y)\n",
    "    for i, pcc in enumerate(pcc_):\n",
    "        print(f'{i}th fold: {model_name} PCC: {pcc:.4f}')\n",
    "    print(f'\\n{model_name} average PCC: {np.mean(pcc_):.4f}')"
   ]
  },
  {
   "cell_type": "markdown",
   "id": "ed2eddad",
   "metadata": {
    "papermill": {
     "duration": 0.037442,
     "end_time": "2022-02-11T07:40:37.272757",
     "exception": false,
     "start_time": "2022-02-11T07:40:37.235315",
     "status": "completed"
    },
    "tags": []
   },
   "source": [
    "Below are results of 10-fold time series cross validation(TSCV) of LGBMRegressor and XGBRegressor. It takes much longer time in XGBRegressor. Parameters are randomly selected, just to compare general performance of two models. We will choose better model with TSCV and then conduct hyperparameter tuning."
   ]
  },
  {
   "cell_type": "code",
   "execution_count": 22,
   "id": "625eeeb3",
   "metadata": {
    "execution": {
     "iopub.execute_input": "2022-02-11T07:40:37.351847Z",
     "iopub.status.busy": "2022-02-11T07:40:37.351083Z",
     "iopub.status.idle": "2022-02-11T07:49:37.851270Z",
     "shell.execute_reply": "2022-02-11T07:49:37.847414Z",
     "shell.execute_reply.started": "2022-02-10T11:45:32.595063Z"
    },
    "papermill": {
     "duration": 540.541494,
     "end_time": "2022-02-11T07:49:37.851554",
     "exception": false,
     "start_time": "2022-02-11T07:40:37.310060",
     "status": "completed"
    },
    "tags": []
   },
   "outputs": [
    {
     "name": "stderr",
     "output_type": "stream",
     "text": [
      "10it [09:00, 54.04s/it]"
     ]
    },
    {
     "name": "stdout",
     "output_type": "stream",
     "text": [
      "0th fold: LGBMRegressor PCC: 0.9919\n",
      "1th fold: LGBMRegressor PCC: 0.9863\n",
      "2th fold: LGBMRegressor PCC: 0.9869\n",
      "3th fold: LGBMRegressor PCC: 0.9707\n",
      "4th fold: LGBMRegressor PCC: 0.8944\n",
      "5th fold: LGBMRegressor PCC: 0.9707\n",
      "6th fold: LGBMRegressor PCC: 0.9774\n",
      "7th fold: LGBMRegressor PCC: 0.9755\n",
      "8th fold: LGBMRegressor PCC: 0.9359\n",
      "9th fold: LGBMRegressor PCC: 0.9804\n",
      "\n",
      "LGBMRegressor average PCC: 0.9670\n"
     ]
    },
    {
     "name": "stderr",
     "output_type": "stream",
     "text": [
      "\n"
     ]
    }
   ],
   "source": [
    "lgb_model = LGBMRegressor(n_estimators = 1500,\n",
    "                      max_depth = 10,\n",
    "                      num_leaves = 20,\n",
    "                      colsample_bytree = 0.8,\n",
    "                      subsample = 0.7,\n",
    "                      seed = 0)\n",
    "\n",
    "cv_result(lgb_model, X, y)"
   ]
  },
  {
   "cell_type": "code",
   "execution_count": 23,
   "id": "ae969794",
   "metadata": {
    "execution": {
     "iopub.execute_input": "2022-02-11T07:49:37.957434Z",
     "iopub.status.busy": "2022-02-11T07:49:37.956701Z",
     "iopub.status.idle": "2022-02-11T07:49:37.959278Z",
     "shell.execute_reply": "2022-02-11T07:49:37.958816Z",
     "shell.execute_reply.started": "2022-02-10T11:51:30.70332Z"
    },
    "papermill": {
     "duration": 0.047692,
     "end_time": "2022-02-11T07:49:37.959400",
     "exception": false,
     "start_time": "2022-02-11T07:49:37.911708",
     "status": "completed"
    },
    "tags": []
   },
   "outputs": [],
   "source": [
    "#xgb_model = XGBRegressor(n_estimators = 1500,\n",
    "                         #max_depth = 10,\n",
    "                         #min_child_weight = 5,\n",
    "                         #gamma = 0.1)\n",
    "\n",
    "#cv_result(xgb_model, X, y)"
   ]
  },
  {
   "cell_type": "markdown",
   "id": "f39972fe",
   "metadata": {
    "papermill": {
     "duration": 0.039963,
     "end_time": "2022-02-11T07:49:38.040246",
     "exception": false,
     "start_time": "2022-02-11T07:49:38.000283",
     "status": "completed"
    },
    "tags": []
   },
   "source": [
    "### (2) Optuna\n",
    "Now, tune parameters to get optimal parameter for LGBMRegressor. There are many hyperparameter tuning techinques: GridSearchCV, RandomSearchCV, Bayesian Optimization..etc..\n",
    "\n",
    "But I will try **Optuna** for hyperparameter tuning. Optuna is widely used in many data analysis platforms these days to get optimal parameters for model. Information about optuna is well explained [here](https://medium.com/@kalyaniavhale7/understanding-of-optuna-a-machine-learning-hyperparameter-optimization-framework-ed31ebb335b9). (I summarized explanations about optuna referring to this link.)"
   ]
  },
  {
   "cell_type": "code",
   "execution_count": 24,
   "id": "00cbbf72",
   "metadata": {
    "execution": {
     "iopub.execute_input": "2022-02-11T07:49:38.126346Z",
     "iopub.status.busy": "2022-02-11T07:49:38.125575Z",
     "iopub.status.idle": "2022-02-11T07:49:51.222056Z",
     "shell.execute_reply": "2022-02-11T07:49:51.221577Z",
     "shell.execute_reply.started": "2022-02-10T11:51:30.718031Z"
    },
    "papermill": {
     "duration": 13.141723,
     "end_time": "2022-02-11T07:49:51.222209",
     "exception": false,
     "start_time": "2022-02-11T07:49:38.080486",
     "status": "completed"
    },
    "tags": []
   },
   "outputs": [
    {
     "name": "stdout",
     "output_type": "stream",
     "text": [
      "Earliest date:  2018-01-01\n",
      "Lastest date:  2021-09-20\n"
     ]
    }
   ],
   "source": [
    "data['timestamp'] = data['timestamp'].dt.strftime('%Y-%m-%d')\n",
    "\n",
    "print('Earliest date: ', min(data['timestamp']))\n",
    "print('Lastest date: ', max(data['timestamp']))"
   ]
  },
  {
   "cell_type": "markdown",
   "id": "f8004a4b",
   "metadata": {
    "papermill": {
     "duration": 0.041813,
     "end_time": "2022-02-11T07:49:51.305533",
     "exception": false,
     "start_time": "2022-02-11T07:49:51.263720",
     "status": "completed"
    },
    "tags": []
   },
   "source": [
    "Bitcoin data starts from 2018-01-01 to 2021-09-20. I diveded full dataset into train and valid dataset first: Train data contains data before 2020-09-20 and validation data contains data after 2020-09-20. The ratio of train and valid size is apporixmately 73:27."
   ]
  },
  {
   "cell_type": "code",
   "execution_count": 25,
   "id": "134aa9b0",
   "metadata": {
    "execution": {
     "iopub.execute_input": "2022-02-11T07:49:51.614503Z",
     "iopub.status.busy": "2022-02-11T07:49:51.613533Z",
     "iopub.status.idle": "2022-02-11T07:49:52.203378Z",
     "shell.execute_reply": "2022-02-11T07:49:52.202892Z",
     "shell.execute_reply.started": "2022-02-10T11:51:45.660541Z"
    },
    "papermill": {
     "duration": 0.857097,
     "end_time": "2022-02-11T07:49:52.203508",
     "exception": false,
     "start_time": "2022-02-11T07:49:51.346411",
     "status": "completed"
    },
    "tags": []
   },
   "outputs": [
    {
     "name": "stdout",
     "output_type": "stream",
     "text": [
      "(1428968, 18)\n",
      "(527010, 18)\n"
     ]
    }
   ],
   "source": [
    "train = data[data['timestamp'] < '2020-09-20']\n",
    "valid = data[data['timestamp'] >= '2020-09-20']\n",
    "\n",
    "train.drop(['timestamp', 'Asset_ID'], axis = 1, inplace = True)\n",
    "valid.drop(['timestamp', 'Asset_ID'], axis = 1, inplace = True)\n",
    "\n",
    "X_train = train.drop(['Target'], axis = 1)\n",
    "y_train = train['Target']\n",
    "X_valid = valid.drop(['Target'], axis = 1)\n",
    "y_valid = valid['Target']\n",
    "\n",
    "print(X_train.shape)\n",
    "print(X_valid.shape)"
   ]
  },
  {
   "cell_type": "markdown",
   "id": "9611ca8c",
   "metadata": {
    "papermill": {
     "duration": 0.040835,
     "end_time": "2022-02-11T07:49:52.285860",
     "exception": false,
     "start_time": "2022-02-11T07:49:52.245025",
     "status": "completed"
    },
    "tags": []
   },
   "source": [
    "### Objective function <a class=\"anchor\" id=\"optuna\"></a>\n",
    "Our objective of hyperparameter tuning is to find parameter that maximizes or minimized output of objective function. If evaluation metric is logloss, we have to minimized objective function but if it is accuracy, we have to maximize objective function. During the optimization, Optuna repeatedly calls and evaluates the objective function with different parameters.\n",
    "\n",
    "In objective function, we define parameter search space.\n",
    " + categorical parameter: optuna.trial.Trial.suggest_categorical()\n",
    " + integer parameter: optuna.trial.Trial.suggest_int()\n",
    " + float parameter: optuna.trial.Trial.suggest_float()\n",
    " \n",
    " \n",
    " \n",
    "In Optuna, we use the study object to manage optimization. Method create_study() returns a study object. A study object has useful properties for analyzing the optimization outcome. \n",
    " + create_study()"
   ]
  },
  {
   "cell_type": "code",
   "execution_count": 26,
   "id": "7a5c5347",
   "metadata": {
    "execution": {
     "iopub.execute_input": "2022-02-11T07:49:52.376342Z",
     "iopub.status.busy": "2022-02-11T07:49:52.375743Z",
     "iopub.status.idle": "2022-02-11T07:57:12.169537Z",
     "shell.execute_reply": "2022-02-11T07:57:12.170284Z",
     "shell.execute_reply.started": "2022-02-10T11:56:17.871618Z"
    },
    "papermill": {
     "duration": 439.843748,
     "end_time": "2022-02-11T07:57:12.170522",
     "exception": false,
     "start_time": "2022-02-11T07:49:52.326774",
     "status": "completed"
    },
    "tags": []
   },
   "outputs": [
    {
     "name": "stderr",
     "output_type": "stream",
     "text": [
      "\u001b[32m[I 2022-02-11 07:49:52,374]\u001b[0m A new study created in memory with name: no-name-42ebcc82-24fd-4b5e-9112-7747e137d53b\u001b[0m\n",
      "\u001b[32m[I 2022-02-11 07:50:07,549]\u001b[0m Trial 0 finished with value: 0.6147841954237596 and parameters: {'max_depth': 13, 'num_leaves': 32, 'learning_rate': 0.06028030997340368, 'n_estimators': 1590, 'min_child_samples': 45, 'subsample': 0.7875364678399936}. Best is trial 0 with value: 0.6147841954237596.\u001b[0m\n",
      "\u001b[32m[I 2022-02-11 07:50:19,360]\u001b[0m Trial 1 finished with value: 0.6127261737365276 and parameters: {'max_depth': 12, 'num_leaves': 37, 'learning_rate': 0.09636663942249793, 'n_estimators': 1267, 'min_child_samples': 81, 'subsample': 0.7173369518517427}. Best is trial 0 with value: 0.6147841954237596.\u001b[0m\n",
      "\u001b[32m[I 2022-02-11 07:51:17,670]\u001b[0m Trial 2 finished with value: 0.6157302227101291 and parameters: {'max_depth': 14, 'num_leaves': 38, 'learning_rate': 0.007112895459206715, 'n_estimators': 674, 'min_child_samples': 6, 'subsample': 0.8995719073287628}. Best is trial 2 with value: 0.6157302227101291.\u001b[0m\n",
      "\u001b[32m[I 2022-02-11 07:51:28,448]\u001b[0m Trial 3 finished with value: 0.6153693224721889 and parameters: {'max_depth': 17, 'num_leaves': 36, 'learning_rate': 0.09786204803985407, 'n_estimators': 2099, 'min_child_samples': 49, 'subsample': 0.8683175057718733}. Best is trial 2 with value: 0.6157302227101291.\u001b[0m\n",
      "\u001b[32m[I 2022-02-11 07:52:05,074]\u001b[0m Trial 4 finished with value: 0.615966432673396 and parameters: {'max_depth': 6, 'num_leaves': 29, 'learning_rate': 0.014343895208030552, 'n_estimators': 2390, 'min_child_samples': 55, 'subsample': 0.6487971639943142}. Best is trial 4 with value: 0.615966432673396.\u001b[0m\n",
      "\u001b[32m[I 2022-02-11 07:52:20,655]\u001b[0m Trial 5 finished with value: 0.6175953532119013 and parameters: {'max_depth': 9, 'num_leaves': 34, 'learning_rate': 0.045620471718332695, 'n_estimators': 1637, 'min_child_samples': 6, 'subsample': 0.7705812982455262}. Best is trial 5 with value: 0.6175953532119013.\u001b[0m\n",
      "\u001b[32m[I 2022-02-11 07:52:31,412]\u001b[0m Trial 6 finished with value: 0.6166059108693939 and parameters: {'max_depth': 14, 'num_leaves': 29, 'learning_rate': 0.09437537037067728, 'n_estimators': 1864, 'min_child_samples': 39, 'subsample': 0.6622191722796049}. Best is trial 5 with value: 0.6175953532119013.\u001b[0m\n",
      "\u001b[32m[I 2022-02-11 07:52:42,762]\u001b[0m Trial 7 finished with value: 0.6199930607220825 and parameters: {'max_depth': 16, 'num_leaves': 11, 'learning_rate': 0.06668000387741231, 'n_estimators': 1841, 'min_child_samples': 25, 'subsample': 0.477355778592912}. Best is trial 7 with value: 0.6199930607220825.\u001b[0m\n",
      "\u001b[32m[I 2022-02-11 07:52:57,380]\u001b[0m Trial 8 finished with value: 0.6197558150664342 and parameters: {'max_depth': 10, 'num_leaves': 21, 'learning_rate': 0.05702397507408379, 'n_estimators': 1377, 'min_child_samples': 99, 'subsample': 0.4612268864488169}. Best is trial 7 with value: 0.6199930607220825.\u001b[0m\n",
      "\u001b[32m[I 2022-02-11 07:53:09,398]\u001b[0m Trial 9 finished with value: 0.6211398474325097 and parameters: {'max_depth': 8, 'num_leaves': 15, 'learning_rate': 0.0653143014632852, 'n_estimators': 1006, 'min_child_samples': 49, 'subsample': 0.5466553552009616}. Best is trial 9 with value: 0.6211398474325097.\u001b[0m\n",
      "\u001b[32m[I 2022-02-11 07:53:29,248]\u001b[0m Trial 10 finished with value: 0.6201227079078564 and parameters: {'max_depth': 20, 'num_leaves': 15, 'learning_rate': 0.03084443486599509, 'n_estimators': 809, 'min_child_samples': 67, 'subsample': 0.5733621413678045}. Best is trial 9 with value: 0.6211398474325097.\u001b[0m\n",
      "\u001b[32m[I 2022-02-11 07:53:45,011]\u001b[0m Trial 11 finished with value: 0.6218441389154772 and parameters: {'max_depth': 19, 'num_leaves': 15, 'learning_rate': 0.034643156578930315, 'n_estimators': 768, 'min_child_samples': 67, 'subsample': 0.5597890478938754}. Best is trial 11 with value: 0.6218441389154772.\u001b[0m\n",
      "\u001b[32m[I 2022-02-11 07:53:58,261]\u001b[0m Trial 12 finished with value: 0.6180783038495941 and parameters: {'max_depth': 6, 'num_leaves': 20, 'learning_rate': 0.07655886125364206, 'n_estimators': 978, 'min_child_samples': 72, 'subsample': 0.5515739846859974}. Best is trial 11 with value: 0.6218441389154772.\u001b[0m\n",
      "\u001b[32m[I 2022-02-11 07:54:14,362]\u001b[0m Trial 13 finished with value: 0.6224714601962822 and parameters: {'max_depth': 19, 'num_leaves': 16, 'learning_rate': 0.03666757949384986, 'n_estimators': 523, 'min_child_samples': 89, 'subsample': 0.4011656977680331}. Best is trial 13 with value: 0.6224714601962822.\u001b[0m\n",
      "\u001b[32m[I 2022-02-11 07:54:31,257]\u001b[0m Trial 14 finished with value: 0.6223521870299745 and parameters: {'max_depth': 20, 'num_leaves': 10, 'learning_rate': 0.03373950342680686, 'n_estimators': 530, 'min_child_samples': 98, 'subsample': 0.4099013431190394}. Best is trial 13 with value: 0.6224714601962822.\u001b[0m\n",
      "\u001b[32m[I 2022-02-11 07:54:53,017]\u001b[0m Trial 15 finished with value: 0.6212846848318472 and parameters: {'max_depth': 18, 'num_leaves': 10, 'learning_rate': 0.022288094287991056, 'n_estimators': 534, 'min_child_samples': 98, 'subsample': 0.40241853572225533}. Best is trial 13 with value: 0.6224714601962822.\u001b[0m\n",
      "\u001b[32m[I 2022-02-11 07:55:08,859]\u001b[0m Trial 16 finished with value: 0.6185547213029066 and parameters: {'max_depth': 20, 'num_leaves': 21, 'learning_rate': 0.04273027913781874, 'n_estimators': 1152, 'min_child_samples': 86, 'subsample': 0.40477297218115205}. Best is trial 13 with value: 0.6224714601962822.\u001b[0m\n",
      "\u001b[32m[I 2022-02-11 07:56:24,039]\u001b[0m Trial 17 finished with value: 0.6203497175585297 and parameters: {'max_depth': 16, 'num_leaves': 18, 'learning_rate': 0.0012020292059093662, 'n_estimators': 518, 'min_child_samples': 88, 'subsample': 0.4672803528512009}. Best is trial 13 with value: 0.6224714601962822.\u001b[0m\n",
      "\u001b[32m[I 2022-02-11 07:56:46,765]\u001b[0m Trial 18 finished with value: 0.6186476167137399 and parameters: {'max_depth': 18, 'num_leaves': 25, 'learning_rate': 0.02832353923921075, 'n_estimators': 998, 'min_child_samples': 78, 'subsample': 0.4947753947107652}. Best is trial 13 with value: 0.6224714601962822.\u001b[0m\n",
      "\u001b[32m[I 2022-02-11 07:57:12,071]\u001b[0m Trial 19 finished with value: 0.6223872201364763 and parameters: {'max_depth': 16, 'num_leaves': 13, 'learning_rate': 0.018563145778305902, 'n_estimators': 739, 'min_child_samples': 94, 'subsample': 0.9557187268647842}. Best is trial 13 with value: 0.6224714601962822.\u001b[0m\n"
     ]
    }
   ],
   "source": [
    "from optuna.samplers import TPESampler\n",
    "import optuna\n",
    "\n",
    "sampler = TPESampler(seed = 0)\n",
    "\n",
    "def objective(trial):\n",
    "    params = {\n",
    "        'objective': 'regression',\n",
    "        'verbose': -1,\n",
    "        'max_depth': trial.suggest_int('max_depth',5, 20),\n",
    "        'num_leaves': trial.suggest_int('num_leaves', 10, 40),\n",
    "        'learning_rate': trial.suggest_float(\"learning_rate\", 1e-5, 0.1),\n",
    "        'n_estimators': trial.suggest_int('n_estimators', 500, 2500),\n",
    "        'min_child_samples': trial.suggest_int('min_child_samples', 5, 100),\n",
    "        'subsample': trial.suggest_float('subsample', 0.4, 1)}\n",
    "    \n",
    "    model = LGBMRegressor(**params)\n",
    "    model.fit(X_train, y_train, eval_set = [(X_train, y_train), (X_valid, y_valid)],\n",
    "         verbose = 0, early_stopping_rounds = 50)\n",
    "    pred = model.predict(X_valid)\n",
    "    pcc = pearsonr(pred, y_valid)[0]\n",
    "    return pcc\n",
    "\n",
    "study_model = optuna.create_study(direction = 'maximize', sampler = sampler)\n",
    "study_model.optimize(objective, n_trials = 20) "
   ]
  },
  {
   "cell_type": "code",
   "execution_count": 27,
   "id": "d10df3d6",
   "metadata": {
    "execution": {
     "iopub.execute_input": "2022-02-11T07:57:12.282661Z",
     "iopub.status.busy": "2022-02-11T07:57:12.281040Z",
     "iopub.status.idle": "2022-02-11T07:57:12.285089Z",
     "shell.execute_reply": "2022-02-11T07:57:12.284482Z",
     "shell.execute_reply.started": "2022-02-10T12:02:40.836131Z"
    },
    "papermill": {
     "duration": 0.055543,
     "end_time": "2022-02-11T07:57:12.285247",
     "exception": false,
     "start_time": "2022-02-11T07:57:12.229704",
     "status": "completed"
    },
    "tags": []
   },
   "outputs": [
    {
     "name": "stdout",
     "output_type": "stream",
     "text": [
      "Best params from optuna: \n",
      " {'max_depth': 19, 'num_leaves': 16, 'learning_rate': 0.03666757949384986, 'n_estimators': 523, 'min_child_samples': 89, 'subsample': 0.4011656977680331}\n"
     ]
    }
   ],
   "source": [
    "# select best trial and parameter\n",
    "trial = study_model.best_trial\n",
    "best_params = trial.params\n",
    "\n",
    "print('Best params from optuna: \\n', best_params)"
   ]
  },
  {
   "cell_type": "markdown",
   "id": "381085d3",
   "metadata": {
    "papermill": {
     "duration": 0.046496,
     "end_time": "2022-02-11T07:57:12.379164",
     "exception": false,
     "start_time": "2022-02-11T07:57:12.332668",
     "status": "completed"
    },
    "tags": []
   },
   "source": [
    "#### Plots from optuna\n",
    "Optuna provides visualization of result from hyperparmeter tuning.\n",
    "\n",
    "1. plot_optimization_history\n",
    "  + plot optimization history of all trials in a study\n",
    "<br>\n",
    "2. plot_slice\n",
    "  + plot the parameter relationship as slice plot in a study.\n",
    "<br>  \n",
    "3. plot_param_importances\n",
    "  + plot hyperparameter importances "
   ]
  },
  {
   "cell_type": "code",
   "execution_count": 28,
   "id": "7f555de7",
   "metadata": {
    "execution": {
     "iopub.execute_input": "2022-02-11T07:57:12.485206Z",
     "iopub.status.busy": "2022-02-11T07:57:12.484683Z",
     "iopub.status.idle": "2022-02-11T07:57:12.490278Z",
     "shell.execute_reply": "2022-02-11T07:57:12.490761Z",
     "shell.execute_reply.started": "2022-02-10T12:02:45.0216Z"
    },
    "papermill": {
     "duration": 0.065214,
     "end_time": "2022-02-11T07:57:12.490894",
     "exception": false,
     "start_time": "2022-02-11T07:57:12.425680",
     "status": "completed"
    },
    "tags": []
   },
   "outputs": [
    {
     "data": {
      "text/html": [
       "<div>                            <div id=\"f93f9337-99df-4cc4-be56-6abba3d0a2f4\" class=\"plotly-graph-div\" style=\"height:525px; width:100%;\"></div>            <script type=\"text/javascript\">                require([\"plotly\"], function(Plotly) {                    window.PLOTLYENV=window.PLOTLYENV || {};                                    if (document.getElementById(\"f93f9337-99df-4cc4-be56-6abba3d0a2f4\")) {                    Plotly.newPlot(                        \"f93f9337-99df-4cc4-be56-6abba3d0a2f4\",                        [{\"mode\":\"markers\",\"name\":\"Objective Value\",\"x\":[0,1,2,3,4,5,6,7,8,9,10,11,12,13,14,15,16,17,18,19],\"y\":[0.6147841954237596,0.6127261737365276,0.6157302227101291,0.6153693224721889,0.615966432673396,0.6175953532119013,0.6166059108693939,0.6199930607220825,0.6197558150664342,0.6211398474325097,0.6201227079078564,0.6218441389154772,0.6180783038495941,0.6224714601962822,0.6223521870299745,0.6212846848318472,0.6185547213029066,0.6203497175585297,0.6186476167137399,0.6223872201364763],\"type\":\"scatter\"},{\"name\":\"Best Value\",\"x\":[0,1,2,3,4,5,6,7,8,9,10,11,12,13,14,15,16,17,18,19],\"y\":[0.6147841954237596,0.6147841954237596,0.6157302227101291,0.6157302227101291,0.615966432673396,0.6175953532119013,0.6175953532119013,0.6199930607220825,0.6199930607220825,0.6211398474325097,0.6211398474325097,0.6218441389154772,0.6218441389154772,0.6224714601962822,0.6224714601962822,0.6224714601962822,0.6224714601962822,0.6224714601962822,0.6224714601962822,0.6224714601962822],\"type\":\"scatter\"}],                        {\"title\":{\"text\":\"Optimization History Plot\"},\"xaxis\":{\"title\":{\"text\":\"#Trials\"}},\"yaxis\":{\"title\":{\"text\":\"Objective Value\"}},\"template\":{\"data\":{\"bar\":[{\"error_x\":{\"color\":\"#2a3f5f\"},\"error_y\":{\"color\":\"#2a3f5f\"},\"marker\":{\"line\":{\"color\":\"#E5ECF6\",\"width\":0.5},\"pattern\":{\"fillmode\":\"overlay\",\"size\":10,\"solidity\":0.2}},\"type\":\"bar\"}],\"barpolar\":[{\"marker\":{\"line\":{\"color\":\"#E5ECF6\",\"width\":0.5},\"pattern\":{\"fillmode\":\"overlay\",\"size\":10,\"solidity\":0.2}},\"type\":\"barpolar\"}],\"carpet\":[{\"aaxis\":{\"endlinecolor\":\"#2a3f5f\",\"gridcolor\":\"white\",\"linecolor\":\"white\",\"minorgridcolor\":\"white\",\"startlinecolor\":\"#2a3f5f\"},\"baxis\":{\"endlinecolor\":\"#2a3f5f\",\"gridcolor\":\"white\",\"linecolor\":\"white\",\"minorgridcolor\":\"white\",\"startlinecolor\":\"#2a3f5f\"},\"type\":\"carpet\"}],\"choropleth\":[{\"colorbar\":{\"outlinewidth\":0,\"ticks\":\"\"},\"type\":\"choropleth\"}],\"contour\":[{\"colorbar\":{\"outlinewidth\":0,\"ticks\":\"\"},\"colorscale\":[[0.0,\"#0d0887\"],[0.1111111111111111,\"#46039f\"],[0.2222222222222222,\"#7201a8\"],[0.3333333333333333,\"#9c179e\"],[0.4444444444444444,\"#bd3786\"],[0.5555555555555556,\"#d8576b\"],[0.6666666666666666,\"#ed7953\"],[0.7777777777777778,\"#fb9f3a\"],[0.8888888888888888,\"#fdca26\"],[1.0,\"#f0f921\"]],\"type\":\"contour\"}],\"contourcarpet\":[{\"colorbar\":{\"outlinewidth\":0,\"ticks\":\"\"},\"type\":\"contourcarpet\"}],\"heatmap\":[{\"colorbar\":{\"outlinewidth\":0,\"ticks\":\"\"},\"colorscale\":[[0.0,\"#0d0887\"],[0.1111111111111111,\"#46039f\"],[0.2222222222222222,\"#7201a8\"],[0.3333333333333333,\"#9c179e\"],[0.4444444444444444,\"#bd3786\"],[0.5555555555555556,\"#d8576b\"],[0.6666666666666666,\"#ed7953\"],[0.7777777777777778,\"#fb9f3a\"],[0.8888888888888888,\"#fdca26\"],[1.0,\"#f0f921\"]],\"type\":\"heatmap\"}],\"heatmapgl\":[{\"colorbar\":{\"outlinewidth\":0,\"ticks\":\"\"},\"colorscale\":[[0.0,\"#0d0887\"],[0.1111111111111111,\"#46039f\"],[0.2222222222222222,\"#7201a8\"],[0.3333333333333333,\"#9c179e\"],[0.4444444444444444,\"#bd3786\"],[0.5555555555555556,\"#d8576b\"],[0.6666666666666666,\"#ed7953\"],[0.7777777777777778,\"#fb9f3a\"],[0.8888888888888888,\"#fdca26\"],[1.0,\"#f0f921\"]],\"type\":\"heatmapgl\"}],\"histogram\":[{\"marker\":{\"pattern\":{\"fillmode\":\"overlay\",\"size\":10,\"solidity\":0.2}},\"type\":\"histogram\"}],\"histogram2d\":[{\"colorbar\":{\"outlinewidth\":0,\"ticks\":\"\"},\"colorscale\":[[0.0,\"#0d0887\"],[0.1111111111111111,\"#46039f\"],[0.2222222222222222,\"#7201a8\"],[0.3333333333333333,\"#9c179e\"],[0.4444444444444444,\"#bd3786\"],[0.5555555555555556,\"#d8576b\"],[0.6666666666666666,\"#ed7953\"],[0.7777777777777778,\"#fb9f3a\"],[0.8888888888888888,\"#fdca26\"],[1.0,\"#f0f921\"]],\"type\":\"histogram2d\"}],\"histogram2dcontour\":[{\"colorbar\":{\"outlinewidth\":0,\"ticks\":\"\"},\"colorscale\":[[0.0,\"#0d0887\"],[0.1111111111111111,\"#46039f\"],[0.2222222222222222,\"#7201a8\"],[0.3333333333333333,\"#9c179e\"],[0.4444444444444444,\"#bd3786\"],[0.5555555555555556,\"#d8576b\"],[0.6666666666666666,\"#ed7953\"],[0.7777777777777778,\"#fb9f3a\"],[0.8888888888888888,\"#fdca26\"],[1.0,\"#f0f921\"]],\"type\":\"histogram2dcontour\"}],\"mesh3d\":[{\"colorbar\":{\"outlinewidth\":0,\"ticks\":\"\"},\"type\":\"mesh3d\"}],\"parcoords\":[{\"line\":{\"colorbar\":{\"outlinewidth\":0,\"ticks\":\"\"}},\"type\":\"parcoords\"}],\"pie\":[{\"automargin\":true,\"type\":\"pie\"}],\"scatter\":[{\"marker\":{\"colorbar\":{\"outlinewidth\":0,\"ticks\":\"\"}},\"type\":\"scatter\"}],\"scatter3d\":[{\"line\":{\"colorbar\":{\"outlinewidth\":0,\"ticks\":\"\"}},\"marker\":{\"colorbar\":{\"outlinewidth\":0,\"ticks\":\"\"}},\"type\":\"scatter3d\"}],\"scattercarpet\":[{\"marker\":{\"colorbar\":{\"outlinewidth\":0,\"ticks\":\"\"}},\"type\":\"scattercarpet\"}],\"scattergeo\":[{\"marker\":{\"colorbar\":{\"outlinewidth\":0,\"ticks\":\"\"}},\"type\":\"scattergeo\"}],\"scattergl\":[{\"marker\":{\"colorbar\":{\"outlinewidth\":0,\"ticks\":\"\"}},\"type\":\"scattergl\"}],\"scattermapbox\":[{\"marker\":{\"colorbar\":{\"outlinewidth\":0,\"ticks\":\"\"}},\"type\":\"scattermapbox\"}],\"scatterpolar\":[{\"marker\":{\"colorbar\":{\"outlinewidth\":0,\"ticks\":\"\"}},\"type\":\"scatterpolar\"}],\"scatterpolargl\":[{\"marker\":{\"colorbar\":{\"outlinewidth\":0,\"ticks\":\"\"}},\"type\":\"scatterpolargl\"}],\"scatterternary\":[{\"marker\":{\"colorbar\":{\"outlinewidth\":0,\"ticks\":\"\"}},\"type\":\"scatterternary\"}],\"surface\":[{\"colorbar\":{\"outlinewidth\":0,\"ticks\":\"\"},\"colorscale\":[[0.0,\"#0d0887\"],[0.1111111111111111,\"#46039f\"],[0.2222222222222222,\"#7201a8\"],[0.3333333333333333,\"#9c179e\"],[0.4444444444444444,\"#bd3786\"],[0.5555555555555556,\"#d8576b\"],[0.6666666666666666,\"#ed7953\"],[0.7777777777777778,\"#fb9f3a\"],[0.8888888888888888,\"#fdca26\"],[1.0,\"#f0f921\"]],\"type\":\"surface\"}],\"table\":[{\"cells\":{\"fill\":{\"color\":\"#EBF0F8\"},\"line\":{\"color\":\"white\"}},\"header\":{\"fill\":{\"color\":\"#C8D4E3\"},\"line\":{\"color\":\"white\"}},\"type\":\"table\"}]},\"layout\":{\"annotationdefaults\":{\"arrowcolor\":\"#2a3f5f\",\"arrowhead\":0,\"arrowwidth\":1},\"autotypenumbers\":\"strict\",\"coloraxis\":{\"colorbar\":{\"outlinewidth\":0,\"ticks\":\"\"}},\"colorscale\":{\"diverging\":[[0,\"#8e0152\"],[0.1,\"#c51b7d\"],[0.2,\"#de77ae\"],[0.3,\"#f1b6da\"],[0.4,\"#fde0ef\"],[0.5,\"#f7f7f7\"],[0.6,\"#e6f5d0\"],[0.7,\"#b8e186\"],[0.8,\"#7fbc41\"],[0.9,\"#4d9221\"],[1,\"#276419\"]],\"sequential\":[[0.0,\"#0d0887\"],[0.1111111111111111,\"#46039f\"],[0.2222222222222222,\"#7201a8\"],[0.3333333333333333,\"#9c179e\"],[0.4444444444444444,\"#bd3786\"],[0.5555555555555556,\"#d8576b\"],[0.6666666666666666,\"#ed7953\"],[0.7777777777777778,\"#fb9f3a\"],[0.8888888888888888,\"#fdca26\"],[1.0,\"#f0f921\"]],\"sequentialminus\":[[0.0,\"#0d0887\"],[0.1111111111111111,\"#46039f\"],[0.2222222222222222,\"#7201a8\"],[0.3333333333333333,\"#9c179e\"],[0.4444444444444444,\"#bd3786\"],[0.5555555555555556,\"#d8576b\"],[0.6666666666666666,\"#ed7953\"],[0.7777777777777778,\"#fb9f3a\"],[0.8888888888888888,\"#fdca26\"],[1.0,\"#f0f921\"]]},\"colorway\":[\"#636efa\",\"#EF553B\",\"#00cc96\",\"#ab63fa\",\"#FFA15A\",\"#19d3f3\",\"#FF6692\",\"#B6E880\",\"#FF97FF\",\"#FECB52\"],\"font\":{\"color\":\"#2a3f5f\"},\"geo\":{\"bgcolor\":\"white\",\"lakecolor\":\"white\",\"landcolor\":\"#E5ECF6\",\"showlakes\":true,\"showland\":true,\"subunitcolor\":\"white\"},\"hoverlabel\":{\"align\":\"left\"},\"hovermode\":\"closest\",\"mapbox\":{\"style\":\"light\"},\"paper_bgcolor\":\"white\",\"plot_bgcolor\":\"#E5ECF6\",\"polar\":{\"angularaxis\":{\"gridcolor\":\"white\",\"linecolor\":\"white\",\"ticks\":\"\"},\"bgcolor\":\"#E5ECF6\",\"radialaxis\":{\"gridcolor\":\"white\",\"linecolor\":\"white\",\"ticks\":\"\"}},\"scene\":{\"xaxis\":{\"backgroundcolor\":\"#E5ECF6\",\"gridcolor\":\"white\",\"gridwidth\":2,\"linecolor\":\"white\",\"showbackground\":true,\"ticks\":\"\",\"zerolinecolor\":\"white\"},\"yaxis\":{\"backgroundcolor\":\"#E5ECF6\",\"gridcolor\":\"white\",\"gridwidth\":2,\"linecolor\":\"white\",\"showbackground\":true,\"ticks\":\"\",\"zerolinecolor\":\"white\"},\"zaxis\":{\"backgroundcolor\":\"#E5ECF6\",\"gridcolor\":\"white\",\"gridwidth\":2,\"linecolor\":\"white\",\"showbackground\":true,\"ticks\":\"\",\"zerolinecolor\":\"white\"}},\"shapedefaults\":{\"line\":{\"color\":\"#2a3f5f\"}},\"ternary\":{\"aaxis\":{\"gridcolor\":\"white\",\"linecolor\":\"white\",\"ticks\":\"\"},\"baxis\":{\"gridcolor\":\"white\",\"linecolor\":\"white\",\"ticks\":\"\"},\"bgcolor\":\"#E5ECF6\",\"caxis\":{\"gridcolor\":\"white\",\"linecolor\":\"white\",\"ticks\":\"\"}},\"title\":{\"x\":0.05},\"xaxis\":{\"automargin\":true,\"gridcolor\":\"white\",\"linecolor\":\"white\",\"ticks\":\"\",\"title\":{\"standoff\":15},\"zerolinecolor\":\"white\",\"zerolinewidth\":2},\"yaxis\":{\"automargin\":true,\"gridcolor\":\"white\",\"linecolor\":\"white\",\"ticks\":\"\",\"title\":{\"standoff\":15},\"zerolinecolor\":\"white\",\"zerolinewidth\":2}}}},                        {\"responsive\": true}                    ).then(function(){\n",
       "                            \n",
       "var gd = document.getElementById('f93f9337-99df-4cc4-be56-6abba3d0a2f4');\n",
       "var x = new MutationObserver(function (mutations, observer) {{\n",
       "        var display = window.getComputedStyle(gd).display;\n",
       "        if (!display || display === 'none') {{\n",
       "            console.log([gd, 'removed!']);\n",
       "            Plotly.purge(gd);\n",
       "            observer.disconnect();\n",
       "        }}\n",
       "}});\n",
       "\n",
       "// Listen for the removal of the full notebook cells\n",
       "var notebookContainer = gd.closest('#notebook-container');\n",
       "if (notebookContainer) {{\n",
       "    x.observe(notebookContainer, {childList: true});\n",
       "}}\n",
       "\n",
       "// Listen for the clearing of the current output cell\n",
       "var outputEl = gd.closest('.output');\n",
       "if (outputEl) {{\n",
       "    x.observe(outputEl, {childList: true});\n",
       "}}\n",
       "\n",
       "                        })                };                });            </script>        </div>"
      ]
     },
     "metadata": {},
     "output_type": "display_data"
    }
   ],
   "source": [
    "optuna.visualization.plot_optimization_history(study_model)"
   ]
  },
  {
   "cell_type": "code",
   "execution_count": 29,
   "id": "5a25199b",
   "metadata": {
    "execution": {
     "iopub.execute_input": "2022-02-11T07:57:12.590969Z",
     "iopub.status.busy": "2022-02-11T07:57:12.590471Z",
     "iopub.status.idle": "2022-02-11T07:57:12.804380Z",
     "shell.execute_reply": "2022-02-11T07:57:12.804759Z",
     "shell.execute_reply.started": "2022-02-10T12:02:48.522814Z"
    },
    "papermill": {
     "duration": 0.267478,
     "end_time": "2022-02-11T07:57:12.804904",
     "exception": false,
     "start_time": "2022-02-11T07:57:12.537426",
     "status": "completed"
    },
    "tags": []
   },
   "outputs": [
    {
     "data": {
      "text/html": [
       "<div>                            <div id=\"12534f13-a2be-43f8-bcb6-6578d2617c0f\" class=\"plotly-graph-div\" style=\"height:525px; width:1800px;\"></div>            <script type=\"text/javascript\">                require([\"plotly\"], function(Plotly) {                    window.PLOTLYENV=window.PLOTLYENV || {};                                    if (document.getElementById(\"12534f13-a2be-43f8-bcb6-6578d2617c0f\")) {                    Plotly.newPlot(                        \"12534f13-a2be-43f8-bcb6-6578d2617c0f\",                        [{\"marker\":{\"color\":[0,1,2,3,4,5,6,7,8,9,10,11,12,13,14,15,16,17,18,19],\"colorbar\":{\"title\":{\"text\":\"#Trials\"},\"x\":1.0,\"xpad\":40},\"colorscale\":[[0.0,\"rgb(247,251,255)\"],[0.125,\"rgb(222,235,247)\"],[0.25,\"rgb(198,219,239)\"],[0.375,\"rgb(158,202,225)\"],[0.5,\"rgb(107,174,214)\"],[0.625,\"rgb(66,146,198)\"],[0.75,\"rgb(33,113,181)\"],[0.875,\"rgb(8,81,156)\"],[1.0,\"rgb(8,48,107)\"]],\"line\":{\"color\":\"Grey\",\"width\":0.5},\"showscale\":true},\"mode\":\"markers\",\"showlegend\":false,\"x\":[0.06028030997340368,0.09636663942249793,0.007112895459206715,0.09786204803985407,0.014343895208030552,0.045620471718332695,0.09437537037067728,0.06668000387741231,0.05702397507408379,0.0653143014632852,0.03084443486599509,0.034643156578930315,0.07655886125364206,0.03666757949384986,0.03373950342680686,0.022288094287991056,0.04273027913781874,0.0012020292059093662,0.02832353923921075,0.018563145778305902],\"y\":[0.6147841954237596,0.6127261737365276,0.6157302227101291,0.6153693224721889,0.615966432673396,0.6175953532119013,0.6166059108693939,0.6199930607220825,0.6197558150664342,0.6211398474325097,0.6201227079078564,0.6218441389154772,0.6180783038495941,0.6224714601962822,0.6223521870299745,0.6212846848318472,0.6185547213029066,0.6203497175585297,0.6186476167137399,0.6223872201364763],\"type\":\"scatter\",\"xaxis\":\"x\",\"yaxis\":\"y\"},{\"marker\":{\"color\":[0,1,2,3,4,5,6,7,8,9,10,11,12,13,14,15,16,17,18,19],\"colorbar\":{\"title\":{\"text\":\"#Trials\"},\"x\":1.0,\"xpad\":40},\"colorscale\":[[0.0,\"rgb(247,251,255)\"],[0.125,\"rgb(222,235,247)\"],[0.25,\"rgb(198,219,239)\"],[0.375,\"rgb(158,202,225)\"],[0.5,\"rgb(107,174,214)\"],[0.625,\"rgb(66,146,198)\"],[0.75,\"rgb(33,113,181)\"],[0.875,\"rgb(8,81,156)\"],[1.0,\"rgb(8,48,107)\"]],\"line\":{\"color\":\"Grey\",\"width\":0.5},\"showscale\":false},\"mode\":\"markers\",\"showlegend\":false,\"x\":[13,12,14,17,6,9,14,16,10,8,20,19,6,19,20,18,20,16,18,16],\"y\":[0.6147841954237596,0.6127261737365276,0.6157302227101291,0.6153693224721889,0.615966432673396,0.6175953532119013,0.6166059108693939,0.6199930607220825,0.6197558150664342,0.6211398474325097,0.6201227079078564,0.6218441389154772,0.6180783038495941,0.6224714601962822,0.6223521870299745,0.6212846848318472,0.6185547213029066,0.6203497175585297,0.6186476167137399,0.6223872201364763],\"type\":\"scatter\",\"xaxis\":\"x2\",\"yaxis\":\"y2\"},{\"marker\":{\"color\":[0,1,2,3,4,5,6,7,8,9,10,11,12,13,14,15,16,17,18,19],\"colorbar\":{\"title\":{\"text\":\"#Trials\"},\"x\":1.0,\"xpad\":40},\"colorscale\":[[0.0,\"rgb(247,251,255)\"],[0.125,\"rgb(222,235,247)\"],[0.25,\"rgb(198,219,239)\"],[0.375,\"rgb(158,202,225)\"],[0.5,\"rgb(107,174,214)\"],[0.625,\"rgb(66,146,198)\"],[0.75,\"rgb(33,113,181)\"],[0.875,\"rgb(8,81,156)\"],[1.0,\"rgb(8,48,107)\"]],\"line\":{\"color\":\"Grey\",\"width\":0.5},\"showscale\":false},\"mode\":\"markers\",\"showlegend\":false,\"x\":[45,81,6,49,55,6,39,25,99,49,67,67,72,89,98,98,86,88,78,94],\"y\":[0.6147841954237596,0.6127261737365276,0.6157302227101291,0.6153693224721889,0.615966432673396,0.6175953532119013,0.6166059108693939,0.6199930607220825,0.6197558150664342,0.6211398474325097,0.6201227079078564,0.6218441389154772,0.6180783038495941,0.6224714601962822,0.6223521870299745,0.6212846848318472,0.6185547213029066,0.6203497175585297,0.6186476167137399,0.6223872201364763],\"type\":\"scatter\",\"xaxis\":\"x3\",\"yaxis\":\"y3\"},{\"marker\":{\"color\":[0,1,2,3,4,5,6,7,8,9,10,11,12,13,14,15,16,17,18,19],\"colorbar\":{\"title\":{\"text\":\"#Trials\"},\"x\":1.0,\"xpad\":40},\"colorscale\":[[0.0,\"rgb(247,251,255)\"],[0.125,\"rgb(222,235,247)\"],[0.25,\"rgb(198,219,239)\"],[0.375,\"rgb(158,202,225)\"],[0.5,\"rgb(107,174,214)\"],[0.625,\"rgb(66,146,198)\"],[0.75,\"rgb(33,113,181)\"],[0.875,\"rgb(8,81,156)\"],[1.0,\"rgb(8,48,107)\"]],\"line\":{\"color\":\"Grey\",\"width\":0.5},\"showscale\":false},\"mode\":\"markers\",\"showlegend\":false,\"x\":[1590,1267,674,2099,2390,1637,1864,1841,1377,1006,809,768,978,523,530,534,1152,518,998,739],\"y\":[0.6147841954237596,0.6127261737365276,0.6157302227101291,0.6153693224721889,0.615966432673396,0.6175953532119013,0.6166059108693939,0.6199930607220825,0.6197558150664342,0.6211398474325097,0.6201227079078564,0.6218441389154772,0.6180783038495941,0.6224714601962822,0.6223521870299745,0.6212846848318472,0.6185547213029066,0.6203497175585297,0.6186476167137399,0.6223872201364763],\"type\":\"scatter\",\"xaxis\":\"x4\",\"yaxis\":\"y4\"},{\"marker\":{\"color\":[0,1,2,3,4,5,6,7,8,9,10,11,12,13,14,15,16,17,18,19],\"colorbar\":{\"title\":{\"text\":\"#Trials\"},\"x\":1.0,\"xpad\":40},\"colorscale\":[[0.0,\"rgb(247,251,255)\"],[0.125,\"rgb(222,235,247)\"],[0.25,\"rgb(198,219,239)\"],[0.375,\"rgb(158,202,225)\"],[0.5,\"rgb(107,174,214)\"],[0.625,\"rgb(66,146,198)\"],[0.75,\"rgb(33,113,181)\"],[0.875,\"rgb(8,81,156)\"],[1.0,\"rgb(8,48,107)\"]],\"line\":{\"color\":\"Grey\",\"width\":0.5},\"showscale\":false},\"mode\":\"markers\",\"showlegend\":false,\"x\":[32,37,38,36,29,34,29,11,21,15,15,15,20,16,10,10,21,18,25,13],\"y\":[0.6147841954237596,0.6127261737365276,0.6157302227101291,0.6153693224721889,0.615966432673396,0.6175953532119013,0.6166059108693939,0.6199930607220825,0.6197558150664342,0.6211398474325097,0.6201227079078564,0.6218441389154772,0.6180783038495941,0.6224714601962822,0.6223521870299745,0.6212846848318472,0.6185547213029066,0.6203497175585297,0.6186476167137399,0.6223872201364763],\"type\":\"scatter\",\"xaxis\":\"x5\",\"yaxis\":\"y5\"},{\"marker\":{\"color\":[0,1,2,3,4,5,6,7,8,9,10,11,12,13,14,15,16,17,18,19],\"colorbar\":{\"title\":{\"text\":\"#Trials\"},\"x\":1.0,\"xpad\":40},\"colorscale\":[[0.0,\"rgb(247,251,255)\"],[0.125,\"rgb(222,235,247)\"],[0.25,\"rgb(198,219,239)\"],[0.375,\"rgb(158,202,225)\"],[0.5,\"rgb(107,174,214)\"],[0.625,\"rgb(66,146,198)\"],[0.75,\"rgb(33,113,181)\"],[0.875,\"rgb(8,81,156)\"],[1.0,\"rgb(8,48,107)\"]],\"line\":{\"color\":\"Grey\",\"width\":0.5},\"showscale\":false},\"mode\":\"markers\",\"showlegend\":false,\"x\":[0.7875364678399936,0.7173369518517427,0.8995719073287628,0.8683175057718733,0.6487971639943142,0.7705812982455262,0.6622191722796049,0.477355778592912,0.4612268864488169,0.5466553552009616,0.5733621413678045,0.5597890478938754,0.5515739846859974,0.4011656977680331,0.4099013431190394,0.40241853572225533,0.40477297218115205,0.4672803528512009,0.4947753947107652,0.9557187268647842],\"y\":[0.6147841954237596,0.6127261737365276,0.6157302227101291,0.6153693224721889,0.615966432673396,0.6175953532119013,0.6166059108693939,0.6199930607220825,0.6197558150664342,0.6211398474325097,0.6201227079078564,0.6218441389154772,0.6180783038495941,0.6224714601962822,0.6223521870299745,0.6212846848318472,0.6185547213029066,0.6203497175585297,0.6186476167137399,0.6223872201364763],\"type\":\"scatter\",\"xaxis\":\"x6\",\"yaxis\":\"y6\"}],                        {\"template\":{\"data\":{\"bar\":[{\"error_x\":{\"color\":\"#2a3f5f\"},\"error_y\":{\"color\":\"#2a3f5f\"},\"marker\":{\"line\":{\"color\":\"#E5ECF6\",\"width\":0.5},\"pattern\":{\"fillmode\":\"overlay\",\"size\":10,\"solidity\":0.2}},\"type\":\"bar\"}],\"barpolar\":[{\"marker\":{\"line\":{\"color\":\"#E5ECF6\",\"width\":0.5},\"pattern\":{\"fillmode\":\"overlay\",\"size\":10,\"solidity\":0.2}},\"type\":\"barpolar\"}],\"carpet\":[{\"aaxis\":{\"endlinecolor\":\"#2a3f5f\",\"gridcolor\":\"white\",\"linecolor\":\"white\",\"minorgridcolor\":\"white\",\"startlinecolor\":\"#2a3f5f\"},\"baxis\":{\"endlinecolor\":\"#2a3f5f\",\"gridcolor\":\"white\",\"linecolor\":\"white\",\"minorgridcolor\":\"white\",\"startlinecolor\":\"#2a3f5f\"},\"type\":\"carpet\"}],\"choropleth\":[{\"colorbar\":{\"outlinewidth\":0,\"ticks\":\"\"},\"type\":\"choropleth\"}],\"contour\":[{\"colorbar\":{\"outlinewidth\":0,\"ticks\":\"\"},\"colorscale\":[[0.0,\"#0d0887\"],[0.1111111111111111,\"#46039f\"],[0.2222222222222222,\"#7201a8\"],[0.3333333333333333,\"#9c179e\"],[0.4444444444444444,\"#bd3786\"],[0.5555555555555556,\"#d8576b\"],[0.6666666666666666,\"#ed7953\"],[0.7777777777777778,\"#fb9f3a\"],[0.8888888888888888,\"#fdca26\"],[1.0,\"#f0f921\"]],\"type\":\"contour\"}],\"contourcarpet\":[{\"colorbar\":{\"outlinewidth\":0,\"ticks\":\"\"},\"type\":\"contourcarpet\"}],\"heatmap\":[{\"colorbar\":{\"outlinewidth\":0,\"ticks\":\"\"},\"colorscale\":[[0.0,\"#0d0887\"],[0.1111111111111111,\"#46039f\"],[0.2222222222222222,\"#7201a8\"],[0.3333333333333333,\"#9c179e\"],[0.4444444444444444,\"#bd3786\"],[0.5555555555555556,\"#d8576b\"],[0.6666666666666666,\"#ed7953\"],[0.7777777777777778,\"#fb9f3a\"],[0.8888888888888888,\"#fdca26\"],[1.0,\"#f0f921\"]],\"type\":\"heatmap\"}],\"heatmapgl\":[{\"colorbar\":{\"outlinewidth\":0,\"ticks\":\"\"},\"colorscale\":[[0.0,\"#0d0887\"],[0.1111111111111111,\"#46039f\"],[0.2222222222222222,\"#7201a8\"],[0.3333333333333333,\"#9c179e\"],[0.4444444444444444,\"#bd3786\"],[0.5555555555555556,\"#d8576b\"],[0.6666666666666666,\"#ed7953\"],[0.7777777777777778,\"#fb9f3a\"],[0.8888888888888888,\"#fdca26\"],[1.0,\"#f0f921\"]],\"type\":\"heatmapgl\"}],\"histogram\":[{\"marker\":{\"pattern\":{\"fillmode\":\"overlay\",\"size\":10,\"solidity\":0.2}},\"type\":\"histogram\"}],\"histogram2d\":[{\"colorbar\":{\"outlinewidth\":0,\"ticks\":\"\"},\"colorscale\":[[0.0,\"#0d0887\"],[0.1111111111111111,\"#46039f\"],[0.2222222222222222,\"#7201a8\"],[0.3333333333333333,\"#9c179e\"],[0.4444444444444444,\"#bd3786\"],[0.5555555555555556,\"#d8576b\"],[0.6666666666666666,\"#ed7953\"],[0.7777777777777778,\"#fb9f3a\"],[0.8888888888888888,\"#fdca26\"],[1.0,\"#f0f921\"]],\"type\":\"histogram2d\"}],\"histogram2dcontour\":[{\"colorbar\":{\"outlinewidth\":0,\"ticks\":\"\"},\"colorscale\":[[0.0,\"#0d0887\"],[0.1111111111111111,\"#46039f\"],[0.2222222222222222,\"#7201a8\"],[0.3333333333333333,\"#9c179e\"],[0.4444444444444444,\"#bd3786\"],[0.5555555555555556,\"#d8576b\"],[0.6666666666666666,\"#ed7953\"],[0.7777777777777778,\"#fb9f3a\"],[0.8888888888888888,\"#fdca26\"],[1.0,\"#f0f921\"]],\"type\":\"histogram2dcontour\"}],\"mesh3d\":[{\"colorbar\":{\"outlinewidth\":0,\"ticks\":\"\"},\"type\":\"mesh3d\"}],\"parcoords\":[{\"line\":{\"colorbar\":{\"outlinewidth\":0,\"ticks\":\"\"}},\"type\":\"parcoords\"}],\"pie\":[{\"automargin\":true,\"type\":\"pie\"}],\"scatter\":[{\"marker\":{\"colorbar\":{\"outlinewidth\":0,\"ticks\":\"\"}},\"type\":\"scatter\"}],\"scatter3d\":[{\"line\":{\"colorbar\":{\"outlinewidth\":0,\"ticks\":\"\"}},\"marker\":{\"colorbar\":{\"outlinewidth\":0,\"ticks\":\"\"}},\"type\":\"scatter3d\"}],\"scattercarpet\":[{\"marker\":{\"colorbar\":{\"outlinewidth\":0,\"ticks\":\"\"}},\"type\":\"scattercarpet\"}],\"scattergeo\":[{\"marker\":{\"colorbar\":{\"outlinewidth\":0,\"ticks\":\"\"}},\"type\":\"scattergeo\"}],\"scattergl\":[{\"marker\":{\"colorbar\":{\"outlinewidth\":0,\"ticks\":\"\"}},\"type\":\"scattergl\"}],\"scattermapbox\":[{\"marker\":{\"colorbar\":{\"outlinewidth\":0,\"ticks\":\"\"}},\"type\":\"scattermapbox\"}],\"scatterpolar\":[{\"marker\":{\"colorbar\":{\"outlinewidth\":0,\"ticks\":\"\"}},\"type\":\"scatterpolar\"}],\"scatterpolargl\":[{\"marker\":{\"colorbar\":{\"outlinewidth\":0,\"ticks\":\"\"}},\"type\":\"scatterpolargl\"}],\"scatterternary\":[{\"marker\":{\"colorbar\":{\"outlinewidth\":0,\"ticks\":\"\"}},\"type\":\"scatterternary\"}],\"surface\":[{\"colorbar\":{\"outlinewidth\":0,\"ticks\":\"\"},\"colorscale\":[[0.0,\"#0d0887\"],[0.1111111111111111,\"#46039f\"],[0.2222222222222222,\"#7201a8\"],[0.3333333333333333,\"#9c179e\"],[0.4444444444444444,\"#bd3786\"],[0.5555555555555556,\"#d8576b\"],[0.6666666666666666,\"#ed7953\"],[0.7777777777777778,\"#fb9f3a\"],[0.8888888888888888,\"#fdca26\"],[1.0,\"#f0f921\"]],\"type\":\"surface\"}],\"table\":[{\"cells\":{\"fill\":{\"color\":\"#EBF0F8\"},\"line\":{\"color\":\"white\"}},\"header\":{\"fill\":{\"color\":\"#C8D4E3\"},\"line\":{\"color\":\"white\"}},\"type\":\"table\"}]},\"layout\":{\"annotationdefaults\":{\"arrowcolor\":\"#2a3f5f\",\"arrowhead\":0,\"arrowwidth\":1},\"autotypenumbers\":\"strict\",\"coloraxis\":{\"colorbar\":{\"outlinewidth\":0,\"ticks\":\"\"}},\"colorscale\":{\"diverging\":[[0,\"#8e0152\"],[0.1,\"#c51b7d\"],[0.2,\"#de77ae\"],[0.3,\"#f1b6da\"],[0.4,\"#fde0ef\"],[0.5,\"#f7f7f7\"],[0.6,\"#e6f5d0\"],[0.7,\"#b8e186\"],[0.8,\"#7fbc41\"],[0.9,\"#4d9221\"],[1,\"#276419\"]],\"sequential\":[[0.0,\"#0d0887\"],[0.1111111111111111,\"#46039f\"],[0.2222222222222222,\"#7201a8\"],[0.3333333333333333,\"#9c179e\"],[0.4444444444444444,\"#bd3786\"],[0.5555555555555556,\"#d8576b\"],[0.6666666666666666,\"#ed7953\"],[0.7777777777777778,\"#fb9f3a\"],[0.8888888888888888,\"#fdca26\"],[1.0,\"#f0f921\"]],\"sequentialminus\":[[0.0,\"#0d0887\"],[0.1111111111111111,\"#46039f\"],[0.2222222222222222,\"#7201a8\"],[0.3333333333333333,\"#9c179e\"],[0.4444444444444444,\"#bd3786\"],[0.5555555555555556,\"#d8576b\"],[0.6666666666666666,\"#ed7953\"],[0.7777777777777778,\"#fb9f3a\"],[0.8888888888888888,\"#fdca26\"],[1.0,\"#f0f921\"]]},\"colorway\":[\"#636efa\",\"#EF553B\",\"#00cc96\",\"#ab63fa\",\"#FFA15A\",\"#19d3f3\",\"#FF6692\",\"#B6E880\",\"#FF97FF\",\"#FECB52\"],\"font\":{\"color\":\"#2a3f5f\"},\"geo\":{\"bgcolor\":\"white\",\"lakecolor\":\"white\",\"landcolor\":\"#E5ECF6\",\"showlakes\":true,\"showland\":true,\"subunitcolor\":\"white\"},\"hoverlabel\":{\"align\":\"left\"},\"hovermode\":\"closest\",\"mapbox\":{\"style\":\"light\"},\"paper_bgcolor\":\"white\",\"plot_bgcolor\":\"#E5ECF6\",\"polar\":{\"angularaxis\":{\"gridcolor\":\"white\",\"linecolor\":\"white\",\"ticks\":\"\"},\"bgcolor\":\"#E5ECF6\",\"radialaxis\":{\"gridcolor\":\"white\",\"linecolor\":\"white\",\"ticks\":\"\"}},\"scene\":{\"xaxis\":{\"backgroundcolor\":\"#E5ECF6\",\"gridcolor\":\"white\",\"gridwidth\":2,\"linecolor\":\"white\",\"showbackground\":true,\"ticks\":\"\",\"zerolinecolor\":\"white\"},\"yaxis\":{\"backgroundcolor\":\"#E5ECF6\",\"gridcolor\":\"white\",\"gridwidth\":2,\"linecolor\":\"white\",\"showbackground\":true,\"ticks\":\"\",\"zerolinecolor\":\"white\"},\"zaxis\":{\"backgroundcolor\":\"#E5ECF6\",\"gridcolor\":\"white\",\"gridwidth\":2,\"linecolor\":\"white\",\"showbackground\":true,\"ticks\":\"\",\"zerolinecolor\":\"white\"}},\"shapedefaults\":{\"line\":{\"color\":\"#2a3f5f\"}},\"ternary\":{\"aaxis\":{\"gridcolor\":\"white\",\"linecolor\":\"white\",\"ticks\":\"\"},\"baxis\":{\"gridcolor\":\"white\",\"linecolor\":\"white\",\"ticks\":\"\"},\"bgcolor\":\"#E5ECF6\",\"caxis\":{\"gridcolor\":\"white\",\"linecolor\":\"white\",\"ticks\":\"\"}},\"title\":{\"x\":0.05},\"xaxis\":{\"automargin\":true,\"gridcolor\":\"white\",\"linecolor\":\"white\",\"ticks\":\"\",\"title\":{\"standoff\":15},\"zerolinecolor\":\"white\",\"zerolinewidth\":2},\"yaxis\":{\"automargin\":true,\"gridcolor\":\"white\",\"linecolor\":\"white\",\"ticks\":\"\",\"title\":{\"standoff\":15},\"zerolinecolor\":\"white\",\"zerolinewidth\":2}}},\"xaxis\":{\"anchor\":\"y\",\"domain\":[0.0,0.1388888888888889],\"title\":{\"text\":\"learning_rate\"}},\"yaxis\":{\"anchor\":\"x\",\"domain\":[0.0,1.0],\"title\":{\"text\":\"Objective Value\"}},\"xaxis2\":{\"anchor\":\"y2\",\"domain\":[0.17222222222222222,0.3111111111111111],\"title\":{\"text\":\"max_depth\"}},\"yaxis2\":{\"anchor\":\"x2\",\"domain\":[0.0,1.0],\"matches\":\"y\",\"showticklabels\":false},\"xaxis3\":{\"anchor\":\"y3\",\"domain\":[0.34444444444444444,0.48333333333333334],\"title\":{\"text\":\"min_child_samples\"}},\"yaxis3\":{\"anchor\":\"x3\",\"domain\":[0.0,1.0],\"matches\":\"y\",\"showticklabels\":false},\"xaxis4\":{\"anchor\":\"y4\",\"domain\":[0.5166666666666667,0.6555555555555557],\"title\":{\"text\":\"n_estimators\"}},\"yaxis4\":{\"anchor\":\"x4\",\"domain\":[0.0,1.0],\"matches\":\"y\",\"showticklabels\":false},\"xaxis5\":{\"anchor\":\"y5\",\"domain\":[0.6888888888888889,0.8277777777777777],\"title\":{\"text\":\"num_leaves\"}},\"yaxis5\":{\"anchor\":\"x5\",\"domain\":[0.0,1.0],\"matches\":\"y\",\"showticklabels\":false},\"xaxis6\":{\"anchor\":\"y6\",\"domain\":[0.861111111111111,1.0],\"title\":{\"text\":\"subsample\"}},\"yaxis6\":{\"anchor\":\"x6\",\"domain\":[0.0,1.0],\"matches\":\"y\",\"showticklabels\":false},\"title\":{\"text\":\"Slice Plot\"},\"width\":1800},                        {\"responsive\": true}                    ).then(function(){\n",
       "                            \n",
       "var gd = document.getElementById('12534f13-a2be-43f8-bcb6-6578d2617c0f');\n",
       "var x = new MutationObserver(function (mutations, observer) {{\n",
       "        var display = window.getComputedStyle(gd).display;\n",
       "        if (!display || display === 'none') {{\n",
       "            console.log([gd, 'removed!']);\n",
       "            Plotly.purge(gd);\n",
       "            observer.disconnect();\n",
       "        }}\n",
       "}});\n",
       "\n",
       "// Listen for the removal of the full notebook cells\n",
       "var notebookContainer = gd.closest('#notebook-container');\n",
       "if (notebookContainer) {{\n",
       "    x.observe(notebookContainer, {childList: true});\n",
       "}}\n",
       "\n",
       "// Listen for the clearing of the current output cell\n",
       "var outputEl = gd.closest('.output');\n",
       "if (outputEl) {{\n",
       "    x.observe(outputEl, {childList: true});\n",
       "}}\n",
       "\n",
       "                        })                };                });            </script>        </div>"
      ]
     },
     "metadata": {},
     "output_type": "display_data"
    }
   ],
   "source": [
    "optuna.visualization.plot_slice(study_model)"
   ]
  },
  {
   "cell_type": "code",
   "execution_count": 30,
   "id": "ef7b8344",
   "metadata": {
    "execution": {
     "iopub.execute_input": "2022-02-11T07:57:12.946299Z",
     "iopub.status.busy": "2022-02-11T07:57:12.935705Z",
     "iopub.status.idle": "2022-02-11T07:57:13.436487Z",
     "shell.execute_reply": "2022-02-11T07:57:13.436869Z",
     "shell.execute_reply.started": "2022-02-10T12:02:53.355117Z"
    },
    "papermill": {
     "duration": 0.583982,
     "end_time": "2022-02-11T07:57:13.437017",
     "exception": false,
     "start_time": "2022-02-11T07:57:12.853035",
     "status": "completed"
    },
    "tags": []
   },
   "outputs": [
    {
     "data": {
      "text/html": [
       "<div>                            <div id=\"0df6ade9-97c6-4267-af87-94286f45eb3c\" class=\"plotly-graph-div\" style=\"height:525px; width:100%;\"></div>            <script type=\"text/javascript\">                require([\"plotly\"], function(Plotly) {                    window.PLOTLYENV=window.PLOTLYENV || {};                                    if (document.getElementById(\"0df6ade9-97c6-4267-af87-94286f45eb3c\")) {                    Plotly.newPlot(                        \"0df6ade9-97c6-4267-af87-94286f45eb3c\",                        [{\"cliponaxis\":false,\"hovertemplate\":[\"max_depth (IntUniformDistribution): 0.02786214253729751<extra></extra>\",\"min_child_samples (IntUniformDistribution): 0.04673657994059959<extra></extra>\",\"learning_rate (UniformDistribution): 0.0481196633752161<extra></extra>\",\"n_estimators (IntUniformDistribution): 0.058936069593721<extra></extra>\",\"subsample (UniformDistribution): 0.18868697476300256<extra></extra>\",\"num_leaves (IntUniformDistribution): 0.6296585697901632<extra></extra>\"],\"marker\":{\"color\":\"rgb(66,146,198)\"},\"orientation\":\"h\",\"text\":[\"0.02786214253729751\",\"0.04673657994059959\",\"0.0481196633752161\",\"0.058936069593721\",\"0.18868697476300256\",\"0.6296585697901632\"],\"textposition\":\"outside\",\"texttemplate\":\"%{text:.2f}\",\"x\":[0.02786214253729751,0.04673657994059959,0.0481196633752161,0.058936069593721,0.18868697476300256,0.6296585697901632],\"y\":[\"max_depth\",\"min_child_samples\",\"learning_rate\",\"n_estimators\",\"subsample\",\"num_leaves\"],\"type\":\"bar\"}],                        {\"showlegend\":false,\"title\":{\"text\":\"Hyperparameter Importances\"},\"xaxis\":{\"title\":{\"text\":\"Importance for Objective Value\"}},\"yaxis\":{\"title\":{\"text\":\"Hyperparameter\"}},\"template\":{\"data\":{\"bar\":[{\"error_x\":{\"color\":\"#2a3f5f\"},\"error_y\":{\"color\":\"#2a3f5f\"},\"marker\":{\"line\":{\"color\":\"#E5ECF6\",\"width\":0.5},\"pattern\":{\"fillmode\":\"overlay\",\"size\":10,\"solidity\":0.2}},\"type\":\"bar\"}],\"barpolar\":[{\"marker\":{\"line\":{\"color\":\"#E5ECF6\",\"width\":0.5},\"pattern\":{\"fillmode\":\"overlay\",\"size\":10,\"solidity\":0.2}},\"type\":\"barpolar\"}],\"carpet\":[{\"aaxis\":{\"endlinecolor\":\"#2a3f5f\",\"gridcolor\":\"white\",\"linecolor\":\"white\",\"minorgridcolor\":\"white\",\"startlinecolor\":\"#2a3f5f\"},\"baxis\":{\"endlinecolor\":\"#2a3f5f\",\"gridcolor\":\"white\",\"linecolor\":\"white\",\"minorgridcolor\":\"white\",\"startlinecolor\":\"#2a3f5f\"},\"type\":\"carpet\"}],\"choropleth\":[{\"colorbar\":{\"outlinewidth\":0,\"ticks\":\"\"},\"type\":\"choropleth\"}],\"contour\":[{\"colorbar\":{\"outlinewidth\":0,\"ticks\":\"\"},\"colorscale\":[[0.0,\"#0d0887\"],[0.1111111111111111,\"#46039f\"],[0.2222222222222222,\"#7201a8\"],[0.3333333333333333,\"#9c179e\"],[0.4444444444444444,\"#bd3786\"],[0.5555555555555556,\"#d8576b\"],[0.6666666666666666,\"#ed7953\"],[0.7777777777777778,\"#fb9f3a\"],[0.8888888888888888,\"#fdca26\"],[1.0,\"#f0f921\"]],\"type\":\"contour\"}],\"contourcarpet\":[{\"colorbar\":{\"outlinewidth\":0,\"ticks\":\"\"},\"type\":\"contourcarpet\"}],\"heatmap\":[{\"colorbar\":{\"outlinewidth\":0,\"ticks\":\"\"},\"colorscale\":[[0.0,\"#0d0887\"],[0.1111111111111111,\"#46039f\"],[0.2222222222222222,\"#7201a8\"],[0.3333333333333333,\"#9c179e\"],[0.4444444444444444,\"#bd3786\"],[0.5555555555555556,\"#d8576b\"],[0.6666666666666666,\"#ed7953\"],[0.7777777777777778,\"#fb9f3a\"],[0.8888888888888888,\"#fdca26\"],[1.0,\"#f0f921\"]],\"type\":\"heatmap\"}],\"heatmapgl\":[{\"colorbar\":{\"outlinewidth\":0,\"ticks\":\"\"},\"colorscale\":[[0.0,\"#0d0887\"],[0.1111111111111111,\"#46039f\"],[0.2222222222222222,\"#7201a8\"],[0.3333333333333333,\"#9c179e\"],[0.4444444444444444,\"#bd3786\"],[0.5555555555555556,\"#d8576b\"],[0.6666666666666666,\"#ed7953\"],[0.7777777777777778,\"#fb9f3a\"],[0.8888888888888888,\"#fdca26\"],[1.0,\"#f0f921\"]],\"type\":\"heatmapgl\"}],\"histogram\":[{\"marker\":{\"pattern\":{\"fillmode\":\"overlay\",\"size\":10,\"solidity\":0.2}},\"type\":\"histogram\"}],\"histogram2d\":[{\"colorbar\":{\"outlinewidth\":0,\"ticks\":\"\"},\"colorscale\":[[0.0,\"#0d0887\"],[0.1111111111111111,\"#46039f\"],[0.2222222222222222,\"#7201a8\"],[0.3333333333333333,\"#9c179e\"],[0.4444444444444444,\"#bd3786\"],[0.5555555555555556,\"#d8576b\"],[0.6666666666666666,\"#ed7953\"],[0.7777777777777778,\"#fb9f3a\"],[0.8888888888888888,\"#fdca26\"],[1.0,\"#f0f921\"]],\"type\":\"histogram2d\"}],\"histogram2dcontour\":[{\"colorbar\":{\"outlinewidth\":0,\"ticks\":\"\"},\"colorscale\":[[0.0,\"#0d0887\"],[0.1111111111111111,\"#46039f\"],[0.2222222222222222,\"#7201a8\"],[0.3333333333333333,\"#9c179e\"],[0.4444444444444444,\"#bd3786\"],[0.5555555555555556,\"#d8576b\"],[0.6666666666666666,\"#ed7953\"],[0.7777777777777778,\"#fb9f3a\"],[0.8888888888888888,\"#fdca26\"],[1.0,\"#f0f921\"]],\"type\":\"histogram2dcontour\"}],\"mesh3d\":[{\"colorbar\":{\"outlinewidth\":0,\"ticks\":\"\"},\"type\":\"mesh3d\"}],\"parcoords\":[{\"line\":{\"colorbar\":{\"outlinewidth\":0,\"ticks\":\"\"}},\"type\":\"parcoords\"}],\"pie\":[{\"automargin\":true,\"type\":\"pie\"}],\"scatter\":[{\"marker\":{\"colorbar\":{\"outlinewidth\":0,\"ticks\":\"\"}},\"type\":\"scatter\"}],\"scatter3d\":[{\"line\":{\"colorbar\":{\"outlinewidth\":0,\"ticks\":\"\"}},\"marker\":{\"colorbar\":{\"outlinewidth\":0,\"ticks\":\"\"}},\"type\":\"scatter3d\"}],\"scattercarpet\":[{\"marker\":{\"colorbar\":{\"outlinewidth\":0,\"ticks\":\"\"}},\"type\":\"scattercarpet\"}],\"scattergeo\":[{\"marker\":{\"colorbar\":{\"outlinewidth\":0,\"ticks\":\"\"}},\"type\":\"scattergeo\"}],\"scattergl\":[{\"marker\":{\"colorbar\":{\"outlinewidth\":0,\"ticks\":\"\"}},\"type\":\"scattergl\"}],\"scattermapbox\":[{\"marker\":{\"colorbar\":{\"outlinewidth\":0,\"ticks\":\"\"}},\"type\":\"scattermapbox\"}],\"scatterpolar\":[{\"marker\":{\"colorbar\":{\"outlinewidth\":0,\"ticks\":\"\"}},\"type\":\"scatterpolar\"}],\"scatterpolargl\":[{\"marker\":{\"colorbar\":{\"outlinewidth\":0,\"ticks\":\"\"}},\"type\":\"scatterpolargl\"}],\"scatterternary\":[{\"marker\":{\"colorbar\":{\"outlinewidth\":0,\"ticks\":\"\"}},\"type\":\"scatterternary\"}],\"surface\":[{\"colorbar\":{\"outlinewidth\":0,\"ticks\":\"\"},\"colorscale\":[[0.0,\"#0d0887\"],[0.1111111111111111,\"#46039f\"],[0.2222222222222222,\"#7201a8\"],[0.3333333333333333,\"#9c179e\"],[0.4444444444444444,\"#bd3786\"],[0.5555555555555556,\"#d8576b\"],[0.6666666666666666,\"#ed7953\"],[0.7777777777777778,\"#fb9f3a\"],[0.8888888888888888,\"#fdca26\"],[1.0,\"#f0f921\"]],\"type\":\"surface\"}],\"table\":[{\"cells\":{\"fill\":{\"color\":\"#EBF0F8\"},\"line\":{\"color\":\"white\"}},\"header\":{\"fill\":{\"color\":\"#C8D4E3\"},\"line\":{\"color\":\"white\"}},\"type\":\"table\"}]},\"layout\":{\"annotationdefaults\":{\"arrowcolor\":\"#2a3f5f\",\"arrowhead\":0,\"arrowwidth\":1},\"autotypenumbers\":\"strict\",\"coloraxis\":{\"colorbar\":{\"outlinewidth\":0,\"ticks\":\"\"}},\"colorscale\":{\"diverging\":[[0,\"#8e0152\"],[0.1,\"#c51b7d\"],[0.2,\"#de77ae\"],[0.3,\"#f1b6da\"],[0.4,\"#fde0ef\"],[0.5,\"#f7f7f7\"],[0.6,\"#e6f5d0\"],[0.7,\"#b8e186\"],[0.8,\"#7fbc41\"],[0.9,\"#4d9221\"],[1,\"#276419\"]],\"sequential\":[[0.0,\"#0d0887\"],[0.1111111111111111,\"#46039f\"],[0.2222222222222222,\"#7201a8\"],[0.3333333333333333,\"#9c179e\"],[0.4444444444444444,\"#bd3786\"],[0.5555555555555556,\"#d8576b\"],[0.6666666666666666,\"#ed7953\"],[0.7777777777777778,\"#fb9f3a\"],[0.8888888888888888,\"#fdca26\"],[1.0,\"#f0f921\"]],\"sequentialminus\":[[0.0,\"#0d0887\"],[0.1111111111111111,\"#46039f\"],[0.2222222222222222,\"#7201a8\"],[0.3333333333333333,\"#9c179e\"],[0.4444444444444444,\"#bd3786\"],[0.5555555555555556,\"#d8576b\"],[0.6666666666666666,\"#ed7953\"],[0.7777777777777778,\"#fb9f3a\"],[0.8888888888888888,\"#fdca26\"],[1.0,\"#f0f921\"]]},\"colorway\":[\"#636efa\",\"#EF553B\",\"#00cc96\",\"#ab63fa\",\"#FFA15A\",\"#19d3f3\",\"#FF6692\",\"#B6E880\",\"#FF97FF\",\"#FECB52\"],\"font\":{\"color\":\"#2a3f5f\"},\"geo\":{\"bgcolor\":\"white\",\"lakecolor\":\"white\",\"landcolor\":\"#E5ECF6\",\"showlakes\":true,\"showland\":true,\"subunitcolor\":\"white\"},\"hoverlabel\":{\"align\":\"left\"},\"hovermode\":\"closest\",\"mapbox\":{\"style\":\"light\"},\"paper_bgcolor\":\"white\",\"plot_bgcolor\":\"#E5ECF6\",\"polar\":{\"angularaxis\":{\"gridcolor\":\"white\",\"linecolor\":\"white\",\"ticks\":\"\"},\"bgcolor\":\"#E5ECF6\",\"radialaxis\":{\"gridcolor\":\"white\",\"linecolor\":\"white\",\"ticks\":\"\"}},\"scene\":{\"xaxis\":{\"backgroundcolor\":\"#E5ECF6\",\"gridcolor\":\"white\",\"gridwidth\":2,\"linecolor\":\"white\",\"showbackground\":true,\"ticks\":\"\",\"zerolinecolor\":\"white\"},\"yaxis\":{\"backgroundcolor\":\"#E5ECF6\",\"gridcolor\":\"white\",\"gridwidth\":2,\"linecolor\":\"white\",\"showbackground\":true,\"ticks\":\"\",\"zerolinecolor\":\"white\"},\"zaxis\":{\"backgroundcolor\":\"#E5ECF6\",\"gridcolor\":\"white\",\"gridwidth\":2,\"linecolor\":\"white\",\"showbackground\":true,\"ticks\":\"\",\"zerolinecolor\":\"white\"}},\"shapedefaults\":{\"line\":{\"color\":\"#2a3f5f\"}},\"ternary\":{\"aaxis\":{\"gridcolor\":\"white\",\"linecolor\":\"white\",\"ticks\":\"\"},\"baxis\":{\"gridcolor\":\"white\",\"linecolor\":\"white\",\"ticks\":\"\"},\"bgcolor\":\"#E5ECF6\",\"caxis\":{\"gridcolor\":\"white\",\"linecolor\":\"white\",\"ticks\":\"\"}},\"title\":{\"x\":0.05},\"xaxis\":{\"automargin\":true,\"gridcolor\":\"white\",\"linecolor\":\"white\",\"ticks\":\"\",\"title\":{\"standoff\":15},\"zerolinecolor\":\"white\",\"zerolinewidth\":2},\"yaxis\":{\"automargin\":true,\"gridcolor\":\"white\",\"linecolor\":\"white\",\"ticks\":\"\",\"title\":{\"standoff\":15},\"zerolinecolor\":\"white\",\"zerolinewidth\":2}}}},                        {\"responsive\": true}                    ).then(function(){\n",
       "                            \n",
       "var gd = document.getElementById('0df6ade9-97c6-4267-af87-94286f45eb3c');\n",
       "var x = new MutationObserver(function (mutations, observer) {{\n",
       "        var display = window.getComputedStyle(gd).display;\n",
       "        if (!display || display === 'none') {{\n",
       "            console.log([gd, 'removed!']);\n",
       "            Plotly.purge(gd);\n",
       "            observer.disconnect();\n",
       "        }}\n",
       "}});\n",
       "\n",
       "// Listen for the removal of the full notebook cells\n",
       "var notebookContainer = gd.closest('#notebook-container');\n",
       "if (notebookContainer) {{\n",
       "    x.observe(notebookContainer, {childList: true});\n",
       "}}\n",
       "\n",
       "// Listen for the clearing of the current output cell\n",
       "var outputEl = gd.closest('.output');\n",
       "if (outputEl) {{\n",
       "    x.observe(outputEl, {childList: true});\n",
       "}}\n",
       "\n",
       "                        })                };                });            </script>        </div>"
      ]
     },
     "metadata": {},
     "output_type": "display_data"
    }
   ],
   "source": [
    "optuna.visualization.plot_param_importances(study_model)"
   ]
  },
  {
   "cell_type": "markdown",
   "id": "2c35a616",
   "metadata": {
    "papermill": {
     "duration": 0.048372,
     "end_time": "2022-02-11T07:57:13.534125",
     "exception": false,
     "start_time": "2022-02-11T07:57:13.485753",
     "status": "completed"
    },
    "tags": []
   },
   "source": [
    "### (3) Prediction with selected optimal parameter"
   ]
  },
  {
   "cell_type": "code",
   "execution_count": 31,
   "id": "f75c799c",
   "metadata": {
    "execution": {
     "iopub.execute_input": "2022-02-11T07:57:13.638569Z",
     "iopub.status.busy": "2022-02-11T07:57:13.637317Z",
     "iopub.status.idle": "2022-02-11T08:01:26.854881Z",
     "shell.execute_reply": "2022-02-11T08:01:26.849684Z",
     "shell.execute_reply.started": "2022-02-10T12:03:12.128616Z"
    },
    "papermill": {
     "duration": 253.272186,
     "end_time": "2022-02-11T08:01:26.855115",
     "exception": false,
     "start_time": "2022-02-11T07:57:13.582929",
     "status": "completed"
    },
    "tags": []
   },
   "outputs": [
    {
     "name": "stderr",
     "output_type": "stream",
     "text": [
      "10it [04:13, 25.31s/it]"
     ]
    },
    {
     "name": "stdout",
     "output_type": "stream",
     "text": [
      "0th fold: LGBMRegressor PCC: 0.9927\n",
      "1th fold: LGBMRegressor PCC: 0.9893\n",
      "2th fold: LGBMRegressor PCC: 0.9881\n",
      "3th fold: LGBMRegressor PCC: 0.9704\n",
      "4th fold: LGBMRegressor PCC: 0.8965\n",
      "5th fold: LGBMRegressor PCC: 0.9722\n",
      "6th fold: LGBMRegressor PCC: 0.9800\n",
      "7th fold: LGBMRegressor PCC: 0.9808\n",
      "8th fold: LGBMRegressor PCC: 0.9398\n",
      "9th fold: LGBMRegressor PCC: 0.9824\n",
      "\n",
      "LGBMRegressor average PCC: 0.9692\n"
     ]
    },
    {
     "name": "stderr",
     "output_type": "stream",
     "text": [
      "\n"
     ]
    }
   ],
   "source": [
    "opt_model = LGBMRegressor(**best_params)\n",
    "\n",
    "cv_result(opt_model, X, y)"
   ]
  }
 ],
 "metadata": {
  "kernelspec": {
   "display_name": "Python 3",
   "language": "python",
   "name": "python3"
  },
  "language_info": {
   "codemirror_mode": {
    "name": "ipython",
    "version": 3
   },
   "file_extension": ".py",
   "mimetype": "text/x-python",
   "name": "python",
   "nbconvert_exporter": "python",
   "pygments_lexer": "ipython3",
   "version": "3.7.12"
  },
  "papermill": {
   "default_parameters": {},
   "duration": 1352.646645,
   "end_time": "2022-02-11T08:01:28.133103",
   "environment_variables": {},
   "exception": null,
   "input_path": "__notebook__.ipynb",
   "output_path": "__notebook__.ipynb",
   "parameters": {},
   "start_time": "2022-02-11T07:38:55.486458",
   "version": "2.3.3"
  }
 },
 "nbformat": 4,
 "nbformat_minor": 5
}
