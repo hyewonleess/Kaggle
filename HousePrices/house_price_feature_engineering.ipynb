{
 "cells": [
  {
   "cell_type": "markdown",
   "metadata": {},
   "source": [
    "# House Prices prediction"
   ]
  },
  {
   "cell_type": "markdown",
   "metadata": {},
   "source": [
    "# Part 2. Feature Engineering\n",
    "**Process**\n",
    " + StandardScaler to skewed variables\n",
    " + Onehotencoding to categorical variables\n",
    " + delete redundant variables"
   ]
  },
  {
   "cell_type": "code",
   "execution_count": 1,
   "metadata": {},
   "outputs": [],
   "source": [
    "import pandas as pd\n",
    "import numpy as np\n",
    "import seaborn as sns\n",
    "import matplotlib.pyplot as plt\n",
    "import warnings\n",
    "warnings.filterwarnings('ignore')\n",
    "from scipy.stats import skew\n",
    "\n",
    "from sklearn.model_selection import train_test_split, KFold, cross_val_score, GridSearchCV\n",
    "from sklearn.metrics import mean_squared_error\n",
    "from sklearn.linear_model import LinearRegression,Ridge,Lasso\n",
    "from sklearn.ensemble import RandomForestRegressor\n",
    "import lightgbm as lgb\n",
    "from sklearn.preprocessing import StandardScaler, MinMaxScaler, LabelEncoder"
   ]
  },
  {
   "cell_type": "markdown",
   "metadata": {},
   "source": [
    "### Warning: before we start..\n",
    "In last section, I conducted EDA only on train set! It's still not a big deal since EDA result is just for insight. BUT, BEFORE WE START MODELING, WE HAVE TO COMBINE TRAIN AND TEST SETS AND THEN CONDUCT FEATRUE ENGINEERING. Why? It's due to **categorical variables**. Generally we have to apply `pd.get_dummies` function to one-hot encode categorical variables. Sometimes, train and test sets have different number of categories in specific variable, so resulting number of columns after applying `pd.get_dummies` can be different. To prevent this, let's start with combining train and test sets and then do feature engineering on combined dataset!"
   ]
  },
  {
   "cell_type": "code",
   "execution_count": 2,
   "metadata": {},
   "outputs": [
    {
     "name": "stdout",
     "output_type": "stream",
     "text": [
      "Train set:  (1460, 81)\n",
      "Test set:  (1459, 80)\n"
     ]
    }
   ],
   "source": [
    "# load preprocessed dataset in EDA\n",
    "train = pd.read_csv('train.csv',header=0)\n",
    "test = pd.read_csv('test.csv',header=0)\n",
    "print('Train set: ',train.shape)\n",
    "print('Test set: ',test.shape)"
   ]
  },
  {
   "cell_type": "code",
   "execution_count": 3,
   "metadata": {},
   "outputs": [
    {
     "name": "stdout",
     "output_type": "stream",
     "text": [
      "(2667, 75)\n"
     ]
    }
   ],
   "source": [
    "# combine train and test set\n",
    "df = pd.concat([train,test])\n",
    "\n",
    "# test set preprocessing(from EDA)\n",
    "df.drop(['Id','PoolQC','MiscFeature','Alley','Fence','FireplaceQu'],axis=1,inplace=True)\n",
    "df = df.dropna(subset=['GarageYrBlt','BsmtExposure','BsmtFinType2'])\n",
    "df['MasVnrArea'].fillna(df['MasVnrArea'].mean(),inplace=True)\n",
    "df = df.dropna(subset=['Electrical','MasVnrType'])\n",
    "df['LotFrontage'].fillna(method='ffill',inplace=True)\n",
    "\n",
    "print(df.shape)"
   ]
  },
  {
   "cell_type": "markdown",
   "metadata": {},
   "source": [
    "Check if there is any NA value left. Those columns are all categorical variables, and NA values are not any of category so we have to delete those missing values."
   ]
  },
  {
   "cell_type": "code",
   "execution_count": 4,
   "metadata": {},
   "outputs": [
    {
     "data": {
      "text/plain": [
       "SalePrice      1329\n",
       "BsmtCond          3\n",
       "BsmtQual          2\n",
       "MSZoning          1\n",
       "KitchenQual       1\n",
       "SaleType          1\n",
       "Utilities         1\n",
       "Functional        1\n",
       "MasVnrArea        0\n",
       "RoofMatl          0\n",
       "dtype: int64"
      ]
     },
     "execution_count": 4,
     "metadata": {},
     "output_type": "execute_result"
    }
   ],
   "source": [
    "df.isnull().sum().sort_values(ascending=False)[:10]"
   ]
  },
  {
   "cell_type": "code",
   "execution_count": 5,
   "metadata": {},
   "outputs": [],
   "source": [
    "# drop unnecessary ID variable \n",
    "df.dropna(subset=['BsmtCond','BsmtQual','MSZoning','KitchenQual','SaleType','Utilities','Functional'],inplace=True)"
   ]
  },
  {
   "cell_type": "markdown",
   "metadata": {},
   "source": [
    "### (1) Check skewed float variables\n",
    "\n",
    "When we conduct regression prediction, it's really important to scale your data. Results from regression are highly affected by values of each variable. One of the methods to test normality is to measure **skewness**. In this section, we are going to log-transform variables whose skewness is greater than 2.<br>\n",
    "\n",
    "Related information link:\n",
    "<https://help.gooddata.com/doc/en/reporting-and-dashboards/maql-analytical-query-language/maql-expression-reference/aggregation-functions/statistical-functions/predictive-statistical-use-cases/normality-testing-skewness-and-kurtosis>"
   ]
  },
  {
   "cell_type": "code",
   "execution_count": 6,
   "metadata": {},
   "outputs": [
    {
     "data": {
      "text/html": [
       "<div>\n",
       "<style scoped>\n",
       "    .dataframe tbody tr th:only-of-type {\n",
       "        vertical-align: middle;\n",
       "    }\n",
       "\n",
       "    .dataframe tbody tr th {\n",
       "        vertical-align: top;\n",
       "    }\n",
       "\n",
       "    .dataframe thead th {\n",
       "        text-align: right;\n",
       "    }\n",
       "</style>\n",
       "<table border=\"1\" class=\"dataframe\">\n",
       "  <thead>\n",
       "    <tr style=\"text-align: right;\">\n",
       "      <th></th>\n",
       "      <th>variable</th>\n",
       "      <th>skew</th>\n",
       "    </tr>\n",
       "  </thead>\n",
       "  <tbody>\n",
       "    <tr>\n",
       "      <th>2</th>\n",
       "      <td>LotArea</td>\n",
       "      <td>13.171998</td>\n",
       "    </tr>\n",
       "    <tr>\n",
       "      <th>7</th>\n",
       "      <td>MasVnrArea</td>\n",
       "      <td>2.501055</td>\n",
       "    </tr>\n",
       "    <tr>\n",
       "      <th>9</th>\n",
       "      <td>BsmtFinSF2</td>\n",
       "      <td>3.999000</td>\n",
       "    </tr>\n",
       "    <tr>\n",
       "      <th>14</th>\n",
       "      <td>LowQualFinSF</td>\n",
       "      <td>14.130985</td>\n",
       "    </tr>\n",
       "    <tr>\n",
       "      <th>17</th>\n",
       "      <td>BsmtHalfBath</td>\n",
       "      <td>3.725111</td>\n",
       "    </tr>\n",
       "    <tr>\n",
       "      <th>21</th>\n",
       "      <td>KitchenAbvGr</td>\n",
       "      <td>5.691106</td>\n",
       "    </tr>\n",
       "    <tr>\n",
       "      <th>28</th>\n",
       "      <td>OpenPorchSF</td>\n",
       "      <td>2.235935</td>\n",
       "    </tr>\n",
       "    <tr>\n",
       "      <th>29</th>\n",
       "      <td>EnclosedPorch</td>\n",
       "      <td>4.256459</td>\n",
       "    </tr>\n",
       "    <tr>\n",
       "      <th>30</th>\n",
       "      <td>3SsnPorch</td>\n",
       "      <td>11.188466</td>\n",
       "    </tr>\n",
       "    <tr>\n",
       "      <th>31</th>\n",
       "      <td>ScreenPorch</td>\n",
       "      <td>3.810586</td>\n",
       "    </tr>\n",
       "    <tr>\n",
       "      <th>32</th>\n",
       "      <td>PoolArea</td>\n",
       "      <td>16.967741</td>\n",
       "    </tr>\n",
       "    <tr>\n",
       "      <th>33</th>\n",
       "      <td>MiscVal</td>\n",
       "      <td>21.615434</td>\n",
       "    </tr>\n",
       "  </tbody>\n",
       "</table>\n",
       "</div>"
      ],
      "text/plain": [
       "         variable       skew\n",
       "2         LotArea  13.171998\n",
       "7      MasVnrArea   2.501055\n",
       "9      BsmtFinSF2   3.999000\n",
       "14   LowQualFinSF  14.130985\n",
       "17   BsmtHalfBath   3.725111\n",
       "21   KitchenAbvGr   5.691106\n",
       "28    OpenPorchSF   2.235935\n",
       "29  EnclosedPorch   4.256459\n",
       "30      3SsnPorch  11.188466\n",
       "31    ScreenPorch   3.810586\n",
       "32       PoolArea  16.967741\n",
       "33        MiscVal  21.615434"
      ]
     },
     "execution_count": 6,
     "metadata": {},
     "output_type": "execute_result"
    }
   ],
   "source": [
    "# find variables with skewness more than 1\n",
    "skewness = pd.DataFrame()\n",
    "skewness['variable'] = df.select_dtypes(exclude='object').columns\n",
    "skewness['skew']= skew(df.select_dtypes(exclude='object'))\n",
    "skewness_big = skewness[skewness['skew']>2]\n",
    "skewness_big"
   ]
  },
  {
   "cell_type": "code",
   "execution_count": 7,
   "metadata": {},
   "outputs": [
    {
     "data": {
      "text/html": [
       "<div>\n",
       "<style scoped>\n",
       "    .dataframe tbody tr th:only-of-type {\n",
       "        vertical-align: middle;\n",
       "    }\n",
       "\n",
       "    .dataframe tbody tr th {\n",
       "        vertical-align: top;\n",
       "    }\n",
       "\n",
       "    .dataframe thead th {\n",
       "        text-align: right;\n",
       "    }\n",
       "</style>\n",
       "<table border=\"1\" class=\"dataframe\">\n",
       "  <thead>\n",
       "    <tr style=\"text-align: right;\">\n",
       "      <th></th>\n",
       "      <th>LotArea</th>\n",
       "      <th>MasVnrArea</th>\n",
       "      <th>BsmtFinSF2</th>\n",
       "      <th>LowQualFinSF</th>\n",
       "      <th>BsmtHalfBath</th>\n",
       "      <th>KitchenAbvGr</th>\n",
       "      <th>OpenPorchSF</th>\n",
       "      <th>EnclosedPorch</th>\n",
       "      <th>3SsnPorch</th>\n",
       "      <th>ScreenPorch</th>\n",
       "      <th>PoolArea</th>\n",
       "      <th>MiscVal</th>\n",
       "    </tr>\n",
       "  </thead>\n",
       "  <tbody>\n",
       "    <tr>\n",
       "      <th>0</th>\n",
       "      <td>9.042040</td>\n",
       "      <td>5.283204</td>\n",
       "      <td>0.000000</td>\n",
       "      <td>0.0</td>\n",
       "      <td>0.000000</td>\n",
       "      <td>0.693147</td>\n",
       "      <td>4.127134</td>\n",
       "      <td>0.000000</td>\n",
       "      <td>0.0</td>\n",
       "      <td>0.0</td>\n",
       "      <td>0.0</td>\n",
       "      <td>0.0</td>\n",
       "    </tr>\n",
       "    <tr>\n",
       "      <th>1</th>\n",
       "      <td>9.169623</td>\n",
       "      <td>0.000000</td>\n",
       "      <td>0.000000</td>\n",
       "      <td>0.0</td>\n",
       "      <td>0.693147</td>\n",
       "      <td>0.693147</td>\n",
       "      <td>0.000000</td>\n",
       "      <td>0.000000</td>\n",
       "      <td>0.0</td>\n",
       "      <td>0.0</td>\n",
       "      <td>0.0</td>\n",
       "      <td>0.0</td>\n",
       "    </tr>\n",
       "    <tr>\n",
       "      <th>2</th>\n",
       "      <td>9.328212</td>\n",
       "      <td>5.093750</td>\n",
       "      <td>0.000000</td>\n",
       "      <td>0.0</td>\n",
       "      <td>0.000000</td>\n",
       "      <td>0.693147</td>\n",
       "      <td>3.761200</td>\n",
       "      <td>0.000000</td>\n",
       "      <td>0.0</td>\n",
       "      <td>0.0</td>\n",
       "      <td>0.0</td>\n",
       "      <td>0.0</td>\n",
       "    </tr>\n",
       "    <tr>\n",
       "      <th>3</th>\n",
       "      <td>9.164401</td>\n",
       "      <td>0.000000</td>\n",
       "      <td>0.000000</td>\n",
       "      <td>0.0</td>\n",
       "      <td>0.000000</td>\n",
       "      <td>0.693147</td>\n",
       "      <td>3.583519</td>\n",
       "      <td>5.609472</td>\n",
       "      <td>0.0</td>\n",
       "      <td>0.0</td>\n",
       "      <td>0.0</td>\n",
       "      <td>0.0</td>\n",
       "    </tr>\n",
       "    <tr>\n",
       "      <th>4</th>\n",
       "      <td>9.565284</td>\n",
       "      <td>5.860786</td>\n",
       "      <td>0.000000</td>\n",
       "      <td>0.0</td>\n",
       "      <td>0.000000</td>\n",
       "      <td>0.693147</td>\n",
       "      <td>4.442651</td>\n",
       "      <td>0.000000</td>\n",
       "      <td>0.0</td>\n",
       "      <td>0.0</td>\n",
       "      <td>0.0</td>\n",
       "      <td>0.0</td>\n",
       "    </tr>\n",
       "    <tr>\n",
       "      <th>...</th>\n",
       "      <td>...</td>\n",
       "      <td>...</td>\n",
       "      <td>...</td>\n",
       "      <td>...</td>\n",
       "      <td>...</td>\n",
       "      <td>...</td>\n",
       "      <td>...</td>\n",
       "      <td>...</td>\n",
       "      <td>...</td>\n",
       "      <td>...</td>\n",
       "      <td>...</td>\n",
       "      <td>...</td>\n",
       "    </tr>\n",
       "    <tr>\n",
       "      <th>1451</th>\n",
       "      <td>9.501890</td>\n",
       "      <td>5.273000</td>\n",
       "      <td>5.843544</td>\n",
       "      <td>0.0</td>\n",
       "      <td>0.000000</td>\n",
       "      <td>0.693147</td>\n",
       "      <td>0.000000</td>\n",
       "      <td>0.000000</td>\n",
       "      <td>0.0</td>\n",
       "      <td>0.0</td>\n",
       "      <td>0.0</td>\n",
       "      <td>0.0</td>\n",
       "    </tr>\n",
       "    <tr>\n",
       "      <th>1452</th>\n",
       "      <td>7.335634</td>\n",
       "      <td>0.000000</td>\n",
       "      <td>0.000000</td>\n",
       "      <td>0.0</td>\n",
       "      <td>0.000000</td>\n",
       "      <td>0.693147</td>\n",
       "      <td>0.000000</td>\n",
       "      <td>0.000000</td>\n",
       "      <td>0.0</td>\n",
       "      <td>0.0</td>\n",
       "      <td>0.0</td>\n",
       "      <td>0.0</td>\n",
       "    </tr>\n",
       "    <tr>\n",
       "      <th>1455</th>\n",
       "      <td>7.546974</td>\n",
       "      <td>0.000000</td>\n",
       "      <td>0.000000</td>\n",
       "      <td>0.0</td>\n",
       "      <td>0.000000</td>\n",
       "      <td>0.693147</td>\n",
       "      <td>3.218876</td>\n",
       "      <td>0.000000</td>\n",
       "      <td>0.0</td>\n",
       "      <td>0.0</td>\n",
       "      <td>0.0</td>\n",
       "      <td>0.0</td>\n",
       "    </tr>\n",
       "    <tr>\n",
       "      <th>1456</th>\n",
       "      <td>9.903538</td>\n",
       "      <td>0.000000</td>\n",
       "      <td>0.000000</td>\n",
       "      <td>0.0</td>\n",
       "      <td>0.000000</td>\n",
       "      <td>0.693147</td>\n",
       "      <td>0.000000</td>\n",
       "      <td>0.000000</td>\n",
       "      <td>0.0</td>\n",
       "      <td>0.0</td>\n",
       "      <td>0.0</td>\n",
       "      <td>0.0</td>\n",
       "    </tr>\n",
       "    <tr>\n",
       "      <th>1458</th>\n",
       "      <td>9.172431</td>\n",
       "      <td>4.553877</td>\n",
       "      <td>0.000000</td>\n",
       "      <td>0.0</td>\n",
       "      <td>0.000000</td>\n",
       "      <td>0.693147</td>\n",
       "      <td>3.891820</td>\n",
       "      <td>0.000000</td>\n",
       "      <td>0.0</td>\n",
       "      <td>0.0</td>\n",
       "      <td>0.0</td>\n",
       "      <td>0.0</td>\n",
       "    </tr>\n",
       "  </tbody>\n",
       "</table>\n",
       "<p>2657 rows × 12 columns</p>\n",
       "</div>"
      ],
      "text/plain": [
       "       LotArea  MasVnrArea  BsmtFinSF2  LowQualFinSF  BsmtHalfBath  \\\n",
       "0     9.042040    5.283204    0.000000           0.0      0.000000   \n",
       "1     9.169623    0.000000    0.000000           0.0      0.693147   \n",
       "2     9.328212    5.093750    0.000000           0.0      0.000000   \n",
       "3     9.164401    0.000000    0.000000           0.0      0.000000   \n",
       "4     9.565284    5.860786    0.000000           0.0      0.000000   \n",
       "...        ...         ...         ...           ...           ...   \n",
       "1451  9.501890    5.273000    5.843544           0.0      0.000000   \n",
       "1452  7.335634    0.000000    0.000000           0.0      0.000000   \n",
       "1455  7.546974    0.000000    0.000000           0.0      0.000000   \n",
       "1456  9.903538    0.000000    0.000000           0.0      0.000000   \n",
       "1458  9.172431    4.553877    0.000000           0.0      0.000000   \n",
       "\n",
       "      KitchenAbvGr  OpenPorchSF  EnclosedPorch  3SsnPorch  ScreenPorch  \\\n",
       "0         0.693147     4.127134       0.000000        0.0          0.0   \n",
       "1         0.693147     0.000000       0.000000        0.0          0.0   \n",
       "2         0.693147     3.761200       0.000000        0.0          0.0   \n",
       "3         0.693147     3.583519       5.609472        0.0          0.0   \n",
       "4         0.693147     4.442651       0.000000        0.0          0.0   \n",
       "...            ...          ...            ...        ...          ...   \n",
       "1451      0.693147     0.000000       0.000000        0.0          0.0   \n",
       "1452      0.693147     0.000000       0.000000        0.0          0.0   \n",
       "1455      0.693147     3.218876       0.000000        0.0          0.0   \n",
       "1456      0.693147     0.000000       0.000000        0.0          0.0   \n",
       "1458      0.693147     3.891820       0.000000        0.0          0.0   \n",
       "\n",
       "      PoolArea  MiscVal  \n",
       "0          0.0      0.0  \n",
       "1          0.0      0.0  \n",
       "2          0.0      0.0  \n",
       "3          0.0      0.0  \n",
       "4          0.0      0.0  \n",
       "...        ...      ...  \n",
       "1451       0.0      0.0  \n",
       "1452       0.0      0.0  \n",
       "1455       0.0      0.0  \n",
       "1456       0.0      0.0  \n",
       "1458       0.0      0.0  \n",
       "\n",
       "[2657 rows x 12 columns]"
      ]
     },
     "execution_count": 7,
     "metadata": {},
     "output_type": "execute_result"
    }
   ],
   "source": [
    "# log transfrom variables\n",
    "df[skewness_big['variable']] = np.log1p(df[skewness_big['variable']])\n",
    "df[skewness_big['variable']]"
   ]
  },
  {
   "cell_type": "markdown",
   "metadata": {},
   "source": [
    "Choose one of transformed columns and check if it's distribution is less skewed. We can see that after log transformation, distribution plot of those variables are close to normal distribution."
   ]
  },
  {
   "cell_type": "code",
   "execution_count": 9,
   "metadata": {},
   "outputs": [
    {
     "data": {
      "text/plain": [
       "<matplotlib.axes._subplots.AxesSubplot at 0x26763436730>"
      ]
     },
     "execution_count": 9,
     "metadata": {},
     "output_type": "execute_result"
    },
    {
     "data": {
      "image/png": "[encoded data removed]",
      "text/plain": [
       "<Figure size 432x288 with 1 Axes>"
      ]
     },
     "metadata": {
      "needs_background": "light"
     },
     "output_type": "display_data"
    }
   ],
   "source": [
    "# example of log-transformed variable\n",
    "sns.distplot(df['LotArea'])"
   ]
  },
  {
   "cell_type": "markdown",
   "metadata": {},
   "source": [
    "## (2) Remove redundant variables\n",
    "Now, we have to remove redundant variables since those variables might cause **multicolinearity** problem. Use correlation matrix to get variables to drop - we are going to drop variables whose absolute value of correlation with other variables greater than 0.8.<br>\n",
    "If you want to know more EDA about this part, here's link: <https://www.kaggle.com/hyewon328/houseprices-eda-with-explanations>"
   ]
  },
  {
   "cell_type": "code",
   "execution_count": 10,
   "metadata": {},
   "outputs": [
    {
     "name": "stdout",
     "output_type": "stream",
     "text": [
      "#### Columns to drop (redundant columns) ####\n",
      "['1stFlrSF', 'TotRmsAbvGrd', 'GarageYrBlt', 'GarageArea']\n"
     ]
    }
   ],
   "source": [
    "corr_mat = df.corr()\n",
    "upper = corr_mat.where(np.triu(np.ones(corr_mat.shape), k=1).astype(np.bool))\n",
    "drop_list = [column for column in upper.columns if any(abs(upper[column]) > 0.8)]\n",
    "print('#### Columns to drop (redundant columns) ####')\n",
    "print(drop_list) # warning: SalePrice is our target variable, so we should not delete this variable"
   ]
  },
  {
   "cell_type": "code",
   "execution_count": 11,
   "metadata": {},
   "outputs": [
    {
     "name": "stdout",
     "output_type": "stream",
     "text": [
      "(2657, 71)\n"
     ]
    }
   ],
   "source": [
    "df.drop(drop_list,axis=1,inplace=True)\n",
    "print(df.shape)"
   ]
  },
  {
   "cell_type": "markdown",
   "metadata": {},
   "source": [
    "## (3) Deal with categorical variables\n",
    "All object type variables are categorical variables. Linear Regression model cannot recognize object values, so we have to **One-hot encode** object variables."
   ]
  },
  {
   "cell_type": "markdown",
   "metadata": {},
   "source": [
    "Before we start, let's figure out how many categories each categorical variable has. Most of the categorical variables have less than 10 unique categories. Especially, `Neighborhood` variable denotes regions so it has more than 20 categories. Plust, there are also **numerical type categorical variables**, so let's find those ones first!"
   ]
  },
  {
   "cell_type": "markdown",
   "metadata": {},
   "source": [
    "**Find numerical type categorical variables** <br>\n",
    "`MSSubClass`,`OverallQual`,`OverallCond`,`YearBuilt`,`YearRemodAdd`,`MoSold`,`YrSold`"
   ]
  },
  {
   "cell_type": "code",
   "execution_count": 30,
   "metadata": {},
   "outputs": [
    {
     "data": {
      "text/html": [
       "<div>\n",
       "<style scoped>\n",
       "    .dataframe tbody tr th:only-of-type {\n",
       "        vertical-align: middle;\n",
       "    }\n",
       "\n",
       "    .dataframe tbody tr th {\n",
       "        vertical-align: top;\n",
       "    }\n",
       "\n",
       "    .dataframe thead th {\n",
       "        text-align: right;\n",
       "    }\n",
       "</style>\n",
       "<table border=\"1\" class=\"dataframe\">\n",
       "  <thead>\n",
       "    <tr style=\"text-align: right;\">\n",
       "      <th></th>\n",
       "      <th>MSSubClass</th>\n",
       "      <th>OverallQual</th>\n",
       "      <th>OverallCond</th>\n",
       "      <th>YearBuilt</th>\n",
       "      <th>YearRemodAdd</th>\n",
       "      <th>2ndFlrSF</th>\n",
       "      <th>GrLivArea</th>\n",
       "      <th>FullBath</th>\n",
       "      <th>HalfBath</th>\n",
       "      <th>BedroomAbvGr</th>\n",
       "      <th>Fireplaces</th>\n",
       "      <th>WoodDeckSF</th>\n",
       "      <th>MoSold</th>\n",
       "      <th>YrSold</th>\n",
       "    </tr>\n",
       "  </thead>\n",
       "  <tbody>\n",
       "    <tr>\n",
       "      <th>0</th>\n",
       "      <td>60</td>\n",
       "      <td>7</td>\n",
       "      <td>5</td>\n",
       "      <td>2003</td>\n",
       "      <td>2003</td>\n",
       "      <td>854</td>\n",
       "      <td>1710</td>\n",
       "      <td>2</td>\n",
       "      <td>1</td>\n",
       "      <td>3</td>\n",
       "      <td>0</td>\n",
       "      <td>0</td>\n",
       "      <td>2</td>\n",
       "      <td>2008</td>\n",
       "    </tr>\n",
       "    <tr>\n",
       "      <th>1</th>\n",
       "      <td>20</td>\n",
       "      <td>6</td>\n",
       "      <td>8</td>\n",
       "      <td>1976</td>\n",
       "      <td>1976</td>\n",
       "      <td>0</td>\n",
       "      <td>1262</td>\n",
       "      <td>2</td>\n",
       "      <td>0</td>\n",
       "      <td>3</td>\n",
       "      <td>1</td>\n",
       "      <td>298</td>\n",
       "      <td>5</td>\n",
       "      <td>2007</td>\n",
       "    </tr>\n",
       "    <tr>\n",
       "      <th>2</th>\n",
       "      <td>60</td>\n",
       "      <td>7</td>\n",
       "      <td>5</td>\n",
       "      <td>2001</td>\n",
       "      <td>2002</td>\n",
       "      <td>866</td>\n",
       "      <td>1786</td>\n",
       "      <td>2</td>\n",
       "      <td>1</td>\n",
       "      <td>3</td>\n",
       "      <td>1</td>\n",
       "      <td>0</td>\n",
       "      <td>9</td>\n",
       "      <td>2008</td>\n",
       "    </tr>\n",
       "  </tbody>\n",
       "</table>\n",
       "</div>"
      ],
      "text/plain": [
       "   MSSubClass  OverallQual  OverallCond  YearBuilt  YearRemodAdd  2ndFlrSF  \\\n",
       "0          60            7            5       2003          2003       854   \n",
       "1          20            6            8       1976          1976         0   \n",
       "2          60            7            5       2001          2002       866   \n",
       "\n",
       "   GrLivArea  FullBath  HalfBath  BedroomAbvGr  Fireplaces  WoodDeckSF  \\\n",
       "0       1710         2         1             3           0           0   \n",
       "1       1262         2         0             3           1         298   \n",
       "2       1786         2         1             3           1           0   \n",
       "\n",
       "   MoSold  YrSold  \n",
       "0       2    2008  \n",
       "1       5    2007  \n",
       "2       9    2008  "
      ]
     },
     "execution_count": 30,
     "metadata": {},
     "output_type": "execute_result"
    }
   ],
   "source": [
    "df.select_dtypes(np.int64).head(3)"
   ]
  },
  {
   "cell_type": "code",
   "execution_count": 44,
   "metadata": {},
   "outputs": [
    {
     "data": {
      "image/png": "[encoded data removed]",
      "text/plain": [
       "<Figure size 864x432 with 1 Axes>"
      ]
     },
     "metadata": {
      "needs_background": "light"
     },
     "output_type": "display_data"
    }
   ],
   "source": [
    "# object category\n",
    "obj_cat = df.select_dtypes('object').columns.tolist()\n",
    "# integer category\n",
    "int_cat = ['MSSubClass','OverallQual','OverallCond','YearBuilt','YearRemodAdd','MoSold','YrSold']\n",
    "\n",
    "plt.figure(figsize=(12,6))\n",
    "df[obj_cat+int_cat].nunique().plot.bar(color='powderblue')\n",
    "plt.title('Number of categories in categorical variables',fontsize=15);\n",
    "plt.ylabel('Count')\n",
    "plt.show()"
   ]
  },
  {
   "cell_type": "markdown",
   "metadata": {},
   "source": [
    "**Change numerical categorical values to string** <br>\n",
    "Before one-hot encoding, we must change numerical categorical values to string type. `pd.get_dummies` function does not recognize numerical values as categorical variables.<br>"
   ]
  },
  {
   "cell_type": "code",
   "execution_count": 47,
   "metadata": {},
   "outputs": [
    {
     "data": {
      "text/plain": [
       "MSSubClass      object\n",
       "OverallQual     object\n",
       "OverallCond     object\n",
       "YearBuilt       object\n",
       "YearRemodAdd    object\n",
       "MoSold          object\n",
       "YrSold          object\n",
       "dtype: object"
      ]
     },
     "execution_count": 47,
     "metadata": {},
     "output_type": "execute_result"
    }
   ],
   "source": [
    "for col in int_cat:\n",
    "    df[col]=str(df[col])\n",
    "    \n",
    "df[int_cat].dtypes"
   ]
  },
  {
   "cell_type": "markdown",
   "metadata": {},
   "source": [
    "### LabelEncdoing vs One-hot Encoding\n",
    "There are two types of encoding strategy - Label Encoding & One-hot Encoding. Let's compare those first. <br>\n",
    " + LabelEncoding\n",
    "  - Ad: Do not produce more columns - less overfitting hazard than one-hot encoding\n",
    "  - Disad: For linear regression models, numerically encoded values affect result in order (ex: 1<2<3<..)\n",
    " + One-hot Encoding\n",
    "  - Ad: prevents model from recognizing categorical variables in order\n",
    "  - Disad: Produces too many columns - overfitting problem\n",
    "  \n",
    "Therefore, we are going to apply different encoding strategy depending on types of regression models. <br>\n",
    "\n",
    "\n",
    "|LabelEncoding|One-hot Encoding|\n",
    "|:-------------:|:-------------:|\n",
    "|Tree based regression|Simple linear regression|"
   ]
  },
  {
   "cell_type": "markdown",
   "metadata": {},
   "source": [
    "## Next..\n",
    "# Part 3: Modeling\n",
    "Now it's time to construct linear regresson model! I'm going to use several linear regression functions and compare performances. Those are regression model list to try and overall modeling procedure.<br>\n",
    "<br>\n",
    "**Regression list**\n",
    " + Simple linear regression\n",
    " + Ridge regression\n",
    " + Random forest regressor\n",
    " + LGBM regressor\n",
    " \n",
    "**Modeling procedure**\n",
    " 1. try 4 inear regression models without hyperparameter tuing\n",
    " 2. cross validation(KFold)\n",
    " 3. hyperparameter tuning\n",
    " 4. feature selection"
   ]
  }
 ],
 "metadata": {
  "kernelspec": {
   "display_name": "Python 3",
   "language": "python",
   "name": "python3"
  },
  "language_info": {
   "codemirror_mode": {
    "name": "ipython",
    "version": 3
   },
   "file_extension": ".py",
   "mimetype": "text/x-python",
   "name": "python",
   "nbconvert_exporter": "python",
   "pygments_lexer": "ipython3",
   "version": "3.8.3"
  }
 },
 "nbformat": 4,
 "nbformat_minor": 4
}
